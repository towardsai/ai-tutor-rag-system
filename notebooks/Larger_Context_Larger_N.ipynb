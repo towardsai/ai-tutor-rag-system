{
 "cells": [
  {
   "cell_type": "markdown",
   "metadata": {
    "id": "Wk0Oefn2L1-N"
   },
   "source": [
    "<a href=\"https://colab.research.google.com/github/towardsai/ai-tutor-rag-system/blob/main/notebooks/Larger_Context_Larger_N.ipynb\" target=\"_parent\"><img src=\"https://colab.research.google.com/assets/colab-badge.svg\" alt=\"Open In Colab\"/></a>"
   ]
  },
  {
   "cell_type": "markdown",
   "metadata": {
    "id": "qtOtOvibOBfW"
   },
   "source": [
    "## Install Packages and Setup Variables\n"
   ]
  },
  {
   "cell_type": "code",
   "execution_count": null,
   "metadata": {
    "colab": {
     "base_uri": "https://localhost:8080/"
    },
    "id": "KzHUSJIPA50n",
    "outputId": "65665684-ed30-4b47-dd63-837ad63e2938"
   },
   "outputs": [
    {
     "name": "stdout",
     "output_type": "stream",
     "text": [
      "\u001b[?25l     \u001b[90m━━━━━━━━━━━━━━━━━━━━━━━━━━━━━━━━━━━━━━━━\u001b[0m \u001b[32m0.0/67.3 kB\u001b[0m \u001b[31m?\u001b[0m eta \u001b[36m-:--:--\u001b[0m\r",
      "\u001b[2K     \u001b[90m━━━━━━━━━━━━━━━━━━━━━━━━━━━━━━━━━━━━━━━━\u001b[0m \u001b[32m67.3/67.3 kB\u001b[0m \u001b[31m3.4 MB/s\u001b[0m eta \u001b[36m0:00:00\u001b[0m\n",
      "\u001b[?25h  Installing build dependencies ... \u001b[?25l\u001b[?25hdone\n",
      "  Getting requirements to build wheel ... \u001b[?25l\u001b[?25hdone\n",
      "  Preparing metadata (pyproject.toml) ... \u001b[?25l\u001b[?25hdone\n",
      "\u001b[2K   \u001b[90m━━━━━━━━━━━━━━━━━━━━━━━━━━━━━━━━━━━━━━━━\u001b[0m \u001b[32m19.8/19.8 MB\u001b[0m \u001b[31m87.0 MB/s\u001b[0m eta \u001b[36m0:00:00\u001b[0m\n",
      "\u001b[2K   \u001b[90m━━━━━━━━━━━━━━━━━━━━━━━━━━━━━━━━━━━━━━━━\u001b[0m \u001b[32m1.6/1.6 MB\u001b[0m \u001b[31m64.1 MB/s\u001b[0m eta \u001b[36m0:00:00\u001b[0m\n",
      "\u001b[2K   \u001b[90m━━━━━━━━━━━━━━━━━━━━━━━━━━━━━━━━━━━━━━━━\u001b[0m \u001b[32m284.2/284.2 kB\u001b[0m \u001b[31m17.7 MB/s\u001b[0m eta \u001b[36m0:00:00\u001b[0m\n",
      "\u001b[2K   \u001b[90m━━━━━━━━━━━━━━━━━━━━━━━━━━━━━━━━━━━━━━━━\u001b[0m \u001b[32m1.9/1.9 MB\u001b[0m \u001b[31m70.4 MB/s\u001b[0m eta \u001b[36m0:00:00\u001b[0m\n",
      "\u001b[2K   \u001b[90m━━━━━━━━━━━━━━━━━━━━━━━━━━━━━━━━━━━━━━━━\u001b[0m \u001b[32m11.9/11.9 MB\u001b[0m \u001b[31m71.2 MB/s\u001b[0m eta \u001b[36m0:00:00\u001b[0m\n",
      "\u001b[2K   \u001b[90m━━━━━━━━━━━━━━━━━━━━━━━━━━━━━━━━━━━━━━━━\u001b[0m \u001b[32m303.3/303.3 kB\u001b[0m \u001b[31m19.4 MB/s\u001b[0m eta \u001b[36m0:00:00\u001b[0m\n",
      "\u001b[2K   \u001b[90m━━━━━━━━━━━━━━━━━━━━━━━━━━━━━━━━━━━━━━━━\u001b[0m \u001b[32m51.8/51.8 kB\u001b[0m \u001b[31m3.4 MB/s\u001b[0m eta \u001b[36m0:00:00\u001b[0m\n",
      "\u001b[2K   \u001b[90m━━━━━━━━━━━━━━━━━━━━━━━━━━━━━━━━━━━━━━━━\u001b[0m \u001b[32m103.3/103.3 kB\u001b[0m \u001b[31m7.2 MB/s\u001b[0m eta \u001b[36m0:00:00\u001b[0m\n",
      "\u001b[2K   \u001b[90m━━━━━━━━━━━━━━━━━━━━━━━━━━━━━━━━━━━━━━━━\u001b[0m \u001b[32m16.5/16.5 MB\u001b[0m \u001b[31m81.3 MB/s\u001b[0m eta \u001b[36m0:00:00\u001b[0m\n",
      "\u001b[2K   \u001b[90m━━━━━━━━━━━━━━━━━━━━━━━━━━━━━━━━━━━━━━━━\u001b[0m \u001b[32m72.5/72.5 kB\u001b[0m \u001b[31m4.4 MB/s\u001b[0m eta \u001b[36m0:00:00\u001b[0m\n",
      "\u001b[2K   \u001b[90m━━━━━━━━━━━━━━━━━━━━━━━━━━━━━━━━━━━━━━━━\u001b[0m \u001b[32m131.9/131.9 kB\u001b[0m \u001b[31m8.8 MB/s\u001b[0m eta \u001b[36m0:00:00\u001b[0m\n",
      "\u001b[2K   \u001b[90m━━━━━━━━━━━━━━━━━━━━━━━━━━━━━━━━━━━━━━━━\u001b[0m \u001b[32m65.7/65.7 kB\u001b[0m \u001b[31m4.2 MB/s\u001b[0m eta \u001b[36m0:00:00\u001b[0m\n",
      "\u001b[2K   \u001b[90m━━━━━━━━━━━━━━━━━━━━━━━━━━━━━━━━━━━━━━━━\u001b[0m \u001b[32m208.0/208.0 kB\u001b[0m \u001b[31m12.7 MB/s\u001b[0m eta \u001b[36m0:00:00\u001b[0m\n",
      "\u001b[2K   \u001b[90m━━━━━━━━━━━━━━━━━━━━━━━━━━━━━━━━━━━━━━━━\u001b[0m \u001b[32m105.4/105.4 kB\u001b[0m \u001b[31m6.1 MB/s\u001b[0m eta \u001b[36m0:00:00\u001b[0m\n",
      "\u001b[2K   \u001b[90m━━━━━━━━━━━━━━━━━━━━━━━━━━━━━━━━━━━━━━━━\u001b[0m \u001b[32m71.6/71.6 kB\u001b[0m \u001b[31m4.7 MB/s\u001b[0m eta \u001b[36m0:00:00\u001b[0m\n",
      "\u001b[2K   \u001b[90m━━━━━━━━━━━━━━━━━━━━━━━━━━━━━━━━━━━━━━━━\u001b[0m \u001b[32m510.8/510.8 kB\u001b[0m \u001b[31m28.8 MB/s\u001b[0m eta \u001b[36m0:00:00\u001b[0m\n",
      "\u001b[2K   \u001b[90m━━━━━━━━━━━━━━━━━━━━━━━━━━━━━━━━━━━━━━━━\u001b[0m \u001b[32m56.1/56.1 kB\u001b[0m \u001b[31m3.2 MB/s\u001b[0m eta \u001b[36m0:00:00\u001b[0m\n",
      "\u001b[2K   \u001b[90m━━━━━━━━━━━━━━━━━━━━━━━━━━━━━━━━━━━━━━━━\u001b[0m \u001b[32m63.9/63.9 kB\u001b[0m \u001b[31m3.8 MB/s\u001b[0m eta \u001b[36m0:00:00\u001b[0m\n",
      "\u001b[2K   \u001b[90m━━━━━━━━━━━━━━━━━━━━━━━━━━━━━━━━━━━━━━━━\u001b[0m \u001b[32m310.5/310.5 kB\u001b[0m \u001b[31m20.4 MB/s\u001b[0m eta \u001b[36m0:00:00\u001b[0m\n",
      "\u001b[2K   \u001b[90m━━━━━━━━━━━━━━━━━━━━━━━━━━━━━━━━━━━━━━━━\u001b[0m \u001b[32m4.7/4.7 MB\u001b[0m \u001b[31m90.7 MB/s\u001b[0m eta \u001b[36m0:00:00\u001b[0m\n",
      "\u001b[2K   \u001b[90m━━━━━━━━━━━━━━━━━━━━━━━━━━━━━━━━━━━━━━━━\u001b[0m \u001b[32m452.2/452.2 kB\u001b[0m \u001b[31m24.1 MB/s\u001b[0m eta \u001b[36m0:00:00\u001b[0m\n",
      "\u001b[2K   \u001b[90m━━━━━━━━━━━━━━━━━━━━━━━━━━━━━━━━━━━━━━━━\u001b[0m \u001b[32m46.0/46.0 kB\u001b[0m \u001b[31m3.0 MB/s\u001b[0m eta \u001b[36m0:00:00\u001b[0m\n",
      "\u001b[2K   \u001b[90m━━━━━━━━━━━━━━━━━━━━━━━━━━━━━━━━━━━━━━━━\u001b[0m \u001b[32m86.8/86.8 kB\u001b[0m \u001b[31m5.1 MB/s\u001b[0m eta \u001b[36m0:00:00\u001b[0m\n",
      "\u001b[2K   \u001b[90m━━━━━━━━━━━━━━━━━━━━━━━━━━━━━━━━━━━━━━━━\u001b[0m \u001b[32m50.9/50.9 kB\u001b[0m \u001b[31m3.5 MB/s\u001b[0m eta \u001b[36m0:00:00\u001b[0m\n",
      "\u001b[2K   \u001b[90m━━━━━━━━━━━━━━━━━━━━━━━━━━━━━━━━━━━━━━━━\u001b[0m \u001b[32m144.4/144.4 kB\u001b[0m \u001b[31m10.1 MB/s\u001b[0m eta \u001b[36m0:00:00\u001b[0m\n",
      "\u001b[?25h  Building wheel for pypika (pyproject.toml) ... \u001b[?25l\u001b[?25hdone\n"
     ]
    }
   ],
   "source": [
    "!pip install -q huggingface-hub==0.34.4 llama-index==0.14.0 openai==1.107.0 chromadb==1.0.21 jedi==0.19.2 \\\n",
    "                llama-index-llms-google-genai==0.5.0 llama-index-vector-stores-chroma==0.5.3 llama-index-embeddings-openai==0.5.1"
   ]
  },
  {
   "cell_type": "code",
   "execution_count": null,
   "metadata": {
    "id": "5UZDtKWJWZ3c"
   },
   "outputs": [],
   "source": [
    "import os\n",
    "\n",
    "# Set the following API Keys in the Python environment. Will be used later.\n",
    "# os.environ[\"OPENAI_API_KEY\"] = \"[OPENAI_API_KEY]\"\n",
    "# os.environ[\"GOOGLE_API_KEY\"] = \"[GOOGLE_API_KEY]\"\n",
    "\n",
    "from google.colab import userdata\n",
    "os.environ[\"OPENAI_API_KEY\"] = userdata.get('OPENAI_API_KEY')\n",
    "os.environ[\"GOOGLE_API_KEY\"] = userdata.get('Google_api_key')"
   ]
  },
  {
   "cell_type": "code",
   "execution_count": null,
   "metadata": {
    "id": "P5r3c7xDKXfo"
   },
   "outputs": [],
   "source": [
    "import nest_asyncio\n",
    "nest_asyncio.apply()"
   ]
  },
  {
   "cell_type": "markdown",
   "metadata": {
    "id": "Rb2g7ul-__Jq"
   },
   "source": [
    "# Load Gemini Model"
   ]
  },
  {
   "cell_type": "code",
   "execution_count": null,
   "metadata": {
    "id": "MnY9Zfsg_-ns"
   },
   "outputs": [],
   "source": [
    "from llama_index.embeddings.openai import OpenAIEmbedding\n",
    "from llama_index.core import Settings\n",
    "from llama_index.llms.google_genai import GoogleGenAI\n",
    "import google.genai.types as types\n",
    "\n",
    "config = types.GenerateContentConfig(thinking_config=types.ThinkingConfig(thinking_budget=0))\n",
    "\n",
    "Settings.llm = GoogleGenAI(model=\"gemini-2.5-flash\", generation_config=config)\n",
    "Settings.embed_model = OpenAIEmbedding(model=\"text-embedding-3-small\")"
   ]
  },
  {
   "cell_type": "markdown",
   "metadata": {
    "id": "-Ii2x94IWoTC"
   },
   "source": [
    "**Note: You can create a vector store from scratch using the code below, or you can load it from Hugging Face using the code provided in this notebook.**"
   ]
  },
  {
   "cell_type": "markdown",
   "metadata": {
    "id": "mJQ1kjQhvLrg"
   },
   "source": [
    "## Vector Store"
   ]
  },
  {
   "cell_type": "markdown",
   "metadata": {
    "id": "d_Bt0ltIAO1t"
   },
   "source": [
    "## Load the Dataset (JSON)"
   ]
  },
  {
   "cell_type": "markdown",
   "metadata": {
    "id": "npVuvDsYATcQ"
   },
   "source": [
    "The dataset includes several articles from the TowardsAI blog, Research paper contents and Documentation which provide an in-depth explanation of AI models and RAG method."
   ]
  },
  {
   "cell_type": "code",
   "execution_count": null,
   "metadata": {
    "colab": {
     "base_uri": "https://localhost:8080/",
     "height": 49,
     "referenced_widgets": [
      "66e618ad80934a068a33d17d5803f1c7",
      "b483fcd0f8c240e8b30c506bf364a6d6",
      "b94d0e766b034595a05e9aa344908fd1",
      "18ed5864cd804bf19ae1376785ac7be8",
      "981752e364cd4aaba79cc1c69c9a9312",
      "dd0d649b97494d3aaf90f414f2a9ba44",
      "1ef750f82f684695be842cd9ed2ff162",
      "a922f6a0ec7b43798a29bef3a8c2176d",
      "0e9816d7d9e844f4bbbc2ad9e13874bc",
      "960ea12492ed41caba8e7f0c8caa6143",
      "2fe51908b97342738dee25dc09d10e58"
     ]
    },
    "id": "HuvqDpIilvFV",
    "outputId": "02d6b544-79db-4959-d226-bb30f6c9bd18"
   },
   "outputs": [
    {
     "data": {
      "application/vnd.jupyter.widget-view+json": {
       "model_id": "66e618ad80934a068a33d17d5803f1c7",
       "version_major": 2,
       "version_minor": 0
      },
      "text/plain": [
       "ai_tutor_knowledge.jsonl: 0.00B [00:00, ?B/s]"
      ]
     },
     "metadata": {},
     "output_type": "display_data"
    }
   ],
   "source": [
    "from huggingface_hub import hf_hub_download\n",
    "file_path = hf_hub_download(repo_id=\"jaiganesan/ai_tutor_knowledge\", filename=\"ai_tutor_knowledge.jsonl\",repo_type=\"dataset\",local_dir=\"/content\")"
   ]
  },
  {
   "cell_type": "code",
   "execution_count": null,
   "metadata": {
    "colab": {
     "base_uri": "https://localhost:8080/",
     "height": 184
    },
    "id": "k3wRdOYoKV-9",
    "outputId": "b4bb0173-5dbc-4bf1-a71f-83344fc39d63"
   },
   "outputs": [
    {
     "data": {
      "application/vnd.google.colaboratory.intrinsic+json": {
       "type": "string"
      },
      "text/plain": [
       "\"Github Repo: https://github.com/vaibhawkhemka/ML-Umbrella/tree/main/NLP/Product-Categorization   From e-commerce to Customer support  all businesses require some kind of NER model to process huge amounts of texts from users.   To automate this whole  one requires NER models to extract relevant and important entities from text.   Final Result/OutputInput text = EL D68 (Green  32 GB) 3 GB RAM [3 GB RAM U+007C 32 GB ROM U+007C Expandable Upto 128 GB  15.46 cm (6.088 inch) Display  13MP Rear Camera U+007C 8MP Front Camera  4000 mAh Battery  Quad-Core Processor]   Output =   Green ->>>> COLOR 32 GB ->>>> STORAGE 3 GB RAM ->>>> RAM 3 GB RAM ->>>> RAM 32 GB ROM ->>>> STORAGE Expandable Upto 128 GB ->>>> EXPANDABLE_STORAGE 15.46 cm (6.088 inch) ->>>> SCREEN_SIZE 13MP Rear Camera ->>>> BACK_CAMERA 8MP Front Camera ->>>> FRONT_CAMERA 4000 mAh Battery ->>>> BATTERY_CAPACITY Quad-Core Processor ->>>> PROCESSOR_CORE   Data PreparationA tool for creating this dataset (https://github.com/tecoholic/ner-annotator)    Snapshot for the dataset for Mobile phone product description on Amazon:   A single record of the Data:   Converting into proper Spacy span format:The proper format that Spacy Ner model understands   import jsonlines  json file_path = Training Data/Mobile/Mobile_training.jsonl laptop_classes = [RAM STORAGE BATTERY CAPACITY PROCESSOR_TYPE SCREEN_SIZE REFRESH_RATE SCREEN_TYPE BACK_CAMERA FRONT_CAMERA] with jsonlines.open(file_path) as reader: output_json = {classes: laptop_classes  annotations: []} # Iterate over each line (JSON object) for obj in reader: processed_obj = [obj[text] {entities:obj[label]}] output_json[annotations].append(processed_obj) # Save the output JSON to a new file with open('Training Data/Mobile/Mobile_annotations.json'  'w') as f: json.dump(output_json  f  indent=None)Above is the code for converting into proper data format. Check out jupyter notebook: NER_model_Mobile.ipynb   Final pandas dataframe from processed data:   Splitting the dataset  10% test### Split the data from sklearn.model_selection import train_test_split train  test = train_test_split(df  test_size=0.1) train.head()Create spacy DocBin objects from annotated data to train Spacy NER model:import spacy from spacy.tokens import DocBin from tqdm import tqdm # Define a function to create spaCy DocBin objects from the annotated data def get_spacy_doc(data): # Create a blank spaCy pipeline nlp = spacy.blank('en') db = DocBin() # Initialize a counter for None spans none_spans = 0 spans = 0 for index  row in data.iterrows(): # Get the text and annotations text = row[Description] annotations = row[Annotations] # Check if the text is not empty if not text: continue # Process the text and annotations doc = nlp(text) if doc is None: print(fFailed to process text: {text}) continue ents = [] for start  end  label in annotations: if start < 0 or end < 0: print(fInvalid annotation: {start}  {end}  {label}) continue #print(text) span = doc.char_span(start  end  label=label) if span is None: print(fFailed to create span for annotation: {start}  {end}  {label}) none_spans += 1 continue else: spans+=1 ents.append(span) doc.ents = ents #Add the processed document to the DocBin db.add(doc) print(fNumber of None spans: {none_spans}) print(fNumber of spans: {spans}) return dbModellingArchitecture:The basic architecture for all spacy models:   Reference: https://explosion.ai/blog/deep-learning-formula-nlp   [Embed]HashEmbed  Sub-word features than character based richer representation and arbitrary sized vocabulary  Can use Word2vec/Glove etc   [Encode]  Context-independent to context-dependent using LSTM or CNN.   [Attend]  Attention mechanism by Key  Value pair  and context vectors   [Predict]  MLP   Tok2vec model [example]:   https://github.com/explosion/spaCy/blob/master/spacy/ml/models/tok2vec.py (Built using thinc framework)   NER Model  Transition-Based:   State(all three stack  buffer  and output) and Action   Structure Prediction.   The above shows how the transition-based approach works with stack  buffer  output  and Transition/action.   Reference: https://www.microsoft.com/en-us/research/video/transition-based-natural-language-processing/   The above shows How stacked LSTM works for encoding for all states and actions.   The final Prediction from MLP is the Multiclassification task with labels as SHIFT  OUT  and REDUCE   Spacy model layer and Config Mapping:   Example of a tok2vec config:   Model in thinc framework:   Respective config for the model:   Thinc deep learning framework is used as a backend to build spacy models instead of pytorch or TensorFlow.   Difference between normal pytorch and spacy models. => Spacy(easy  reliable and productionable)   The user can define and create this model using a configuration file for any task: NER  Tok2Vec  Tagger  Dependency Parser  Sentiment etc   One can also create thinc models and wrap around pytorch and TensorFlow. I will build it next blog.   NER Config file created here:   Reference: https://spacy.io/usage/training   config_ner.cfg :   [paths] train = null dev = null vectors = en_core_web_lg init_tok2vec = null [system] gpu_allocator = null seed = 0 [nlp] lang = en pipeline = [tok2vec ner] batch_size = 1000 disabled = [] before_creation = null after_creation = null after_pipeline_creation = null tokenizer = {@tokenizers:spacy.Tokenizer.v1} vectors = {@vectors:spacy.Vectors.v1} [components] [components.ner] factory = ner incorrect_spans_key = null moves = null scorer = {@scorers:spacy.ner_scorer.v1} update_with_oracle_cut_size = 100 [components.ner.model] @architectures = spacy.TransitionBasedParser.v2 state_type = ner extra_state_tokens = false hidden_width = 64 maxout_pieces = 2 use_upper = true nO = null [components.ner.model.tok2vec] @architectures = spacy.Tok2VecListener.v1 width = ${components.tok2vec.model.encode.width} upstream = * [components.tok2vec] factory = tok2vec [components.tok2vec.model] @architectures = spacy.Tok2Vec.v2 [components.tok2vec.model.embed] @architectures = spacy.MultiHashEmbed.v2 width = ${components.tok2vec.model.encode.width} attrs = [NORM PREFIX SUFFIX SHAPE] rows = [5000 1000 2500 2500] include_static_vectors = true [components.tok2vec.model.encode] @architectures = spacy.MaxoutWindowEncoder.v2 width = 256 depth = 8 window_size = 1 maxout_pieces = 3 [corpora] [corpora.dev] @readers = spacy.Corpus.v1 path = ${paths.dev} max_length = 0 gold_preproc = false limit = 0 augmenter = null [corpora.train] @readers = spacy.Corpus.v1 path = ${paths.train} max_length = 0 gold_preproc = false limit = 0 augmenter = null [training] dev_corpus = corpora.dev train_corpus = corpora.train seed = ${system.seed} gpu_allocator = ${system.gpu_allocator} dropout = 0.1 accumulate_gradient = 1 patience = 1600 max_epochs = 0 max_steps = 20000 eval_frequency = 200 frozen_components = [] annotating_components = [] before_to_disk = null before_update = null [training.batcher] @batchers = spacy.batch_by_words.v1 discard_oversize = false tolerance = 0.2 get_length = null [training.batcher.size] @schedules = compounding.v1 start = 100 stop = 1000 compound = 1.001 t = 0.0 [training.logger] @loggers = spacy.ConsoleLogger.v1 progress_bar = false [training.optimizer] @optimizers = Adam.v1 beta1 = 0.9 beta2 = 0.999 L2_is_weight_decay = true L2 = 0.01 grad_clip = 1.0 use_averages = false eps = 0.00000001 learn_rate = 0.001 [training.score_weights] ents_f = 1.0 ents_p = 0.0 ents_r = 0.0 ents_per_type = null [pretraining] [initialize] vectors = ${paths.vectors} init_tok2vec = ${paths.init_tok2vec} vocab_data = null lookups = null before_init = null after_init = null [initialize.components] [initialize.tokenizer]Output and Evaluation:Evaluation is done based on ENTS_P(Precision)  ENTS_R(Recall) and ENTS_F (F-Score).   After the 15th epoch Final ENTS_F is 57.64  which can be improved by providing more data for this case.   Intuition for Evaluation:We evaluate the NER model based on Span-Identification and Span-Prediction.   Span-Identification:   https://cees-roele.medium.com/custom-evaluation-of-spans-in-spacy-f1f2e7a99ad8   As discussed  NER is a multiclass Classification problem with SHIFT  OUT  and REDUCE as output. But we evaluate our models only based on REDUCE.   The above picture shows how Precision  Recall  and F-Score are calculated.   The code used for evaluating PRF (Precision-Recall-Fscore) by spacy:   def get_ner_prf(examples: Iterable[Example]  **kwargs) -> Dict[str  Any]: Compute micro-PRF and per-entity PRF scores for a sequence of examples. score_per_type = defaultdict(PRFScore) for eg in examples: if not eg.y.has_annotation(ENT_IOB): continue golds = {(e.label_  e.start  e.end) for e in eg.y.ents} align_x2y = eg.alignment.x2y for pred_ent in eg.x.ents: if pred_ent.label_ not in score_per_type: score_per_type[pred_ent.label_] = PRFScore() indices = align_x2y[pred_ent.start : pred_ent.end] if len(indices): g_span = eg.y[indices[0] : indices[-1] + 1] # Check we aren't missing annotation on this span. If so  # our prediction is neither right nor wrong  we just # ignore it. if all(token.ent_iob != 0 for token in g_span): key = (pred_ent.label_  indices[0]  indices[-1] + 1) if key in golds: score_per_type[pred_ent.label_].tp += 1 golds.remove(key) else: score_per_type[pred_ent.label_].fp += 1 for label  start  end in golds: score_per_type[label].fn += 1 totals = PRFScore() for prf in score_per_type.values(): totals += prf if len(totals) > 0: return { ents_p: totals.precision  ents_r: totals.recall  ents_f: totals.fscore  ents_per_type: {k: v.to_dict() for k  v in score_per_type.items()}  } else: return { ents_p: None  ents_r: None  ents_f: None  ents_per_type: None  }Reference: https://github.com/explosion/spaCy/blob/master/spacy/scorer.py#L760   Span Prediction :   There are 9 different entires like [RAM  STORAGE  BATTERY CAPACITY  PROCESSOR_TYPE  SCREEN_SIZE  REFRESH_RATE  SCREEN_TYPE  BACK_CAMERA  FRONT_CAMERA] to predict for REDUCE class.   It uses categorical crossentropy loss function to optimize NER models (More details in later blogs)   Testing and Final Results:Input text = EL D68 (Green  32 GB) 3 GB RAM [3 GB RAM U+007C 32 GB ROM U+007C Expandable Upto 128 GB  15.46 cm (6.088 inch) Display  13MP Rear Camera U+007C 8MP Front Camera  4000 mAh Battery  Quad-Core Processor]   Output =   Green ->>>> COLOR 32 GB ->>>> STORAGE 3 GB RAM ->>>> RAM 3 GB RAM ->>>> RAM 32 GB ROM ->>>> STORAGE Expandable Upto 128 GB ->>>> EXPANDABLE_STORAGE 15.46 cm (6.088 inch) ->>>> SCREEN_SIZE 13MP Rear Camera ->>>> BACK_CAMERA 8MP Front Camera ->>>> FRONT_CAMERA 4000 mAh Battery ->>>> BATTERY_CAPACITY Quad-Core Processor ->>>> PROCESSOR_CORE   Github Link: https://github.com/vaibhawkhemka/ML-Umbrella/tree/main/NLP/Product-Categorization   Thanks for reading the blog.   If you have any questions  hit me up on my LinkedIn: https://www.linkedin.com/in/vaibhaw-khemka-a92156176/   References for modeling:   https://explosion.ai/blog/deep-learning-formula-nlp => Embed  Encode  Attend and Predict => Position is imp in sequence in text.   https://support.prodi.gy/t/spacy-ner-models-architecture-details/4336   https://github.com/explosion/spaCy/blob/master/spacy/ml/models/tok2vec.py   https://spacy.io/usage/layers-architectures   https://spacy.io/api/architectures#CharacterEmbed   Understanding span:   https://spacy.io/api/span\""
      ]
     },
     "execution_count": 6,
     "metadata": {},
     "output_type": "execute_result"
    }
   ],
   "source": [
    "import json\n",
    "with open(file_path, \"r\") as file:\n",
    "    ai_tutor_knowledge = [json.loads(line) for line in file]\n",
    "ai_tutor_knowledge[1]['content']"
   ]
  },
  {
   "cell_type": "code",
   "execution_count": null,
   "metadata": {
    "colab": {
     "base_uri": "https://localhost:8080/"
    },
    "collapsed": true,
    "id": "F1HPQpmpct8K",
    "outputId": "79d6f842-3148-4a13-b5b4-1566ce15c842"
   },
   "outputs": [
    {
     "data": {
      "text/plain": [
       "Document(id_='45501b72-9391-529e-8e5e-59a2604ba26e', embedding=None, metadata={'url': 'https://towardsai.net/p/machine-learning/adaboost-explained-from-its-original-paper', 'title': 'AdaBoost Explained From Its Original Paper', 'tokens': 1697, 'source': 'tai_blog'}, excluded_embed_metadata_keys=['url', 'tokens', 'source'], excluded_llm_metadata_keys=['title', 'tokens', 'source'], relationships={}, metadata_template='{key}: {value}', metadata_separator='\\n', text_resource=MediaResource(embeddings=None, data=None, text=\"This publication is meant to show a very popular ML algorithm in complete detail  how it works  the math behind it  how to execute it in Python and an explanation of the proofs of the original paper. There will be math and code  but it is written in a way that allows you to decide which are the fun parts.   A bit on the origins of the algorithm: It was proposed by Yoav Freund and Robert E. Schapire in a 1997 paper  A Decision-Theoretic Generalization of On-Line Learning and an Application to Boostinga beautiful and brilliant publication for an effective and useful algorithm.   Lets start with the pros  cons  and uses of AdaBoost.   Advantages: improves performance and achieves higher accuracy than a single model. It reduces overfitting compared to some other machine learning algorithms.   Disadvantages: AdaBoost can be sensitive to noisy data and outliers. It requires careful tuning  and the performance can depend on the choice of weak learners and the number of iterations. It cannot be parallelized (or only partially)  since each predictor can only be trained after the previous predictor has been trained and evaluated. As a result  it does not scale as well as bagging or pasting.   Applications: image recognition  text classification  fraud detection  predictive modeling.   Introduction  what is ensemble learning and boosting?Python script with an Ada Boost algorithm  lets go straight to using this toolAda Boost explanation  the math on how it worksAda Boost example  simplifying the math  an example of one iterationReferencesIntroductionLets talk a bit about the wisdom of the crowd. Wisdom of the crowd is a phenomenon that suggests that the collective judgment of a diverse number of people is often surprisingly accurate. This mainly occurs because of the central limit theorem  which states that when you take an average of a large number of independent observations  the distribution will center around the true value.   Lets explain this with an example. What if there was a competition where people had to guess how many bubble gum pieces were in a jar? Thousands of different (independent) people will guess; some might be close  and others will be quite far from the true number  but once we calculate the average of the guesses  we will be quite close to the actual number of bubble gum balls  this my friends is the wisdom of the crowd.   How does this apply to Machine Learning?   If we have many predictors (decision trees  other classifiers or regressors) and we aggregate the predictions of this group  they will often perform better than the best individual predictor. A group of predictors is called an ensemble  thus  this technique is called Ensemble Learning.   AdaBoost belongs to a method called boosting. Boosting refers to any ensemble method that combines several weak learners (simple models) into a strong learner (a more accurate model).   There are many boosting methods  the most popular by far are Ada Boosting and Gradient Boosting.   Ada Boost with Python and Scikit-LearnPart 1: data preparationWe create a dummy dataset and separate the data into train and test.   import numpy as np from sklearn.datasets import make_classification from sklearn.model_selection import train_test_split # Generate a random dataset (for example purposes) X  y = make_classification(n_samples=100  n_features=2  n_informative=2  n_redundant=0  random_state=42) # Split the dataset into training and testing sets X_train  X_test  y_train  y_test = train_test_split(X  y  test_size=0.3  random_state=42)Part 2: AdaBoost with Decision Trees (1 branch)First  lets understand the possible parameters in Scikit-learns AdaBoostClassifier:   estimator: The base estimator from which the boosted ensemble is built. Usually  a decision tree with a max depth 1 (a weak learner).n_estimators: The maximum number of estimators at which boosting is terminated.learning rate: Weight applied to each classifier at each boosting iteration. A higher learning rate increases the contribution of each classifier.random_state: Controls the random seed given at each estimator at each boosting iteration.from sklearn.ensemble import AdaBoostClassifier from sklearn.tree import DecisionTreeClassifier # Create the AdaBoost classifier # Notice that the depth of the decision tree is 1 base_estimator = DecisionTreeClassifier(max_depth=1) ada_boost = AdaBoostClassifier(estimator=base_estimator  n_estimators=50  learning_rate=1.0  random_state=42) # Train the classifier ada_boost.fit(X_train  y_train) # Make predictions y_pred = ada_boost.predict(X_test)Part 3: Model evaluationWe measure the metrics of the model. Interpretation of these metrics will be seen in a different article.   from sklearn.metrics import accuracy_score  classification_report # Evaluate the classifier accuracy = accuracy_score(y_test  y_pred) print(f'Accuracy: {accuracy:.2f}') print('Classification Report:') print(classification_report(y_test  y_pred))Accuracy: 0.97 Classification Report: precision recall f1-score support 0 1.00 0.94 0.97 16 1 0.93 1.00 0.97 14 accuracy 0.97 30 macro avg 0.97 0.97 0.97 30 weighted avg 0.97 0.97 0.97 30Part 4: Plotting Resultsimport matplotlib.pyplot as plt # Plotting the decision boundary x_min  x_max = X[:  0].min() - 1  X[:  0].max() + 1 y_min  y_max = X[:  1].min() - 1  X[:  1].max() + 1 xx  yy = np.meshgrid(np.arange(x_min  x_max  0.01)  np.arange(y_min  y_max  0.01)) Z = ada_boost.predict(np.c_[xx.ravel()  yy.ravel()]) Z = Z.reshape(xx.shape) plt.contourf(xx  yy  Z  alpha=0.3) plt.scatter(X[:  0]  X[:  1]  c=y  edgecolors='k'  marker='o') plt.title('AdaBoost Decision Boundary') plt.xlabel('Feature 1') plt.ylabel('Feature 2') plt.show()Ada Boost ExplanationIn this section  we explain the key concepts and how an iteration works (a bit of math included  folks.   AdaBoost  short for Adaptive Boosting  is a machine learning algorithm that is used to improve the performance of other machine learning algorithms. We will define a few key concepts to explain how it works:   Weak Learners: models that perform slightly better than random guessing. Decision trees with one split are often used.Boosting: the process of combining multiple weak learners to form a strong learner. Each learner has a weight based on the performance of the previous learners.Weight Adjustment: First  all data points have equal weights. After each iteration  the weight of incorrectly classified points is increased; that way  the learner focuses more on the difficult cases.Combining Learners: the final model is a weighted sum of all the weak learners; each learners contribution to the final model is based on its accuracy  and more accurate learners are given higher weights.Algorithm stepsThe image shows how the algorithm improves on each iteration on separating between the blue and red dots. Lets find out how each step works.   Initialize Weights:Assign equal weights to all data points (each predictor).2. Train Weak Learner and Calculate Weighted Error   Train a weak learner on the weighted dataset (h_t).Calculate the error rate of the weak learner.3. Calculate Alpha  the learner's weight   4. Update weights   5. Combine weak learners   Example of one iterationInitialize weights   Train Weak Learner and Calculate Weighted Error   Calculate Alpha   Update weights   This process continues for each iteration.   ReferencesA Decision-Theoretic Generalization of On-Line Learning and an Application to Boosting (1997)  Yoav Freund and Robert E. SchapireHands-On Machine Learning with Scikit-Learn  Keras  and TensorFlow (2019)  Aurelin GernSklearn documentation\", path=None, url=None, mimetype=None), image_resource=None, audio_resource=None, video_resource=None, text_template='{metadata_str}\\n\\n{content}')"
      ]
     },
     "execution_count": 7,
     "metadata": {},
     "output_type": "execute_result"
    }
   ],
   "source": [
    "from typing import List\n",
    "from llama_index.core import Document\n",
    "\n",
    "def create_docs_from_list(data_list: List[dict]) -> List[Document]:\n",
    "    documents = []\n",
    "    for data in data_list:\n",
    "        documents.append(\n",
    "            Document(\n",
    "                doc_id=data[\"doc_id\"],\n",
    "                text=data[\"content\"],\n",
    "                metadata={  # type: ignore\n",
    "                    \"url\": data[\"url\"],\n",
    "                    \"title\": data[\"name\"],\n",
    "                    \"tokens\": data[\"tokens\"],\n",
    "                    \"source\": data[\"source\"],\n",
    "                },\n",
    "                excluded_llm_metadata_keys=[\n",
    "                    \"title\",\n",
    "                    \"tokens\",\n",
    "                    \"source\",\n",
    "                ],\n",
    "                excluded_embed_metadata_keys=[\n",
    "                    \"url\",\n",
    "                    \"tokens\",\n",
    "                    \"source\",\n",
    "                ],\n",
    "            )\n",
    "        )\n",
    "    return documents\n",
    "\n",
    "doc = create_docs_from_list(ai_tutor_knowledge)\n",
    "doc[2]"
   ]
  },
  {
   "cell_type": "code",
   "execution_count": null,
   "metadata": {
    "colab": {
     "base_uri": "https://localhost:8080/"
    },
    "id": "KZCKZ5A6tDNq",
    "outputId": "293f21c9-3a4e-45d2-9436-b9bf66674a6f"
   },
   "outputs": [
    {
     "name": "stdout",
     "output_type": "stream",
     "text": [
      "\n",
      "Parsing nodes:   100%|██████████| 762/762 [00:00<?, ?it/s]\n",
      "100%|██████████| 5834/5834 [42:39<00:00,  2.28it/s]\n",
      "100%|██████████| 5834/5834 [1:12:23<00:00,  1.34it/s]\n",
      "100%|██████████| 5834/5834 [19:36<00:00,  4.96it/s]\n",
      "Generating embeddings:   100%|██████████| 5834/5834 [00:00<?, ?it/s]\n",
      "\n",
      "\n",
      "\n"
     ]
    }
   ],
   "source": [
    "from llama_index.core.node_parser import TokenTextSplitter\n",
    "\n",
    "# Define the splitter object that split the text into segments with 1536 tokens,\n",
    "# with a 128 overlap between the segments.\n",
    "text_splitter = TokenTextSplitter(separator=\" \", chunk_size=512, chunk_overlap=128)\n",
    "\n",
    "import chromadb\n",
    "from llama_index.vector_stores.chroma import ChromaVectorStore\n",
    "from llama_index.llms.openai import OpenAI\n",
    "from llama_index.core.extractors import (\n",
    "    SummaryExtractor,\n",
    "    QuestionsAnsweredExtractor,\n",
    "    KeywordExtractor,\n",
    ")\n",
    "from llama_index.embeddings.openai import OpenAIEmbedding\n",
    "from llama_index.core.ingestion import IngestionPipeline\n",
    "\n",
    "# set up ChromaVectorStore and load in data\n",
    "chroma_client = chromadb.EphemeralClient()\n",
    "chroma_collection = chroma_client.create_collection(\"ai_tutor_knowledge\")\n",
    "\n",
    "# save to disk\n",
    "db = chromadb.PersistentClient(path=\"/content/ai_tutor_knowledge\")\n",
    "chroma_collection = db.get_or_create_collection(\"ai_tutor_knowledge\")\n",
    "vector_store = ChromaVectorStore(chroma_collection=chroma_collection)\n",
    "llm = OpenAI(model=\"gpt-5-mini\", additional_kwargs={\"reasoning_effort\":\"minimal\"})\n",
    "\n",
    "pipeline = IngestionPipeline(\n",
    "    transformations=[\n",
    "        text_splitter,\n",
    "        QuestionsAnsweredExtractor(questions=2, llm=llm),\n",
    "        SummaryExtractor(summaries=[\"prev\", \"self\"], llm=llm),\n",
    "        KeywordExtractor(keywords=10, llm=llm),\n",
    "        OpenAIEmbedding(model = \"text-embedding-3-small\"),\n",
    "    ],\n",
    "    vector_store=vector_store,\n",
    ")\n",
    "\n",
    "# Run the transformation pipeline.\n",
    "nodes = pipeline.run(documents=doc, show_progress=True)"
   ]
  },
  {
   "cell_type": "code",
   "execution_count": null,
   "metadata": {
    "id": "EK0503UGsx0Q"
   },
   "outputs": [],
   "source": [
    "!zip -r vectorstore.zip ai_tutor_knowledge"
   ]
  },
  {
   "cell_type": "markdown",
   "metadata": {
    "id": "fcX9C-AThh15"
   },
   "source": [
    "# Download the Vector Store\n"
   ]
  },
  {
   "cell_type": "markdown",
   "metadata": {
    "id": "T11R7Czv9jnO"
   },
   "source": [
    "You can Access the VectorStore from the Hugginface hub"
   ]
  },
  {
   "cell_type": "code",
   "execution_count": null,
   "metadata": {
    "colab": {
     "base_uri": "https://localhost:8080/",
     "height": 215,
     "referenced_widgets": [
      "2e3563aafe964b26a87ac2f07d4fa5c6",
      "a5adf6b1dce741fcb1aa49d73c83d0b4",
      "a70cb14b72fb4ca3a22c4bb467541ef2",
      "b79db7a17d5f4d06896b13afccc9f80d",
      "08edf83f515c42308e2eda6fd8d3a198",
      "1bcfa2ca812445cc8b8678b70d4bcb4e",
      "e42808ea898f4ed9ad80719905a2f621",
      "3d617d17e97942528f34a611adf290df",
      "d67461845a6d4e628b63ca40761800ba",
      "6da70ed7f57e4f5fa29fffd8db9c363f",
      "5ff0652fb3a64ee39a29ec6191d7f114"
     ]
    },
    "collapsed": true,
    "id": "_oi1avNUhhYd",
    "outputId": "9a2f2f8f-aa15-436f-8231-037070419478"
   },
   "outputs": [
    {
     "data": {
      "application/vnd.jupyter.widget-view+json": {
       "model_id": "2e3563aafe964b26a87ac2f07d4fa5c6",
       "version_major": 2,
       "version_minor": 0
      },
      "text/plain": [
       "vectorstore.zip:   0%|          | 0.00/97.2M [00:00<?, ?B/s]"
      ]
     },
     "metadata": {},
     "output_type": "display_data"
    },
    {
     "name": "stdout",
     "output_type": "stream",
     "text": [
      "Archive:  vectorstore.zip\n",
      "   creating: ai_tutor_knowledge/\n",
      "   creating: ai_tutor_knowledge/684af133-f877-4230-bde4-575cf53b6688/\n",
      "  inflating: ai_tutor_knowledge/684af133-f877-4230-bde4-575cf53b6688/length.bin  \n",
      "  inflating: ai_tutor_knowledge/684af133-f877-4230-bde4-575cf53b6688/index_metadata.pickle  \n",
      "  inflating: ai_tutor_knowledge/684af133-f877-4230-bde4-575cf53b6688/link_lists.bin  \n",
      "  inflating: ai_tutor_knowledge/684af133-f877-4230-bde4-575cf53b6688/header.bin  \n",
      "  inflating: ai_tutor_knowledge/684af133-f877-4230-bde4-575cf53b6688/data_level0.bin  \n",
      "  inflating: ai_tutor_knowledge/chroma.sqlite3  \n"
     ]
    }
   ],
   "source": [
    "from huggingface_hub import hf_hub_download\n",
    "vectorstore = hf_hub_download(repo_id=\"jaiganesan/ai_tutor_knowledge\", filename=\"vectorstore.zip\",repo_type=\"dataset\",local_dir=\"/content\")\n",
    "\n",
    "!unzip vectorstore.zip"
   ]
  },
  {
   "cell_type": "code",
   "execution_count": null,
   "metadata": {
    "id": "VikY0MnrWZyC"
   },
   "outputs": [],
   "source": [
    "import chromadb\n",
    "from llama_index.vector_stores.chroma import ChromaVectorStore\n",
    "\n",
    "# Load the vector store from the local storage.\n",
    "db = chromadb.PersistentClient(path=\"/content/ai_tutor_knowledge\")\n",
    "chroma_collection = db.get_or_create_collection(\"ai_tutor_knowledge\")\n",
    "vector_store = ChromaVectorStore(chroma_collection=chroma_collection)"
   ]
  },
  {
   "cell_type": "code",
   "execution_count": null,
   "metadata": {
    "id": "o87JiKrUWZvG"
   },
   "outputs": [],
   "source": [
    "from llama_index.core import VectorStoreIndex\n",
    "\n",
    "# Create the index based on the vector store.\n",
    "index = VectorStoreIndex.from_vector_store(vector_store=vector_store)"
   ]
  },
  {
   "cell_type": "code",
   "execution_count": null,
   "metadata": {
    "colab": {
     "base_uri": "https://localhost:8080/"
    },
    "id": "-H8c-pUpqu7W",
    "outputId": "3c574f51-40c3-4927-8099-306e650a5a11"
   },
   "outputs": [
    {
     "name": "stdout",
     "output_type": "stream",
     "text": [
      "top_2 results:\n",
      "\t Retrieval-Augmented Generation (RAG) models enhance language generation by combining pre-trained parametric and non-parametric memory. These models integrate a pre-trained sequence-to-sequence (seq2seq) model as their parametric memory with a dense vector index, such as one built from Wikipedia, which serves as non-parametric memory. A pre-trained neural retriever accesses this non-parametric memory.\n",
      "\n",
      "The process involves retrieving relevant documents or passages, which are then passed to the seq2seq model to generate outputs. Both the retriever and the seq2seq modules are initialized from pre-trained models and fine-tuned jointly, allowing them to adapt to specific tasks. This architecture addresses challenges faced by Large Language Models (LLMs), such as outdated information and hallucinations, by retrieving relevant knowledge to improve accuracy, reliability, and trustworthiness in the generated language. RAG models have demonstrated effectiveness across various tasks, including open-domain question answering, code generation, and dialogue, and are integrated into real-world applications like Bing Search and Langchain.\n",
      "-_-_-_-_-_-_-_-_-_-_-_-_-_-_-_-_-_-_-_-_\n",
      "top_4 results:\n",
      "\t Retrieval-Augmented Generation (RAG) models combine pre-trained parametric and non-parametric memory to enhance language generation. They operate by retrieving relevant documents from a dense vector index, such as Wikipedia, using a pre-trained neural retriever. These retrieved documents are then passed to a sequence-to-sequence (seq2seq) model, which generates outputs based on the information.\n",
      "\n",
      "The retriever and seq2seq modules are initialized from pre-trained models and fine-tuned together, allowing them to adapt to specific downstream tasks. This approach addresses challenges in Large Language Models (LLMs), such as outdated information and hallucinations, by improving accuracy, reliability, and trust through the retrieval of relevant knowledge.\n",
      "\n",
      "There are two main formulations of RAG models:\n",
      "1.  One formulation conditions on the same retrieved passages throughout the entire generated sequence.\n",
      "2.  The other formulation allows for different passages to be used for each token in the sequence.\n",
      "\n",
      "RAG models have shown strong performance in various tasks, including open-domain question answering, code generation, and dialogue, and are integrated into real-world applications like Bing Search and Langchain. They generate language that is more specific, diverse, and factual compared to parametric-only seq2seq baselines.\n",
      "-_-_-_-_-_-_-_-_-_-_-_-_-_-_-_-_-_-_-_-_\n"
     ]
    },
    {
     "name": "stderr",
     "output_type": "stream",
     "text": [
      "WARNING:llama_index.llms.google_genai.utils:Retrying llama_index.llms.google_genai.base.GoogleGenAI._chat in 0.7939191162331898 seconds as it raised ServerError: 503 UNAVAILABLE. {'error': {'code': 503, 'message': 'The model is overloaded. Please try again later.', 'status': 'UNAVAILABLE'}}.\n"
     ]
    },
    {
     "name": "stdout",
     "output_type": "stream",
     "text": [
      "top_6 results:\n",
      "\t Retrieval-Augmented Generation (RAG) models combine pre-trained parametric and non-parametric memory for language generation, enhancing performance on knowledge-intensive natural language processing (NLP) tasks.\n",
      "\n",
      "Here's a breakdown of how RAG works:\n",
      "\n",
      "1.  **Integration of Pre-trained Models**: RAG models integrate a pre-trained dense retrieval (DPR) model with a pre-trained sequence-to-sequence (seq2seq) model. The seq2seq model acts as the parametric memory, while a dense vector index (e.g., of Wikipedia) serves as the non-parametric memory.\n",
      "\n",
      "2.  **Retrieval Mechanism**: When a query or input is provided, the RAG model first uses a pre-trained neural retriever to access the non-parametric memory. It retrieves relevant documents or passages from the dense vector index.\n",
      "\n",
      "3.  **Generation Mechanism**: The retrieved documents are then passed to the seq2seq model. The seq2seq model generates an output based on the input query and the context provided by the retrieved information.\n",
      "\n",
      "4.  **Joint Fine-Tuning**: Both the retriever and the seq2seq modules are initialized from pre-trained models and are fine-tuned together. This joint fine-tuning allows both components to adapt and improve for specific downstream tasks, ensuring that the retrieval process is optimized to provide the most useful context for the generation process.\n",
      "\n",
      "5.  **Addressing Limitations**: RAG models address challenges faced by traditional Large Language Models (LLMs), such as outdated information and hallucinations, by retrieving relevant external knowledge. This process improves the accuracy, reliability, and trustworthiness of the generated output.\n",
      "\n",
      "There are two primary formulations of RAG models regarding passage retrieval during generation:\n",
      "*   One formulation conditions on the same retrieved passages throughout the entire generated sequence.\n",
      "*   The other formulation allows for different passages to be used for each token in the sequence, offering more dynamic context integration.\n",
      "\n",
      "By combining retrieval and generation, RAG models generate more specific, diverse, and factual language, outperforming parametric-only seq2seq models in knowledge-intensive NLP tasks like open-domain question answering.\n",
      "-_-_-_-_-_-_-_-_-_-_-_-_-_-_-_-_-_-_-_-_\n",
      "top_8 results:\n",
      "\t Retrieval-Augmented Generation (RAG) models combine pre-trained dense retrieval (DPR) with sequence-to-sequence (seq2seq) models to enhance language generation, especially in knowledge-intensive natural language processing tasks. RAG models operate by first retrieving relevant documents from a dense vector index, such as Wikipedia, using a pre-trained neural retriever. These retrieved documents are then passed to a seq2seq model, which generates outputs based on the information provided. Both the retriever and the seq2seq modules are initialized from pre-trained models and are fine-tuned together to adapt to specific downstream tasks.\n",
      "\n",
      "There are two main formulations of RAG models:\n",
      "1. One formulation conditions on the same retrieved passages throughout the entire generated sequence.\n",
      "2. The other allows for different passages to be used for each token in the sequence.\n",
      "\n",
      "This approach addresses challenges like outdated information and hallucinations often faced by Large Language Models (LLMs) by improving accuracy, reliability, and trust through the integration of external knowledge. RAG models have shown strong performance in various tasks, including open-domain question answering, code generation, and dialogue, and have been integrated into real-world applications like Bing Search and Langchain.\n",
      "-_-_-_-_-_-_-_-_-_-_-_-_-_-_-_-_-_-_-_-_\n"
     ]
    },
    {
     "name": "stderr",
     "output_type": "stream",
     "text": [
      "WARNING:llama_index.llms.google_genai.utils:Retrying llama_index.llms.google_genai.base.GoogleGenAI._chat in 0.6526546915972938 seconds as it raised ServerError: 503 UNAVAILABLE. {'error': {'code': 503, 'message': 'The model is overloaded. Please try again later.', 'status': 'UNAVAILABLE'}}.\n"
     ]
    },
    {
     "name": "stdout",
     "output_type": "stream",
     "text": [
      "top_10 results:\n",
      "\t Retrieval-Augmented Generation (RAG) models combine pre-trained parametric and non-parametric memory for language generation. This process generally involves the following steps:\n",
      "\n",
      "1.  **Retrieval Mechanism**: RAG models utilize a pre-trained neural retriever to access a dense vector index of knowledge, such as Wikipedia, which serves as non-parametric memory. This retriever fetches relevant documents based on a user's query or the context of the generated sequence.\n",
      "2.  **Generation Mechanism**: The retrieved documents are then passed to a pre-trained sequence-to-sequence (seq2seq) model, which acts as the parametric memory. This model generates outputs by marginalizing over the retrieved documents.\n",
      "3.  **Joint Fine-Tuning**: Both the retriever and the seq2seq modules are initialized from pre-trained models and are fine-tuned together. This joint fine-tuning allows both components to adapt and improve their performance on specific downstream tasks.\n",
      "\n",
      "RAG models can operate in two formulations:\n",
      "*   One formulation conditions on the same retrieved passages throughout the entire generated sequence.\n",
      "*   Another formulation allows for different passages to be used for each token in the sequence.\n",
      "\n",
      "This approach helps address challenges faced by traditional Large Language Models (LLMs), such as outdated information and hallucinations, by retrieving relevant and up-to-date knowledge, thereby improving accuracy, reliability, and trust in generated responses. RAG systems have shown strong performance in various knowledge-intensive NLP tasks, including open-domain question answering, code generation, and dialogue.\n",
      "-_-_-_-_-_-_-_-_-_-_-_-_-_-_-_-_-_-_-_-_\n",
      "top_15 results:\n",
      "\t Retrieval-Augmented Generation (RAG) models combine pre-trained dense retrieval and sequence-to-sequence (seq2seq) models to improve language generation, especially in knowledge-intensive natural language processing (NLP) tasks.\n",
      "\n",
      "Here's a breakdown of how RAG models work:\n",
      "*   **Retrieval Mechanism**: RAG models use a pre-trained neural retriever to find relevant documents from a dense vector index, such as Wikipedia.\n",
      "*   **Generation Mechanism**: The retrieved documents are then given to a seq2seq model, which uses this information to generate outputs.\n",
      "*   **Joint Fine-Tuning**: Both the retriever and the seq2seq model are initialized from pre-trained models and then fine-tuned together. This allows them to adapt to specific tasks.\n",
      "\n",
      "RAG models address limitations of traditional pre-trained language models by combining parametric memory (the seq2seq model) with non-parametric memory (the dense vector index), leading to better knowledge retrieval and generation. This approach helps in producing more specific, diverse, and factual language compared to models that only rely on parametric memory.\n",
      "\n",
      "There are two main ways RAG models can be formulated:\n",
      "1.  One formulation uses the same retrieved passages for the entire generated sequence.\n",
      "2.  Another formulation allows different passages to be used for each token as the sequence is generated.\n",
      "-_-_-_-_-_-_-_-_-_-_-_-_-_-_-_-_-_-_-_-_\n",
      "top_20 results:\n",
      "\t Retrieval-Augmented Generation (RAG) models combine the strengths of pre-trained dense retrieval (DPR) and sequence-to-sequence (seq2seq) models to enhance language generation, particularly for knowledge-intensive natural language processing (NLP) tasks.\n",
      "\n",
      "The process involves two main steps:\n",
      "1.  **Retrieval Mechanism**: RAG models first retrieve relevant documents from a dense vector index, such as Wikipedia, using a pre-trained neural retriever. This acts as the non-parametric memory, allowing the model to access external knowledge.\n",
      "2.  **Generation Mechanism**: The retrieved documents are then passed to a seq2seq model, which serves as the parametric memory. This model uses the retrieved information to generate outputs. The retriever and seq2seq modules are initialized from pre-trained models and are fine-tuned together to adapt to specific downstream tasks.\n",
      "\n",
      "There are two primary ways RAG models handle passage retrieval during language generation:\n",
      "*   One formulation conditions on the same set of retrieved passages throughout the entire generated sequence.\n",
      "*   Another formulation allows for different passages to be utilized for each token generated in the sequence.\n",
      "\n",
      "This architecture enables RAG models to overcome the limitations of traditional pre-trained language models in accessing and manipulating knowledge, leading to the generation of more specific, diverse, and factual language. RAG can be applied to various tasks, including open-domain question answering, and can be integrated into applications for parsing external documents like PDFs to introduce new knowledge to language models.\n",
      "-_-_-_-_-_-_-_-_-_-_-_-_-_-_-_-_-_-_-_-_\n"
     ]
    },
    {
     "name": "stderr",
     "output_type": "stream",
     "text": [
      "WARNING:llama_index.llms.google_genai.utils:Retrying llama_index.llms.google_genai.base.GoogleGenAI._chat in 0.9031723776649043 seconds as it raised ServerError: 503 UNAVAILABLE. {'error': {'code': 503, 'message': 'The model is overloaded. Please try again later.', 'status': 'UNAVAILABLE'}}.\n"
     ]
    },
    {
     "name": "stdout",
     "output_type": "stream",
     "text": [
      "top_25 results:\n",
      "\t Retrieval-Augmented Generation (RAG) models combine the strengths of pre-trained dense retrieval (DPR) and sequence-to-sequence (seq2seq) models to enhance language generation, particularly for knowledge-intensive NLP tasks.\n",
      "\n",
      "Here's a breakdown of how RAG works:\n",
      "\n",
      "1.  **Retrieval Mechanism**: When a query or input is provided, RAG models first retrieve relevant documents or passages from a dense vector index (e.g., a large corpus like Wikipedia) using a pre-trained neural retriever. This component acts as a non-parametric memory, allowing the model to access external knowledge.\n",
      "\n",
      "2.  **Generation Mechanism**: The retrieved documents are then passed to a sequence-to-sequence model, which serves as the parametric memory. This seq2seq model generates outputs based on the information extracted from the retrieved documents.\n",
      "\n",
      "3.  **Joint Fine-Tuning**: Both the retriever and the seq2seq modules are initialized from pre-trained models and fine-tuned together. This joint fine-tuning allows both components to adapt and optimize their performance for specific downstream tasks.\n",
      "\n",
      "4.  **Language Generation with Retrieved Information**: The seq2seq model integrates the retrieved knowledge with its own parametric memory to produce a response. There are two main formulations for this:\n",
      "    *   One approach conditions on the *same* retrieved passages throughout the entire generated sequence.\n",
      "    *   Another approach allows for *different* passages to be used for each token generated in the sequence.\n",
      "\n",
      "By combining these mechanisms, RAG models aim to generate more specific, diverse, and factual language than traditional parametric-only seq2seq models. This approach helps address challenges such as outdated information and hallucinations in large language models by grounding responses in relevant, retrieved knowledge.\n",
      "-_-_-_-_-_-_-_-_-_-_-_-_-_-_-_-_-_-_-_-_\n"
     ]
    },
    {
     "name": "stderr",
     "output_type": "stream",
     "text": [
      "WARNING:llama_index.llms.google_genai.utils:Retrying llama_index.llms.google_genai.base.GoogleGenAI._chat in 0.8193748486936929 seconds as it raised ServerError: 503 UNAVAILABLE. {'error': {'code': 503, 'message': 'The model is overloaded. Please try again later.', 'status': 'UNAVAILABLE'}}.\n",
      "WARNING:llama_index.llms.google_genai.utils:Retrying llama_index.llms.google_genai.base.GoogleGenAI._chat in 0.7205211086287215 seconds as it raised ServerError: 503 UNAVAILABLE. {'error': {'code': 503, 'message': 'The model is overloaded. Please try again later.', 'status': 'UNAVAILABLE'}}.\n"
     ]
    },
    {
     "name": "stdout",
     "output_type": "stream",
     "text": [
      "top_30 results:\n",
      "\t Retrieval-Augmented Generation (RAG) models combine the strengths of pre-trained dense retrieval (DPR) and sequence-to-sequence (seq2seq) models to enhance language generation, particularly in knowledge-intensive NLP tasks.\n",
      "\n",
      "Here's a breakdown of how RAG works:\n",
      "\n",
      "1.  **Retrieval Mechanism**: When a query or statement is given, the RAG model uses a pre-trained neural retriever to search for and retrieve relevant documents from a dense vector index, such as Wikipedia.\n",
      "\n",
      "2.  **Generation Mechanism**: The retrieved documents, which serve as non-parametric memory, are then passed to a pre-trained seq2seq model, which acts as the parametric memory. This model uses the retrieved information to generate an output.\n",
      "\n",
      "3.  **Joint Fine-Tuning**: Both the retriever and the seq2seq modules are initialized from pre-trained models and then fine-tuned together. This joint fine-tuning allows both the retrieval and generation components to adapt to specific downstream tasks, improving their overall effectiveness.\n",
      "\n",
      "RAG models can operate in two main formulations during language generation:\n",
      "*   One formulation conditions on the same retrieved passages throughout the entire generated sequence.\n",
      "*   The other formulation allows for different passages to be used for each token in the sequence.\n",
      "\n",
      "By integrating parametric memory (the seq2seq model) with non-parametric memory (the dense vector index), RAG models overcome limitations of traditional pre-trained language models in accessing and manipulating knowledge, leading to more specific, diverse, and factual language generation.\n",
      "-_-_-_-_-_-_-_-_-_-_-_-_-_-_-_-_-_-_-_-_\n"
     ]
    }
   ],
   "source": [
    "for i in [2, 4, 6, 8, 10, 15, 20, 25, 30]:\n",
    "    query_engine = index.as_query_engine(similarity_top_k=i)\n",
    "\n",
    "    res = query_engine.query(\"Explain how RAG works?\")\n",
    "\n",
    "    print(f\"top_{i} results:\")\n",
    "    print(\"\\t\", res.response)\n",
    "    print(\"-_\" * 20)"
   ]
  },
  {
   "cell_type": "markdown",
   "metadata": {
    "id": "eB83yG_o0cjO"
   },
   "source": [
    "# Evaluate\n"
   ]
  },
  {
   "cell_type": "code",
   "execution_count": null,
   "metadata": {
    "colab": {
     "base_uri": "https://localhost:8080/"
    },
    "id": "TblvUrZ97TV6",
    "outputId": "0e1fd77c-435a-49cb-ae54-14a31c5d54e3"
   },
   "outputs": [
    {
     "name": "stdout",
     "output_type": "stream",
     "text": [
      "--2025-09-17 13:23:13--  https://raw.githubusercontent.com/AlaFalaki/tutorial_notebooks/main/data/rag_eval_dataset.json\n",
      "Resolving raw.githubusercontent.com (raw.githubusercontent.com)... 185.199.108.133, 185.199.109.133, 185.199.110.133, ...\n",
      "Connecting to raw.githubusercontent.com (raw.githubusercontent.com)|185.199.108.133|:443... connected.\n",
      "HTTP request sent, awaiting response... 200 OK\n",
      "Length: 476714 (466K) [text/plain]\n",
      "Saving to: ‘rag_eval_dataset.json’\n",
      "\n",
      "rag_eval_dataset.js 100%[===================>] 465.54K  --.-KB/s    in 0.03s   \n",
      "\n",
      "2025-09-17 13:23:13 (13.0 MB/s) - ‘rag_eval_dataset.json’ saved [476714/476714]\n",
      "\n"
     ]
    }
   ],
   "source": [
    "!wget https://raw.githubusercontent.com/AlaFalaki/tutorial_notebooks/main/data/rag_eval_dataset.json"
   ]
  },
  {
   "cell_type": "code",
   "execution_count": null,
   "metadata": {
    "id": "fqRm2AMPrNE7"
   },
   "outputs": [],
   "source": [
    "# We can also load the dataset from a previously saved json file.\n",
    "from llama_index.core.evaluation import EmbeddingQAFinetuneDataset\n",
    "\n",
    "rag_eval_dataset = EmbeddingQAFinetuneDataset.from_json(\"./rag_eval_dataset.json\")"
   ]
  },
  {
   "cell_type": "code",
   "execution_count": null,
   "metadata": {
    "colab": {
     "base_uri": "https://localhost:8080/"
    },
    "id": "1GagTcRz7XkU",
    "outputId": "1975a712-627a-4e86-bc6d-a6066fbfa41b"
   },
   "outputs": [
    {
     "name": "stdout",
     "output_type": "stream",
     "text": [
      "top_2 faithfulness_score: 1.0\n",
      "top_2 relevancy_score: 1.0\n",
      "top_4 faithfulness_score: 0.9\n",
      "top_4 relevancy_score: 1.0\n",
      "top_6 faithfulness_score: 0.95\n",
      "top_6 relevancy_score: 1.0\n",
      "top_8 faithfulness_score: 1.0\n",
      "top_8 relevancy_score: 1.0\n",
      "top_10 faithfulness_score: 1.0\n",
      "top_10 relevancy_score: 1.0\n",
      "top_15 faithfulness_score: 0.95\n",
      "top_15 relevancy_score: 0.95\n",
      "top_20 faithfulness_score: 0.9\n",
      "top_20 relevancy_score: 1.0\n",
      "top_25 faithfulness_score: 0.95\n",
      "top_25 relevancy_score: 1.0\n",
      "top_30 faithfulness_score: 0.85\n",
      "top_30 relevancy_score: 1.0\n"
     ]
    }
   ],
   "source": [
    "from llama_index.core.evaluation import (\n",
    "    RelevancyEvaluator,\n",
    "    FaithfulnessEvaluator,\n",
    "    BatchEvalRunner,\n",
    ")\n",
    "\n",
    "from llama_index.llms.openai import OpenAI\n",
    "llm_gpt5_mini = OpenAI(model=\"gpt-5-mini\", additional_kwargs={\"reasoning_effort\":\"minimal\"})\n",
    "\n",
    "faithfulness_evaluator = FaithfulnessEvaluator(llm=llm_gpt5_mini)\n",
    "relevancy_evaluator = RelevancyEvaluator(llm=llm_gpt5_mini)\n",
    "\n",
    "# Run evaluation\n",
    "queries = list(rag_eval_dataset.queries.values())\n",
    "batch_eval_queries = queries[:20]\n",
    "\n",
    "runner = BatchEvalRunner(\n",
    "    {\"faithfulness\": faithfulness_evaluator, \"relevancy\": relevancy_evaluator},\n",
    "    workers=32,\n",
    ")\n",
    "\n",
    "for i in [2, 4, 6, 8, 10, 15, 20, 25, 30]:\n",
    "    # Set Faithfulness and Relevancy evaluators\n",
    "    query_engine = index.as_query_engine(similarity_top_k=i, llm=llm_gpt5_mini)\n",
    "\n",
    "    eval_results = await runner.aevaluate_queries(\n",
    "        query_engine, queries=batch_eval_queries\n",
    "    )\n",
    "    faithfulness_score = sum(\n",
    "        result.passing for result in eval_results[\"faithfulness\"]\n",
    "    ) / len(eval_results[\"faithfulness\"])\n",
    "    print(f\"top_{i} faithfulness_score: {faithfulness_score}\")\n",
    "\n",
    "    relevancy_score = sum(result.passing for result in eval_results[\"relevancy\"]) / len(\n",
    "        eval_results[\"relevancy\"]\n",
    "    )\n",
    "    print(f\"top_{i} relevancy_score: {relevancy_score}\")"
   ]
  },
  {
   "cell_type": "code",
   "execution_count": null,
   "metadata": {
    "id": "9pfYd9j_2XPW"
   },
   "outputs": [],
   "source": []
  }
 ],
 "metadata": {
  "colab": {
   "provenance": []
  },
  "kernelspec": {
   "display_name": "Python 3",
   "name": "python3"
  },
  "language_info": {
   "name": "python",
   "version": "3.12.4"
  }
 },
 "nbformat": 4,
 "nbformat_minor": 0
}
