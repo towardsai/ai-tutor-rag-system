{
  "cells": [
    {
      "cell_type": "code",
      "execution_count": 1,
      "metadata": {
        "id": "UPKtF57twVp8"
      },
      "outputs": [],
      "source": [
        "!pip install -q openai==1.107.0"
      ]
    },
    {
      "cell_type": "code",
      "execution_count": 2,
      "metadata": {
        "id": "gf1VoYD-Y7TL"
      },
      "outputs": [],
      "source": [
        "import os\n",
        "\n",
        "# Set the \"OPENAI_API_KEY\" in the Python environment. Will be used by OpenAI client later.\n",
        "# os.environ[\"OPENAI_API_KEY\"] = \"[OPENAI_API_KEY]\"\n",
        "\n",
        "\n",
        "from google.colab import userdata\n",
        "os.environ[\"OPENAI_API_KEY\"] = userdata.get('OPENAI_API_KEY')"
      ]
    },
    {
      "cell_type": "markdown",
      "source": [
        "## Math Tutor"
      ],
      "metadata": {
        "id": "m9ecVQ5adsF1"
      }
    },
    {
      "cell_type": "code",
      "source": [
        "from openai import OpenAI\n",
        "\n",
        "client = OpenAI()\n",
        "\n",
        "# Create a conversation for persistent context (optional)\n",
        "conversation = client.conversations.create()\n",
        "\n",
        "# Single API call with built-in code interpreter\n",
        "response = client.responses.create(\n",
        "    model=\"gpt-5\",\n",
        "    reasoning={'effort':'low'},\n",
        "    instructions=\"You are a personal math tutor. When asked a math question, write and run code using the python tool to answer the question.\",\n",
        "    tools=[\n",
        "        {\n",
        "            \"type\": \"code_interpreter\",\n",
        "            \"container\": {\"type\": \"auto\"}\n",
        "        }\n",
        "    ],\n",
        "    input= \"I need to solve the equation `3x + 11 = 14`. Can you help me?\",\n",
        "    conversation=conversation.id  # Optional: for persistent context\n",
        ")\n",
        "\n",
        "print(response.output_text)\n"
      ],
      "metadata": {
        "colab": {
          "base_uri": "https://localhost:8080/"
        },
        "id": "W3iv5aJmdrED",
        "outputId": "9a2d20f5-5c4e-4bd5-8181-2d04f7c655ad"
      },
      "execution_count": 3,
      "outputs": [
        {
          "output_type": "stream",
          "name": "stdout",
          "text": [
            "Solve 3x + 11 = 14:\n",
            "- Subtract 11 from both sides: 3x = 3\n",
            "- Divide by 3: x = 1\n",
            "\n",
            "Answer: x = 1\n"
          ]
        }
      ]
    },
    {
      "cell_type": "code",
      "source": [],
      "metadata": {
        "id": "TQWPM0sbdrAq"
      },
      "execution_count": 3,
      "outputs": []
    },
    {
      "cell_type": "markdown",
      "source": [
        "## Tech Support"
      ],
      "metadata": {
        "id": "KopyMXGGdzMr"
      }
    },
    {
      "cell_type": "code",
      "source": [
        "import requests\n",
        "import time\n",
        "from openai import OpenAI\n",
        "\n",
        "client = OpenAI()\n",
        "\n",
        "# Download PDF\n",
        "url = \"https://personales.unican.es/corcuerp/linux/resources/LinuxCommandLineCheatSheet_1.pdf\"\n",
        "response = requests.get(url)\n",
        "with open(\"LinuxCommandLineCheatSheet_1.pdf\", \"wb\") as f:\n",
        "    f.write(response.content)\n",
        "\n",
        "# Upload file\n",
        "with open(\"LinuxCommandLineCheatSheet_1.pdf\", \"rb\") as file:\n",
        "    uploaded_file = client.files.create(file=file, purpose=\"assistants\")"
      ],
      "metadata": {
        "id": "ChnaC3pIlLUR"
      },
      "execution_count": 4,
      "outputs": []
    },
    {
      "cell_type": "code",
      "source": [
        "# Create vector store\n",
        "vector_store = client.vector_stores.create(name=\"Tech Support\")\n",
        "\n",
        "# Add file to vector store\n",
        "client.vector_stores.files.create(\n",
        "    vector_store_id=vector_store.id,\n",
        "    file_id=uploaded_file.id\n",
        ")\n",
        "\n",
        "# Wait for processing\n",
        "while True:\n",
        "    file_status = client.vector_stores.files.retrieve(\n",
        "        vector_store_id=vector_store.id,\n",
        "        file_id=uploaded_file.id\n",
        "    )\n",
        "    if file_status.status == \"completed\":\n",
        "        break\n",
        "    time.sleep(2)"
      ],
      "metadata": {
        "id": "RjrBRi9tlLKu"
      },
      "execution_count": 5,
      "outputs": []
    },
    {
      "cell_type": "code",
      "source": [
        "# Use GPT-5 with file search\n",
        "response = client.responses.create(\n",
        "    model=\"gpt-5\",\n",
        "    reasoning={'effort':'low'},\n",
        "    instructions=\"You are a tech support chatbot. Use the product manual to respond accurately to customer inquiries.\",\n",
        "    input=\"What does the 'ls' command do?\",\n",
        "    tools=[{\n",
        "        \"type\": \"file_search\",\n",
        "        \"vector_store_ids\": [vector_store.id]\n",
        "    }]\n",
        ")\n",
        "\n",
        "print(response.output_text)"
      ],
      "metadata": {
        "colab": {
          "base_uri": "https://localhost:8080/"
        },
        "id": "-bdTIkKAlLEn",
        "outputId": "d0500eca-bf3a-445e-a40c-1bbd096113be"
      },
      "execution_count": 6,
      "outputs": [
        {
          "output_type": "stream",
          "name": "stdout",
          "text": [
            "ls lists the files and directories in your current directory. A common usage is ls -al, which shows all files (including hidden ones) in a detailed “long” format .\n"
          ]
        }
      ]
    },
    {
      "cell_type": "code",
      "source": [
        "print(response.tools)"
      ],
      "metadata": {
        "colab": {
          "base_uri": "https://localhost:8080/"
        },
        "id": "MyVgCMbVjB3q",
        "outputId": "bd222349-07e4-45cd-ca93-9258da580996"
      },
      "execution_count": 7,
      "outputs": [
        {
          "output_type": "stream",
          "name": "stdout",
          "text": [
            "[FileSearchTool(type='file_search', vector_store_ids=['vs_68d0dce6e1908191a7da8005ad2884aa'], filters=None, max_num_results=20, ranking_options=RankingOptions(ranker='auto', score_threshold=0.0))]\n"
          ]
        }
      ]
    },
    {
      "cell_type": "code",
      "source": [
        "print(response.output[3].content[0].annotations)"
      ],
      "metadata": {
        "colab": {
          "base_uri": "https://localhost:8080/"
        },
        "id": "-WgZwEczjavg",
        "outputId": "dcf101d5-2876-4270-9493-0aaf0a956ec3"
      },
      "execution_count": 8,
      "outputs": [
        {
          "output_type": "stream",
          "name": "stdout",
          "text": [
            "[AnnotationFileCitation(file_id='file-A95fCbfWd74jwpu59jzVox', filename='LinuxCommandLineCheatSheet_1.pdf', index=162, type='file_citation')]\n"
          ]
        }
      ]
    },
    {
      "cell_type": "code",
      "source": [
        "import time\n",
        "from openai import OpenAI\n",
        "\n",
        "client = OpenAI()\n",
        "\n",
        "files = client.files.list(purpose=\"assistants\")\n",
        "# The response contains a list of file metadata objects, including id and filename\n",
        "for f in files.data:\n",
        "    if f.filename == \"LinuxCommandLineCheatSheet_1.pdf\":\n",
        "        file_id = f.id\n",
        "        break\n",
        "\n",
        "# This permanently removes the file from your assistant files\n",
        "client.files.delete(file_id)\n",
        "\n",
        "# Poll the list endpoint until the file no longer appears\n",
        "while True:\n",
        "    current_files = client.files.list(purpose=\"assistants\").data\n",
        "    if all(f.id != file_id for f in current_files):\n",
        "        print(f\"File {file_id} successfully deleted.\")\n",
        "        break\n",
        "    time.sleep(1)\n"
      ],
      "metadata": {
        "colab": {
          "base_uri": "https://localhost:8080/"
        },
        "id": "NtJHdSciF_rK",
        "outputId": "eca8bf09-a139-42b3-e77e-d7352998e624"
      },
      "execution_count": 10,
      "outputs": [
        {
          "output_type": "stream",
          "name": "stdout",
          "text": [
            "File file-A95fCbfWd74jwpu59jzVox successfully deleted.\n"
          ]
        }
      ]
    },
    {
      "cell_type": "code",
      "source": [
        "# # Clean up\n",
        "# os.remove(\"LinuxCommandLineCheatSheet_1.pdf\")"
      ],
      "metadata": {
        "id": "h2IV6pDGiOTp"
      },
      "execution_count": 9,
      "outputs": []
    }
  ],
  "metadata": {
    "colab": {
      "provenance": []
    },
    "kernelspec": {
      "display_name": "Python 3",
      "name": "python3"
    },
    "language_info": {
      "name": "python",
      "version": "3.12.4"
    }
  },
  "nbformat": 4,
  "nbformat_minor": 0
}