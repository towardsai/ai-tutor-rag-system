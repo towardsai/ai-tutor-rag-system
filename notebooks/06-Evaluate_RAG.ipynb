{
 "cells": [
  {
   "cell_type": "markdown",
   "metadata": {
    "id": "KghD-3hwYGWj"
   },
   "source": [
    "(Updated Notebook)"
   ]
  },
  {
   "cell_type": "markdown",
   "metadata": {
    "id": "5BGJ3fxhOk2V"
   },
   "source": [
    "# Install Packages and Setup Variables\n"
   ]
  },
  {
   "cell_type": "code",
   "execution_count": 1,
   "metadata": {
    "colab": {
     "base_uri": "https://localhost:8080/"
    },
    "collapsed": true,
    "id": "QPJzr-I9XQ7l",
    "outputId": "37b16e35-863c-41a9-d5a5-506702887a57"
   },
   "outputs": [
    {
     "name": "stdout",
     "output_type": "stream",
     "text": [
      "\u001b[?25l     \u001b[90m━━━━━━━━━━━━━━━━━━━━━━━━━━━━━━━━━━━━━━━━\u001b[0m \u001b[32m0.0/67.3 kB\u001b[0m \u001b[31m?\u001b[0m eta \u001b[36m-:--:--\u001b[0m\r",
      "\u001b[2K     \u001b[90m━━━━━━━━━━━━━━━━━━━━━━━━━━━━━━━━━━━━━━━━\u001b[0m \u001b[32m67.3/67.3 kB\u001b[0m \u001b[31m2.7 MB/s\u001b[0m eta \u001b[36m0:00:00\u001b[0m\n",
      "\u001b[?25h  Installing build dependencies ... \u001b[?25l\u001b[?25hdone\n",
      "  Getting requirements to build wheel ... \u001b[?25l\u001b[?25hdone\n",
      "  Preparing metadata (pyproject.toml) ... \u001b[?25l\u001b[?25hdone\n",
      "\u001b[2K   \u001b[90m━━━━━━━━━━━━━━━━━━━━━━━━━━━━━━━━━━━━━━━━\u001b[0m \u001b[32m455.6/455.6 kB\u001b[0m \u001b[31m12.6 MB/s\u001b[0m eta \u001b[36m0:00:00\u001b[0m\n",
      "\u001b[2K   \u001b[90m━━━━━━━━━━━━━━━━━━━━━━━━━━━━━━━━━━━━━━━━\u001b[0m \u001b[32m1.2/1.2 MB\u001b[0m \u001b[31m43.2 MB/s\u001b[0m eta \u001b[36m0:00:00\u001b[0m\n",
      "\u001b[2K   \u001b[90m━━━━━━━━━━━━━━━━━━━━━━━━━━━━━━━━━━━━━━━━\u001b[0m \u001b[32m602.1/602.1 kB\u001b[0m \u001b[31m37.3 MB/s\u001b[0m eta \u001b[36m0:00:00\u001b[0m\n",
      "\u001b[2K   \u001b[90m━━━━━━━━━━━━━━━━━━━━━━━━━━━━━━━━━━━━━━━━\u001b[0m \u001b[32m2.4/2.4 MB\u001b[0m \u001b[31m77.5 MB/s\u001b[0m eta \u001b[36m0:00:00\u001b[0m\n",
      "\u001b[2K   \u001b[90m━━━━━━━━━━━━━━━━━━━━━━━━━━━━━━━━━━━━━━━━\u001b[0m \u001b[32m284.2/284.2 kB\u001b[0m \u001b[31m19.7 MB/s\u001b[0m eta \u001b[36m0:00:00\u001b[0m\n",
      "\u001b[2K   \u001b[90m━━━━━━━━━━━━━━━━━━━━━━━━━━━━━━━━━━━━━━━━\u001b[0m \u001b[32m95.2/95.2 kB\u001b[0m \u001b[31m7.7 MB/s\u001b[0m eta \u001b[36m0:00:00\u001b[0m\n",
      "\u001b[2K   \u001b[90m━━━━━━━━━━━━━━━━━━━━━━━━━━━━━━━━━━━━━━━━\u001b[0m \u001b[32m2.0/2.0 MB\u001b[0m \u001b[31m71.7 MB/s\u001b[0m eta \u001b[36m0:00:00\u001b[0m\n",
      "\u001b[2K   \u001b[90m━━━━━━━━━━━━━━━━━━━━━━━━━━━━━━━━━━━━━━━━\u001b[0m \u001b[32m7.7/7.7 MB\u001b[0m \u001b[31m98.3 MB/s\u001b[0m eta \u001b[36m0:00:00\u001b[0m\n",
      "\u001b[2K   \u001b[90m━━━━━━━━━━━━━━━━━━━━━━━━━━━━━━━━━━━━━━━━\u001b[0m \u001b[32m40.8/40.8 kB\u001b[0m \u001b[31m2.4 MB/s\u001b[0m eta \u001b[36m0:00:00\u001b[0m\n",
      "\u001b[2K   \u001b[90m━━━━━━━━━━━━━━━━━━━━━━━━━━━━━━━━━━━━━━━━\u001b[0m \u001b[32m101.6/101.6 kB\u001b[0m \u001b[31m7.8 MB/s\u001b[0m eta \u001b[36m0:00:00\u001b[0m\n",
      "\u001b[2K   \u001b[90m━━━━━━━━━━━━━━━━━━━━━━━━━━━━━━━━━━━━━━━━\u001b[0m \u001b[32m16.4/16.4 MB\u001b[0m \u001b[31m88.7 MB/s\u001b[0m eta \u001b[36m0:00:00\u001b[0m\n",
      "\u001b[2K   \u001b[90m━━━━━━━━━━━━━━━━━━━━━━━━━━━━━━━━━━━━━━━━\u001b[0m \u001b[32m65.8/65.8 kB\u001b[0m \u001b[31m4.8 MB/s\u001b[0m eta \u001b[36m0:00:00\u001b[0m\n",
      "\u001b[2K   \u001b[90m━━━━━━━━━━━━━━━━━━━━━━━━━━━━━━━━━━━━━━━━\u001b[0m \u001b[32m55.9/55.9 kB\u001b[0m \u001b[31m4.2 MB/s\u001b[0m eta \u001b[36m0:00:00\u001b[0m\n",
      "\u001b[2K   \u001b[90m━━━━━━━━━━━━━━━━━━━━━━━━━━━━━━━━━━━━━━━━\u001b[0m \u001b[32m194.9/194.9 kB\u001b[0m \u001b[31m12.2 MB/s\u001b[0m eta \u001b[36m0:00:00\u001b[0m\n",
      "\u001b[2K   \u001b[90m━━━━━━━━━━━━━━━━━━━━━━━━━━━━━━━━━━━━━━━━\u001b[0m \u001b[32m119.0/119.0 kB\u001b[0m \u001b[31m9.2 MB/s\u001b[0m eta \u001b[36m0:00:00\u001b[0m\n",
      "\u001b[2K   \u001b[90m━━━━━━━━━━━━━━━━━━━━━━━━━━━━━━━━━━━━━━━━\u001b[0m \u001b[32m4.5/4.5 MB\u001b[0m \u001b[31m97.1 MB/s\u001b[0m eta \u001b[36m0:00:00\u001b[0m\n",
      "\u001b[2K   \u001b[90m━━━━━━━━━━━━━━━━━━━━━━━━━━━━━━━━━━━━━━━━\u001b[0m \u001b[32m96.7/96.7 kB\u001b[0m \u001b[31m4.3 MB/s\u001b[0m eta \u001b[36m0:00:00\u001b[0m\n",
      "\u001b[2K   \u001b[90m━━━━━━━━━━━━━━━━━━━━━━━━━━━━━━━━━━━━━━━━\u001b[0m \u001b[32m62.5/62.5 kB\u001b[0m \u001b[31m4.4 MB/s\u001b[0m eta \u001b[36m0:00:00\u001b[0m\n",
      "\u001b[2K   \u001b[90m━━━━━━━━━━━━━━━━━━━━━━━━━━━━━━━━━━━━━━━━\u001b[0m \u001b[32m459.8/459.8 kB\u001b[0m \u001b[31m29.9 MB/s\u001b[0m eta \u001b[36m0:00:00\u001b[0m\n",
      "\u001b[2K   \u001b[90m━━━━━━━━━━━━━━━━━━━━━━━━━━━━━━━━━━━━━━━━\u001b[0m \u001b[32m265.9/265.9 kB\u001b[0m \u001b[31m18.1 MB/s\u001b[0m eta \u001b[36m0:00:00\u001b[0m\n",
      "\u001b[2K   \u001b[90m━━━━━━━━━━━━━━━━━━━━━━━━━━━━━━━━━━━━━━━━\u001b[0m \u001b[32m303.4/303.4 kB\u001b[0m \u001b[31m19.1 MB/s\u001b[0m eta \u001b[36m0:00:00\u001b[0m\n",
      "\u001b[2K   \u001b[90m━━━━━━━━━━━━━━━━━━━━━━━━━━━━━━━━━━━━━━━━\u001b[0m \u001b[32m72.0/72.0 kB\u001b[0m \u001b[31m5.1 MB/s\u001b[0m eta \u001b[36m0:00:00\u001b[0m\n",
      "\u001b[2K   \u001b[90m━━━━━━━━━━━━━━━━━━━━━━━━━━━━━━━━━━━━━━━━\u001b[0m \u001b[32m4.0/4.0 MB\u001b[0m \u001b[31m95.1 MB/s\u001b[0m eta \u001b[36m0:00:00\u001b[0m\n",
      "\u001b[2K   \u001b[90m━━━━━━━━━━━━━━━━━━━━━━━━━━━━━━━━━━━━━━━━\u001b[0m \u001b[32m454.8/454.8 kB\u001b[0m \u001b[31m30.6 MB/s\u001b[0m eta \u001b[36m0:00:00\u001b[0m\n",
      "\u001b[2K   \u001b[90m━━━━━━━━━━━━━━━━━━━━━━━━━━━━━━━━━━━━━━━━\u001b[0m \u001b[32m46.0/46.0 kB\u001b[0m \u001b[31m3.0 MB/s\u001b[0m eta \u001b[36m0:00:00\u001b[0m\n",
      "\u001b[2K   \u001b[90m━━━━━━━━━━━━━━━━━━━━━━━━━━━━━━━━━━━━━━━━\u001b[0m \u001b[32m86.8/86.8 kB\u001b[0m \u001b[31m7.4 MB/s\u001b[0m eta \u001b[36m0:00:00\u001b[0m\n",
      "\u001b[2K   \u001b[90m━━━━━━━━━━━━━━━━━━━━━━━━━━━━━━━━━━━━━━━━\u001b[0m \u001b[32m50.9/50.9 kB\u001b[0m \u001b[31m3.5 MB/s\u001b[0m eta \u001b[36m0:00:00\u001b[0m\n",
      "\u001b[2K   \u001b[90m━━━━━━━━━━━━━━━━━━━━━━━━━━━━━━━━━━━━━━━━\u001b[0m \u001b[32m129.3/129.3 kB\u001b[0m \u001b[31m9.7 MB/s\u001b[0m eta \u001b[36m0:00:00\u001b[0m\n",
      "\u001b[?25h  Building wheel for pypika (pyproject.toml) ... \u001b[?25l\u001b[?25hdone\n"
     ]
    }
   ],
   "source": [
    "!pip install -q llama-index==0.12.21 openai==1.59.8 tiktoken==0.8.0 chromadb==0.6.0 llama-index-vector-stores-chroma==0.4.1 llama-index-llms-gemini==0.4.1"
   ]
  },
  {
   "cell_type": "code",
   "execution_count": 2,
   "metadata": {
    "id": "riuXwpSPcvWC"
   },
   "outputs": [],
   "source": [
    "import os\n",
    "\n",
    "# Set the following API Keys in the Python environment. Will be used later.\n",
    "os.environ[\"OPENAI_API_KEY\"] = \"<YOUR_API_KEY>\"\n",
    "os.environ[\"GOOGLE_API_KEY\"] = \"<YOUR_API_KEY>\"\n",
    "\n",
    "# from google.colab import userdata\n",
    "# os.environ[\"OPENAI_API_KEY\"] = userdata.get('openai_api_key')\n",
    "# os.environ[\"GOOGLE_API_KEY\"] = userdata.get('Google_api_key')"
   ]
  },
  {
   "cell_type": "code",
   "execution_count": 3,
   "metadata": {
    "id": "km-KQOrgr3VB"
   },
   "outputs": [],
   "source": [
    "# Allows running asyncio in environments with an existing event loop, like Jupyter notebooks.\n",
    "\n",
    "import nest_asyncio\n",
    "\n",
    "nest_asyncio.apply()"
   ]
  },
  {
   "cell_type": "code",
   "execution_count": 4,
   "metadata": {
    "id": "w4Tt3EvjVFJW"
   },
   "outputs": [],
   "source": [
    "from llama_index.embeddings.openai import OpenAIEmbedding\n",
    "from llama_index.core import Settings\n",
    "\n",
    "Settings.embed_model = OpenAIEmbedding(\n",
    "    model=\"text-embedding-3-small\"\n",
    ")"
   ]
  },
  {
   "cell_type": "markdown",
   "metadata": {
    "id": "0BwVuJXlzHVL"
   },
   "source": [
    "# Create a VectoreStore\n"
   ]
  },
  {
   "cell_type": "code",
   "execution_count": 5,
   "metadata": {
    "id": "SQP87lHczHKc"
   },
   "outputs": [],
   "source": [
    "import chromadb\n",
    "\n",
    "# create client and a new collection\n",
    "# chromadb.EphemeralClient saves data in-memory.\n",
    "chroma_client = chromadb.PersistentClient(path=\"./mini-llama-articles\")\n",
    "chroma_collection = chroma_client.create_collection(\"mini-llama-articles\")"
   ]
  },
  {
   "cell_type": "code",
   "execution_count": 6,
   "metadata": {
    "id": "zAaGcYMJzHAN"
   },
   "outputs": [],
   "source": [
    "from llama_index.vector_stores.chroma import ChromaVectorStore\n",
    "\n",
    "# Define a storage context object using the created vector database.\n",
    "vector_store = ChromaVectorStore(chroma_collection=chroma_collection)"
   ]
  },
  {
   "cell_type": "markdown",
   "metadata": {
    "id": "I9JbAzFcjkpn"
   },
   "source": [
    "# Load the Dataset (CSV)\n"
   ]
  },
  {
   "cell_type": "markdown",
   "metadata": {
    "id": "_Tif8-JoRH68"
   },
   "source": [
    "## Download\n"
   ]
  },
  {
   "cell_type": "markdown",
   "metadata": {
    "id": "4fQaa1LN1mXL"
   },
   "source": [
    "The dataset includes several articles from the TowardsAI blog, which provide an in-depth explanation of the LLaMA2 model.\n"
   ]
  },
  {
   "cell_type": "code",
   "execution_count": 7,
   "metadata": {
    "colab": {
     "base_uri": "https://localhost:8080/"
    },
    "id": "fQtpDvUzKNzI",
    "outputId": "2e23e527-4e08-4bfb-e0ae-82910a5ca4a9"
   },
   "outputs": [
    {
     "name": "stdout",
     "output_type": "stream",
     "text": [
      "  % Total    % Received % Xferd  Average Speed   Time    Time     Time  Current\n",
      "                                 Dload  Upload   Total   Spent    Left  Speed\n",
      "100  169k  100  169k    0     0   394k      0 --:--:-- --:--:-- --:--:--  395k\n"
     ]
    }
   ],
   "source": [
    "!curl -o ./mini-dataset.csv https://raw.githubusercontent.com/AlaFalaki/tutorial_notebooks/main/data/mini-llama-articles.csv"
   ]
  },
  {
   "cell_type": "markdown",
   "metadata": {
    "id": "zk-4alIxROo8"
   },
   "source": [
    "## Load the Articles\n"
   ]
  },
  {
   "cell_type": "code",
   "execution_count": 8,
   "metadata": {
    "colab": {
     "base_uri": "https://localhost:8080/"
    },
    "id": "_WER5lt0N7c5",
    "outputId": "ddc868fa-d3a8-4111-f951-3e43d0aab152"
   },
   "outputs": [
    {
     "data": {
      "text/plain": [
       "14"
      ]
     },
     "execution_count": 8,
     "metadata": {},
     "output_type": "execute_result"
    }
   ],
   "source": [
    "import csv\n",
    "\n",
    "rows = []\n",
    "\n",
    "# Load the file as a JSON\n",
    "with open(\"./mini-dataset.csv\", mode=\"r\", encoding=\"utf-8\") as file:\n",
    "    csv_reader = csv.reader(file)\n",
    "\n",
    "    for idx, row in enumerate(csv_reader):\n",
    "        if idx == 0:\n",
    "            continue\n",
    "            # Skip header row\n",
    "        rows.append(row)\n",
    "\n",
    "# The number of characters in the dataset.\n",
    "len(rows)"
   ]
  },
  {
   "cell_type": "markdown",
   "metadata": {
    "id": "wxEStggPdxYs"
   },
   "source": [
    "# Convert to Document obj\n"
   ]
  },
  {
   "cell_type": "code",
   "execution_count": 9,
   "metadata": {
    "id": "lFvW_886dxKX"
   },
   "outputs": [],
   "source": [
    "from llama_index.core import Document\n",
    "from llama_index.core.schema import TextNode\n",
    "\n",
    "# Convert the chunks to Document objects so the LlamaIndex framework can process them.\n",
    "documents = [\n",
    "    Document(\n",
    "        text=row[1],\n",
    "        metadata={\"title\": row[0], \"url\": row[2], \"source_name\": row[3]},\n",
    "    )\n",
    "    for row in rows\n",
    "]\n",
    "# By default, the node/chunks ids are set to random uuids. To ensure same id's per run, we manually set them.\n",
    "for idx, doc in enumerate(documents):\n",
    "    doc.id_ = f\"doc_{idx}\""
   ]
  },
  {
   "cell_type": "code",
   "execution_count": 10,
   "metadata": {
    "colab": {
     "base_uri": "https://localhost:8080/"
    },
    "collapsed": true,
    "id": "Njoc3XEVkKkf",
    "outputId": "aea3a3a4-5830-48a5-ea19-0d09a6fad2f2"
   },
   "outputs": [
    {
     "data": {
      "text/plain": [
       "Document(id_='doc_0', embedding=None, metadata={'title': \"Beyond GPT-4: What's New?\", 'url': 'https://pub.towardsai.net/beyond-gpt-4-whats-new-cbd61a448eb9#dda8', 'source_name': 'towards_ai'}, excluded_embed_metadata_keys=[], excluded_llm_metadata_keys=[], relationships={}, metadata_template='{key}: {value}', metadata_separator='\\n', text_resource=MediaResource(embeddings=None, data=None, text='LLM Variants and Meta\\'s Open Source Before shedding light on four major trends, I\\'d share the latest Meta\\'s Llama 2 and Code Llama. Meta\\'s Llama 2 represents a sophisticated evolution in LLMs. This suite spans models pretrained and fine-tuned across a parameter spectrum of 7 billion to 70 billion. A specialized derivative, Llama 2-Chat, has been engineered explicitly for dialogue-centric applications. Benchmarking revealed Llama 2\\'s superior performance over most extant open-source chat models. Human-centric evaluations, focusing on safety and utility metrics, positioned Llama 2-Chat as a potential contender against proprietary, closed-source counterparts. The development trajectory of Llama 2 emphasized rigorous fine-tuning methodologies. Meta\\'s transparent delineation of these processes aims to catalyze community-driven advancements in LLMs, underscoring a commitment to collaborative and responsible AI development. Code Llama is built on top of Llama 2 and is available in three models: Code Llama, the foundational code model;Codel Llama - Python specialized for Python;and Code Llama - Instruct, which is fine-tuned for understanding natural language instructions. Based on its benchmark testing, Code Llama outperformed state-of-the-art publicly available LLMs (except GPT-4) on code tasks. Llama 2, Llama 2-Chat, and Code Llama are key steps in LLM development but still have a way to go compared to GPT-4. Meta\\'s open access and commitment to improving these models promise transparent and faster LLM progress in the future. Please refer to the LLM and Llama variants below:  From LLMs to Multimodal LLMs, like OpenAI\\'s ChatGPT (GPT-3.5), primarily focus on understanding and generating human language. They\\'ve been instrumental in tasks like text generation, translation, and even creative writing. However, their scope is limited to text. Enter multimodal models like GPT-4. These are a new breed of AI models that can understand and generate not just text, but also images, sounds, and potentially other types of data. The term \"multimodal\" refers to their ability to process multiple modes or types of data simultaneously. This is a game-changer. Imagine an AI that can not only read a description of a dress but also visualize it or even design it! Multimodal AI models are moving us towards more holistic AI systems. These systems can potentially understand our world in a more comprehensive manner, bridging the gap between different forms of data and providing richer, more integrated solutions. As we stand on the cusp of this new era, it\\'s exciting to envision the myriad of applications and innovations that Multimodal models will bring to the table. The future of AI looks more integrated and versatile than ever before.  From Connections to Vector DB The AI landscape is witnessing a fascinating transition: from Language Model (LLM) connections or integrations, e.g., LangChain and LlamaIndex, to the rise of Vector Databases (Vector DB) such as Weaviate, Milvus, Pinecone, Chroma, and Vespa.ai. But what\\'s driving this shift, and why does it matter? LLM connections, like the LlamaIndex, primarily focus on linking and understanding vast amounts of external data. They\\'ve been pivotal in creating semantic connections, enabling more intuitive search experiences, and enhancing data accessibility. However, as the volume and variety of data grow, the need for more advanced storage and retrieval mechanisms becomes evident. This is where Vector DBs come into play. Unlike traditional databases that store data in rows and columns, Vector DBs store data in high-dimensional space, allowing for more efficient and accurate similarity searches. Tools like Weaviate and Milvus are designed to handle massive datasets, making them ideal for tasks like image recognition, recommendation systems, and more. The rise of Vector DBs represents a broader trend in AI: the quest for more efficient, scalable, and versatile data handling solutions. As we navigate this evolution, it\\'s clear that the combination of LLMs and Vector DBs will redefine how we store, access, and understand data in the AI-driven future.  From Agents to OS The AI realm is abuzz with innovations, and one of the most intriguing shifts we\\'re witnessing is the transition from LLM agents to using LLMs as Operating Systems (OS). Let\\'s delve into this evolution and its implications. LLM agents, like AutoGPT, AgentGPT, BabyAGI, and HuggingGPT, have been groundbreaking in automating tasks based on user requests. These agents leverage the power of Language Models (LLMs) to understand and execute commands, making them invaluable in tasks ranging from content generation to data analysis. Their adaptability and intelligence have made them a staple in many AI toolkits. However, the vision for AI doesn\\'t stop there. The concept of LLM as an OS is emerging as the next big thing. Imagine an operating system where the core is a language model, orchestrating everything around it. Such a system would not just execute tasks but would understand context, anticipate needs, and offer solutions in real time. It\\'s like turning the LLM into the brain of the digital ecosystem, making devices and applications more intuitive and responsive than ever. The move towards LLM as OS signifies a paradigm shift in how we perceive and utilize AI. It\\'s not just about automation anymore; it\\'s about creating a seamless, intelligent interface between humans and technology. As we stand on the brink of this transformation, the potential for LLM-driven OS to revolutionize our digital interactions is immense.  From Fine-tuning to Plugins The world of LLMs is undergoing a transformative shift, moving from intricate fine-tuning processes to the more dynamic realm of plugins. Let\\'s unpack this evolution. Historically, fine-tuning has been the cornerstone of LLM optimization. There are two primary ways to fine-tune LLMs: feeding data into the LLM in real-time and directly fine-tuning on the LLM. From a technical standpoint, this involves three methods: Transfer Learning: Adapting a pre-trained model to new tasks.Sequential Fine-tuning: Refining models in stages for specific tasks.Task-specific Fine-tuning: Tailoring models for a particular function. Moreover, LLM techniques like In-context learning, Few-shot learning, and Zero-shot learning have further enhanced the model\\'s adaptability, allowing them to understand and generate content with minimal data. However, the future of LLMs is leaning towards plugins. With the introduction of tools like GPT-4 Plugins, the focus is on extending LLMs seamlessly. Instead of running LLMs as a service, they\\'re envisioned as platforms. This means integrating LLMs with various tools, enhancing their capabilities, and offering a more modular and scalable approach to AI applications. The journey from fine-tuning to plugins represents a move from static optimization to dynamic adaptability, ensuring that LLMs remain at the forefront of AI innovation.  In a Nutshell The AI domain is witnessing rapid shifts, with LLMs playing a central role. Initially, the move was from LLMs to Multimodal models, expanding from text to include images and sounds. Simultaneously, the trend shifted from LLM connections, which linked external data, to Vector Databases for efficient high-dimensional storage. Another evolution saw LLM agents, which automated tasks, transitioning towards LLMs as Operating Systems. This change aims for more intuitive, context-aware devices and applications. Furthermore, the traditional fine-tuning processes of LLMs are now being replaced by dynamic plugins, turning LLMs into platforms integrated with various tools. Leading this LLM revolution are OpenAI\\'s GPT-4 and Meta\\'s LLaMA2. Their pioneering efforts are setting the stage for an AI future that\\'s more integrated, responsive, and attuned to human interactions.  More Readings Harnessing the Power of LLMs in Practice: A Survey on ChatGPT and Beyond: https://arxiv.org/abs/2304.13712Sparks of Artificial General Intelligence: Early experiments with GPT-4: https://arxiv.org/abs/2303.12712GPT4All-J: https://huggingface.co/nomic-ai/gpt4all-jIntroducing Code Llama, a state-of-the-art large language model for coding: https://ai.meta.com/blog/code-llama-large-language-model-coding/Llama 2: Open Foundation and Fine-Tuned Chat Models: https://ai.meta.com/research/publications/llama-2-open-foundation-and-fine-tuned-chat-models/', path=None, url=None, mimetype=None), image_resource=None, audio_resource=None, video_resource=None, text_template='{metadata_str}\\n\\n{content}')"
      ]
     },
     "execution_count": 10,
     "metadata": {},
     "output_type": "execute_result"
    }
   ],
   "source": [
    "documents[0]"
   ]
  },
  {
   "cell_type": "markdown",
   "metadata": {
    "id": "S17g2RYOjmf2"
   },
   "source": [
    "# Transforming\n"
   ]
  },
  {
   "cell_type": "code",
   "execution_count": 11,
   "metadata": {
    "id": "STACTMUR1z9N"
   },
   "outputs": [],
   "source": [
    "from llama_index.core.node_parser import TokenTextSplitter\n",
    "from llama_index.core.schema import BaseNode\n",
    "import hashlib\n",
    "\n",
    "\n",
    "def deterministic_id_func(i: int, doc: BaseNode) -> str:\n",
    "    \"\"\"Deterministic ID function for the text splitter.\n",
    "    This will be used to generate a unique repeatable identifier for each node.\"\"\"\n",
    "    unique_identifier = doc.id_ + str(i)\n",
    "    hasher = hashlib.sha256()\n",
    "    hasher.update(unique_identifier.encode(\"utf-8\"))\n",
    "    return hasher.hexdigest()\n",
    "\n",
    "\n",
    "text_splitter = TokenTextSplitter(\n",
    "    separator=\" \", chunk_size=512, chunk_overlap=128, id_func=deterministic_id_func\n",
    ")"
   ]
  },
  {
   "cell_type": "code",
   "execution_count": 12,
   "metadata": {
    "colab": {
     "base_uri": "https://localhost:8080/",
     "height": 81,
     "referenced_widgets": [
      "03dc067fc2224d9d9c37ff2acbc4c4f7",
      "f62ad3f143b34a63950745ff318c9180",
      "60c52d23c1884e0b8c6b751eaeacab04",
      "b1e8e912a2284812af65ddc402a672a0",
      "92ed771d8e96417a977e9e00e495daf2",
      "e02deb310b5b4bd8a4992866d0cb8897",
      "30ebcf5f728843c8a1fea7bc0851eeaa",
      "a1f4425c8ce4409f972c8cba124e3567",
      "4cc6af65029842e9946169eaf7f3a5ce",
      "e1f4490e31934c469cf5bf40cb6c672b",
      "fc9c09dbf27c4437a2f6c65dfe6f81cf",
      "1e131605674e4be6b57da86201ec1dd7",
      "0c90dd4ae2064b67bc9662f025c956b2",
      "3022b45aa6fc498c80592d6a16898c04",
      "4cdcc9d9a8cd438ea9acd07a9716d387",
      "86c6990bc40945afac01a783c92454bc",
      "e0610df377e24b8cbe9aee7a2a08c997",
      "a4d7daf8567843e09e5c23797a06dfd1",
      "dc5d8810d3fb493a80bfc89b7885b6a2",
      "2707fef160a94b01995a2342c757539a",
      "33edbe6763e74e16a2eec58b8f059f4c",
      "72d2821e81574816b3a6503af36c0d09"
     ]
    },
    "id": "CtdsIUQ81_hT",
    "outputId": "66afa497-e3db-4610-fca5-3ad7431bf58f"
   },
   "outputs": [
    {
     "data": {
      "application/vnd.jupyter.widget-view+json": {
       "model_id": "03dc067fc2224d9d9c37ff2acbc4c4f7",
       "version_major": 2,
       "version_minor": 0
      },
      "text/plain": [
       "Parsing nodes:   0%|          | 0/14 [00:00<?, ?it/s]"
      ]
     },
     "metadata": {},
     "output_type": "display_data"
    },
    {
     "data": {
      "application/vnd.jupyter.widget-view+json": {
       "model_id": "1e131605674e4be6b57da86201ec1dd7",
       "version_major": 2,
       "version_minor": 0
      },
      "text/plain": [
       "Generating embeddings:   0%|          | 0/108 [00:00<?, ?it/s]"
      ]
     },
     "metadata": {},
     "output_type": "display_data"
    }
   ],
   "source": [
    "from llama_index.embeddings.openai import OpenAIEmbedding\n",
    "from llama_index.core.ingestion import IngestionPipeline\n",
    "\n",
    "pipeline = IngestionPipeline(\n",
    "    transformations=[\n",
    "        text_splitter,\n",
    "        OpenAIEmbedding(model = 'text-embedding-3-small'),\n",
    "    ],\n",
    "    vector_store=vector_store,\n",
    ")\n",
    "\n",
    "nodes = pipeline.run(documents=documents, show_progress=True)"
   ]
  },
  {
   "cell_type": "code",
   "execution_count": 13,
   "metadata": {
    "colab": {
     "base_uri": "https://localhost:8080/"
    },
    "collapsed": true,
    "id": "n5WRy0g71Hwu",
    "outputId": "954e45ea-d989-4ff1-9c54-2e8f4e20132c"
   },
   "outputs": [
    {
     "data": {
      "text/plain": [
       "TextNode(id_='4ab5bd897f01474fc9b0049f95e31edae3ccd9e74d0f0acd3932b50a74d608b6', embedding=[0.004501387011259794, 0.016702160239219666, 0.06159509718418121, -0.016191555187106133, 0.020464513450860977, -0.022466624155640602, 0.006285145413130522, 0.01470005139708519, -0.00011221974273212254, 0.005835006944835186, 0.02749205194413662, -0.04568571597337723, -0.035339247435331345, 0.004262880422174931, -0.0350705087184906, -0.027787666767835617, -0.034049294888973236, -0.04638443887233734, -0.015425648540258408, 0.037677280604839325, 0.013054021634161472, 0.0071753449738025665, -0.034533027559518814, 0.025866178795695305, -0.005089254584163427, -0.02688738889992237, -0.04810437187552452, 0.01758900098502636, -0.017508380115032196, -0.024898715317249298, 0.05267294496297836, -0.025355573743581772, -0.022130699828267097, -0.011730480007827282, -0.024831531569361687, 0.018301161006093025, -0.005119487643241882, -0.010064294561743736, 0.020330144092440605, -0.004430842585861683, -0.03230249136686325, -0.06256256252527237, -0.0021381587721407413, 0.009190891869366169, -0.041117146611213684, 0.0041486662812530994, 0.0030921839643269777, 0.029695715755224228, -0.02047795057296753, 0.03402242437005043, -0.051275499165058136, 0.019698606804013252, 0.012529980391263962, 0.032813094556331635, -0.062455061823129654, -0.004571930970996618, -0.018959572538733482, -0.006647943984717131, 0.002049138769507408, -0.007914378307759762, -0.022560682147741318, 0.0010144916595891118, 0.024629976600408554, 0.008404828608036041, -0.034909263253211975, -0.039155349135398865, -0.08755533397197723, -0.0034835359547287226, -0.012261240743100643, -0.014619429595768452, -0.003261825768277049, 0.008760908618569374, -0.0442882739007473, 0.0028503185603767633, -0.03141564875841141, 0.0025832585524767637, 0.003732119919732213, 0.062401317059993744, 0.02066606841981411, -0.027156127616763115, 0.006167571991682053, 0.023595329374074936, -0.025113707408308983, -0.028002656996250153, -0.00038106422289274633, 0.00533447926864028, -0.021754464134573936, -0.01710527017712593, -0.06057388707995415, -0.03531237319111824, -0.039101600646972656, -0.06481996923685074, -0.04590070992708206, 0.021875396370887756, 0.06723862886428833, 0.01729338802397251, -0.00020816814503632486, 0.0011396234622225165, 0.018717708066105843, 0.06960353255271912, -0.017521817237138748, 0.01697090081870556, -0.0010858755558729172, 0.007054412271827459, 0.06095012277364731, -0.01770993322134018, 0.041681498289108276, -0.02824452333152294, -0.026457404717803, -0.013215266168117523, -0.0978211835026741, 0.0018207102548331022, -0.050657398998737335, -0.011858130805194378, 0.019940471276640892, -0.041305262595415115, 0.028190774843096733, 0.029319481924176216, 0.00044971879106014967, -0.013221983797848225, -0.029615094885230064, 0.023770010098814964, 0.057671498507261276, -0.043025195598602295, 0.027518926188349724, -0.038779113441705704, -0.002124721882864833, -0.015089724212884903, 0.021122926846146584, -0.009889613837003708, -0.018905824050307274, 0.036924809217453, 0.05205484479665756, -0.040391549468040466, -0.03732791915535927, 0.002212062245234847, -0.04286395385861397, -0.02558400109410286, -0.04251459240913391, -0.016634976491332054, -0.0042158509604632854, -0.04095590114593506, -0.03945096209645271, 0.010588336735963821, -0.06863607466220856, -0.02018233761191368, -0.02534213662147522, -0.008848248980939388, -0.0879315733909607, 0.014928479678928852, -0.016594665125012398, -0.002757939277216792, -0.025610875338315964, 0.025610875338315964, -0.04525573551654816, -0.021203547716140747, -0.006873012986034155, 0.03587672486901283, 0.029910707846283913, -0.03842975199222565, -0.007363462820649147, 0.024509044364094734, 0.012160463258624077, 0.006523651536554098, 0.01543908566236496, 0.02983008697628975, -0.00848545040935278, -0.007430647499859333, -0.07083973288536072, -0.053506039083004, 0.04100964963436127, 0.016285615041851997, -0.054769113659858704, -0.01562720350921154, -0.026067733764648438, -0.05670403689146042, -0.020948246121406555, -0.03369993716478348, -0.04643818736076355, -0.02940010279417038, -0.030340692028403282, 0.028378892689943314, -0.05740275979042053, -0.009258076548576355, -0.05579032376408577, -0.032571230083703995, 0.006412796676158905, 0.03230249136686325, -0.008068904280662537, 0.024267178028821945, -0.0066311475820839405, 0.04694879427552223, 0.0854591652750969, 0.053855400532484055, 0.03684418648481369, -0.023487834259867668, 0.04783563315868378, -0.0066580213606357574, 0.02515401877462864, -0.010131480172276497, 0.020934808999300003, 0.03928971663117409, 0.02227850630879402, -0.05928393825888634, -0.007437366060912609, -0.0005920667317695916, 0.030421312898397446, -0.03332370147109032, -0.054769113659858704, -0.017374008893966675, 0.047459397464990616, -0.013215266168117523, 0.04415390267968178, 0.01844896748661995, -0.05401664227247238, -0.03297434002161026, -0.05339854210615158, -4.8656547733116895e-05, -0.015909379348158836, 0.06003640964627266, 0.007746416609734297, 0.023165347054600716, 0.014068514108657837, 0.03270559757947922, -0.030958792194724083, 0.0051329247653484344, 0.007390336599200964, -0.011495333164930344, 0.01869083382189274, 0.00812265183776617, 0.03719354793429375, -0.024710599333047867, -0.023595329374074936, -0.030098825693130493, -0.00318288360722363, -0.0855129137635231, 0.011058631353080273, -0.029615094885230064, 0.02324596792459488, -0.03950471058487892, 0.009567126631736755, -0.008243585005402565, 0.04711003601551056, -0.004464435391128063, -0.013826647773385048, 0.03673669323325157, -0.015385337173938751, -0.058101482689380646, 0.05267294496297836, 0.0146059924736619, 0.014955353923141956, -0.029453851282596588, -0.0005504961009137332, 0.020773565396666527, -0.004739893134683371, 0.0007944611716084182, -0.05138299614191055, 0.01546595897525549, -0.016003437340259552, -0.04100964963436127, -0.007282841019332409, 0.023850632831454277, -0.023608766496181488, 0.012301551178097725, -0.019644858315587044, -0.00141424173489213, -0.03673669323325157, 0.034103043377399445, 0.0009204328525811434, -0.04694879427552223, 0.028271397575736046, -0.008975899778306484, -0.02424030378460884, -0.015170346014201641, -0.025919925421476364, -0.02891637198626995, 0.007894223555922508, 0.007880786433815956, 0.044207651168107986, 0.027156127616763115, -0.026309598237276077, -0.016272177919745445, 0.07863318175077438, 0.022721925750374794, -0.005472208373248577, 0.016460295766592026, -0.0002584518224466592, -0.011985782533884048, -0.014767236076295376, -0.01510316040366888, 0.06127260997891426, -0.007323151919990778, 0.015976564958691597, -0.015586892142891884, 0.007833756506443024, 0.06121886149048805, 0.06503496319055557, 0.032006874680519104, -0.018731145188212395, 0.017011212185025215, 0.003266864689067006, -0.010924261063337326, -0.022587556391954422, -0.04692192003130913, 0.013269013725221157, 0.04014968499541283, -0.010044139809906483, -0.036252960562705994, 0.017763681709766388, -0.013356354087591171, 0.00993664376437664, 0.002917503472417593, 0.000428093655500561, -0.01882520318031311, -0.014202883467078209, -0.024065623059868813, -0.00011767851538024843, -0.013759463094174862, 0.020437641069293022, -0.01715901866555214, -0.009217765182256699, -0.0007117398199625313, 0.009768681600689888, 0.007800164632499218, -0.04342830553650856, 0.012583727948367596, -0.02133791707456112, -0.009096832945942879, 0.0020575369708240032, -0.014780673198401928, 0.01617811806499958, -0.0015612086281180382, -0.01920143887400627, 0.026376783847808838, -0.01901332102715969, 0.022130699828267097, -0.027397993952035904, 0.047943130135536194, 0.027653295546770096, 0.021620094776153564, -0.06041264161467552, -0.00904308445751667, -0.026658959686756134, 0.03980032354593277, -0.01593625359237194, 0.015035975724458694, -0.0010497637558728456, 0.030421312898397446, 0.030958792194724083, -0.0004900296917185187, 0.017683060839772224, -0.05439287796616554, 0.04117089509963989, -0.01580188423395157, 0.010830202139914036, -0.0003504111373331398, -0.0033340496011078358, -0.0009237920749001205, 0.013551190495491028, 0.011670013889670372, -0.016325926408171654, 0.008653412573039532, -0.002994765993207693, 0.019483614712953568, 0.00965446699410677, -0.00821671076118946, -0.005804773420095444, -0.028808876872062683, 0.01381321158260107, -0.03980032354593277, 0.006429593078792095, -0.019698606804013252, 0.0020256240386515856, 0.0026050936430692673, -0.052565447986125946, 0.00028343620942905545, -9.568596578901634e-05, 0.012529980391263962, -0.04372391849756241, 0.060251399874687195, -0.0017552049830555916, 0.005263935308903456, 0.016702160239219666, -0.002638686215505004, -0.025127144530415535, 0.0565965436398983, 0.015761572867631912, -0.02750548906624317, -0.04162774980068207, 0.009352135471999645, 0.013645248487591743, -0.0032903794199228287, -0.019537363201379776, 0.01374602597206831, 0.011051912792026997, -0.00022254990471992642, -0.0020357018802314997, -0.004682786297053099, 0.035043634474277496, 0.05111425742506981, 0.004880981519818306, -0.004484590608626604, -0.009929925203323364, -0.026618648320436478, -0.036817312240600586, 0.0041621034033596516, 0.020625757053494453, 0.048561230301856995, 0.015277841128408909, 0.017427757382392883, 0.04842685908079147, -0.0325981043279171, 0.01402820274233818, -0.03297434002161026, 0.015775009989738464, -0.019846413284540176, 0.0038060233928263187, 0.009022929705679417, 0.049179330468177795, 0.06627116352319717, 0.009580563753843307, -0.007296277675777674, -0.009486504830420017, -0.03246373310685158, -0.01187156792730093, 0.03464052453637123, 0.01611093431711197, -0.032517481595277786, -0.009143861941993237, -0.05541408807039261, -0.07739698141813278, 0.03184563294053078, 0.04762064293026924, -0.05955267697572708, -0.043831415474414825, -0.019483614712953568, -0.025328699499368668, 0.04232647269964218, -0.020316706970334053, -0.002942697610706091, 0.005740948021411896, 0.013316042721271515, -0.041197769343853, -0.023528143763542175, -0.03450615331530571, -0.005556189455091953, -0.01992703601717949, -0.007054412271827459, -0.010480840690433979, -0.03654857352375984, -0.015949690714478493, -0.016151245683431625, 0.07707449048757553, 0.016715597361326218, -0.0325981043279171, -0.050039298832416534, 0.053291045129299164, -0.053479164838790894, 0.05901519954204559, -0.017562126740813255, 0.049179330468177795, -0.009916488081216812, -0.030797548592090607, -0.009755244478583336, -0.0027814540080726147, -0.013826647773385048, 0.024267178028821945, -0.002326276386156678, 0.028271397575736046, -0.018771454691886902, 0.012066404335200787, 0.0004803718766197562, -0.02910448983311653, -0.027169564738869667, -0.012832311913371086, -0.006836061365902424, 0.019712043926119804, -0.036817312240600586, 0.003738838480785489, 0.0002960333658847958, 0.010044139809906483, -0.008539197966456413, 0.01956423744559288, 0.023487834259867668, -0.02621554024517536, 0.08664161711931229, -0.01457911916077137, 0.018623648211359978, 0.02200976572930813, 0.00627170829102397, -0.03799976781010628, -0.01643342152237892, 0.01569438725709915, -0.015506270341575146, 0.018287723883986473, -0.015425648540258408, -0.011885005049407482, -0.061971332877874374, -0.036011096090078354, -0.01961798407137394, -0.005337838549166918, -0.04281020537018776, -0.05444662645459175, 0.015976564958691597, 0.0013201829278841615, -0.0004837311280425638, 0.026645522564649582, -0.007954689674079418, 0.028593884781003, 0.02700832113623619, -0.023326590657234192, -0.005962658207863569, 0.006332174874842167, 0.011891723610460758, 0.016930589452385902, -0.0025345494505017996, -0.008021874353289604, 0.03125440701842308, -0.004655912052839994, 0.010333034209907055, 0.02233225293457508, 8.713039278518409e-05, 0.002166712423786521, -0.0060835909098386765, -0.0030048436019569635, -0.021499160677194595, -0.025019649416208267, -0.006506855599582195, -0.030797548592090607, -0.009284949861466885, 0.02824452333152294, -0.016688723117113113, -0.020773565396666527, -0.03310870751738548, -0.06847482919692993, -0.020760128274559975, 0.002949416171759367, -0.03574235737323761, -0.033673062920570374, -0.04238022118806839, 0.014941916801035404, 0.025637749582529068, 0.042165230959653854, 0.033054959028959274, -0.0034079530742019415, 0.007766571827232838, -0.02037045545876026, -0.0013949261046946049, -0.0038093826733529568, 0.04248771816492081, 0.08836155384778976, -0.04401953145861626, 0.017978673800826073, -0.01827428676187992, -0.0026538027450442314, -0.013067458756268024, 0.009587282314896584, 0.00017919467063620687, 0.0013940862845629454, 0.043885163962841034, 0.03493613749742508, -0.0041251517832279205, 0.013188391923904419, -0.0031291358172893524, -0.011891723610460758, 0.003950471058487892, -0.0003619585477281362, 0.04434201866388321, 0.010171790607273579, -0.003270223969593644, -0.013054021634161472, 0.01279200054705143, 0.03141564875841141, -0.016137808561325073, -0.01457911916077137, -0.01660810224711895, 0.02540932036936283, 0.01672903448343277, 0.013295887969434261, -0.018865514546632767, -0.03455990180373192, -0.008492168970406055, -0.028432641178369522, -0.011280341073870659, -0.027290496975183487, 0.007605328224599361, -0.016070622950792313, 0.03039443865418434, -0.031281281262636185, 0.03888660669326782, 0.03695168346166611, -0.0132287023589015, -0.019523926079273224, -0.03050193563103676, -0.0002387162676313892, 0.007712824270129204, 0.020625757053494453, -0.03840287774801254, -0.04289082810282707, -0.01057489961385727, 0.018596773967146873, 0.006181008648127317, -0.029856959357857704, -0.010769736021757126, -0.05417788773775101, 0.013396664522588253, -0.002000429667532444, 0.002830163110047579, -0.015882505103945732, -0.007558298762887716, -0.005730870179831982, 0.007672513369470835, -0.01079661026597023, -0.07648326456546783, -0.0276801697909832, -0.020316706970334053, -0.029426977038383484, -0.025543691590428352, 0.047029417008161545, -0.01636623591184616, -0.0019046913366764784, 0.006513574160635471, -0.013665404170751572, -0.04509449005126953, 0.021324479952454567, 0.0006567321834154427, -0.024764345958828926, -0.01624530367553234, -0.027653295546770096, 0.026726145297288895, -0.003708605421707034, -0.0061541348695755005, 0.04066028818488121, 0.013450413011014462, 0.005478926934301853, -0.002430412918329239, 0.02381032146513462, 0.0036850906908512115, 0.013866959139704704, -0.02362220361828804, 0.021566346287727356, 0.026242414489388466, -0.015640640631318092, -0.05240420624613762, -0.010850357823073864, -0.03388805314898491, -0.002516073640435934, -0.03007195144891739, 0.0013436975423246622, -0.01126018539071083, -0.009069958701729774, -0.04928682744503021, 0.0034045937936753035, 0.009298386983573437, 0.032383110374212265, -0.008895277976989746, 0.022923480719327927, -0.034049294888973236, -0.011387837119400501, 0.019389556720852852, -0.052511703222990036, -0.015183782204985619, -0.029265733435750008, -0.00019599088409449905, -0.02750548906624317, 0.017803993076086044, -0.0013017070014029741, 0.02797578275203705, -0.021069178357720375, 0.0075851730071008205, -0.038913480937480927, -0.0012328425655141473, 0.018973009660840034, -0.011898442171514034, 0.03587672486901283, 0.010561463423073292, -0.0035876724869012833, -0.047943130135536194, 0.0012681145453825593, 0.009264795109629631, -0.011078786104917526, 0.030045077204704285, -0.07540830969810486, 0.004279676824808121, 0.0020306629594415426, 0.013961018063127995, 0.02393125370144844, 0.008566072210669518, 0.011602828279137611, -0.021055741235613823, -0.019040195271372795, -0.025785556063055992, -0.00919760949909687, -0.01205968577414751, 0.009022929705679417, 0.011649858206510544, -0.03727417066693306, 0.057617753744125366, -0.018368346616625786, -0.03590359911322594, -0.02188883349299431, 0.002640365855768323, -0.01362509373575449, 0.0013252217322587967, -0.008841530419886112, -0.02338033728301525, -0.010964572429656982, 0.03719354793429375, 0.011193000711500645, -0.016823094338178635, -0.0375160351395607, -0.03050193563103676, 0.01796523667871952, 0.015855630859732628, -0.014834421686828136, -0.004578649532049894, 0.0042259288020431995, -0.023393774405121803, 0.013020429760217667, -0.027397993952035904, -0.0492062047123909, -0.0036380612291395664, -0.019913598895072937, 0.014673177152872086, -0.009889613837003708, -0.00934541691094637, -0.02262786775827408, 0.012314988300204277, -0.04270270839333534, 0.034963011741638184, 0.02718300186097622, 0.017803993076086044, 0.025745246559381485, -0.031765010207891464, -0.03254435583949089, -0.004844029899686575, -0.024952463805675507, -0.026793329045176506, -0.026712708175182343, -0.0036313426680862904, 0.020813874900341034, 0.008317488245666027, -0.026591775938868523, -0.021808212623000145, 0.015331589616835117, -0.01095113530755043, 0.022923480719327927, 0.014753799885511398, 0.027948910370469093, -0.0030199603643268347, -0.04267583414912224, 0.011784227564930916, 0.007766571827232838, 0.008310769684612751, -0.01641998440027237, -0.005767821799963713, -0.004501387011259794, -0.005059021525084972, -0.019900161772966385, 0.006348971277475357, 0.02356845512986183, 0.029373228549957275, 0.02300410345196724, 0.01624530367553234, -0.0029342996422201395, -0.023649077862501144, 0.00014812166045885533, 0.010850357823073864, 0.013665404170751572, -0.008619819767773151, -0.015425648540258408, -0.03337744623422623, 0.014095387421548367, 0.0023061209358274937, 0.024455295875668526, -0.02510027028620243, 0.03590359911322594, 0.004880981519818306, 0.019214875996112823, 0.017454631626605988, -0.021620094776153564, -0.013376509770751, -0.0027277059853076935, -0.019241750240325928, 0.003614546498283744, -0.016191555187106133, -0.04501386731863022, -0.011186282150447369, -0.002474083099514246, 0.0007062810473144054, -0.02171415276825428, -0.0007449123659171164, -0.009224483743309975, 0.012429202906787395, -0.003987422678619623, 0.05675778537988663, 0.021633531898260117, -0.1094844788312912, -0.020142026245594025, 0.020074842497706413, 0.01998078264296055, 0.018489278852939606, 0.023756572976708412, 0.049233078956604004, 0.04904496297240257, 0.0004900296917185187, -0.03402242437005043, 0.019470177590847015, -0.04901808872818947, 0.02226506918668747, 1.3220462278695777e-05, -0.009036365896463394, -0.06283129751682281, -0.026175228878855705, -0.016863403841853142, 0.031093161553144455, -0.018543027341365814, -0.02047795057296753, -0.0003363442956469953, 0.028137028217315674, 0.00739705516025424, -0.01987328752875328, -0.020840749144554138, 0.005253857467323542, 0.028647633269429207, -0.005011992063373327, 0.010655521415174007, -0.024374675005674362, 0.004850748460739851, 0.006325456313788891, 0.04713691025972366, -0.030743800103664398, -0.015089724212884903, -0.010648803785443306, -0.019819539040327072, 0.01667528785765171, -0.0009691418963484466, 0.014646303839981556, -0.043159566819667816, 0.02281598560512066, 0.007759853731840849, -0.008720597252249718, -0.024441858753561974, 0.029077615588903427, 0.010064294561743736, -0.02786828763782978, -0.010588336735963821, -0.024522481486201286, -0.000610542600043118, 0.01205968577414751, -0.0015864029992371798, -0.0005504961009137332, 0.006281786132603884, -0.018650522455573082, 0.002526151482015848, 0.04170837253332138, 0.011575954966247082, -0.02110948972404003, 0.02227850630879402, -0.03485551476478577, 0.0057207923382520676, -0.03020632080733776, 0.0017686419887468219, -0.0022708489559590816, 0.02281598560512066, -0.029856959357857704, -0.03069005347788334, -0.02699488401412964, 0.04385828971862793, 0.028889497742056847, 0.029668843373656273, -0.001103511662222445, -0.011730480007827282, 0.019093941897153854, 0.07293590158224106, -0.014847857877612114, -0.01035990845412016, 0.005277372431010008, -0.036629196256399155, -0.006567321717739105, -0.007450803183019161, 0.0018005548045039177, -0.002717628376558423, 0.037435416132211685, -0.009486504830420017, -0.0021751103922724724, 0.007155189756304026, 0.029722589999437332, -0.017427757382392883, 0.019389556720852852, 0.014337252825498581, -0.022372564300894737, -0.0031576892361044884, -0.019550800323486328, 0.013040585443377495, 0.020881060510873795, -0.018099606037139893, 0.04036467522382736, 0.016688723117113113, -0.06653990596532822, -0.04326706379652023, 0.013430257327854633, 0.0076120467856526375, 0.01510316040366888, 0.030233195051550865, 0.02510027028620243, -0.02123042196035385, 0.03563486039638519, -0.005468849092721939, 0.011347525753080845, 0.021620094776153564, -0.0035272061359137297, 0.022654742002487183, 0.059391431510448456, -0.0034096327144652605, 0.01875801756978035, 0.005861880723387003, 0.021270733326673508, -0.007961408235132694, -0.04117089509963989, -0.00016586267156526446, -0.01740088313817978, 0.0014814265305176377, 0.009674622677266598, 0.05713402107357979, 0.026242414489388466, -0.027599548920989037, -0.03402242437005043, -0.012892778031527996, -0.023850632831454277, 0.013786337338387966, -0.024616539478302002, -0.013060740195214748, 0.016594665125012398, 0.016702160239219666, -0.030609430745244026, 0.020209211856126785, 0.02688738889992237, 0.00431998772546649, 0.04294457286596298, -0.0066647399216890335, 0.009103551506996155, -0.0032450295984745026, -0.020451076328754425, -0.012677786871790886, -0.03501676023006439, -0.015761572867631912, 0.04401953145861626, -0.03125440701842308, 0.0026554823853075504, 0.0252212043851614, 0.007054412271827459, -0.0018139916937798262, 0.0024522480089217424, -0.02233225293457508, -0.0034079530742019415, 0.0052001094445586205, 0.025812430307269096, 0.02312503568828106, 0.013174954801797867, -0.01834147237241268, -0.006301941815763712, -0.029856959357857704, -0.0006710089510306716, 0.006322097033262253, -0.00787406787276268, 0.04821186885237694, -0.021122926846146584, -0.003033397253602743, 0.057617753744125366, 0.00048625055933371186, 0.03144252300262451, 0.022856295108795166, 0.020692942664027214, 0.006684895604848862, 0.01760243810713291, 0.02977633848786354, 0.0061507755890488625, 0.026175228878855705, -0.04138588532805443, 0.05181298032402992, 0.018005548045039177, -0.005267294589430094, 0.025879615917801857, -0.005603218916803598, -0.0033626032527536154, 0.02307128719985485, -0.0012605562806129456, 0.01624530367553234, 0.017736807465553284, 0.034909263253211975, -0.01029944233596325, -0.046895045787096024, 0.04318644106388092, 0.020572010427713394, -0.05345229059457779, -0.029480725526809692, -0.025489943102002144, 0.0664324089884758, -0.012684505432844162, 0.005042225122451782, -0.024925589561462402, -0.005737588740885258, -0.033243078738451004, 0.00682598352432251, -0.02878200262784958, 0.01479411032050848, 0.01698433794081211, 0.006547166500240564, -0.03313558176159859, -0.008666849695146084, -0.03646795079112053, -0.02656490169465542, -0.009002774022519588, 0.04557822272181511, 0.008431701920926571, -0.025355573743581772, -0.02202320285141468, 0.012724815867841244, -0.023702824488282204, 0.0126106021925807, -0.032517481595277786, 0.01263747550547123, -0.002277567284181714, -0.0034868952352553606, -0.005898832343518734, 0.008250303566455841, 0.005918988026678562, 0.0052068280056118965, 0.03550048917531967, 0.0076859500259160995, -0.019040195271372795, -0.03703230619430542, -0.010084450244903564, 0.00031975802266970277, 0.0012706340057775378, 0.005153080448508263, 0.03353869169950485, 0.018005548045039177, 0.011932034976780415, -0.01479411032050848, -0.005633451975882053, 0.008283895440399647, 0.030770674347877502, -0.008928870782256126, -0.03351181745529175, -0.02805640548467636, 0.02367595210671425, 0.002512714359909296, 0.010386782698333263, -0.007524706423282623, 0.02816390059888363, -0.029077615588903427, 0.022493498399853706, 0.032329365611076355, 0.03141564875841141, 0.0003180784115102142, -0.03523175045847893, 0.01826084963977337, 0.005925706122070551, -0.006926761008799076, -0.01175063569098711, -0.009385727345943451, -0.002668919274583459, 0.013127925805747509, 0.04418077692389488, 0.008895277976989746, 0.005848443601280451, 0.05033491179347038, 0.007061130832880735, 0.04466450586915016, 0.002084410982206464, -0.004101636819541454, 0.015707824379205704, -0.011938752606511116, 0.012644194066524506, 0.028513262048363686, -0.01875801756978035, -0.008102496154606342, -0.012180618941783905, -0.0018962932517752051, 0.010729425586760044, -0.007376899942755699, -0.025879615917801857, 0.024253740906715393, 0.0356886088848114, -0.01171704288572073, -0.00478020403534174, 0.04109027236700058, 0.014498497359454632, 0.00228428584523499, -0.004783563315868378, 0.004880981519818306, 0.018865514546632767, -6.760478572687134e-05, 0.01374602597206831, -0.03536612167954445, 0.02153947204351425, 0.024280615150928497, 0.016204992309212685, -0.036629196256399155, 0.007605328224599361, 0.021015429869294167, 0.0032534277997910976, -0.042917702347040176, 0.02362220361828804, -0.0017552049830555916, -0.018677396699786186, 0.02164696715772152, 0.011085504665970802, -0.005542752332985401, 0.027545800432562828, -0.020451076328754425, -0.03961220383644104, -0.028593884781003, 0.018596773967146873, -0.023326590657234192, 0.010863794945180416, 0.0023800244089215994, -0.0016577868955209851, 0.014041639864444733, -0.005915628746151924, 0.00987617764621973, 0.028808876872062683, -0.005468849092721939, 0.015412211418151855, 0.00873403437435627, 0.0522698350250721, -0.010863794945180416, -0.00506238080561161, 0.006204523611813784, -0.03746229037642479, -0.013510879129171371, -0.016863403841853142, 0.002165032783523202, -0.01599000208079815, -0.030045077204704285, 0.020773565396666527, 0.0326249785721302, -0.003152650548145175, -0.005489004775881767, -0.0025698216632008553, -0.010595055297017097, -0.028996994718909264, -0.01510316040366888, 0.025180893018841743, -0.003967266995459795, 0.060627635568380356, -0.000285115820588544, -0.015318152494728565, -0.007699387148022652, -0.033995550125837326, 0.05541408807039261, -0.018838640302419662, 0.012415765784680843, -0.023541580885648727, 0.011925316415727139, -0.008297332562506199, -0.009607437998056412, 0.007195500656962395, 0.008404828608036041, 0.016514042392373085, -0.0172127652913332, -0.029615094885230064, -0.0031660874374210835, 0.028083279728889465, 0.005153080448508263, 0.005865240003913641, 0.014807547442615032, 0.010017265565693378, -0.013450413011014462, 0.011226593516767025, -0.007538143545389175, -0.003507050685584545, 0.023084724321961403, 0.013759463094174862, 0.022184446454048157, 0.004353580065071583, -0.004995195660740137, -0.034667398780584335, 0.019416430965065956, -0.008928870782256126, 0.010541307739913464, 0.002242295304313302, 0.008021874353289604, -6.770976324332878e-05, -0.030045077204704285, 0.03722042217850685, -0.002012187149375677, 0.0031744856387376785, -0.016097497195005417, 0.0026454045437276363, -0.009305105544626713, -0.010144916363060474, -0.021996328607201576, -0.021579783409833908, -0.009116987697780132, -0.0008901996188797057, -0.02829827181994915, 0.013094333000481129, 0.005213546566665173, 0.029292607679963112, -0.01393414381891489, -0.0029779698234051466, 0.02381032146513462, -0.011072068475186825, 0.0016359518049284816, -0.05189359933137894, 0.03412991762161255, -0.042541466653347015, 0.0146059924736619, -0.03584985062479973, -0.036763567477464676, 0.0051362840458750725, -0.017427757382392883, -0.009284949861466885, 0.018986446782946587, 0.01257700938731432, 0.010581618174910545, -0.006772235967218876, 0.006490059196949005, -0.024253740906715393, 0.013336198404431343, -0.012409047223627567, 0.018556464463472366, -0.003108980366960168, 0.06078887730836868, 0.005972735583782196, 0.012314988300204277, -0.008230147883296013, -0.00575102586299181, 0.003967266995459795, 0.011481896042823792, 0.0011093902867287397, -0.025785556063055992, -0.009486504830420017, 0.023219093680381775, 0.010319597087800503, 0.007833756506443024, 0.035097379237413406, 0.04823874309659004, 0.003980704117566347, -0.0051430026069283485, -0.02362220361828804, 0.01727995090186596, 0.02422686666250229, 0.026981446892023087, 0.004037811420857906, -0.0038799268659204245, -0.043589551001787186, 0.020625757053494453, -0.027760792523622513, -0.021391665562987328, -0.03192625567317009, 0.014431311748921871, 0.011455021798610687, -0.002751220716163516, -0.008001718670129776, 0.0034902545157819986, 0.016823094338178635, -0.002082731341943145, 0.010232256725430489, 0.02200976572930813, 0.004991836380213499, 0.0051060509867966175, -0.017024647444486618, -0.018784891813993454, 0.03069005347788334, 0.020881060510873795, 0.03789227083325386, 0.023326590657234192, -0.03130815178155899, 0.01057489961385727, -0.012603883631527424, -0.026403658092021942, 0.009768681600689888, -0.011038475669920444, -0.04525573551654816, 0.022439749911427498, 0.024522481486201286, -0.017871178686618805, 0.018905824050307274, 0.021190110594034195, 0.008035311475396156, -0.03904785215854645, -0.00058072927640751, 0.04633069410920143, 0.02910448983311653, 0.034533027559518814, 0.016890278086066246, -0.0011765751987695694, 0.018099606037139893, -0.01643342152237892, 0.010413656011223793, -0.011475177481770515, -0.0027814540080726147, -0.00790766067802906, -0.008176399394869804, 0.0031644077971577644, 0.03378055617213249, 0.009775400161743164, -0.019402993842959404, -0.017629312351346016, -0.03894035518169403, -0.04289082810282707, -0.0024136167485266924, -0.004326706286519766, 0.015855630859732628, -0.01869083382189274, -0.02024952322244644, 0.013510879129171371, 0.026847077533602715, -0.0031694467179477215, -0.009399164468050003, 0.031523145735263824, -0.015224093571305275, -0.020961681380867958, 0.0027713761664927006, -0.01980610191822052, -0.0013915668241679668, 0.033619314432144165, -0.019483614712953568, -0.04525573551654816, -0.006940198130905628, 0.017629312351346016, -0.009211046621203423, -0.017884613946080208, 0.00993664376437664, -0.01029944233596325, 0.025866178795695305, -0.02324596792459488, -0.0076187653467059135, -0.022103825584053993, 0.028432641178369522, -0.008996055461466312, -0.010050857439637184, -0.004756689537316561, 0.004380454309284687, -0.025355573743581772, -0.04205773398280144, -0.004309909883886576, -0.0028822312597185373, 0.018287723883986473, 0.025073396041989326, 0.023729698732495308, 0.038537245243787766, 0.011394555680453777, -0.0035372839774936438, -0.01599000208079815, -0.013698996976017952, -0.009459630586206913, -0.025113707408308983, 0.032947465777397156, 0.01498222816735506, -0.00027944709290750325, -0.011481896042823792, 0.027653295546770096, 0.00771954283118248, -0.016715597361326218, -0.0010506035760045052, 0.015976564958691597, 0.020867623388767242, -0.02497933804988861, -0.007336588576436043, 0.007477676961570978, -0.012529980391263962, -0.02442842163145542, -0.002559743821620941, 0.00019420629541855305, 0.008707160130143166, -0.011495333164930344, -0.0002574020763859153, -0.017427757382392883, 0.020840749144554138, -0.017481505870819092, 0.028808876872062683, 0.021176673471927643, 0.012906215153634548, -0.017320262268185616, 0.011542362160980701, 0.03544674068689346, -0.0022574118338525295, 0.017562126740813255, 0.02381032146513462, -0.02424030378460884, -4.91026985400822e-05, 0.003963907714933157, -0.008398110046982765, 0.03168438747525215, 0.012993555516004562, 0.020021094009280205, -0.026282723993062973, 0.04525573551654816, 0.006258271634578705, -0.0142969423905015, -0.028405766934156418, -0.005898832343518734, 0.04361642524600029, 0.012019374407827854, 0.00990305095911026, -0.04743252322077751, 0.0009447873453609645, -0.031200658529996872, -0.0020726535003632307, 0.008109214715659618, -0.005441975314170122, 0.018623648211359978, -0.02226506918668747, -0.015398774296045303, 0.001022889744490385, -0.02047795057296753, -0.0006861255969852209, 0.0584239698946476, -0.032006874680519104, 0.002793211257085204, -0.02565118670463562, 0.013000274077057838, -0.0019130894215777516, -0.002386742737144232, 0.012939807958900928, -0.007088004611432552, -0.023340027779340744, -0.005059021525084972, -0.006873012986034155, 0.0065572443418204784, 0.003026678692549467, -0.025866178795695305, 0.011542362160980701, -0.00512284692376852, -0.030716925859451294, -0.017924925312399864, 0.00011022519174730405, -0.024764345958828926, -0.012603883631527424, -0.01930893398821354, 0.010050857439637184, 0.006426233798265457, -0.014095387421548367, -0.0022708489559590816, 0.02023608610033989, -0.018663959577679634, -0.010709269903600216, 0.030233195051550865, -0.008095777593553066, -0.004716378636658192, -0.0375160351395607, 0.030905043706297874, -0.002018905710428953, -0.0031123394146561623, 0.01889238879084587, 0.03351181745529175, 0.021136362105607986, 0.028083279728889465, -0.017064958810806274, 0.022291943430900574, -0.013712434098124504, 0.013961018063127995, 0.0252212043851614, 0.004289754666388035, -0.017736807465553284, 0.0026084529235959053, 0.0001830787950893864, -0.004420765209943056, 0.016393110156059265, 0.01267106831073761, 0.0031224172562360764, -0.012254522182047367, -0.010810047388076782, 0.0212169848382473, 0.005425178911536932, 0.005858521442860365, 0.022359127178788185, -0.011878286488354206, -0.010138197802007198, -0.0010883950162678957, 0.012630756944417953, 0.011354244314134121, 0.01470005139708519, 0.0009103551274165511, 0.014350689947605133, -0.0013781298184767365, -0.0035272061359137297, 0.009022929705679417, -0.025624312460422516, 0.01920143887400627, 0.020800437778234482, -0.023904379457235336, -0.0657874345779419, -0.01734713651239872, -0.014404438436031342, -0.005048943683505058, -0.017132144421339035, 0.026658959686756134, -0.016097497195005417, -0.00929166842252016, -0.02325940504670143, -0.0025345494505017996, 0.0067016915418207645, 0.03536612167954445, 0.011455021798610687, -0.008525760844349861, -0.021485723555088043, 0.023958127945661545, 0.012845749035477638, -0.028567010536789894, -0.012321706861257553, -0.012335143983364105, -0.032759346067905426, -0.023595329374074936, 0.012052967213094234, 0.034963011741638184, 0.011824538931250572, 0.030179448425769806, -0.03087817132472992, -0.013416820205748081, 0.028835749253630638, 0.015761572867631912, -0.01870427094399929, 0.005287449806928635, 0.023662514984607697, 0.018233975395560265, 0.0001436076854588464, 0.003411312121897936, -0.01534502673894167, -0.022036639973521233, 0.003614546498283744, -0.011703605763614178, 0.02953447215259075, -0.0005920667317695916, -0.00527401315048337, -0.013416820205748081, -0.007370181381702423, 0.013974455185234547, -0.01150205172598362, -0.011233312077820301, 0.028593884781003], metadata={'title': \"Beyond GPT-4: What's New?\", 'url': 'https://pub.towardsai.net/beyond-gpt-4-whats-new-cbd61a448eb9#dda8', 'source_name': 'towards_ai'}, excluded_embed_metadata_keys=[], excluded_llm_metadata_keys=[], relationships={<NodeRelationship.SOURCE: '1'>: RelatedNodeInfo(node_id='doc_0', node_type=<ObjectType.DOCUMENT: '4'>, metadata={'title': \"Beyond GPT-4: What's New?\", 'url': 'https://pub.towardsai.net/beyond-gpt-4-whats-new-cbd61a448eb9#dda8', 'source_name': 'towards_ai'}, hash='892462426965dc17b5696971312d7c92c96d62822273fda587edbd562d24e074'), <NodeRelationship.NEXT: '3'>: RelatedNodeInfo(node_id='e470fa0d001e50b3ec3088022462a94ea7c87dd80106411b7d120f90b379e977', node_type=<ObjectType.TEXT: '1'>, metadata={}, hash='71418de3d50e604c2581574f1abf2248e5cc3ab7c74a3182c37cb1152d0cfd21')}, metadata_template='{key}: {value}', metadata_separator='\\n', text='LLM Variants and Meta\\'s Open Source Before shedding light on four major trends, I\\'d share the latest Meta\\'s Llama 2 and Code Llama. Meta\\'s Llama 2 represents a sophisticated evolution in LLMs. This suite spans models pretrained and fine-tuned across a parameter spectrum of 7 billion to 70 billion. A specialized derivative, Llama 2-Chat, has been engineered explicitly for dialogue-centric applications. Benchmarking revealed Llama 2\\'s superior performance over most extant open-source chat models. Human-centric evaluations, focusing on safety and utility metrics, positioned Llama 2-Chat as a potential contender against proprietary, closed-source counterparts. The development trajectory of Llama 2 emphasized rigorous fine-tuning methodologies. Meta\\'s transparent delineation of these processes aims to catalyze community-driven advancements in LLMs, underscoring a commitment to collaborative and responsible AI development. Code Llama is built on top of Llama 2 and is available in three models: Code Llama, the foundational code model;Codel Llama - Python specialized for Python;and Code Llama - Instruct, which is fine-tuned for understanding natural language instructions. Based on its benchmark testing, Code Llama outperformed state-of-the-art publicly available LLMs (except GPT-4) on code tasks. Llama 2, Llama 2-Chat, and Code Llama are key steps in LLM development but still have a way to go compared to GPT-4. Meta\\'s open access and commitment to improving these models promise transparent and faster LLM progress in the future. Please refer to the LLM and Llama variants below:  From LLMs to Multimodal LLMs, like OpenAI\\'s ChatGPT (GPT-3.5), primarily focus on understanding and generating human language. They\\'ve been instrumental in tasks like text generation, translation, and even creative writing. However, their scope is limited to text. Enter multimodal models like GPT-4. These are a new breed of AI models that can understand and generate not just text, but also images, sounds, and potentially other types of data. The term \"multimodal\" refers to their ability to process multiple modes or', mimetype='text/plain', start_char_idx=0, end_char_idx=2117, metadata_seperator='\\n', text_template='{metadata_str}\\n\\n{content}')"
      ]
     },
     "execution_count": 13,
     "metadata": {},
     "output_type": "execute_result"
    }
   ],
   "source": [
    "nodes[0]"
   ]
  },
  {
   "cell_type": "markdown",
   "metadata": {
    "id": "EV0ll57p46Dc"
   },
   "source": [
    "# Load Indexes\n"
   ]
  },
  {
   "cell_type": "code",
   "execution_count": 14,
   "metadata": {
    "id": "HbT3-kRO4Qpt"
   },
   "outputs": [],
   "source": [
    "# Create your index\n",
    "from llama_index.core import VectorStoreIndex\n",
    "\n",
    "index = VectorStoreIndex.from_vector_store(vector_store)"
   ]
  },
  {
   "cell_type": "code",
   "execution_count": 15,
   "metadata": {
    "id": "sb61DWU84bHP"
   },
   "outputs": [],
   "source": [
    "from llama_index.llms.gemini import Gemini\n",
    "\n",
    "# Define a query engine that is responsible for retrieving related pieces of text,\n",
    "# and using a LLM to formulate the final answer.\n",
    "\n",
    "llm = Gemini(model=\"models/gemini-1.5-flash\", temperature=0.3, max_tokens=512)\n",
    "query_engine = index.as_query_engine(llm=llm, similarity_top_k=5)"
   ]
  },
  {
   "cell_type": "code",
   "execution_count": 16,
   "metadata": {
    "id": "G32W2LMMCmnv"
   },
   "outputs": [],
   "source": [
    "res = query_engine.query(\"How many parameters LLaMA 2 model has?\")"
   ]
  },
  {
   "cell_type": "code",
   "execution_count": 17,
   "metadata": {
    "colab": {
     "base_uri": "https://localhost:8080/",
     "height": 36
    },
    "id": "obc20cU5Cxf2",
    "outputId": "b97c5d39-13ea-4c06-da53-c6074e9c178b"
   },
   "outputs": [
    {
     "data": {
      "application/vnd.google.colaboratory.intrinsic+json": {
       "type": "string"
      },
      "text/plain": [
       "'LLaMA 2 is available in four sizes: 7 billion, 13 billion, 34 billion, and 70 billion parameters.\\n'"
      ]
     },
     "execution_count": 17,
     "metadata": {},
     "output_type": "execute_result"
    }
   ],
   "source": [
    "res.response"
   ]
  },
  {
   "cell_type": "code",
   "execution_count": 18,
   "metadata": {
    "colab": {
     "base_uri": "https://localhost:8080/"
    },
    "id": "oIAO-saJCzYe",
    "outputId": "e7d01da3-83cd-4bc4-9520-67e34c80dd27"
   },
   "outputs": [
    {
     "name": "stdout",
     "output_type": "stream",
     "text": [
      "Node ID\t 9afbdeaea403deb0f61cdc3bca5b4a96afe98f4166b36b4f8606cc41a7c0a4c1\n",
      "Title\t Fine-Tuning a Llama-2 7B Model for Python Code Generation\n",
      "Text\t only fine-tuning a small number of additional parameters, with virtually all model parameters remaining frozen. PEFT has been found to produce good generalization with relatively low-volume datasets. Furthermore, it enhances the reusability and portability of the model, as the small checkpoints obtained can be easily added to the base model, and the base model can be easily fine-tuned and reused in multiple scenarios by adding the PEFT parameters. Finally, since the base model is not adjusted, all the knowledge acquired in the pre-training phase is preserved, thus avoiding catastrophic forgetting. Most widely used PEFT techniques aim to keep the pre-trained base model untouched and add new layers or parameters on top of it. These layers are called \"Adapters\" and the technique of their adjustment \"adapter-tuning\", we add these layers to the pre-trained base model and only train the parameters of these new layers. However, a serious problem with this approach is that these layers lead to increased latency in the inference phase, which makes the process inefficient in many scenarios.In the LoRa technique, a Low-Rank Adaptation of Large Language Models, the idea is not to include new layers but to add values to the parameters in a way that avoids this scary problem of latency in the inference phase. LoRa trains and stores the changes of the additional weights while freezing all the weights of the pre-trained model. Therefore, we train a new weights matrix with the changes in the pre-trained model matrix, and this new matrix is decomposed into 2 Low-rank matrices as explained here:  Merge the base model and the adapter weights As we mention, we have trained \"modification weights\" on the base model, our final model requires merging the pretrained model and the adapters in a single model. You can find and download the model in my Hugging Face account edumunozsala/llama-27b-int4-python-code-20k. Give it a try!  Inferencing or generating Python code And finally, we will show you how you can download the model from the Hugging Face Hub and call the model to generate an accurate result: Thanks to Maxime Labonne for an excellent article [9] and Philipp Schmid who provides an inspiring\n",
      "Score\t 0.3663741487055881\n",
      "-_-_-_-_-_-_-_-_-_-_-_-_-_-_-_-_-_-_-_-_\n",
      "Node ID\t b9507b49d2385ea4d7c6d656582f18b1a7ae64d6075ce9e2654788b4e8bcae8a\n",
      "Title\t Fine-Tuning a Llama-2 7B Model for Python Code Generation\n",
      "Text\t weights As we mention, we have trained \"modification weights\" on the base model, our final model requires merging the pretrained model and the adapters in a single model. You can find and download the model in my Hugging Face account edumunozsala/llama-27b-int4-python-code-20k. Give it a try!  Inferencing or generating Python code And finally, we will show you how you can download the model from the Hugging Face Hub and call the model to generate an accurate result: Thanks to Maxime Labonne for an excellent article [9] and Philipp Schmid who provides an inspiring code [8]. Their articles are a must-read for everyone interested in Llama 2 and model fine-tuning. And it is all I have to mention, I hope you find useful this article and claps are welcome!! You can Follow me and Subscribe to my articles, or even connect to me via Linkedin. The code is available in my Github Repository.  References [1] Llama-2 paper [2] Link to the original dataset in the Huggingface hub [3] Link to the used dataset in the Huggingface hub [4] Fine-tuning a GPT - LoRA by Chris Kuo/Dr. Dataman [5] Edward J. Hu, Yelong Shen, Phillip Wallis, Zeyuan Allen-Zhu, Yuanzhi Li, Shean Wang, Lu Wang, & Weizhu Chen. (2021). LoRA: Low-Rank Adaptation of Large Language Models. arXiv:2106.09685 [6]. QLoRa: Efficient Finetuning of QuantizedLLMs [7] Few-Shot Parameter-Efficient Fine-Tuning is Better and Cheaper than In-Context Learning [8] Extended Guide: Instruction-tune Llama 2 by Philipp Schmid. [9] Fine-Tune Your Own Llama 2 Model in a Colab Notebook by Maxime Labonne [10]. My Github Repository\n",
      "Score\t 0.3643621178343102\n",
      "-_-_-_-_-_-_-_-_-_-_-_-_-_-_-_-_-_-_-_-_\n",
      "Node ID\t fde5e2f6b5535701bf6cf2a3e296bc595289512bb47225748f69904a512d5bea\n",
      "Title\t Exploring Large Language Models -Part 3\n",
      "Text\t The results confirm that the model learns via Instruct tuning, not only the fed questions but other details and relations of the domain. Problems with hallucinations remain (Bordor, Lila characters who are not in the story). The LLama2 13B 4-bit fine-tuned model has better output than the 7B model. A lot more needs to be explored in Fine-tuning. One observation is that slight changes in prompts give different answers. Since the output is not deterministic (that is, with even the same prompt, it varies over time), it is all the more difficult to fine-tune prompts to give the most effective output. This needs to be studied more. Also to be updated are higher level use-cases that should be possible with the fine-tuned models.\n",
      "Score\t 0.36114266375768006\n",
      "-_-_-_-_-_-_-_-_-_-_-_-_-_-_-_-_-_-_-_-_\n",
      "Node ID\t f707756065d1f788b41fb97fcef81979e1fd241dbfa4034a24bec8e57b648482\n",
      "Title\t Meta's Llama 2: Revolutionizing Open Source Language Models for Commercial Use\n",
      "Text\t I. Llama 2: Revolutionizing Commercial Use Unlike its predecessor Llama 1, which was limited to research use, Llama 2 represents a major advancement as an open-source commercial model. Businesses can now integrate Llama 2 into products to create AI-powered applications. Availability on Azure and AWS facilitates fine-tuning and adoption. However, restrictions apply to prevent exploitation. Companies with over 700 million active daily users cannot use Llama 2. Additionally, its output cannot be used to improve other language models.  II. Llama 2 Model Flavors Llama 2 is available in four different model sizes: 7 billion, 13 billion, 34 billion, and 70 billion parameters. While 7B, 13B, and 70B have already been released, the 34B model is still awaited. The pretrained variant, trained on a whopping 2 trillion tokens, boasts a context window of 4096 tokens, twice the size of its predecessor Llama 1. Meta also released a Llama 2 fine-tuned model for chat applications that was trained on over 1 million human annotations. Such extensive training comes at a cost, with the 70B model taking a staggering 1720320 GPU hours to train. The context window's length determines the amount of content the model can process at once, making Llama 2 a powerful language model in terms of scale and efficiency.  III. Safety Considerations: A Top Priority for Meta Meta's commitment to safety and alignment shines through in Llama 2's design. The model demonstrates exceptionally low AI safety violation percentages, surpassing even ChatGPT in safety benchmarks. Finding the right balance between helpfulness and safety when optimizing a model poses significant challenges. While a highly helpful model may be capable of answering any question, including sensitive ones like \"How do I build a bomb?\", it also raises concerns about potential misuse. Thus, striking the perfect equilibrium between providing useful information and ensuring safety is paramount. However, prioritizing safety to an extreme extent can lead to a model that struggles to effectively address a diverse range of questions. This limitation could hinder the model's practical applicability and user experience. Thus, achieving\n",
      "Score\t 0.3567539222670448\n",
      "-_-_-_-_-_-_-_-_-_-_-_-_-_-_-_-_-_-_-_-_\n",
      "Node ID\t 58a0db6126e2d6858f1cf7cb3e95df17f07b67d02f2ef02567d04358279a6276\n",
      "Title\t Exploring Large Language Models -Part 3\n",
      "Text\t a commodity GPU and then fine-tune them. There are two parts to this- Quantisation and Parameter Efficient Tuning. The real magic of this is that a laptop with a sufficient recent GPU (having Tensor Cores), can run the 7 billion Lamma2 pre-trained model open-sourced recently by Meta Research. Imagine the compressed knowledge and an NLU (Natural Language Understanding) model running on your local laptop. This is still a smallish model, but it's still capable of understanding and has sufficient world knowledge embedded in it to be quite useful. Imagine what a model like this or better models in the future could do if it could run in small servers or in cars, and leverage its causal reasoning and world model knowledge to supervise lower-level/specialist AI/ML systems. So we have now a way to fit reasonably large models (7B or more) in a single GPU, via Quantisation and then train them in a parameter-efficient way via LoRa/QLoRa. Take 1: Un-supervised Training Fine-tuning with QLoRa Using the small training data and QLoRA, I first tried to train a large 7B Lamma2 model by feeding in the training text as is (Causal LM model training via UnSupervised learning). Note that this model was loaded in 4-bit, making it runnable on a single T4 GPU and trained with QLoRa. With QLoRA, only a fraction of the adapter weights are trained and summed with the existing frozen pre-trained weights of the model during inference. Here is an illustrative Colab notebook. You can see that training the model with just the text as is, does not result in proper output to questions. The answers are not affected by the training data. Take 2: Instruct Fine-tuning with QLoRa Instruction Tuning concept is a higher-level training concept introduced by this paper FineTuned Language Models Are Zero shot Learners (FLAN) We leverage the intuition that NLP tasks can be described via natural language instructions, such as \"Is the sentiment of this movie review positive or negative?\" or \"Translate 'how are you' into Chinese.\" We take a pre-trained language model of 137B parameters and perform instruction tuning ... Since we use QLoRa we are\n",
      "Score\t 0.35214411775549853\n",
      "-_-_-_-_-_-_-_-_-_-_-_-_-_-_-_-_-_-_-_-_\n"
     ]
    }
   ],
   "source": [
    "for src in res.source_nodes:\n",
    "    print(\"Node ID\\t\", src.node_id)\n",
    "    print(\"Title\\t\", src.metadata[\"title\"])\n",
    "    print(\"Text\\t\", src.text)\n",
    "    print(\"Score\\t\", src.score)\n",
    "    print(\"-_\" * 20)"
   ]
  },
  {
   "cell_type": "markdown",
   "metadata": {
    "id": "d4xxZHbdN0lK"
   },
   "source": [
    "# Evaluate the retrieval process and quality of answers\n",
    "\n",
    "We can evaluate our RAG system with a dataset of questions and associated chunks. Given a question, we can see if the RAG system retrieves the correct chunks of text that can answer the question.\n",
    "\n",
    "You can generate a synthetic dataset with an LLM such as `gemini-1.5-flash` or create an authentic and manually curated dataset.\n",
    "\n",
    "Note that a **well curated dataset will always be a better option**, especially for a specific domain or use case.\n"
   ]
  },
  {
   "cell_type": "markdown",
   "metadata": {
    "id": "SuYIj1tD1Hwv"
   },
   "source": [
    "In our example, we will generate a synthetic dataset using `gemini-1.5-flash` to make it simple.\n",
    "\n",
    "This is the default prompt that the `generate_question_context_pairs` function will uses:\n",
    "\n",
    "```python\n",
    "DEFAULT_QA_GENERATE_PROMPT_TMPL = \"\"\"\\\n",
    "Context information is below.\n",
    "\n",
    "---------------------\n",
    "{context_str}\n",
    "---------------------\n",
    "\n",
    "Given the context information and no prior knowledge,\n",
    "generate only questions based on the below query.\n",
    "\n",
    "You are a Teacher/Professor. Your task is to setup \\\n",
    "{num_questions_per_chunk} questions for an upcoming \\\n",
    "quiz/examination. The questions should be diverse in nature \\\n",
    "across the document. Restrict the questions to the \\\n",
    "context information provided.\"\n",
    "\"\"\"\n",
    "```\n"
   ]
  },
  {
   "cell_type": "code",
   "execution_count": 19,
   "metadata": {
    "colab": {
     "base_uri": "https://localhost:8080/",
     "height": 35
    },
    "id": "_kCbMX67TqG-",
    "outputId": "183ade2a-5ed5-4756-9c34-4257d921d07c"
   },
   "outputs": [
    {
     "name": "stderr",
     "output_type": "stream",
     "text": [
      "100%|██████████| 25/25 [02:09<00:00,  5.17s/it]\n"
     ]
    }
   ],
   "source": [
    "# Free Tier-Gemini API key\n",
    "from llama_index.core.llms.utils import LLM\n",
    "from llama_index.core.schema import MetadataMode, TextNode\n",
    "from tqdm import tqdm\n",
    "import json\n",
    "import re\n",
    "import uuid\n",
    "import warnings\n",
    "import time\n",
    "from typing import Dict, List, Tuple\n",
    "from llama_index.core.evaluation import EmbeddingQAFinetuneDataset\n",
    "\n",
    "DEFAULT_QA_GENERATE_PROMPT_TMPL = \"\"\"\\\n",
    "Context information is below.\n",
    "\n",
    "---------------------\n",
    "{context_str}\n",
    "---------------------\n",
    "\n",
    "Given the context information and not prior knowledge.\n",
    "generate only questions based on the below query.\n",
    "\n",
    "You are a Teacher/ Professor. Your task is to setup \\\n",
    "{num_questions_per_chunk} questions for an upcoming \\\n",
    "quiz/examination. The questions should be diverse in nature \\\n",
    "across the document. Restrict the questions to the \\\n",
    "context information provided.\"\n",
    "\"\"\"\n",
    "\n",
    "def generate_question_context_pairs(\n",
    "    nodes: List[TextNode],\n",
    "    llm: LLM,\n",
    "    qa_generate_prompt_tmpl: str = DEFAULT_QA_GENERATE_PROMPT_TMPL,\n",
    "    num_questions_per_chunk: int = 2,\n",
    "    request_delay: float = 2.0\n",
    ") -> EmbeddingQAFinetuneDataset:\n",
    "    \"\"\"Generate examples given a set of nodes with delays between requests.\"\"\"\n",
    "    node_dict = {\n",
    "        node.node_id: node.get_content(metadata_mode=MetadataMode.NONE)\n",
    "        for node in nodes\n",
    "    }\n",
    "\n",
    "    queries = {}\n",
    "    relevant_docs = {}\n",
    "\n",
    "    for node_id, text in tqdm(node_dict.items()):\n",
    "        query = qa_generate_prompt_tmpl.format(\n",
    "            context_str=text, num_questions_per_chunk=num_questions_per_chunk\n",
    "        )\n",
    "        response = llm.complete(query)\n",
    "\n",
    "        result = str(response).strip().split(\"\\n\")\n",
    "        questions = [\n",
    "            re.sub(r\"^\\d+[\\).\\s]\", \"\", question).strip() for question in result\n",
    "        ]\n",
    "        questions = [question for question in questions if len(question) > 0][\n",
    "            :num_questions_per_chunk\n",
    "        ]\n",
    "\n",
    "        num_questions_generated = len(questions)\n",
    "        if num_questions_generated < num_questions_per_chunk:\n",
    "            warnings.warn(\n",
    "                f\"Fewer questions generated ({num_questions_generated}) \"\n",
    "                f\"than requested ({num_questions_per_chunk}).\"\n",
    "            )\n",
    "\n",
    "        for question in questions:\n",
    "            question_id = str(uuid.uuid4())\n",
    "            queries[question_id] = question\n",
    "            relevant_docs[question_id] = [node_id]\n",
    "\n",
    "        time.sleep(request_delay)\n",
    "\n",
    "    return EmbeddingQAFinetuneDataset(\n",
    "        queries=queries, corpus=node_dict, relevant_docs=relevant_docs\n",
    "    )\n",
    "\n",
    "#from llama_index.core.evaluation import generate_question_context_pairs\n",
    "from llama_index.llms.gemini import Gemini\n",
    "\n",
    "llm = Gemini(model=\"models/gemini-1.5-flash\", temperature=1, max_tokens=512)\n",
    "\n",
    "rag_eval_dataset = generate_question_context_pairs(\n",
    "    nodes[:25],\n",
    "    llm=llm,\n",
    "    num_questions_per_chunk=1,\n",
    "    request_delay=4\n",
    ")\n",
    "\n",
    "# Save the dataset as a json file for later use\n",
    "rag_eval_dataset.save_json(\"./rag_eval_dataset.json\")\n"
   ]
  },
  {
   "cell_type": "code",
   "execution_count": 20,
   "metadata": {
    "collapsed": true,
    "id": "jhHLA3he1Hww"
   },
   "outputs": [],
   "source": [
    "# #Paid-Gemini API Key\n",
    "\n",
    "# from llama_index.core.evaluation import generate_question_context_pairs\n",
    "# from llama_index.llms.gemini import Gemini\n",
    "\n",
    "# llm = Gemini(model=\"models/gemini-1.5-flash\", temperature=1, max_tokens=512)\n",
    "# rag_eval_dataset = generate_question_context_pairs(nodes, llm=llm, num_questions_per_chunk=1)\n",
    "\n",
    "# # We can save the dataset as a json file for later use.\n",
    "# rag_eval_dataset.save_json(\"./rag_eval_dataset.json\")"
   ]
  },
  {
   "cell_type": "code",
   "execution_count": 21,
   "metadata": {
    "id": "mNDd5i921Hww"
   },
   "outputs": [],
   "source": [
    "# We can also load the dataset from a previously saved json file.\n",
    "from llama_index.core.evaluation import EmbeddingQAFinetuneDataset\n",
    "\n",
    "rag_eval_dataset = EmbeddingQAFinetuneDataset.from_json(\"./rag_eval_dataset.json\")"
   ]
  },
  {
   "cell_type": "markdown",
   "metadata": {
    "id": "qOx3vDWA1Hww"
   },
   "source": [
    "### Evaluation for Hit Rate and Mean Reciprocal Rank (MRR)\n",
    "\n",
    "We will make use of `RetrieverEvaluator` available in Llama-index. We will measure the Hit Rate and Mean Reciprocal Rank (MRR).\n",
    "\n",
    "**Hit Rate:**\n",
    "\n",
    "Think of the Hit Rate like playing a game of guessing. You're given a question and you need to guess the correct answer from a list of options. The Hit Rate measures how often you guess the correct answer by only looking at your top few guesses. If you often find the right answer in your first few guesses, you have a high Hit Rate. So, in the context of a retrieval system, it's about how frequently the system finds the correct document within its top 'k' picks (where 'k' is a number you decide, like top 5 or top 10).\n",
    "\n",
    "**Mean Reciprocal Rank (MRR):**\n",
    "\n",
    "MRR is a bit like measuring how quickly you can find a treasure in a list of boxes. Imagine you have a row of boxes and only one of them has a treasure. The MRR calculates how close to the start of the row the treasure box is, on average. If the treasure is always in the first box you open, you're doing great and have an MRR of 1. If it's in the second box, the score is 1/2, since you took two tries to find it. If it's in the third box, your score is 1/3, and so on. MRR averages these scores across all your searches. So, for a retrieval system, MRR looks at where the correct document ranks in the system's guesses. If it's usually near the top, the MRR will be high, indicating good performance.\n",
    "In summary, Hit Rate tells you how often the system gets it right in its top guesses, and MRR tells you how close to the top the right answer usually is. Both metrics are useful for evaluating the effectiveness of a retrieval system, like how well a search engine or a recommendation system works.\n"
   ]
  },
  {
   "cell_type": "code",
   "execution_count": 22,
   "metadata": {
    "id": "eARSzx8I1Hww"
   },
   "outputs": [],
   "source": [
    "import pandas as pd\n",
    "\n",
    "\n",
    "def display_results_retriever(name, eval_results):\n",
    "    \"\"\"Display results from evaluate.\"\"\"\n",
    "\n",
    "    metric_dicts = []\n",
    "    for eval_result in eval_results:\n",
    "        metric_dict = eval_result.metric_vals_dict\n",
    "        metric_dicts.append(metric_dict)\n",
    "\n",
    "    full_df = pd.DataFrame(metric_dicts)\n",
    "\n",
    "    hit_rate = full_df[\"hit_rate\"].mean()\n",
    "    mrr = full_df[\"mrr\"].mean()\n",
    "\n",
    "    metric_df = pd.DataFrame(\n",
    "        {\"Retriever Name\": [name], \"Hit Rate\": [hit_rate], \"MRR\": [mrr]}\n",
    "    )\n",
    "\n",
    "    return metric_df"
   ]
  },
  {
   "cell_type": "code",
   "execution_count": 23,
   "metadata": {
    "colab": {
     "base_uri": "https://localhost:8080/"
    },
    "id": "hD5YflG51Hww",
    "outputId": "95eb8156-3fc9-4aff-e6c5-db4a5dc1a24a"
   },
   "outputs": [
    {
     "name": "stdout",
     "output_type": "stream",
     "text": [
      "    Retriever Name  Hit Rate   MRR\n",
      "0  Retriever top_2      0.64  0.56\n",
      "    Retriever Name  Hit Rate       MRR\n",
      "0  Retriever top_4      0.88  0.633333\n",
      "    Retriever Name  Hit Rate   MRR\n",
      "0  Retriever top_6      0.92  0.64\n",
      "    Retriever Name  Hit Rate       MRR\n",
      "0  Retriever top_8      0.96  0.645714\n",
      "     Retriever Name  Hit Rate       MRR\n",
      "0  Retriever top_10       1.0  0.670159\n"
     ]
    }
   ],
   "source": [
    "from llama_index.core.evaluation import RetrieverEvaluator\n",
    "\n",
    "# We can evaluate the retievers with different top_k values.\n",
    "for i in [2, 4, 6, 8, 10]:\n",
    "    retriever = index.as_retriever(similarity_top_k=i)\n",
    "    retriever_evaluator = RetrieverEvaluator.from_metric_names(\n",
    "        [\"mrr\", \"hit_rate\"], retriever=retriever\n",
    "    )\n",
    "    eval_results = await retriever_evaluator.aevaluate_dataset(\n",
    "        rag_eval_dataset, workers=32\n",
    "    )\n",
    "    print(display_results_retriever(f\"Retriever top_{i}\", eval_results))\n",
    "\n",
    "time.sleep(60)"
   ]
  },
  {
   "cell_type": "markdown",
   "metadata": {
    "id": "9y6uofcJ1Hwx"
   },
   "source": [
    "### Evaluation using Relevance and Faithfulness metrics.\n",
    "\n",
    "Here, we evaluate the answer generated by the LLM. Is the answer using the correct context? Is the answer faithful to the context? Is the answer relevant to the question?\n",
    "\n",
    "An LLM will answer these questions, more specifically `gpt-4o`.\n",
    "\n",
    "**`FaithfulnessEvaluator`**\n",
    "Evaluates if the answer is faithful to the retrieved contexts (in other words, whether there's an hallucination).\n",
    "\n",
    "**`RelevancyEvaluator`**\n",
    "Evaluates whether the retrieved context and answer are relevant to the user question.\n",
    "\n",
    "Now, let's see how the top_k value affects these two metrics.\n"
   ]
  },
  {
   "cell_type": "code",
   "execution_count": 24,
   "metadata": {
    "colab": {
     "base_uri": "https://localhost:8080/"
    },
    "id": "ckjE4fcD1Hwx",
    "outputId": "588c883c-3f4b-437e-a603-844ab7c5f02f"
   },
   "outputs": [
    {
     "name": "stdout",
     "output_type": "stream",
     "text": [
      "top_2 faithfulness_score: 1.0\n",
      "top_2 relevancy_score: 1.0\n",
      "===============\n",
      "top_4 faithfulness_score: 1.0\n",
      "top_4 relevancy_score: 0.95\n",
      "===============\n",
      "top_6 faithfulness_score: 1.0\n",
      "top_6 relevancy_score: 1.0\n",
      "===============\n",
      "top_8 faithfulness_score: 1.0\n",
      "top_8 relevancy_score: 1.0\n",
      "===============\n",
      "top_10 faithfulness_score: 0.95\n",
      "top_10 relevancy_score: 1.0\n",
      "===============\n"
     ]
    }
   ],
   "source": [
    "from llama_index.core.evaluation import RelevancyEvaluator, FaithfulnessEvaluator, BatchEvalRunner\n",
    "from llama_index.llms.openai import OpenAI\n",
    "\n",
    "# Create your index\n",
    "from llama_index.core import VectorStoreIndex\n",
    "index = VectorStoreIndex.from_vector_store(vector_store)\n",
    "\n",
    "# Define an LLM as a judge\n",
    "llm_gpt4o = OpenAI(temperature=0, model=\"gpt-4o\")\n",
    "llm_gpt4o_mini = OpenAI(temperature=0, model=\"gpt-4o-mini\")\n",
    "\n",
    "# Initiate the faithfulnes and relevancy evaluator objects\n",
    "faithfulness_evaluator = FaithfulnessEvaluator(llm=llm_gpt4o)\n",
    "relevancy_evaluator = RelevancyEvaluator(llm=llm_gpt4o)\n",
    "\n",
    "# Extract the questions from the dataset\n",
    "queries = list(rag_eval_dataset.queries.values())\n",
    "# Limit to first 10 question to save time (!!remove this line in production!!)\n",
    "batch_eval_queries = queries[:20]\n",
    "\n",
    "# The batch evaluator runs the evaluation in batches\n",
    "runner = BatchEvalRunner(\n",
    "    {\"faithfulness\": faithfulness_evaluator, \"relevancy\": relevancy_evaluator},\n",
    "    workers=32,\n",
    ")\n",
    "\n",
    "\n",
    "# Define a for-loop to try different `similarity_top_k` values\n",
    "for i in [2, 4, 6, 8, 10]:\n",
    "    # Set query engine with different number of returned chunks\n",
    "    query_engine = index.as_query_engine(similarity_top_k=i, llm = llm_gpt4o_mini)\n",
    "\n",
    "    # Run the evaluation\n",
    "    eval_results = await runner.aevaluate_queries(query_engine, queries=batch_eval_queries)\n",
    "\n",
    "    # Printing the results\n",
    "    faithfulness_score = sum(\n",
    "        result.passing for result in eval_results[\"faithfulness\"]\n",
    "    ) / len(eval_results[\"faithfulness\"])\n",
    "    print(f\"top_{i} faithfulness_score: {faithfulness_score}\")\n",
    "\n",
    "    relevancy_score = sum(result.passing for result in eval_results[\"relevancy\"]) / len(\n",
    "        eval_results[\"relevancy\"]\n",
    "    )\n",
    "    print(f\"top_{i} relevancy_score: {relevancy_score}\")\n",
    "    print(\"=\"*15)\n"
   ]
  },
  {
   "cell_type": "markdown",
   "metadata": {
    "id": "YmlmP2Px4THB"
   },
   "source": [
    "### Correctness\n"
   ]
  },
  {
   "cell_type": "code",
   "execution_count": 29,
   "metadata": {
    "id": "aUulxzuh1Hwx"
   },
   "outputs": [],
   "source": [
    "from llama_index.core.evaluation import CorrectnessEvaluator\n",
    "\n",
    "query = (\n",
    "    \"Can you explain the theory of relativity proposed by Albert Einstein in\" \" detail?\"\n",
    ")\n",
    "\n",
    "reference = \"\"\"\n",
    "Certainly! Albert Einstein's theory of relativity consists of two main components: special relativity and general relativity. Special relativity, published in 1905, introduced the concept that the laws of physics are the same for all non-accelerating observers and that the speed of light in a vacuum is a constant, regardless of the motion of the source or observer. It also gave rise to the famous equation E=mc², which relates energy (E) and mass (m).\n",
    "\n",
    "General relativity, published in 1915, extended these ideas to include the effects of gravity. According to general relativity, gravity is not a force between masses, as described by Newton's theory of gravity, but rather the result of the warping of space and time by mass and energy. Massive objects, such as planets and stars, cause a curvature in spacetime, and smaller objects follow curved paths in response to this curvature. This concept is often illustrated using the analogy of a heavy ball placed on a rubber sheet, causing it to create a depression that other objects (representing smaller masses) naturally move towards.\n",
    "\n",
    "In essence, general relativity provided a new understanding of gravity, explaining phenomena like the bending of light by gravity (gravitational lensing) and the precession of the orbit of Mercury. It has been confirmed through numerous experiments and observations and has become a fundamental theory in modern physics.\n",
    "\"\"\"\n",
    "\n",
    "response = \"\"\"\n",
    "Certainly! Albert Einstein's theory of relativity consists of two main components: special relativity and general relativity. Special relativity, published in 1905, introduced the concept that the laws of physics are the same for all non-accelerating observers and that the speed of light in a vacuum is a constant, regardless of the motion of the source or observer. It also gave rise to the famous equation E=mc², which relates energy (E) and mass (m).\n",
    "\n",
    "However, general relativity, published in 1915, extended these ideas to include the effects of magnetism. According to general relativity, gravity is not a force between masses but rather the result of the warping of space and time by magnetic fields generated by massive objects. Massive objects, such as planets and stars, create magnetic fields that cause a curvature in spacetime, and smaller objects follow curved paths in response to this magnetic curvature. This concept is often illustrated using the analogy of a heavy ball placed on a rubber sheet with magnets underneath, causing it to create a depression that other objects (representing smaller masses) naturally move towards due to magnetic attraction.\n",
    "\"\"\""
   ]
  },
  {
   "cell_type": "code",
   "execution_count": 30,
   "metadata": {
    "id": "CYIjkAP74bly"
   },
   "outputs": [],
   "source": [
    "evaluator = CorrectnessEvaluator(llm=llm_gpt4o)\n",
    "\n",
    "result = evaluator.evaluate(query=query,response=response,reference=reference,)"
   ]
  },
  {
   "cell_type": "code",
   "execution_count": 31,
   "metadata": {
    "colab": {
     "base_uri": "https://localhost:8080/"
    },
    "id": "-3b-bgvA4dAz",
    "outputId": "53f8ce7e-3db9-4f46-9956-1ae6d3b8f948"
   },
   "outputs": [
    {
     "data": {
      "text/plain": [
       "2.0"
      ]
     },
     "execution_count": 31,
     "metadata": {},
     "output_type": "execute_result"
    }
   ],
   "source": [
    "result.score"
   ]
  },
  {
   "cell_type": "code",
   "execution_count": 33,
   "metadata": {
    "colab": {
     "base_uri": "https://localhost:8080/",
     "height": 72
    },
    "id": "KNEhRQAo4dT0",
    "outputId": "551115c6-1890-4e3d-ca78-d101c05f33b5"
   },
   "outputs": [
    {
     "data": {
      "application/vnd.google.colaboratory.intrinsic+json": {
       "type": "string"
      },
      "text/plain": [
       "'The generated answer is mostly relevant but contains a significant mistake. It incorrectly states that general relativity involves the effects of magnetism and magnetic fields, which is not accurate. General relativity deals with the warping of space and time due to mass and energy, not magnetism. This error affects the correctness of the explanation, warranting a score of 2.0.'"
      ]
     },
     "execution_count": 33,
     "metadata": {},
     "output_type": "execute_result"
    }
   ],
   "source": [
    "result.feedback"
   ]
  },
  {
   "cell_type": "code",
   "execution_count": 28,
   "metadata": {
    "id": "ZOlwVWZb49H4"
   },
   "outputs": [],
   "source": []
  }
 ],
 "metadata": {
  "colab": {
   "provenance": []
  },
  "kernelspec": {
   "display_name": "Python 3",
   "name": "python3"
  },
  "language_info": {
   "codemirror_mode": {
    "name": "ipython",
    "version": 3
   },
   "file_extension": ".py",
   "mimetype": "text/x-python",
   "name": "python",
   "nbconvert_exporter": "python",
   "pygments_lexer": "ipython3",
   "version": "3.12.4"
  }
 },
 "nbformat": 4,
 "nbformat_minor": 0
}
