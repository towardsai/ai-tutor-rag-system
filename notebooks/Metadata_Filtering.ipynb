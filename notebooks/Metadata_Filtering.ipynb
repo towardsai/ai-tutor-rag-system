{
 "cells": [
  {
   "cell_type": "markdown",
   "metadata": {
    "id": "-zE1h0uQV7uT"
   },
   "source": [
    "# Install Packages and Setup Variables\n"
   ]
  },
  {
   "cell_type": "code",
   "execution_count": 3,
   "metadata": {
    "collapsed": true,
    "id": "QPJzr-I9XQ7l"
   },
   "outputs": [],
   "source": [
    "!pip install -q openai==1.59.6 tiktoken==0.8.0 llama-index==0.12.12 llama-index-vector-stores-qdrant==0.4.3"
   ]
  },
  {
   "cell_type": "code",
   "execution_count": 4,
   "metadata": {
    "id": "riuXwpSPcvWC"
   },
   "outputs": [],
   "source": [
    "import os\n",
    "\n",
    "# Set the following API Keys in the Python environment. Will be used later.\n",
    "os.environ[\"OPENAI_API_KEY\"] = \"[OPENAI_API_KEY]\"\n",
    "\n",
    "# from google.colab import userdata\n",
    "# os.environ[\"OPENAI_API_KEY\"] = userdata.get('openai_api_key')"
   ]
  },
  {
   "cell_type": "code",
   "execution_count": 5,
   "metadata": {
    "id": "jIEeZzqLbz0J"
   },
   "outputs": [],
   "source": [
    "import nest_asyncio\n",
    "\n",
    "nest_asyncio.apply()"
   ]
  },
  {
   "cell_type": "markdown",
   "metadata": {
    "id": "Bkgi2OrYzF7q"
   },
   "source": [
    "# Load a Model\n"
   ]
  },
  {
   "cell_type": "code",
   "execution_count": 6,
   "metadata": {
    "id": "9oGT6crooSSj"
   },
   "outputs": [],
   "source": [
    "from llama_index.llms.openai import OpenAI\n",
    "from llama_index.embeddings.openai import OpenAIEmbedding\n",
    "from llama_index.core import Settings\n",
    "\n",
    "Settings.llm = OpenAI(temperature=0.9, model=\"gpt-4o-mini\", max_tokens=512)\n",
    "Settings.embed_model = OpenAIEmbedding(model=\"text-embedding-3-small\")"
   ]
  },
  {
   "cell_type": "markdown",
   "metadata": {
    "id": "0BwVuJXlzHVL"
   },
   "source": [
    "# Create a VectoreStore\n"
   ]
  },
  {
   "cell_type": "code",
   "execution_count": 7,
   "metadata": {
    "id": "aNY6mrk6BF7V"
   },
   "outputs": [],
   "source": [
    "from qdrant_client import QdrantClient\n",
    "from llama_index.vector_stores.qdrant import QdrantVectorStore\n",
    "\n",
    "# qdrant_client = QdrantClient(location=\":memory:\")\n",
    "# or Persist storage\n",
    "qdrant_client = QdrantClient(path=\"/content/\")"
   ]
  },
  {
   "cell_type": "code",
   "execution_count": 8,
   "metadata": {
    "id": "Z109ur9OC7U_"
   },
   "outputs": [],
   "source": [
    "vector_store = QdrantVectorStore(client=qdrant_client, collection_name=\"ai_tutor_knowledge\")"
   ]
  },
  {
   "cell_type": "markdown",
   "metadata": {
    "id": "I9JbAzFcjkpn"
   },
   "source": [
    "# Load the Dataset (JSON)\n"
   ]
  },
  {
   "cell_type": "markdown",
   "metadata": {
    "id": "ceveDuYdWCYk"
   },
   "source": [
    "## Download\n"
   ]
  },
  {
   "cell_type": "code",
   "execution_count": 9,
   "metadata": {
    "colab": {
     "base_uri": "https://localhost:8080/",
     "height": 49,
     "referenced_widgets": [
      "cc85c5c18f704fbeb6367f5fadd6760d",
      "55031a43e4b049858a06e179c893aad3",
      "d76139f381f4457a9e7beda62f9b3be4",
      "76fcc03189be4864816d13bdcb7c71ff",
      "3da45639cc2b4b45a2e37b31c2b465d0",
      "d53e51681b7c4932af93721b39ec2142",
      "8853378ceba746c89859555f9a6d254f",
      "8866c7b7d4cb49eda0d5c23286afcba9",
      "b1d9de3288854727bd8f10ee06eb2531",
      "5ef1595bd81c4f3dab8cc131c4bf1c9a",
      "34af83c4e6614a5887ef0f17bcb33958"
     ]
    },
    "id": "wl_pbPvMlv1h",
    "outputId": "bb8f49c3-3c88-42cc-e178-ce9bbd221975"
   },
   "outputs": [
    {
     "data": {
      "application/vnd.jupyter.widget-view+json": {
       "model_id": "cc85c5c18f704fbeb6367f5fadd6760d",
       "version_major": 2,
       "version_minor": 0
      },
      "text/plain": [
       "ai_tutor_knowledge.jsonl:   0%|          | 0.00/6.96M [00:00<?, ?B/s]"
      ]
     },
     "metadata": {},
     "output_type": "display_data"
    }
   ],
   "source": [
    "from huggingface_hub import hf_hub_download\n",
    "file_path = hf_hub_download(repo_id=\"jaiganesan/ai_tutor_knowledge\", filename=\"ai_tutor_knowledge.jsonl\",repo_type=\"dataset\",local_dir=\"/content\")"
   ]
  },
  {
   "cell_type": "markdown",
   "metadata": {
    "id": "VWBLtDbUWJfA"
   },
   "source": [
    "## Read File\n"
   ]
  },
  {
   "cell_type": "code",
   "execution_count": 10,
   "metadata": {
    "colab": {
     "base_uri": "https://localhost:8080/",
     "height": 139
    },
    "id": "YizvmXPejkJE",
    "outputId": "0a1c2f40-3379-4a09-c9f5-004c22110e65"
   },
   "outputs": [
    {
     "data": {
      "application/vnd.google.colaboratory.intrinsic+json": {
       "type": "string"
      },
      "text/plain": [
       "\"Github Repo: https://github.com/vaibhawkhemka/ML-Umbrella/tree/main/NLP/Product-Categorization   From e-commerce to Customer support  all businesses require some kind of NER model to process huge amounts of texts from users.   To automate this whole  one requires NER models to extract relevant and important entities from text.   Final Result/OutputInput text = EL D68 (Green  32 GB) 3 GB RAM [3 GB RAM U+007C 32 GB ROM U+007C Expandable Upto 128 GB  15.46 cm (6.088 inch) Display  13MP Rear Camera U+007C 8MP Front Camera  4000 mAh Battery  Quad-Core Processor]   Output =   Green ->>>> COLOR 32 GB ->>>> STORAGE 3 GB RAM ->>>> RAM 3 GB RAM ->>>> RAM 32 GB ROM ->>>> STORAGE Expandable Upto 128 GB ->>>> EXPANDABLE_STORAGE 15.46 cm (6.088 inch) ->>>> SCREEN_SIZE 13MP Rear Camera ->>>> BACK_CAMERA 8MP Front Camera ->>>> FRONT_CAMERA 4000 mAh Battery ->>>> BATTERY_CAPACITY Quad-Core Processor ->>>> PROCESSOR_CORE   Data PreparationA tool for creating this dataset (https://github.com/tecoholic/ner-annotator)    Snapshot for the dataset for Mobile phone product description on Amazon:   A single record of the Data:   Converting into proper Spacy span format:The proper format that Spacy Ner model understands   import jsonlines  json file_path = Training Data/Mobile/Mobile_training.jsonl laptop_classes = [RAM STORAGE BATTERY CAPACITY PROCESSOR_TYPE SCREEN_SIZE REFRESH_RATE SCREEN_TYPE BACK_CAMERA FRONT_CAMERA] with jsonlines.open(file_path) as reader: output_json = {classes: laptop_classes  annotations: []} # Iterate over each line (JSON object) for obj in reader: processed_obj = [obj[text] {entities:obj[label]}] output_json[annotations].append(processed_obj) # Save the output JSON to a new file with open('Training Data/Mobile/Mobile_annotations.json'  'w') as f: json.dump(output_json  f  indent=None)Above is the code for converting into proper data format. Check out jupyter notebook: NER_model_Mobile.ipynb   Final pandas dataframe from processed data:   Splitting the dataset  10% test### Split the data from sklearn.model_selection import train_test_split train  test = train_test_split(df  test_size=0.1) train.head()Create spacy DocBin objects from annotated data to train Spacy NER model:import spacy from spacy.tokens import DocBin from tqdm import tqdm # Define a function to create spaCy DocBin objects from the annotated data def get_spacy_doc(data): # Create a blank spaCy pipeline nlp = spacy.blank('en') db = DocBin() # Initialize a counter for None spans none_spans = 0 spans = 0 for index  row in data.iterrows(): # Get the text and annotations text = row[Description] annotations = row[Annotations] # Check if the text is not empty if not text: continue # Process the text and annotations doc = nlp(text) if doc is None: print(fFailed to process text: {text}) continue ents = [] for start  end  label in annotations: if start < 0 or end < 0: print(fInvalid annotation: {start}  {end}  {label}) continue #print(text) span = doc.char_span(start  end  label=label) if span is None: print(fFailed to create span for annotation: {start}  {end}  {label}) none_spans += 1 continue else: spans+=1 ents.append(span) doc.ents = ents #Add the processed document to the DocBin db.add(doc) print(fNumber of None spans: {none_spans}) print(fNumber of spans: {spans}) return dbModellingArchitecture:The basic architecture for all spacy models:   Reference: https://explosion.ai/blog/deep-learning-formula-nlp   [Embed]HashEmbed  Sub-word features than character based richer representation and arbitrary sized vocabulary  Can use Word2vec/Glove etc   [Encode]  Context-independent to context-dependent using LSTM or CNN.   [Attend]  Attention mechanism by Key  Value pair  and context vectors   [Predict]  MLP   Tok2vec model [example]:   https://github.com/explosion/spaCy/blob/master/spacy/ml/models/tok2vec.py (Built using thinc framework)   NER Model  Transition-Based:   State(all three stack  buffer  and output) and Action   Structure Prediction.   The above shows how the transition-based approach works with stack  buffer  output  and Transition/action.   Reference: https://www.microsoft.com/en-us/research/video/transition-based-natural-language-processing/   The above shows How stacked LSTM works for encoding for all states and actions.   The final Prediction from MLP is the Multiclassification task with labels as SHIFT  OUT  and REDUCE   Spacy model layer and Config Mapping:   Example of a tok2vec config:   Model in thinc framework:   Respective config for the model:   Thinc deep learning framework is used as a backend to build spacy models instead of pytorch or TensorFlow.   Difference between normal pytorch and spacy models. => Spacy(easy  reliable and productionable)   The user can define and create this model using a configuration file for any task: NER  Tok2Vec  Tagger  Dependency Parser  Sentiment etc   One can also create thinc models and wrap around pytorch and TensorFlow. I will build it next blog.   NER Config file created here:   Reference: https://spacy.io/usage/training   config_ner.cfg :   [paths] train = null dev = null vectors = en_core_web_lg init_tok2vec = null [system] gpu_allocator = null seed = 0 [nlp] lang = en pipeline = [tok2vec ner] batch_size = 1000 disabled = [] before_creation = null after_creation = null after_pipeline_creation = null tokenizer = {@tokenizers:spacy.Tokenizer.v1} vectors = {@vectors:spacy.Vectors.v1} [components] [components.ner] factory = ner incorrect_spans_key = null moves = null scorer = {@scorers:spacy.ner_scorer.v1} update_with_oracle_cut_size = 100 [components.ner.model] @architectures = spacy.TransitionBasedParser.v2 state_type = ner extra_state_tokens = false hidden_width = 64 maxout_pieces = 2 use_upper = true nO = null [components.ner.model.tok2vec] @architectures = spacy.Tok2VecListener.v1 width = ${components.tok2vec.model.encode.width} upstream = * [components.tok2vec] factory = tok2vec [components.tok2vec.model] @architectures = spacy.Tok2Vec.v2 [components.tok2vec.model.embed] @architectures = spacy.MultiHashEmbed.v2 width = ${components.tok2vec.model.encode.width} attrs = [NORM PREFIX SUFFIX SHAPE] rows = [5000 1000 2500 2500] include_static_vectors = true [components.tok2vec.model.encode] @architectures = spacy.MaxoutWindowEncoder.v2 width = 256 depth = 8 window_size = 1 maxout_pieces = 3 [corpora] [corpora.dev] @readers = spacy.Corpus.v1 path = ${paths.dev} max_length = 0 gold_preproc = false limit = 0 augmenter = null [corpora.train] @readers = spacy.Corpus.v1 path = ${paths.train} max_length = 0 gold_preproc = false limit = 0 augmenter = null [training] dev_corpus = corpora.dev train_corpus = corpora.train seed = ${system.seed} gpu_allocator = ${system.gpu_allocator} dropout = 0.1 accumulate_gradient = 1 patience = 1600 max_epochs = 0 max_steps = 20000 eval_frequency = 200 frozen_components = [] annotating_components = [] before_to_disk = null before_update = null [training.batcher] @batchers = spacy.batch_by_words.v1 discard_oversize = false tolerance = 0.2 get_length = null [training.batcher.size] @schedules = compounding.v1 start = 100 stop = 1000 compound = 1.001 t = 0.0 [training.logger] @loggers = spacy.ConsoleLogger.v1 progress_bar = false [training.optimizer] @optimizers = Adam.v1 beta1 = 0.9 beta2 = 0.999 L2_is_weight_decay = true L2 = 0.01 grad_clip = 1.0 use_averages = false eps = 0.00000001 learn_rate = 0.001 [training.score_weights] ents_f = 1.0 ents_p = 0.0 ents_r = 0.0 ents_per_type = null [pretraining] [initialize] vectors = ${paths.vectors} init_tok2vec = ${paths.init_tok2vec} vocab_data = null lookups = null before_init = null after_init = null [initialize.components] [initialize.tokenizer]Output and Evaluation:Evaluation is done based on ENTS_P(Precision)  ENTS_R(Recall) and ENTS_F (F-Score).   After the 15th epoch Final ENTS_F is 57.64  which can be improved by providing more data for this case.   Intuition for Evaluation:We evaluate the NER model based on Span-Identification and Span-Prediction.   Span-Identification:   https://cees-roele.medium.com/custom-evaluation-of-spans-in-spacy-f1f2e7a99ad8   As discussed  NER is a multiclass Classification problem with SHIFT  OUT  and REDUCE as output. But we evaluate our models only based on REDUCE.   The above picture shows how Precision  Recall  and F-Score are calculated.   The code used for evaluating PRF (Precision-Recall-Fscore) by spacy:   def get_ner_prf(examples: Iterable[Example]  **kwargs) -> Dict[str  Any]: Compute micro-PRF and per-entity PRF scores for a sequence of examples. score_per_type = defaultdict(PRFScore) for eg in examples: if not eg.y.has_annotation(ENT_IOB): continue golds = {(e.label_  e.start  e.end) for e in eg.y.ents} align_x2y = eg.alignment.x2y for pred_ent in eg.x.ents: if pred_ent.label_ not in score_per_type: score_per_type[pred_ent.label_] = PRFScore() indices = align_x2y[pred_ent.start : pred_ent.end] if len(indices): g_span = eg.y[indices[0] : indices[-1] + 1] # Check we aren't missing annotation on this span. If so  # our prediction is neither right nor wrong  we just # ignore it. if all(token.ent_iob != 0 for token in g_span): key = (pred_ent.label_  indices[0]  indices[-1] + 1) if key in golds: score_per_type[pred_ent.label_].tp += 1 golds.remove(key) else: score_per_type[pred_ent.label_].fp += 1 for label  start  end in golds: score_per_type[label].fn += 1 totals = PRFScore() for prf in score_per_type.values(): totals += prf if len(totals) > 0: return { ents_p: totals.precision  ents_r: totals.recall  ents_f: totals.fscore  ents_per_type: {k: v.to_dict() for k  v in score_per_type.items()}  } else: return { ents_p: None  ents_r: None  ents_f: None  ents_per_type: None  }Reference: https://github.com/explosion/spaCy/blob/master/spacy/scorer.py#L760   Span Prediction :   There are 9 different entires like [RAM  STORAGE  BATTERY CAPACITY  PROCESSOR_TYPE  SCREEN_SIZE  REFRESH_RATE  SCREEN_TYPE  BACK_CAMERA  FRONT_CAMERA] to predict for REDUCE class.   It uses categorical crossentropy loss function to optimize NER models (More details in later blogs)   Testing and Final Results:Input text = EL D68 (Green  32 GB) 3 GB RAM [3 GB RAM U+007C 32 GB ROM U+007C Expandable Upto 128 GB  15.46 cm (6.088 inch) Display  13MP Rear Camera U+007C 8MP Front Camera  4000 mAh Battery  Quad-Core Processor]   Output =   Green ->>>> COLOR 32 GB ->>>> STORAGE 3 GB RAM ->>>> RAM 3 GB RAM ->>>> RAM 32 GB ROM ->>>> STORAGE Expandable Upto 128 GB ->>>> EXPANDABLE_STORAGE 15.46 cm (6.088 inch) ->>>> SCREEN_SIZE 13MP Rear Camera ->>>> BACK_CAMERA 8MP Front Camera ->>>> FRONT_CAMERA 4000 mAh Battery ->>>> BATTERY_CAPACITY Quad-Core Processor ->>>> PROCESSOR_CORE   Github Link: https://github.com/vaibhawkhemka/ML-Umbrella/tree/main/NLP/Product-Categorization   Thanks for reading the blog.   If you have any questions  hit me up on my LinkedIn: https://www.linkedin.com/in/vaibhaw-khemka-a92156176/   References for modeling:   https://explosion.ai/blog/deep-learning-formula-nlp => Embed  Encode  Attend and Predict => Position is imp in sequence in text.   https://support.prodi.gy/t/spacy-ner-models-architecture-details/4336   https://github.com/explosion/spaCy/blob/master/spacy/ml/models/tok2vec.py   https://spacy.io/usage/layers-architectures   https://spacy.io/api/architectures#CharacterEmbed   Understanding span:   https://spacy.io/api/span\""
      ]
     },
     "execution_count": 10,
     "metadata": {},
     "output_type": "execute_result"
    }
   ],
   "source": [
    "import json\n",
    "with open(file_path, \"r\") as file:\n",
    "    ai_tutor_knowledge = [json.loads(line) for line in file]\n",
    "ai_tutor_knowledge[1]['content']"
   ]
  },
  {
   "cell_type": "code",
   "execution_count": 11,
   "metadata": {
    "id": "1_V99H1V2hck"
   },
   "outputs": [],
   "source": [
    "# Not necessary to use full dataset\n",
    "documents = ai_tutor_knowledge[:100]+ai_tutor_knowledge[500:]"
   ]
  },
  {
   "cell_type": "markdown",
   "metadata": {
    "id": "qjuLbmFuWsyl"
   },
   "source": [
    "# Transforming\n"
   ]
  },
  {
   "cell_type": "code",
   "execution_count": 12,
   "metadata": {
    "colab": {
     "base_uri": "https://localhost:8080/"
    },
    "collapsed": true,
    "id": "IHtzr52E132e",
    "outputId": "db954b17-8003-4b5a-8019-945bbcf0a9d8"
   },
   "outputs": [
    {
     "data": {
      "text/plain": [
       "Document(id_='45501b72-9391-529e-8e5e-59a2604ba26e', embedding=None, metadata={'url': 'https://towardsai.net/p/machine-learning/adaboost-explained-from-its-original-paper', 'title': 'AdaBoost Explained From Its Original Paper', 'tokens': 1697, 'source': 'tai_blog'}, excluded_embed_metadata_keys=['url', 'tokens', 'source'], excluded_llm_metadata_keys=['title', 'tokens', 'source'], relationships={}, metadata_template='{key}: {value}', metadata_separator='\\n', text_resource=MediaResource(embeddings=None, data=None, text=\"This publication is meant to show a very popular ML algorithm in complete detail  how it works  the math behind it  how to execute it in Python and an explanation of the proofs of the original paper. There will be math and code  but it is written in a way that allows you to decide which are the fun parts.   A bit on the origins of the algorithm: It was proposed by Yoav Freund and Robert E. Schapire in a 1997 paper  A Decision-Theoretic Generalization of On-Line Learning and an Application to Boostinga beautiful and brilliant publication for an effective and useful algorithm.   Lets start with the pros  cons  and uses of AdaBoost.   Advantages: improves performance and achieves higher accuracy than a single model. It reduces overfitting compared to some other machine learning algorithms.   Disadvantages: AdaBoost can be sensitive to noisy data and outliers. It requires careful tuning  and the performance can depend on the choice of weak learners and the number of iterations. It cannot be parallelized (or only partially)  since each predictor can only be trained after the previous predictor has been trained and evaluated. As a result  it does not scale as well as bagging or pasting.   Applications: image recognition  text classification  fraud detection  predictive modeling.   Introduction  what is ensemble learning and boosting?Python script with an Ada Boost algorithm  lets go straight to using this toolAda Boost explanation  the math on how it worksAda Boost example  simplifying the math  an example of one iterationReferencesIntroductionLets talk a bit about the wisdom of the crowd. Wisdom of the crowd is a phenomenon that suggests that the collective judgment of a diverse number of people is often surprisingly accurate. This mainly occurs because of the central limit theorem  which states that when you take an average of a large number of independent observations  the distribution will center around the true value.   Lets explain this with an example. What if there was a competition where people had to guess how many bubble gum pieces were in a jar? Thousands of different (independent) people will guess; some might be close  and others will be quite far from the true number  but once we calculate the average of the guesses  we will be quite close to the actual number of bubble gum balls  this my friends is the wisdom of the crowd.   How does this apply to Machine Learning?   If we have many predictors (decision trees  other classifiers or regressors) and we aggregate the predictions of this group  they will often perform better than the best individual predictor. A group of predictors is called an ensemble  thus  this technique is called Ensemble Learning.   AdaBoost belongs to a method called boosting. Boosting refers to any ensemble method that combines several weak learners (simple models) into a strong learner (a more accurate model).   There are many boosting methods  the most popular by far are Ada Boosting and Gradient Boosting.   Ada Boost with Python and Scikit-LearnPart 1: data preparationWe create a dummy dataset and separate the data into train and test.   import numpy as np from sklearn.datasets import make_classification from sklearn.model_selection import train_test_split # Generate a random dataset (for example purposes) X  y = make_classification(n_samples=100  n_features=2  n_informative=2  n_redundant=0  random_state=42) # Split the dataset into training and testing sets X_train  X_test  y_train  y_test = train_test_split(X  y  test_size=0.3  random_state=42)Part 2: AdaBoost with Decision Trees (1 branch)First  lets understand the possible parameters in Scikit-learns AdaBoostClassifier:   estimator: The base estimator from which the boosted ensemble is built. Usually  a decision tree with a max depth 1 (a weak learner).n_estimators: The maximum number of estimators at which boosting is terminated.learning rate: Weight applied to each classifier at each boosting iteration. A higher learning rate increases the contribution of each classifier.random_state: Controls the random seed given at each estimator at each boosting iteration.from sklearn.ensemble import AdaBoostClassifier from sklearn.tree import DecisionTreeClassifier # Create the AdaBoost classifier # Notice that the depth of the decision tree is 1 base_estimator = DecisionTreeClassifier(max_depth=1) ada_boost = AdaBoostClassifier(estimator=base_estimator  n_estimators=50  learning_rate=1.0  random_state=42) # Train the classifier ada_boost.fit(X_train  y_train) # Make predictions y_pred = ada_boost.predict(X_test)Part 3: Model evaluationWe measure the metrics of the model. Interpretation of these metrics will be seen in a different article.   from sklearn.metrics import accuracy_score  classification_report # Evaluate the classifier accuracy = accuracy_score(y_test  y_pred) print(f'Accuracy: {accuracy:.2f}') print('Classification Report:') print(classification_report(y_test  y_pred))Accuracy: 0.97 Classification Report: precision recall f1-score support 0 1.00 0.94 0.97 16 1 0.93 1.00 0.97 14 accuracy 0.97 30 macro avg 0.97 0.97 0.97 30 weighted avg 0.97 0.97 0.97 30Part 4: Plotting Resultsimport matplotlib.pyplot as plt # Plotting the decision boundary x_min  x_max = X[:  0].min() - 1  X[:  0].max() + 1 y_min  y_max = X[:  1].min() - 1  X[:  1].max() + 1 xx  yy = np.meshgrid(np.arange(x_min  x_max  0.01)  np.arange(y_min  y_max  0.01)) Z = ada_boost.predict(np.c_[xx.ravel()  yy.ravel()]) Z = Z.reshape(xx.shape) plt.contourf(xx  yy  Z  alpha=0.3) plt.scatter(X[:  0]  X[:  1]  c=y  edgecolors='k'  marker='o') plt.title('AdaBoost Decision Boundary') plt.xlabel('Feature 1') plt.ylabel('Feature 2') plt.show()Ada Boost ExplanationIn this section  we explain the key concepts and how an iteration works (a bit of math included  folks.   AdaBoost  short for Adaptive Boosting  is a machine learning algorithm that is used to improve the performance of other machine learning algorithms. We will define a few key concepts to explain how it works:   Weak Learners: models that perform slightly better than random guessing. Decision trees with one split are often used.Boosting: the process of combining multiple weak learners to form a strong learner. Each learner has a weight based on the performance of the previous learners.Weight Adjustment: First  all data points have equal weights. After each iteration  the weight of incorrectly classified points is increased; that way  the learner focuses more on the difficult cases.Combining Learners: the final model is a weighted sum of all the weak learners; each learners contribution to the final model is based on its accuracy  and more accurate learners are given higher weights.Algorithm stepsThe image shows how the algorithm improves on each iteration on separating between the blue and red dots. Lets find out how each step works.   Initialize Weights:Assign equal weights to all data points (each predictor).2. Train Weak Learner and Calculate Weighted Error   Train a weak learner on the weighted dataset (h_t).Calculate the error rate of the weak learner.3. Calculate Alpha  the learner's weight   4. Update weights   5. Combine weak learners   Example of one iterationInitialize weights   Train Weak Learner and Calculate Weighted Error   Calculate Alpha   Update weights   This process continues for each iteration.   ReferencesA Decision-Theoretic Generalization of On-Line Learning and an Application to Boosting (1997)  Yoav Freund and Robert E. SchapireHands-On Machine Learning with Scikit-Learn  Keras  and TensorFlow (2019)  Aurelin GernSklearn documentation\", path=None, url=None, mimetype=None), image_resource=None, audio_resource=None, video_resource=None, text_template='{metadata_str}\\n\\n{content}')"
      ]
     },
     "execution_count": 12,
     "metadata": {},
     "output_type": "execute_result"
    }
   ],
   "source": [
    "from typing import List\n",
    "from llama_index.core import Document\n",
    "\n",
    "def create_docs_from_list(data_list: List[dict]) -> List[Document]:\n",
    "    documents = []\n",
    "    for data in data_list:\n",
    "        documents.append(\n",
    "            Document(\n",
    "                doc_id=data[\"doc_id\"],\n",
    "                text=data[\"content\"],\n",
    "                metadata={  # type: ignore\n",
    "                    \"url\": data[\"url\"],\n",
    "                    \"title\": data[\"name\"],\n",
    "                    \"tokens\": data[\"tokens\"],\n",
    "                    \"source\": data[\"source\"],\n",
    "                },\n",
    "                excluded_llm_metadata_keys=[\n",
    "                    \"title\",\n",
    "                    \"tokens\",\n",
    "                    \"source\",\n",
    "                ],\n",
    "                excluded_embed_metadata_keys=[\n",
    "                    \"url\",\n",
    "                    \"tokens\",\n",
    "                    \"source\",\n",
    "                ],\n",
    "            )\n",
    "        )\n",
    "    return documents\n",
    "\n",
    "doc = create_docs_from_list(documents)\n",
    "doc[2]"
   ]
  },
  {
   "cell_type": "code",
   "execution_count": 13,
   "metadata": {
    "id": "9z3t70DGWsjO"
   },
   "outputs": [],
   "source": [
    "from llama_index.core.node_parser import TokenTextSplitter\n",
    "\n",
    "# Define the splitter object that split the text into segments with 512 tokens,\n",
    "# with a 128 overlap between the segments.\n",
    "text_splitter = TokenTextSplitter(separator=\" \", chunk_size=512, chunk_overlap=128)"
   ]
  },
  {
   "cell_type": "code",
   "execution_count": 14,
   "metadata": {
    "colab": {
     "base_uri": "https://localhost:8080/",
     "height": 153,
     "referenced_widgets": [
      "68de86e72b7d4beb80d312620913e79b",
      "5e017e8be7b0479d97d02d0a88199559",
      "1617f5ef24154668876cbec11c747fb6",
      "258ef49ae190400ea84c895248771196",
      "a076d1a26a3f4f62942ed7b35b8fbaca",
      "f46c492c355d4e5bbcdeb7db53df2f6d",
      "3c016da8db2f4c70acc3f46eb9146507",
      "04ccb6615d4e4c069a09a8273ba49879",
      "5bcd3cdc91ea4f44a3e5aae6499af60f",
      "cd35b6bcd8c14d25b58d225052fc3018",
      "c366e4372fed48928ed9e1080e1abceb",
      "5bf417bfd83340a4a00c6f9f5b5a857f",
      "f8d01ec59732422cb4c408f598929b1a",
      "51c12d68ec654b02a42392dfab0997ce",
      "e94fd3ba753d43c0acf8a73f2ec220b4",
      "d534819f6e594a9cbaf0bba48eb47a60",
      "976414647088492e8e287aeb26616fbd",
      "97e771f028b84a06bd62c181b783cc67",
      "a213d02e496e4c0788e9c295c62cc4bd",
      "a81e22be097b49a48546fc51f596f236",
      "612ecae80fc94b8f8a487f22af266bcb",
      "fa6442fc563a46b8b763f2e9f2933f3b"
     ]
    },
    "id": "P9LDJ7o-Wsc-",
    "outputId": "6c551aeb-fae9-435b-e200-21a1a8ba965e"
   },
   "outputs": [
    {
     "data": {
      "application/vnd.jupyter.widget-view+json": {
       "model_id": "68de86e72b7d4beb80d312620913e79b",
       "version_major": 2,
       "version_minor": 0
      },
      "text/plain": [
       "Parsing nodes:   0%|          | 0/362 [00:00<?, ?it/s]"
      ]
     },
     "metadata": {},
     "output_type": "display_data"
    },
    {
     "name": "stderr",
     "output_type": "stream",
     "text": [
      "100%|██████████| 1181/1181 [05:49<00:00,  3.38it/s]\n"
     ]
    },
    {
     "data": {
      "application/vnd.jupyter.widget-view+json": {
       "model_id": "5bf417bfd83340a4a00c6f9f5b5a857f",
       "version_major": 2,
       "version_minor": 0
      },
      "text/plain": [
       "Generating embeddings:   0%|          | 0/1181 [00:00<?, ?it/s]"
      ]
     },
     "metadata": {},
     "output_type": "display_data"
    },
    {
     "name": "stderr",
     "output_type": "stream",
     "text": [
      "/usr/local/lib/python3.11/dist-packages/llama_index/vector_stores/qdrant/base.py:644: UserWarning: Payload indexes have no effect in the local Qdrant. Please use server Qdrant if you need payload indexes.\n",
      "  self._client.create_payload_index(\n"
     ]
    }
   ],
   "source": [
    "from llama_index.core.extractors import (\n",
    "    KeywordExtractor,\n",
    ")\n",
    "from llama_index.embeddings.openai import OpenAIEmbedding\n",
    "from llama_index.core.ingestion import IngestionPipeline\n",
    "\n",
    "# Create the pipeline to apply the transformation on each chunk,\n",
    "# and store the transformed text in the chroma vector store.\n",
    "pipeline = IngestionPipeline(\n",
    "    transformations=[\n",
    "        text_splitter,\n",
    "        KeywordExtractor(keywords=10, llm=Settings.llm),\n",
    "        OpenAIEmbedding(model=\"text-embedding-3-small\"),\n",
    "    ],\n",
    "    vector_store=vector_store,\n",
    ")\n",
    "\n",
    "# Run the transformation pipeline.\n",
    "nodes = pipeline.run(documents=doc, show_progress=True)"
   ]
  },
  {
   "cell_type": "code",
   "execution_count": 15,
   "metadata": {
    "colab": {
     "base_uri": "https://localhost:8080/"
    },
    "id": "NCeItuK-coeN",
    "outputId": "cf4c197e-6230-48af-ba73-e5b5c5dc6edd"
   },
   "outputs": [
    {
     "name": "stdout",
     "output_type": "stream",
     "text": [
      "  adding: content/collection/ai_tutor_knowledge/ (stored 0%)\n"
     ]
    }
   ],
   "source": [
    "!zip ai_tutor_knowledge_metadata.zip /content/collection/ai_tutor_knowledge"
   ]
  },
  {
   "cell_type": "code",
   "execution_count": 16,
   "metadata": {
    "colab": {
     "base_uri": "https://localhost:8080/"
    },
    "id": "mPGa85hM2P3P",
    "outputId": "612bb5d6-83c7-466c-85f3-bcc2a74264a9"
   },
   "outputs": [
    {
     "data": {
      "text/plain": [
       "1181"
      ]
     },
     "execution_count": 16,
     "metadata": {},
     "output_type": "execute_result"
    }
   ],
   "source": [
    "len(nodes)"
   ]
  },
  {
   "cell_type": "code",
   "execution_count": 17,
   "metadata": {
    "colab": {
     "base_uri": "https://localhost:8080/"
    },
    "id": "03xtKcBanBDL",
    "outputId": "6eb1e0c9-9036-4497-c71f-fbc323765e8f"
   },
   "outputs": [
    {
     "data": {
      "text/plain": [
       "{'url': 'https://towardsai.net/p/machine-learning/bert-huggingface-model-deployment-using-kubernetes-github-repo-03-07-2024',\n",
       " 'title': 'BERT HuggingFace Model Deployment using Kubernetes [ Github Repo]  03/07/2024',\n",
       " 'tokens': 768,\n",
       " 'source': 'tai_blog',\n",
       " 'excerpt_keywords': 'BERT, HuggingFace, Kubernetes, Model Deployment, FastAPI, Docker, Inference, Containerization, Scalability, ML Pipeline'}"
      ]
     },
     "execution_count": 17,
     "metadata": {},
     "output_type": "execute_result"
    }
   ],
   "source": [
    "nodes[0].metadata"
   ]
  },
  {
   "cell_type": "code",
   "execution_count": 18,
   "metadata": {
    "id": "jKXURvLtkuTS"
   },
   "outputs": [],
   "source": [
    "from llama_index.core import VectorStoreIndex\n",
    "\n",
    "# Create the index based on the vector store.\n",
    "index = VectorStoreIndex.from_vector_store(vector_store)"
   ]
  },
  {
   "cell_type": "code",
   "execution_count": 19,
   "metadata": {
    "colab": {
     "base_uri": "https://localhost:8080/",
     "height": 139
    },
    "id": "lrOMyoH38bDC",
    "outputId": "5c64aeee-4894-46b0-e5b6-889f36004925"
   },
   "outputs": [
    {
     "data": {
      "application/vnd.google.colaboratory.intrinsic+json": {
       "type": "string"
      },
      "text/plain": [
       "'Advanced Retrieval-Augmented Generation (RAG) systems enhance the basic RAG approach by improving the retrieval and generation processes, leading to higher quality outputs. Systems like Self-Reflective RAG (Self-RAG) and Corrective RAG (CRAG) are examples of these advancements. \\n\\nSelf-RAG introduces self-reflection tags that help the language model assess the relevance of retrieved documents dynamically, allowing it to critique the context before generating responses. On the other hand, CRAG employs an external evaluator to refine the quality of retrieved documents, ensuring that only the most relevant and high-quality context is used for generation.\\n\\nMoreover, Speculative RAG further optimizes the RAG process by decomposing tasks into drafting and verification phases. A specialized RAG drafter is used to generate multiple drafts based on subsets of retrieved documents, which are then verified by a larger generalist language model. This method minimizes redundancy and accelerates the generation process, leading to significant improvements in accuracy and reduced latency.\\n\\nOverall, these advanced RAG systems leverage sophisticated strategies to enhance contextual relevance, generate diverse answer candidates, and improve the overall quality and efficiency of responses generated from external knowledge sources.'"
      ]
     },
     "execution_count": 19,
     "metadata": {},
     "output_type": "execute_result"
    }
   ],
   "source": [
    "query_engine = index.as_query_engine(similarity_top_k=10)\n",
    "res = query_engine.query(\"Explain how Advance RAG works?\")\n",
    "\n",
    "res.response"
   ]
  },
  {
   "cell_type": "markdown",
   "metadata": {
    "id": "RyL-j2xZ7V6d"
   },
   "source": [
    "# Metadata Filtering\n"
   ]
  },
  {
   "cell_type": "code",
   "execution_count": 20,
   "metadata": {
    "id": "saug9jxugX0P"
   },
   "outputs": [],
   "source": [
    "from llama_index.core.vector_stores import MetadataFilter, MetadataFilters, FilterOperator\n",
    "\n",
    "filters = MetadataFilters(\n",
    "    filters=[\n",
    "        MetadataFilter(\n",
    "            key=\"excerpt_keywords\",\n",
    "            operator=FilterOperator.TEXT_MATCH,\n",
    "            value=\"PEFT\",\n",
    "        ),\n",
    "    ]\n",
    ")"
   ]
  },
  {
   "cell_type": "markdown",
   "metadata": {
    "id": "8JPD8yAinVSq"
   },
   "source": [
    "# Query Dataset\n"
   ]
  },
  {
   "cell_type": "code",
   "execution_count": 21,
   "metadata": {
    "id": "b0gue7cyctt1"
   },
   "outputs": [],
   "source": [
    "# Define a query engine that is responsible for retrieving related pieces of text,\n",
    "# and using a LLM to formulate the final answer.\n",
    "query_engine = index.as_query_engine(filters=filters)\n",
    "\n",
    "res = query_engine.query(\"How Parameter efficient fine tuning (PEFT) Works?\")"
   ]
  },
  {
   "cell_type": "code",
   "execution_count": 22,
   "metadata": {
    "colab": {
     "base_uri": "https://localhost:8080/",
     "height": 139
    },
    "id": "VKK3jMprctre",
    "outputId": "bb6af461-ccd4-4801-89be-f1bc742d4239"
   },
   "outputs": [
    {
     "data": {
      "application/vnd.google.colaboratory.intrinsic+json": {
       "type": "string"
      },
      "text/plain": [
       "\"Parameter efficient fine tuning (PEFT) involves training large language models in a way that minimizes computational costs while still allowing for effective adaptation to specific tasks. It does this by focusing on a subset of parameters rather than fine-tuning the entire model. The main approaches within PEFT include:\\n\\n1. **Selective Fine-tuning**: This method involves selecting a subset of parameters from the initial model to fine-tune, thereby reducing the number of adjustments needed.\\n\\n2. **Reparameterization**: This approach utilizes a low-rank representation to reparameterize model weights, which can significantly decrease the number of parameters that require fine-tuning.\\n\\n3. **Additive Methods**: This includes the use of adapter modules, which are small neural network components inserted into certain layers of the pre-trained model to help it learn specific tasks without altering the core model significantly. Additionally, prompt tuning is another technique where specific prompts guide the model's outputs without modifying the model itself.\\n\\nPEFT is advantageous, particularly for large models with billions of parameters, as it reduces both the computational burden and the risk of catastrophic forgetting, a challenge associated with full fine-tuning where the model may lose its original knowledge when trained on new tasks.\""
      ]
     },
     "execution_count": 22,
     "metadata": {},
     "output_type": "execute_result"
    }
   ],
   "source": [
    "res.response"
   ]
  },
  {
   "cell_type": "code",
   "execution_count": 23,
   "metadata": {
    "colab": {
     "base_uri": "https://localhost:8080/"
    },
    "id": "465dH4yQc7Ct",
    "outputId": "63bea2f5-8cc1-4dad-bf44-fbe8575d07d5"
   },
   "outputs": [
    {
     "name": "stdout",
     "output_type": "stream",
     "text": [
      "Node ID\t 14a51133-e63f-482a-b2f6-759b550ec3f0\n",
      "Title\t Fine-Tuning and Evaluating Large Language Models: Key Benchmarks and Metrics\n",
      "Text\t SAMSUM is one of the datasets that FLAN T5 uses. There are several pre-trained FLAN T5 models that have been fine-tuned on SAMSUM  including Phil Schmid/flan-t5-base-samsum and jasonmcaffee/flan-t5-large-samsum on Hugging Face. If we want to fine-tune the FLAN T5 model specifically for formal dialogue conversations  we can do so using the DIALOGUESUM dataset.   Models fine-tuned on DialogSum can be applied to areas like customer support  meeting minutes generation  chatbot summarization  and more.   2. PEFT (Parameter efficient fine tuning)Training LLMs is computationally intensive. Full finetuning is computationally expensive as it might change each weight in the model. First  we start with a pretrained LLM like GPT-3. This model already has a vast amount of knowledge and understanding of language. Then we provide task-specific datasets  which could be data for question answering or sentiment analysis or any other customer dataset. During training  full finetuning process makes slight adjustments to every weight in the pretrained model. While the model weights are substantial  we have other important aspects during training like Optimizer  which adds up to the cost. For example  Optimizer States  gradients  forward activation  and temporary memory. These additional components add up to the training cost.   Three main approaches are used in PEFT: Selective / reparameterization/additive.   1. SelectiveHere  we select a subset of initial LLM parameters to fine-tune.   2. ReparameterizationWe reparameterize model weights using a low-rank representation. We will discuss LoRA in detail below.   LORA: Low Rank Representation:   Each layer in a transformer architecture has multiple weight matrices for different operations  like self-attention or feed-forward networks. These matrices can have different sizes depending on the specific layer and configuration. Let us take an example by picking a matrix of size 512 x 64 = 32 768 parameters. Let us now see LoRA with rank = 8.   Original Weight Matrix: Dimensions: 512 x 64  Parameters: 32 768 (512 x 64)Matrix A (Rank Decomposition):\n",
      "Score\t 0.5735604887284498\n",
      "Score\t Keywords: FLAN T5, SAMSUM, DIALOGUESUM, PEFT, parameter efficient fine tuning, LoRA, language models, fine-tuning, computational cost, model evaluation\n",
      "-_-_-_-_-_-_-_-_-_-_-_-_-_-_-_-_-_-_-_-_\n",
      "Node ID\t e7669305-524e-456f-b999-33dfac17dd5d\n",
      "Title\t Fine-Tuning and Evaluating Large Language Models: Key Benchmarks and Metrics\n",
      "Text\t 32 768 parameters (512 x 64)Total LORA Parameters: 4 608 parameters (512 + 4 096)3. AdditiveWe add trainable layers or parameters to the model in the form of adapter modules.   The two main additive approaches are:   Adapter Modules: These are small  trainable neural network modules strategically inserted into specific layers of the pre-trained LLM. They help the LLM learn task-specific information without drastically changing its underlying knowledge.Prompt Tuning: This approach doesnt involve adding any new modules to the model itself. Instead  it focuses on crafting specific prompts (essentially instructions or questions) that guide the pre-trained LLM toward the desired task.All these approaches are similar to transfer learning  but they are more efficient in that they only fine-tune a subset of parameters rather than fine-tuning the complete layer. Even adapter modules are lightweight.   PEFT is particularly beneficial when dealing with large LLMs that have billions or even trillions of parameters  as fine-tuning all of them can be computationally expensive and resource-intensive.   PEFT is less prone to the catastrophic forgetting problems of full fine-tuning. Full fine-tuning results in a new version of the model for every task you train on.   Metrics to assess the performanceIn the language model  evaluation is more challenging since the output is non deterministic.   Let us explore some of the metrics that we can use to evaluate.   ROUGE-1: (Recall-Oriented Understudy for Gisting Evaluation)ROUGE-1 is recall oriented metric  which means it prioritizes identifying how many of the important words from the reference summaries are included in the generated summary. ROUGE 1 focuses on individual words(unigrams). Similarly  ROUGE-2 focuses on bigrams and so goes on.   Let us take an example of ROUGE-1:   Lets walk through an example step-by-step:   Reference Text: Mike really loves drinking tea.Generated Text: Mike adores sipping tea.Step 1: Identify Unigrams   Reference Text Unigrams: {Mike  really  loves  drinking  tea}Generated Text Unigrams: {Mike  adores  sipping  tea}Step 2: Count Overlapping Unigrams   Overlapping Unigrams: {Mike\n",
      "Score\t 0.49753200190090646\n",
      "Score\t fine-tuning, large language models, PEFT, adapter modules, prompt tuning, transfer learning, evaluation metrics, ROUGE-1, machine learning, catastrophic forgetting\n",
      "-_-_-_-_-_-_-_-_-_-_-_-_-_-_-_-_-_-_-_-_\n"
     ]
    }
   ],
   "source": [
    "# Show the retrieved nodes\n",
    "for src in res.source_nodes:\n",
    "    print(\"Node ID\\t\", src.node_id)\n",
    "    print(\"Title\\t\", src.metadata[\"title\"])\n",
    "    print(\"Text\\t\", src.text)\n",
    "    print(\"Score\\t\", src.score)\n",
    "    print(\"Score\\t\", src.metadata[\"excerpt_keywords\"])\n",
    "    print(\"-_\" * 20)"
   ]
  },
  {
   "cell_type": "markdown",
   "metadata": {
    "id": "Yjwq8BRzNGUy"
   },
   "source": [
    "# Filter Metadata (source_name)\n"
   ]
  },
  {
   "cell_type": "code",
   "execution_count": 24,
   "metadata": {
    "id": "82mM9wqkM0jr"
   },
   "outputs": [],
   "source": [
    "from llama_index.core.vector_stores import MetadataFilter,MetadataFilters,FilterOperator,FilterCondition\n",
    "\n",
    "filters = MetadataFilters(\n",
    "    filters=[\n",
    "        MetadataFilter(\n",
    "            key=\"excerpt_keywords\",\n",
    "            operator=FilterOperator.TEXT_MATCH,\n",
    "            value=\"BERT\",\n",
    "        ),\n",
    "        MetadataFilter(\n",
    "            key=\"source\", operator=FilterOperator.EQ, value=\"tai_blog\"\n",
    "        ),\n",
    "    ],\n",
    "    condition=FilterCondition.AND,\n",
    ")"
   ]
  },
  {
   "cell_type": "code",
   "execution_count": 25,
   "metadata": {
    "id": "QX4UUuLEM6NK"
   },
   "outputs": [],
   "source": [
    "# Define a query engine that is responsible for retrieving related pieces of text,\n",
    "# and using a LLM to formulate the final answer.\n",
    "query_engine = index.as_query_engine(filters=filters)\n",
    "\n",
    "result = query_engine.query(\"Explain BERT?\")"
   ]
  },
  {
   "cell_type": "code",
   "execution_count": 26,
   "metadata": {
    "colab": {
     "base_uri": "https://localhost:8080/",
     "height": 139
    },
    "id": "mo3_T2fnM7yP",
    "outputId": "2be195b1-6a46-4dd7-e881-9290384b23b1"
   },
   "outputs": [
    {
     "data": {
      "application/vnd.google.colaboratory.intrinsic+json": {
       "type": "string"
      },
      "text/plain": [
       "\"BERT, which stands for Bidirectional Encoder Representations from Transformers, is a language model developed by Google that employs a transformer architecture to better understand and generate human-like language. Its design allows it to process text in both directions simultaneously, which enhances its ability to capture context compared to traditional unidirectional models that read text sequentially from either left to right or right to left.\\n\\nFor instance, when analyzing a sentence with a missing word, a unidirectional model would rely mainly on the preceding context, potentially leading to ambiguous interpretations. In contrast, BERT's bidirectional capability enables it to consider the entire sentence, including words before and after the blank, thus allowing for more accurate predictions. \\n\\nBERT has two primary pre-training tasks: Masked Language Modeling (MLM), where around 15% of input tokens are masked and the model learns to predict them based on surrounding context, and Next Sentence Prediction (NSP), where the model determines if one sentence is likely to follow another. BERT comes in two versions, BERT BASE and BERT LARGE, with varying layers, parameters, and hidden units, reflecting its complexity and capability.\""
      ]
     },
     "execution_count": 26,
     "metadata": {},
     "output_type": "execute_result"
    }
   ],
   "source": [
    "result.response"
   ]
  },
  {
   "cell_type": "code",
   "execution_count": 27,
   "metadata": {
    "colab": {
     "base_uri": "https://localhost:8080/"
    },
    "id": "qxnS44WtM9Dz",
    "outputId": "7bea84ea-e2f8-4e9a-e7df-dfc0f4f602c1"
   },
   "outputs": [
    {
     "name": "stdout",
     "output_type": "stream",
     "text": [
      "Node ID\t 2d38e051-fee5-4444-b75a-8568820b2190\n",
      "Title\t Attention is all you need: How Transformer Architecture in NLP started.\n",
      "Text\t GPT-2  GPT-3  and GPT-4  which were decoder-only architectures. Another well-known example is BERT (Bidirectional Encoder Representations from Transformers)  an encoder-only transformer mode used as a component in sentence embedding models.   Lets talk about BERT!BERT stands for Bidirectional Encoder Representations from Transformers. It is a language model by Google that uses a transformer architecture to understand and generate human-like language. BERT is designed to simultaneously process text in both directions  allowing it to capture context more effectively than traditional unidirectional models  which read text sequentially from left to right or right to left.   Example of Bidirectional CapabilityConsider the sentence:    The bank is situated on the _______ of the river.   In a unidirectional model  understanding the blank would primarily rely on the words before it  potentially leading to ambiguity about whether bank refers to a financial institution or the side of a river.   However  BERTs bidirectional approach allows it to use the entire sentences context  including the words before and after the blank. Thus  the missing word is likely related to the river  resulting in a more accurate prediction  such as bank referring to the riverbank rather than a financial institution.   BERT has two versions:   BERT BASE with    Layers: 12Parameters: 110MAttention Heads: 12Hidden Units: 768BERT LARGE with    Layers: 24Parameters: 340MAttention Heads: 12Hidden Units: 1024DYK?BERT was pre-trained on 3.3 Billion words!   What was it pre-trained on? For what?BERT was pre-trained on two tasks:   Masked Language Modeling (MLM):The inputs are sentences that start with a special token called CLS (Classify Token) and end with a SEP (separator token).   Words  tokens (consider)   Around 15% of the input tokens are masked  and the model is trained to predict those masked tokens.   The model learns to produce contextualized vectors based on the surrounding words at this stage. Read the example above and reread this sentence.   Next Sentence Prediction (NSP):In this one  the model predicts if one sentence is likely to follow another.\n",
      "Score\t 0.6663283821376582\n",
      "Score\t BERT, Transformer, Bidirectional, Language Modeling, NLP, Masked Language Modeling, Next Sentence Prediction, Contextualized Vectors, Google, Encoder-Decoder.\n",
      "-_-_-_-_-_-_-_-_-_-_-_-_-_-_-_-_-_-_-_-_\n",
      "Node ID\t d1ecac05-9e93-4b10-9709-b59e67e74b37\n",
      "Title\t Attention is all you need: How Transformer Architecture in NLP started.\n",
      "Text\t U+1F9E0. This article introduced the transformer architecture to NLP.   This architecture was what we needed to lead us to large language models  but it also solved the problem we discussed earlier: Contextualized Word Embeddings!   How?The transformer architecture was originally designed for translation  like French to English. So  it makes sense that it only had two components:   The EncoderThe DecoderThe input to the encoder would be a sequence of words or tokens  and the output would be a sequence of continuous representations. Then  the output of the decoder  which would decode  was again words or tokens.   How would the translation work?The encoder would take in a phrase in one language and produce output vectors representing the meaning of the input phrase. To produce these vectors  the encoder could attend to tokens to the left or right of any given token.   On the other hand  the decoder operates one token at a time and considers the predicted tokens along with the encoders outputs.   Hence  the decoder predicts the first word: I.   This is again fed around to the input. Now  the decoder considers the encoder input and the previously generated token and predicts am and so on  one token at a time.   Reread it:   The encoder attends to tokens to the left and right of its output  resulting in encoder output vectors being the contextualized vectors were looking for.   But  the decoder only attends to the inputs to the left.         Is translation the only thing we use this for?Transformers with attention are used for more than simple translation tasks. The most famous ones are the LLMs  like GPT-2  GPT-3  and GPT-4  which were decoder-only architectures. Another well-known example is BERT (Bidirectional Encoder Representations from Transformers)  an encoder-only transformer mode used as a component in sentence embedding models.   Lets talk about BERT!BERT stands for Bidirectional Encoder Representations from Transformers. It is a language model by Google that uses a transformer architecture to understand and generate human-like language. BERT is designed to simultaneously process text in both directions  allowing it to capture context more effectively than traditional unidirectional models  which read text sequentially from left to right or right\n",
      "Score\t 0.5620696487176782\n",
      "Score\t transformer architecture, NLP, contextualized word embeddings, encoder, decoder, translation, attention mechanism, BERT, GPT-2, large language models\n",
      "-_-_-_-_-_-_-_-_-_-_-_-_-_-_-_-_-_-_-_-_\n"
     ]
    }
   ],
   "source": [
    "# Show the retrieved nodes\n",
    "for src in result.source_nodes:\n",
    "    print(\"Node ID\\t\", src.node_id)\n",
    "    print(\"Title\\t\", src.metadata[\"title\"])\n",
    "    print(\"Text\\t\", src.text)\n",
    "    print(\"Score\\t\", src.score)\n",
    "    print(\"Score\\t\", src.metadata[\"excerpt_keywords\"])\n",
    "    print(\"-_\" * 20)"
   ]
  },
  {
   "cell_type": "code",
   "execution_count": 27,
   "metadata": {
    "id": "Q39sOYGIQhqm"
   },
   "outputs": [],
   "source": []
  },
  {
   "cell_type": "code",
   "execution_count": 28,
   "metadata": {
    "colab": {
     "base_uri": "https://localhost:8080/"
    },
    "id": "23zPrDo9gojf",
    "outputId": "420f8c8f-66c4-4584-9b32-ca4f68450371"
   },
   "outputs": [
    {
     "name": "stdout",
     "output_type": "stream",
     "text": [
      "The provided excerpts do not contain information relevant to PEFT (Parameter-Efficient Fine-Tuning). As such, a specific explanation of PEFT cannot be provided based on the context information given.\n",
      "Node ID\t 2d38e051-fee5-4444-b75a-8568820b2190\n",
      "Title\t Attention is all you need: How Transformer Architecture in NLP started.\n",
      "Text\t GPT-2  GPT-3  and GPT-4  which were decoder-only architectures. Another well-known example is BERT (Bidirectional Encoder Representations from Transformers)  an encoder-only transformer mode used as a component in sentence embedding models.   Lets talk about BERT!BERT stands for Bidirectional Encoder Representations from Transformers. It is a language model by Google that uses a transformer architecture to understand and generate human-like language. BERT is designed to simultaneously process text in both directions  allowing it to capture context more effectively than traditional unidirectional models  which read text sequentially from left to right or right to left.   Example of Bidirectional CapabilityConsider the sentence:    The bank is situated on the _______ of the river.   In a unidirectional model  understanding the blank would primarily rely on the words before it  potentially leading to ambiguity about whether bank refers to a financial institution or the side of a river.   However  BERTs bidirectional approach allows it to use the entire sentences context  including the words before and after the blank. Thus  the missing word is likely related to the river  resulting in a more accurate prediction  such as bank referring to the riverbank rather than a financial institution.   BERT has two versions:   BERT BASE with    Layers: 12Parameters: 110MAttention Heads: 12Hidden Units: 768BERT LARGE with    Layers: 24Parameters: 340MAttention Heads: 12Hidden Units: 1024DYK?BERT was pre-trained on 3.3 Billion words!   What was it pre-trained on? For what?BERT was pre-trained on two tasks:   Masked Language Modeling (MLM):The inputs are sentences that start with a special token called CLS (Classify Token) and end with a SEP (separator token).   Words  tokens (consider)   Around 15% of the input tokens are masked  and the model is trained to predict those masked tokens.   The model learns to produce contextualized vectors based on the surrounding words at this stage. Read the example above and reread this sentence.   Next Sentence Prediction (NSP):In this one  the model predicts if one sentence is likely to follow another.\n",
      "Score\t 0.2423575889971234\n",
      "Score\t BERT, Transformer, Bidirectional, Language Modeling, NLP, Masked Language Modeling, Next Sentence Prediction, Contextualized Vectors, Google, Encoder-Decoder.\n",
      "-_-_-_-_-_-_-_-_-_-_-_-_-_-_-_-_-_-_-_-_\n",
      "Node ID\t 5a3758e1-7ebf-4cea-b7c5-3b627c9461f4\n",
      "Title\t Optimization of Language Models for Efficient Inference and Performance Using Mixed Architectures\n",
      "Text\t such as pruning  quantization  and parameter sharing  to achieve the best trade-off between performance and efficiency.Example: MobileBERT combines knowledge distillation  parameter sharing  and other techniques to create a highly efficient model suitable for mobile devices.Benefits of Efficient ArchitecturesReduced Computational Load:Efficient architectures lower the computational requirements  making it feasible to deploy complex models on devices with limited processing power  such as smartphones and IoT devices.2. Faster Inference Times:   By reducing the number of parameters and optimizing layer structures  these models can achieve faster inference times  which is critical for real-time applications.3. Lower Memory Footprint:   Efficient models require less memory  enabling their deployment in environments where memory is a limiting factor  such as embedded systems and edge devices.4. Energy Efficiency:   With reduced computational complexity and memory requirements  efficient architectures consume less power  which is essential for battery-operated devices and large-scale deployment in data centers aiming to reduce energy costs.Notable Efficient ArchitecturesMobileBERT:Design: MobileBERT is a compact version of BERT designed specifically for mobile devices. It employs a bottleneck structure to reduce parameter count and computational cost while maintaining high accuracy.Performance: MobileBERT offers performance close to that of BERT with significantly reduced latency and memory usage.2. TinyBERT:   Design: TinyBERT is a smaller  faster version of BERT created using knowledge distillation and other model compression techniques. It maintains the essential features of BERT while being more resource-efficient.Performance: TinyBERT achieves a similar level of accuracy to BERT but with a much smaller model size and faster inference times.3. DistilBERT:   Design: DistilBERT is another compact version of BERT that uses knowledge distillation to reduce the number of layers by half while preserving about 97% of BERTs performance.Performance: DistilBERT runs approximately 60% faster and uses 40% less memory than BERT  making it suitable for resource-constrained applications.Challenges and ConsiderationsBalancing Performance and Efficiency:Designing efficient architectures requires careful balancing of model complexity and performance. Aggressive reduction in parameters and layers can lead to a significant drop in accuracy.2. Specialized Training Techniques:   Efficient architectures often require advanced training techniques such as knowledge distillation and parameter sharing  which may complicate the training\n",
      "Score\t 0.23012384509123102\n",
      "Score\t Optimization, Language Models, Efficient Inference, Mixed Architectures, MobileBERT, Quantization, Pruning, Knowledge Distillation, Performance, Energy Efficiency\n",
      "-_-_-_-_-_-_-_-_-_-_-_-_-_-_-_-_-_-_-_-_\n"
     ]
    }
   ],
   "source": [
    "# When Mismatch between Keyword (value) and Query\n",
    "\n",
    "filters = MetadataFilters(\n",
    "    filters=[\n",
    "        MetadataFilter(\n",
    "            key=\"excerpt_keywords\",\n",
    "            operator=FilterOperator.TEXT_MATCH,\n",
    "            value=\"BERT\",\n",
    "        ),\n",
    "        MetadataFilter(\n",
    "            key=\"source\", operator=FilterOperator.EQ, value=\"tai_blog\"\n",
    "        ),\n",
    "    ],\n",
    "    condition=FilterCondition.AND,\n",
    ")\n",
    "\n",
    "query_engine = index.as_query_engine(filters=filters)\n",
    "\n",
    "result = query_engine.query(\"Explain PEFT?\")\n",
    "\n",
    "print(result.response)\n",
    "\n",
    "\n",
    "# Show the retrieved nodes\n",
    "for src in result.source_nodes:\n",
    "    print(\"Node ID\\t\", src.node_id)\n",
    "    print(\"Title\\t\", src.metadata[\"title\"])\n",
    "    print(\"Text\\t\", src.text)\n",
    "    print(\"Score\\t\", src.score)\n",
    "    print(\"Score\\t\", src.metadata[\"excerpt_keywords\"])\n",
    "    print(\"-_\" * 20)\n"
   ]
  },
  {
   "cell_type": "code",
   "execution_count": 28,
   "metadata": {
    "id": "W784Vs7lg4fA"
   },
   "outputs": [],
   "source": []
  }
 ],
 "metadata": {
  "colab": {
   "provenance": []
  },
  "kernelspec": {
   "display_name": "Python 3",
   "name": "python3"
  },
  "language_info": {
   "name": "python",
   "version": "3.12.4"
  }
 },
 "nbformat": 4,
 "nbformat_minor": 0
}
