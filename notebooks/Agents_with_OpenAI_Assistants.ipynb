{
 "cells": [
  {
   "cell_type": "markdown",
   "metadata": {
    "id": "jkcJFFkVIboi"
   },
   "source": [
    "<a href=\"https://colab.research.google.com/github/towardsai/ai-tutor-rag-system/blob/main/notebooks/Agents_with_OpenAI_Assistants.ipynb\" target=\"_parent\"><img src=\"https://colab.research.google.com/assets/colab-badge.svg\" alt=\"Open In Colab\"/></a>"
   ]
  },
  {
   "cell_type": "code",
   "execution_count": null,
   "metadata": {
    "id": "UPKtF57twVp8"
   },
   "outputs": [],
   "source": [
    "!pip install -q openai==1.59.6"
   ]
  },
  {
   "cell_type": "code",
   "execution_count": null,
   "metadata": {
    "id": "gf1VoYD-Y7TL"
   },
   "outputs": [],
   "source": [
    "import os\n",
    "\n",
    "# Set the \"OPENAI_API_KEY\" in the Python environment. Will be used by OpenAI client later.\n",
    "os.environ[\"OPENAI_API_KEY\"] = \"[OPENAI_API_KEY]\"\n",
    "\n",
    "\n",
    "# from google.colab import userdata\n",
    "# os.environ[\"OPENAI_API_KEY\"] = userdata.get('openai_api_key')"
   ]
  },
  {
   "cell_type": "markdown",
   "metadata": {
    "id": "mLTbUTtthHGG"
   },
   "source": [
    "# Math Tutor\n"
   ]
  },
  {
   "cell_type": "code",
   "execution_count": null,
   "metadata": {
    "id": "QxYu2uw9YoG8"
   },
   "outputs": [],
   "source": [
    "from openai import OpenAI\n",
    "\n",
    "client = OpenAI()\n",
    "\n",
    "assistant = client.beta.assistants.create(\n",
    "    name=\"Math Tutor\",\n",
    "    instructions=\"You are a personal math tutor. Write and run code to answer math questions.\",\n",
    "    model=\"gpt-4o\",\n",
    "    tools=[{\"type\": \"code_interpreter\"}],\n",
    ")"
   ]
  },
  {
   "cell_type": "code",
   "execution_count": null,
   "metadata": {
    "id": "zdAu65wDY43T"
   },
   "outputs": [],
   "source": [
    "thread = client.beta.threads.create()"
   ]
  },
  {
   "cell_type": "code",
   "execution_count": null,
   "metadata": {
    "id": "AeiK-j7NZIJI"
   },
   "outputs": [],
   "source": [
    "message = client.beta.threads.messages.create(\n",
    "    thread_id=thread.id,\n",
    "    role=\"user\",\n",
    "    content=\"I need to solve the equation `3x + 11 = 14`. Can you help me?\",\n",
    ")"
   ]
  },
  {
   "cell_type": "code",
   "execution_count": null,
   "metadata": {
    "id": "-PWEekBTZJSR"
   },
   "outputs": [],
   "source": [
    "run = client.beta.threads.runs.create_and_poll(\n",
    "    thread_id=thread.id, assistant_id=assistant.id\n",
    ")"
   ]
  },
  {
   "cell_type": "code",
   "execution_count": null,
   "metadata": {
    "id": "SKcOwN2XZKTy"
   },
   "outputs": [],
   "source": [
    "messages = list(client.beta.threads.messages.list(thread_id=thread.id, run_id=run.id))"
   ]
  },
  {
   "cell_type": "code",
   "execution_count": null,
   "metadata": {
    "colab": {
     "base_uri": "https://localhost:8080/"
    },
    "id": "ndRo014JZSLo",
    "outputId": "484b65a3-e598-487e-c686-130b06b36ed2"
   },
   "outputs": [
    {
     "name": "stdout",
     "output_type": "stream",
     "text": [
      "The solution to the equation \\(3x + 11 = 14\\) is \\(x = 1\\).\n"
     ]
    }
   ],
   "source": [
    "print(messages[0].content[0].text.value)"
   ]
  },
  {
   "cell_type": "markdown",
   "metadata": {
    "id": "cgE3EEaHhFEh"
   },
   "source": [
    "# Customer Support\n"
   ]
  },
  {
   "cell_type": "code",
   "execution_count": null,
   "metadata": {
    "colab": {
     "base_uri": "https://localhost:8080/"
    },
    "id": "P-zDilXchGGU",
    "outputId": "cfa7325d-7e2e-42a5-9954-5418119b5dfd"
   },
   "outputs": [
    {
     "name": "stdout",
     "output_type": "stream",
     "text": [
      "--2025-01-22 10:40:57--  https://personales.unican.es/corcuerp/linux/resources/LinuxCommandLineCheatSheet_1.pdf\n",
      "Resolving personales.unican.es (personales.unican.es)... 193.144.193.111\n",
      "Connecting to personales.unican.es (personales.unican.es)|193.144.193.111|:443... connected.\n",
      "HTTP request sent, awaiting response... 200 OK\n",
      "Length: 267816 (262K) [application/pdf]\n",
      "Saving to: ‘LinuxCommandLineCheatSheet_1.pdf’\n",
      "\n",
      "LinuxCommandLineChe 100%[===================>] 261.54K   407KB/s    in 0.6s    \n",
      "\n",
      "2025-01-22 10:40:58 (407 KB/s) - ‘LinuxCommandLineCheatSheet_1.pdf’ saved [267816/267816]\n",
      "\n"
     ]
    }
   ],
   "source": [
    "!wget https://personales.unican.es/corcuerp/linux/resources/LinuxCommandLineCheatSheet_1.pdf"
   ]
  },
  {
   "cell_type": "code",
   "execution_count": null,
   "metadata": {
    "id": "IqLR9ss9lKrz"
   },
   "outputs": [],
   "source": [
    "from openai import OpenAI\n",
    "\n",
    "client = OpenAI()"
   ]
  },
  {
   "cell_type": "code",
   "execution_count": null,
   "metadata": {
    "colab": {
     "base_uri": "https://localhost:8080/"
    },
    "id": "VevcGLDCjdUi",
    "outputId": "9279901f-34fb-4ce2-e295-b53464459007"
   },
   "outputs": [
    {
     "name": "stdout",
     "output_type": "stream",
     "text": [
      "completed\n",
      "FileCounts(cancelled=0, completed=1, failed=0, in_progress=0, total=1)\n"
     ]
    }
   ],
   "source": [
    "# Create a vector store caled \"Financial Statements\"\n",
    "vector_store = client.beta.vector_stores.create(name=\"Tech Support\")\n",
    "\n",
    "# Ready the files for upload to OpenAI\n",
    "file_streams = [open(\"LinuxCommandLineCheatSheet_1.pdf\", \"rb\")]\n",
    "\n",
    "# Use the upload and poll SDK helper to upload the files, add them to the vector store,\n",
    "# and poll the status of the file batch for completion.\n",
    "file_batch = client.beta.vector_stores.file_batches.upload_and_poll(\n",
    "    vector_store_id=vector_store.id, files=file_streams\n",
    ")\n",
    "\n",
    "# You can print the status and the file counts of the batch to see the result of this operation.\n",
    "print(file_batch.status)\n",
    "print(file_batch.file_counts)"
   ]
  },
  {
   "cell_type": "code",
   "execution_count": null,
   "metadata": {
    "id": "pTzfL1XCjdXT"
   },
   "outputs": [],
   "source": [
    "assistant = client.beta.assistants.create(\n",
    "    name=\"Tech Support\",\n",
    "    instructions=\"You are a tech support chatbot. Use the product manual to respond accurately to customer inquiries.\",\n",
    "    model=\"gpt-4o\",\n",
    "    tools=[{\"type\": \"file_search\"}],\n",
    "    tool_resources={\"file_search\": {\"vector_store_ids\": [vector_store.id]}},\n",
    ")"
   ]
  },
  {
   "cell_type": "code",
   "execution_count": null,
   "metadata": {
    "id": "FSTCsotRjdPj"
   },
   "outputs": [],
   "source": [
    "# Create a thread and attach the file to the message\n",
    "thread = client.beta.threads.create(\n",
    "    messages=[\n",
    "        {\n",
    "            \"role\": \"user\",\n",
    "            \"content\": \"What 'ls' command do?\",\n",
    "        }\n",
    "    ]\n",
    ")"
   ]
  },
  {
   "cell_type": "code",
   "execution_count": null,
   "metadata": {
    "id": "jdD5yJK2jdMu"
   },
   "outputs": [],
   "source": [
    "run = client.beta.threads.runs.create_and_poll(\n",
    "    thread_id=thread.id, assistant_id=assistant.id\n",
    ")"
   ]
  },
  {
   "cell_type": "code",
   "execution_count": null,
   "metadata": {
    "colab": {
     "base_uri": "https://localhost:8080/"
    },
    "id": "p0w3ts1DjdKW",
    "outputId": "59152d25-7c54-4353-d486-4792bff22bc3"
   },
   "outputs": [
    {
     "name": "stdout",
     "output_type": "stream",
     "text": [
      "The `ls` command in Linux is used to list files and directories. Specifically, running `ls` without any options will list the files and directories in the current directory. Using `ls -al` provides a detailed listing of the contents, including hidden files【4:0†LinuxCommandLineCheatSheet_1.pdf】.\n"
     ]
    }
   ],
   "source": [
    "messages = list(client.beta.threads.messages.list(thread_id=thread.id, run_id=run.id))\n",
    "\n",
    "print(messages[0].content[0].text.value)"
   ]
  },
  {
   "cell_type": "code",
   "execution_count": null,
   "metadata": {
    "colab": {
     "base_uri": "https://localhost:8080/"
    },
    "id": "p1KafLldjdFI",
    "outputId": "5cd262e4-9adf-418b-92ee-b89016ed91f3"
   },
   "outputs": [
    {
     "data": {
      "text/plain": [
       "[FileCitationAnnotation(end_index=294, file_citation=FileCitation(file_id='file-GfFBhZk6qRgyUy1ixdiBJT'), start_index=256, text='【4:0†LinuxCommandLineCheatSheet_1.pdf】', type='file_citation')]"
      ]
     },
     "execution_count": 16,
     "metadata": {},
     "output_type": "execute_result"
    }
   ],
   "source": [
    "messages[0].content[0].text.annotations"
   ]
  }
 ],
 "metadata": {
  "colab": {
   "provenance": []
  },
  "kernelspec": {
   "display_name": "Python 3",
   "name": "python3"
  },
  "language_info": {
   "name": "python",
   "version": "3.12.4"
  }
 },
 "nbformat": 4,
 "nbformat_minor": 0
}
