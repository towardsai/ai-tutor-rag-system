{
 "cells": [
  {
   "cell_type": "markdown",
   "metadata": {
    "id": "fvxEq2_oM8YA"
   },
   "source": [
    "<a href=\"https://colab.research.google.com/github/towardsai/ai-tutor-rag-system/blob/main/notebooks/Open_source_BetterEmbedding_Model.ipynb\" target=\"_parent\"><img src=\"https://colab.research.google.com/assets/colab-badge.svg\" alt=\"Open In Colab\"/></a>"
   ]
  },
  {
   "cell_type": "markdown",
   "metadata": {
    "id": "D7VHrzOaj6zn"
   },
   "source": [
    "**Install Packages and Setup Variables**"
   ]
  },
  {
   "cell_type": "code",
   "execution_count": null,
   "metadata": {
    "colab": {
     "base_uri": "https://localhost:8080/"
    },
    "collapsed": true,
    "id": "AymSbJC_2WS-",
    "outputId": "66d419d3-272c-47c7-bada-a54e95d9fbd4"
   },
   "outputs": [
    {
     "name": "stdout",
     "output_type": "stream",
     "text": [
      "  Installing build dependencies ... \u001b[?25l\u001b[?25hdone\n",
      "  Getting requirements to build wheel ... \u001b[?25l\u001b[?25hdone\n",
      "  Preparing metadata (pyproject.toml) ... \u001b[?25l\u001b[?25hdone\n",
      "\u001b[2K     \u001b[90m━━━━━━━━━━━━━━━━━━━━━━━━━━━━━━━━━━━━━━━━\u001b[0m \u001b[32m88.0/88.0 kB\u001b[0m \u001b[31m6.2 MB/s\u001b[0m eta \u001b[36m0:00:00\u001b[0m\n",
      "\u001b[2K     \u001b[90m━━━━━━━━━━━━━━━━━━━━━━━━━━━━━━━━━━━━━━━━\u001b[0m \u001b[32m46.5/46.5 kB\u001b[0m \u001b[31m3.3 MB/s\u001b[0m eta \u001b[36m0:00:00\u001b[0m\n",
      "\u001b[2K   \u001b[90m━━━━━━━━━━━━━━━━━━━━━━━━━━━━━━━━━━━━━━━━\u001b[0m \u001b[32m951.0/951.0 kB\u001b[0m \u001b[31m29.8 MB/s\u001b[0m eta \u001b[36m0:00:00\u001b[0m\n",
      "\u001b[2K   \u001b[90m━━━━━━━━━━━━━━━━━━━━━━━━━━━━━━━━━━━━━━━━\u001b[0m \u001b[32m295.4/295.4 kB\u001b[0m \u001b[31m20.9 MB/s\u001b[0m eta \u001b[36m0:00:00\u001b[0m\n",
      "\u001b[2K   \u001b[90m━━━━━━━━━━━━━━━━━━━━━━━━━━━━━━━━━━━━━━━━\u001b[0m \u001b[32m19.8/19.8 MB\u001b[0m \u001b[31m67.8 MB/s\u001b[0m eta \u001b[36m0:00:00\u001b[0m\n",
      "\u001b[2K   \u001b[90m━━━━━━━━━━━━━━━━━━━━━━━━━━━━━━━━━━━━━━━━\u001b[0m \u001b[32m1.6/1.6 MB\u001b[0m \u001b[31m46.8 MB/s\u001b[0m eta \u001b[36m0:00:00\u001b[0m\n",
      "\u001b[2K   \u001b[90m━━━━━━━━━━━━━━━━━━━━━━━━━━━━━━━━━━━━━━━━\u001b[0m \u001b[32m284.2/284.2 kB\u001b[0m \u001b[31m18.4 MB/s\u001b[0m eta \u001b[36m0:00:00\u001b[0m\n",
      "\u001b[2K   \u001b[90m━━━━━━━━━━━━━━━━━━━━━━━━━━━━━━━━━━━━━━━━\u001b[0m \u001b[32m3.5/3.5 MB\u001b[0m \u001b[31m84.7 MB/s\u001b[0m eta \u001b[36m0:00:00\u001b[0m\n",
      "\u001b[2K   \u001b[90m━━━━━━━━━━━━━━━━━━━━━━━━━━━━━━━━━━━━━━━━\u001b[0m \u001b[32m1.9/1.9 MB\u001b[0m \u001b[31m61.8 MB/s\u001b[0m eta \u001b[36m0:00:00\u001b[0m\n",
      "\u001b[2K   \u001b[90m━━━━━━━━━━━━━━━━━━━━━━━━━━━━━━━━━━━━━━━━\u001b[0m \u001b[32m11.9/11.9 MB\u001b[0m \u001b[31m51.4 MB/s\u001b[0m eta \u001b[36m0:00:00\u001b[0m\n",
      "\u001b[2K   \u001b[90m━━━━━━━━━━━━━━━━━━━━━━━━━━━━━━━━━━━━━━━━\u001b[0m \u001b[32m303.3/303.3 kB\u001b[0m \u001b[31m16.7 MB/s\u001b[0m eta \u001b[36m0:00:00\u001b[0m\n",
      "\u001b[2K   \u001b[90m━━━━━━━━━━━━━━━━━━━━━━━━━━━━━━━━━━━━━━━━\u001b[0m \u001b[32m51.8/51.8 kB\u001b[0m \u001b[31m4.1 MB/s\u001b[0m eta \u001b[36m0:00:00\u001b[0m\n",
      "\u001b[2K   \u001b[90m━━━━━━━━━━━━━━━━━━━━━━━━━━━━━━━━━━━━━━━━\u001b[0m \u001b[32m440.5/440.5 kB\u001b[0m \u001b[31m28.1 MB/s\u001b[0m eta \u001b[36m0:00:00\u001b[0m\n",
      "\u001b[2K   \u001b[90m━━━━━━━━━━━━━━━━━━━━━━━━━━━━━━━━━━━━━━━━\u001b[0m \u001b[32m103.3/103.3 kB\u001b[0m \u001b[31m8.0 MB/s\u001b[0m eta \u001b[36m0:00:00\u001b[0m\n",
      "\u001b[2K   \u001b[90m━━━━━━━━━━━━━━━━━━━━━━━━━━━━━━━━━━━━━━━━\u001b[0m \u001b[32m16.5/16.5 MB\u001b[0m \u001b[31m81.5 MB/s\u001b[0m eta \u001b[36m0:00:00\u001b[0m\n",
      "\u001b[2K   \u001b[90m━━━━━━━━━━━━━━━━━━━━━━━━━━━━━━━━━━━━━━━━\u001b[0m \u001b[32m72.5/72.5 kB\u001b[0m \u001b[31m5.7 MB/s\u001b[0m eta \u001b[36m0:00:00\u001b[0m\n",
      "\u001b[2K   \u001b[90m━━━━━━━━━━━━━━━━━━━━━━━━━━━━━━━━━━━━━━━━\u001b[0m \u001b[32m105.4/105.4 kB\u001b[0m \u001b[31m8.7 MB/s\u001b[0m eta \u001b[36m0:00:00\u001b[0m\n",
      "\u001b[2K   \u001b[90m━━━━━━━━━━━━━━━━━━━━━━━━━━━━━━━━━━━━━━━━\u001b[0m \u001b[32m71.6/71.6 kB\u001b[0m \u001b[31m5.8 MB/s\u001b[0m eta \u001b[36m0:00:00\u001b[0m\n",
      "\u001b[2K   \u001b[90m━━━━━━━━━━━━━━━━━━━━━━━━━━━━━━━━━━━━━━━━\u001b[0m \u001b[32m190.9/190.9 kB\u001b[0m \u001b[31m15.1 MB/s\u001b[0m eta \u001b[36m0:00:00\u001b[0m\n",
      "\u001b[2K   \u001b[90m━━━━━━━━━━━━━━━━━━━━━━━━━━━━━━━━━━━━━━━━\u001b[0m \u001b[32m510.8/510.8 kB\u001b[0m \u001b[31m33.0 MB/s\u001b[0m eta \u001b[36m0:00:00\u001b[0m\n",
      "\u001b[2K   \u001b[90m━━━━━━━━━━━━━━━━━━━━━━━━━━━━━━━━━━━━━━━━\u001b[0m \u001b[32m160.3/160.3 kB\u001b[0m \u001b[31m11.8 MB/s\u001b[0m eta \u001b[36m0:00:00\u001b[0m\n",
      "\u001b[2K   \u001b[90m━━━━━━━━━━━━━━━━━━━━━━━━━━━━━━━━━━━━━━━━\u001b[0m \u001b[32m62.1/62.1 kB\u001b[0m \u001b[31m4.9 MB/s\u001b[0m eta \u001b[36m0:00:00\u001b[0m\n",
      "\u001b[2K   \u001b[90m━━━━━━━━━━━━━━━━━━━━━━━━━━━━━━━━━━━━━━━━\u001b[0m \u001b[32m63.9/63.9 kB\u001b[0m \u001b[31m5.0 MB/s\u001b[0m eta \u001b[36m0:00:00\u001b[0m\n",
      "\u001b[2K   \u001b[90m━━━━━━━━━━━━━━━━━━━━━━━━━━━━━━━━━━━━━━━━\u001b[0m \u001b[32m322.5/322.5 kB\u001b[0m \u001b[31m24.1 MB/s\u001b[0m eta \u001b[36m0:00:00\u001b[0m\n",
      "\u001b[2K   \u001b[90m━━━━━━━━━━━━━━━━━━━━━━━━━━━━━━━━━━━━━━━━\u001b[0m \u001b[32m4.7/4.7 MB\u001b[0m \u001b[31m94.5 MB/s\u001b[0m eta \u001b[36m0:00:00\u001b[0m\n",
      "\u001b[2K   \u001b[90m━━━━━━━━━━━━━━━━━━━━━━━━━━━━━━━━━━━━━━━━\u001b[0m \u001b[32m452.2/452.2 kB\u001b[0m \u001b[31m30.9 MB/s\u001b[0m eta \u001b[36m0:00:00\u001b[0m\n",
      "\u001b[2K   \u001b[90m━━━━━━━━━━━━━━━━━━━━━━━━━━━━━━━━━━━━━━━━\u001b[0m \u001b[32m46.0/46.0 kB\u001b[0m \u001b[31m3.4 MB/s\u001b[0m eta \u001b[36m0:00:00\u001b[0m\n",
      "\u001b[2K   \u001b[90m━━━━━━━━━━━━━━━━━━━━━━━━━━━━━━━━━━━━━━━━\u001b[0m \u001b[32m211.8/211.8 kB\u001b[0m \u001b[31m14.9 MB/s\u001b[0m eta \u001b[36m0:00:00\u001b[0m\n",
      "\u001b[2K   \u001b[90m━━━━━━━━━━━━━━━━━━━━━━━━━━━━━━━━━━━━━━━━\u001b[0m \u001b[32m86.8/86.8 kB\u001b[0m \u001b[31m6.8 MB/s\u001b[0m eta \u001b[36m0:00:00\u001b[0m\n",
      "\u001b[2K   \u001b[90m━━━━━━━━━━━━━━━━━━━━━━━━━━━━━━━━━━━━━━━━\u001b[0m \u001b[32m50.9/50.9 kB\u001b[0m \u001b[31m3.7 MB/s\u001b[0m eta \u001b[36m0:00:00\u001b[0m\n",
      "\u001b[2K   \u001b[90m━━━━━━━━━━━━━━━━━━━━━━━━━━━━━━━━━━━━━━━━\u001b[0m \u001b[32m117.0/117.0 kB\u001b[0m \u001b[31m8.4 MB/s\u001b[0m eta \u001b[36m0:00:00\u001b[0m\n",
      "\u001b[2K   \u001b[90m━━━━━━━━━━━━━━━━━━━━━━━━━━━━━━━━━━━━━━━━\u001b[0m \u001b[32m144.4/144.4 kB\u001b[0m \u001b[31m11.0 MB/s\u001b[0m eta \u001b[36m0:00:00\u001b[0m\n",
      "\u001b[?25h  Building wheel for pypika (pyproject.toml) ... \u001b[?25l\u001b[?25hdone\n"
     ]
    }
   ],
   "source": [
    "!pip install -q llama-index==0.14.0 openai==1.107.0 llama-index-finetuning==0.4.1 llama-index-embeddings-huggingface==0.6.1 \\\n",
    "                llama-index-embeddings-cohere==0.6.1 cohere==5.18.0 chromadb==1.0.21 \\\n",
    "                llama-index-vector-stores-chroma==0.5.3 llama-index-llms-google-genai==0.5.0 jedi==0.19.2"
   ]
  },
  {
   "cell_type": "code",
   "execution_count": null,
   "metadata": {
    "id": "3IW-a9ql3FkD"
   },
   "outputs": [],
   "source": [
    "import os\n",
    "\n",
    "# Set the following API Keys in the Python environment. Will be used later.\n",
    "# os.environ[\"OPENAI_API_KEY\"] = \"<YOUR_OPENAI_KEY>\"\n",
    "# os.environ[\"CO_API_KEY\"] = \"<YOUR_COHERE_KEY>\"\n",
    "# os.environ[\"GOOGLE_API_KEY\"] = \"<YOUR_OPENAI_KEY>\"\n",
    "\n",
    "from google.colab import userdata\n",
    "os.environ[\"OPENAI_API_KEY\"] = userdata.get('OPENAI_API_KEY')\n",
    "os.environ[\"CO_API_KEY\"] = userdata.get('COHERE_API_KEY')\n",
    "os.environ[\"GOOGLE_API_KEY\"] = userdata.get('Google_api_key')"
   ]
  },
  {
   "cell_type": "code",
   "execution_count": null,
   "metadata": {
    "id": "9TUa1W2H3K47"
   },
   "outputs": [],
   "source": [
    "# Allows running asyncio in environments with an existing event loop, like Jupyter notebooks.\n",
    "\n",
    "import nest_asyncio\n",
    "\n",
    "nest_asyncio.apply()"
   ]
  },
  {
   "cell_type": "markdown",
   "metadata": {
    "id": "FAt2v0Qik7sY"
   },
   "source": [
    "**Load a Model**"
   ]
  },
  {
   "cell_type": "code",
   "execution_count": null,
   "metadata": {
    "colab": {
     "base_uri": "https://localhost:8080/",
     "height": 337,
     "referenced_widgets": [
      "c7520025f22a4b308a7462459ae7fb83",
      "f858f530028c4a5f85234e8920afdcb8",
      "9c9524b92d3c4ef89107b0340b5a4cd4",
      "4a5046063f7841faac10e16335c4357f",
      "45d08cdd9c084acfaf2dce288c6b3b2c",
      "b66ce1cae502417ea62d9dc8d5dd1b9b",
      "89c8eb9f0b844a9283eb86904e710e28",
      "c684a3caef6a46c29fe299f15f609503",
      "d24fe820658f4ceb8c6afde913dd3cc7",
      "d9be1e5c357444caa5f0a26bb45b37e4",
      "e71676c731164998916a1a4d12bd0415",
      "eb21ec50d9ca465da94dbcd11be58d84",
      "7d934118f570443188088c53dad1a61d",
      "b9ebe74cdbeb41ada819600abfb62610",
      "84ac24d4843a4dbfbdb2f084f6622c04",
      "72e8fee822b1461399a8962e4f084be6",
      "9db8f23124814d308db6ceb7b7cb01b6",
      "788bb36170e04c7ea92a55165cc54631",
      "c446499a9cc9415981baa67d19fc81e9",
      "942128672ee24e998e66d2b69803aad8",
      "aa25643085334cdb9f3ebcd0a6e5f051",
      "49684b0986524a5da6d12939d76388de",
      "2335d84259cc428bb8696e14f06328cc",
      "4dadf735f2634ea0aec5d261e93ebcca",
      "245167d19b7046eea75cfa957a637c56",
      "b8c9bd934c5547eeb1464b93c4365957",
      "a39839c29e93482581588162d6924f17",
      "264489a049244eb0b6f9c1eabe9f99bb",
      "98a85e21339d4a72ab249bda50db0054",
      "ac298d3026924b70b56186e1448a9870",
      "622f02b6a67e4a17a898ed9a7b4cf77c",
      "7a754004bb2f4672b0c435e0ef983d26",
      "455b6b4e25a048b693c65d3e0b51e6ad",
      "e620cedaf52f4172a0dd092178fb5852",
      "b2ddcaffdd524593b113d9bdc48faa27",
      "8e25a1f4c946466a8c41b036aeffa80f",
      "1646c9740a3e457e9908d1ec29b62173",
      "3c1338a13cd547f5bfe74388994760b3",
      "adecb25fd5674b31a32610bc25fa40af",
      "8d6b118576604a64a2ca96e72423732d",
      "1fe10591f6e84d6ba2db7e058cdd40a1",
      "9c75f423181543b78018106e515fcf54",
      "65ed4b55152547a4b280904abe7ff8ae",
      "af115b6253b34080af0e6f88582c86a4",
      "f7888935a7be4b0d926df8f9b0391e55",
      "84ffbb603b2245ac9f528cf45dfdc759",
      "0e502b1eabad48f2af9b8a08bafda722",
      "822fbc6909d3468f977a63ca5ec2523b",
      "70865c90c87f4761b7eba2cfd04b2dcd",
      "a5f61a2f734b4e4a859c443f7e611d10",
      "fe0b39762c1649c5aaebd1fab2f33a12",
      "b5dcd93e9cdd4773ac5274d0b92a1cc6",
      "3a0dcc9cd15642fcabe0da7e77cdbf9b",
      "e9f54539f4df45eb882f0d40b9e93f6b",
      "43d932aaa8d447de90740a2d8d6f6fc4",
      "7fca7118cd894160bc47f65a7063ba09",
      "e4d3c4d1831c47259e64741450beb2ad",
      "da836649b17a480aae3869467fac6a3c",
      "22a80b083158490ba5024e3fc0a2a159",
      "ded9e359b7064fa3b0e786be088d31db",
      "31eb94a581b545cab1c73e07dd34747f",
      "939bbfd64d764fd1b26510e68a9cd18b",
      "32f88a2a64f24ad7a5b6420be429d123",
      "0c5eab11e85440c9a3d6057f0b9fea01",
      "6494194f8c494c04b911ea02db7a48ce",
      "208505f3048242d4a5a18cfdd57db1eb",
      "a6e280f352d8442584e97c321a5ce450",
      "caff22ff934b4ce8875569c3f98d8396",
      "08ae41941ea64ab7a369a2336733ea6e",
      "d9b9a883c6c14f3aae35877b2e77d693",
      "336f7f4bb67f4664af300fc83fcc925e",
      "2ee47d5e4b5d4ddd900543bb2d51027c",
      "b29a4412719042108c25293c6870ccb5",
      "216f5cbf55d14366a28dd12e6ed55f2a",
      "8730e4ea047247d296d561122bb38901",
      "35ecd57a9fa44a5d854db8330d23fee0",
      "7ac1ced4a0fa463a8cd5ebeab274b36e",
      "207ec3f90c7e40089aa5417cfad4766c",
      "20a921568c2a48bf99ddf9e053a91384",
      "45b4de65f5714e9d8a69c434edb31c00",
      "1f69b241e3f0470ca08f36f50c47de21",
      "e0dbc8e062e44f50897e8b5ab8f59d3c",
      "4ca5d042752941909f256148cddf230a",
      "15db377da89343cdb0d90e0527a69820",
      "9e7a5e9cf1e848ecacd5869dc4999686",
      "fcb66b6898d84dc3a887752334a8841b",
      "1576d908ed6b4a4ab99731f67b25a51f",
      "8e37d9f37c3349e596404e946dd3bff3",
      "432075177c2f41abbf965720572e684c",
      "554ce65f46e342b6bba1c93c23232675",
      "b9ad95d3fdc64511ae0de5881fcd1a1e",
      "b42bf7d8eb26462a9272db2f89d75f25",
      "0dd0e0c1f04d4476b69cfe68cc4f0fb4",
      "ae99b4fbc6c84be6a9b07dc0279683b0",
      "6c564cf7f2e347a78b9d6b075475f319",
      "6ea953aefd204519a6df51e38f05eca4",
      "488f8dcc60f24e9fa00d124a9c798b1a",
      "216419455eb442cdb80ba21150ddc592",
      "255d27af274e48179b7c7567323e378b",
      "0df71183bfbd46c9b2d002b060ec7660",
      "c1b4c9b843744da89708ffcc5c638101",
      "ab0bbe3306fb4cc7b441a62cc6c570e0",
      "7f49028084f549ecba0a82e56fa73cf2",
      "10461ecafca9458e9ed25bb1fc0078b1",
      "145ae803cca2469085a4f2ffad19a493",
      "f0708731d58a4378884dedeab1a21b6b",
      "61c4562222e0464a998206bd3cb90f9d",
      "3749a6101b4a4f67ba59975f47cacff1",
      "b021278ade534023a6b3db02328d0d32",
      "253cae471b324049b0da6acb85ed1d42"
     ]
    },
    "id": "Myy9yddv4mzH",
    "outputId": "0e583e63-6d5e-4f4b-fa03-443a806d395a"
   },
   "outputs": [
    {
     "data": {
      "application/vnd.jupyter.widget-view+json": {
       "model_id": "c7520025f22a4b308a7462459ae7fb83",
       "version_major": 2,
       "version_minor": 0
      },
      "text/plain": [
       "modules.json:   0%|          | 0.00/387 [00:00<?, ?B/s]"
      ]
     },
     "metadata": {},
     "output_type": "display_data"
    },
    {
     "data": {
      "application/vnd.jupyter.widget-view+json": {
       "model_id": "eb21ec50d9ca465da94dbcd11be58d84",
       "version_major": 2,
       "version_minor": 0
      },
      "text/plain": [
       "README.md: 0.00B [00:00, ?B/s]"
      ]
     },
     "metadata": {},
     "output_type": "display_data"
    },
    {
     "data": {
      "application/vnd.jupyter.widget-view+json": {
       "model_id": "2335d84259cc428bb8696e14f06328cc",
       "version_major": 2,
       "version_minor": 0
      },
      "text/plain": [
       "sentence_bert_config.json:   0%|          | 0.00/57.0 [00:00<?, ?B/s]"
      ]
     },
     "metadata": {},
     "output_type": "display_data"
    },
    {
     "data": {
      "application/vnd.jupyter.widget-view+json": {
       "model_id": "e620cedaf52f4172a0dd092178fb5852",
       "version_major": 2,
       "version_minor": 0
      },
      "text/plain": [
       "config.json:   0%|          | 0.00/615 [00:00<?, ?B/s]"
      ]
     },
     "metadata": {},
     "output_type": "display_data"
    },
    {
     "data": {
      "application/vnd.jupyter.widget-view+json": {
       "model_id": "f7888935a7be4b0d926df8f9b0391e55",
       "version_major": 2,
       "version_minor": 0
      },
      "text/plain": [
       "model.safetensors:   0%|          | 0.00/133M [00:00<?, ?B/s]"
      ]
     },
     "metadata": {},
     "output_type": "display_data"
    },
    {
     "data": {
      "application/vnd.jupyter.widget-view+json": {
       "model_id": "7fca7118cd894160bc47f65a7063ba09",
       "version_major": 2,
       "version_minor": 0
      },
      "text/plain": [
       "tokenizer_config.json:   0%|          | 0.00/314 [00:00<?, ?B/s]"
      ]
     },
     "metadata": {},
     "output_type": "display_data"
    },
    {
     "data": {
      "application/vnd.jupyter.widget-view+json": {
       "model_id": "a6e280f352d8442584e97c321a5ce450",
       "version_major": 2,
       "version_minor": 0
      },
      "text/plain": [
       "vocab.txt: 0.00B [00:00, ?B/s]"
      ]
     },
     "metadata": {},
     "output_type": "display_data"
    },
    {
     "data": {
      "application/vnd.jupyter.widget-view+json": {
       "model_id": "207ec3f90c7e40089aa5417cfad4766c",
       "version_major": 2,
       "version_minor": 0
      },
      "text/plain": [
       "tokenizer.json: 0.00B [00:00, ?B/s]"
      ]
     },
     "metadata": {},
     "output_type": "display_data"
    },
    {
     "data": {
      "application/vnd.jupyter.widget-view+json": {
       "model_id": "432075177c2f41abbf965720572e684c",
       "version_major": 2,
       "version_minor": 0
      },
      "text/plain": [
       "special_tokens_map.json:   0%|          | 0.00/125 [00:00<?, ?B/s]"
      ]
     },
     "metadata": {},
     "output_type": "display_data"
    },
    {
     "data": {
      "application/vnd.jupyter.widget-view+json": {
       "model_id": "0df71183bfbd46c9b2d002b060ec7660",
       "version_major": 2,
       "version_minor": 0
      },
      "text/plain": [
       "config.json:   0%|          | 0.00/200 [00:00<?, ?B/s]"
      ]
     },
     "metadata": {},
     "output_type": "display_data"
    }
   ],
   "source": [
    "from llama_index.llms.openai import OpenAI\n",
    "from llama_index.embeddings.huggingface import HuggingFaceEmbedding\n",
    "from llama_index.core import Settings\n",
    "\n",
    "Settings.llm = OpenAI(model=\"gpt-5-mini\", additional_kwargs={'reasoning_effort':'minimal'})\n",
    "Settings.embed_model = HuggingFaceEmbedding(model_name=\"intfloat/e5-small-v2\")"
   ]
  },
  {
   "cell_type": "markdown",
   "metadata": {
    "id": "CD0capZYk-pR"
   },
   "source": [
    "**Create a VectoreStore**"
   ]
  },
  {
   "cell_type": "code",
   "execution_count": null,
   "metadata": {
    "id": "OYoQPGt13OcZ"
   },
   "outputs": [],
   "source": [
    "import chromadb\n",
    "# create client and a new collection\n",
    "# chromadb.EphemeralClient saves data in-memory.\n",
    "chroma_client = chromadb.PersistentClient(path=\"./mini-llama-articles\")\n",
    "chroma_collection = chroma_client.create_collection(\"mini-llama-articles\")"
   ]
  },
  {
   "cell_type": "code",
   "execution_count": null,
   "metadata": {
    "id": "fbcJORQ33QnC"
   },
   "outputs": [],
   "source": [
    "from llama_index.vector_stores.chroma import ChromaVectorStore\n",
    "\n",
    "# Define a storage context object using the created vector database.\n",
    "vector_store = ChromaVectorStore(chroma_collection=chroma_collection)"
   ]
  },
  {
   "cell_type": "markdown",
   "metadata": {
    "id": "jVkdYWSFlCEC"
   },
   "source": [
    "**Load the Dataset (CSV)**"
   ]
  },
  {
   "cell_type": "markdown",
   "metadata": {
    "id": "FIgXvo8alD_F"
   },
   "source": [
    "Download"
   ]
  },
  {
   "cell_type": "markdown",
   "metadata": {
    "id": "7Ag4Bbj1lGf-"
   },
   "source": [
    "The dataset includes several articles from the TowardsAI blog, which provide an in-depth explanation of the LLaMA2 model. Read the dataset as a long string."
   ]
  },
  {
   "cell_type": "code",
   "execution_count": null,
   "metadata": {
    "colab": {
     "base_uri": "https://localhost:8080/"
    },
    "id": "N8kT2wE-Cv-N",
    "outputId": "ff826bd6-dfdb-46aa-a9c8-0d13622e6265"
   },
   "outputs": [
    {
     "name": "stdout",
     "output_type": "stream",
     "text": [
      "  % Total    % Received % Xferd  Average Speed   Time    Time     Time  Current\n",
      "                                 Dload  Upload   Total   Spent    Left  Speed\n",
      "100  169k  100  169k    0     0   678k      0 --:--:-- --:--:-- --:--:--  681k\n"
     ]
    }
   ],
   "source": [
    "!curl -o ./mini-llama-articles.csv https://raw.githubusercontent.com/AlaFalaki/tutorial_notebooks/main/data/mini-llama-articles.csv"
   ]
  },
  {
   "cell_type": "markdown",
   "metadata": {
    "id": "-wYChJNylJ_W"
   },
   "source": [
    "**Read File**"
   ]
  },
  {
   "cell_type": "code",
   "execution_count": null,
   "metadata": {
    "colab": {
     "base_uri": "https://localhost:8080/"
    },
    "id": "jZR7v8er3RIc",
    "outputId": "bbe7ccdb-d166-46c6-eaeb-c121c13a5e6e"
   },
   "outputs": [
    {
     "data": {
      "text/plain": [
       "14"
      ]
     },
     "execution_count": 10,
     "metadata": {},
     "output_type": "execute_result"
    }
   ],
   "source": [
    "import csv\n",
    "\n",
    "rows = []\n",
    "\n",
    "# Load the file as a JSON\n",
    "with open(\"./mini-llama-articles.csv\", mode=\"r\", encoding=\"utf-8\") as file:\n",
    "    csv_reader = csv.reader(file)\n",
    "\n",
    "    for idx, row in enumerate(csv_reader):\n",
    "        if idx == 0:\n",
    "            continue\n",
    "            # Skip header row\n",
    "        rows.append(row)\n",
    "\n",
    "# The number of characters in the dataset.\n",
    "len(rows)"
   ]
  },
  {
   "cell_type": "markdown",
   "metadata": {
    "id": "WPjA1Bh1lM2_"
   },
   "source": [
    "**Convert to Document obj**"
   ]
  },
  {
   "cell_type": "code",
   "execution_count": null,
   "metadata": {
    "id": "J9K7W4Tq3TRL"
   },
   "outputs": [],
   "source": [
    "from llama_index.core import Document\n",
    "\n",
    "# Convert the chunks to Document objects so the LlamaIndex framework can process them.\n",
    "documents = [\n",
    "    Document(\n",
    "        text=row[1], metadata={\"title\": row[0], \"url\": row[2], \"source_name\": row[3]}\n",
    "    )\n",
    "    for row in rows\n",
    "]"
   ]
  },
  {
   "cell_type": "markdown",
   "metadata": {
    "id": "njTHI-UHlPHX"
   },
   "source": [
    "**Transforming**"
   ]
  },
  {
   "cell_type": "code",
   "execution_count": null,
   "metadata": {
    "id": "vUklZVhl3WC0"
   },
   "outputs": [],
   "source": [
    "from llama_index.core.text_splitter import TokenTextSplitter\n",
    "\n",
    "# Define the splitter object that split the text into segments with 512 tokens,\n",
    "# with a 128 overlap between the segments.\n",
    "text_splitter = TokenTextSplitter(separator=\" \", chunk_size=512, chunk_overlap=128)"
   ]
  },
  {
   "cell_type": "markdown",
   "metadata": {
    "id": "Hc7vMQxOlR27"
   },
   "source": [
    "There are two options to use the Cohere embeddings:\n",
    "\n",
    "- input_type=\"search_document\": Employ this option for texts (documents) intended for storage in your vector database.\n",
    "\n",
    "- input_type=\"search_query\": Use this when issuing search queries to locate the most related documents within your vector database."
   ]
  },
  {
   "cell_type": "code",
   "execution_count": null,
   "metadata": {
    "id": "AJOW_6NW3WzP"
   },
   "outputs": [],
   "source": [
    "from llama_index.core.extractors import (\n",
    "    SummaryExtractor,\n",
    "    QuestionsAnsweredExtractor,\n",
    "    KeywordExtractor,\n",
    ")\n",
    "\n",
    "from llama_index.embeddings.huggingface import HuggingFaceEmbedding\n",
    "from llama_index.core.ingestion import IngestionPipeline"
   ]
  },
  {
   "cell_type": "code",
   "execution_count": null,
   "metadata": {
    "colab": {
     "base_uri": "https://localhost:8080/",
     "height": 136,
     "referenced_widgets": [
      "c6d2b698599e40da84932a41179f6d7a",
      "487c5ccef6ff4f00bf7e3046e3de24a7",
      "3cfa958baa054f258d76e4b6308c92f2",
      "c996ddc2fa4d4cbbb9fe870f438b9555",
      "bc6e7cdf14f74dc8a6c4f53d6975c7df",
      "1c2778bb596443789216141399644d1d",
      "49da35cffbc742298d3514345ae8c797",
      "ab894de9bc0d4b1eb676c3316b8224a4",
      "e2ab2b849bfb4780a5fcb6c4dca08678",
      "3da6b55901fb4e3582ad039c9d4bb2ca",
      "0f0a48cc00b844f8969ef87c44720f9e",
      "156bf669d1564e7fbd3a63eff68a080d",
      "16decd11779043eb8dbe45ca024228a4",
      "b949675bd0184c99b97e66ec5ffc982e",
      "d7709ded996f424f9bee029f98444159",
      "fce4279b3d4d449bbc752a6f604e4bcd",
      "47d8e3d4909e4e038ef63a443ab15571",
      "79a186e8907d423ab915d1d0c379c917",
      "81bb0d70c4f9488c9918b09bf17f9ea9",
      "1776ade2e7d6438d89035f0e4417a02c",
      "8216ae327b074bea9f8d26f8973a3879",
      "1b18c278eca54db6a35466fd8318c193"
     ]
    },
    "id": "XUPLSGEW3Y-N",
    "outputId": "3d724a57-35cf-4396-f304-e65a4313a1fb"
   },
   "outputs": [
    {
     "data": {
      "application/vnd.jupyter.widget-view+json": {
       "model_id": "c6d2b698599e40da84932a41179f6d7a",
       "version_major": 2,
       "version_minor": 0
      },
      "text/plain": [
       "Parsing nodes:   0%|          | 0/14 [00:00<?, ?it/s]"
      ]
     },
     "metadata": {},
     "output_type": "display_data"
    },
    {
     "name": "stderr",
     "output_type": "stream",
     "text": [
      "100%|██████████| 108/108 [01:29<00:00,  1.21it/s]\n",
      "100%|██████████| 108/108 [02:33<00:00,  1.43s/it]\n",
      "100%|██████████| 108/108 [01:08<00:00,  1.57it/s]\n"
     ]
    },
    {
     "data": {
      "application/vnd.jupyter.widget-view+json": {
       "model_id": "156bf669d1564e7fbd3a63eff68a080d",
       "version_major": 2,
       "version_minor": 0
      },
      "text/plain": [
       "Generating embeddings:   0%|          | 0/108 [00:00<?, ?it/s]"
      ]
     },
     "metadata": {},
     "output_type": "display_data"
    }
   ],
   "source": [
    "# Create the pipeline to apply the transformation on each chunk,\n",
    "# and store the transformed text in the chroma vector store.\n",
    "\n",
    "pipeline = IngestionPipeline(\n",
    "    transformations=[\n",
    "        text_splitter,\n",
    "        QuestionsAnsweredExtractor(questions=3),\n",
    "        SummaryExtractor(summaries=[\"prev\", \"self\"]),\n",
    "        KeywordExtractor(keywords=10),\n",
    "        HuggingFaceEmbedding(model_name=\"intfloat/e5-small-v2\"),\n",
    "    ],\n",
    "    vector_store=vector_store,\n",
    ")\n",
    "\n",
    "# Run the transformation pipeline.\n",
    "nodes = pipeline.run(documents=documents, show_progress=True)"
   ]
  },
  {
   "cell_type": "code",
   "execution_count": null,
   "metadata": {
    "colab": {
     "base_uri": "https://localhost:8080/"
    },
    "id": "QHESGfky3a2U",
    "outputId": "57d4cc9e-f1ab-40ee-c087-0dbe1085c9a4"
   },
   "outputs": [
    {
     "data": {
      "text/plain": [
       "108"
      ]
     },
     "execution_count": 15,
     "metadata": {},
     "output_type": "execute_result"
    }
   ],
   "source": [
    "len(nodes)"
   ]
  },
  {
   "cell_type": "code",
   "execution_count": null,
   "metadata": {
    "colab": {
     "base_uri": "https://localhost:8080/"
    },
    "id": "nO3OOO62WvzK",
    "outputId": "1aacba53-8306-43de-aac0-8414ce92acbc"
   },
   "outputs": [
    {
     "data": {
      "text/plain": [
       "384"
      ]
     },
     "execution_count": 16,
     "metadata": {},
     "output_type": "execute_result"
    }
   ],
   "source": [
    "len(nodes[0].embedding)"
   ]
  },
  {
   "cell_type": "code",
   "execution_count": null,
   "metadata": {
    "colab": {
     "base_uri": "https://localhost:8080/"
    },
    "id": "MHW9joSgW1Ib",
    "outputId": "5366b9dc-3d68-4a46-8e95-3c310063145e"
   },
   "outputs": [
    {
     "name": "stdout",
     "output_type": "stream",
     "text": [
      "  adding: mini-llama-articles/ (stored 0%)\n",
      "  adding: mini-llama-articles/chroma.sqlite3 (deflated 72%)\n",
      "  adding: mini-llama-articles/39c571ed-472c-4efe-83cc-3f20c60df40c/ (stored 0%)\n",
      "  adding: mini-llama-articles/39c571ed-472c-4efe-83cc-3f20c60df40c/length.bin (deflated 38%)\n",
      "  adding: mini-llama-articles/39c571ed-472c-4efe-83cc-3f20c60df40c/header.bin (deflated 63%)\n",
      "  adding: mini-llama-articles/39c571ed-472c-4efe-83cc-3f20c60df40c/link_lists.bin (stored 0%)\n",
      "  adding: mini-llama-articles/39c571ed-472c-4efe-83cc-3f20c60df40c/data_level0.bin (deflated 100%)\n"
     ]
    }
   ],
   "source": [
    "!zip -r vectorstore_cohere.zip mini-llama-articles"
   ]
  },
  {
   "cell_type": "markdown",
   "metadata": {
    "id": "KQ6LLEGulhmo"
   },
   "source": [
    "**Load Indexes**"
   ]
  },
  {
   "cell_type": "markdown",
   "metadata": {
    "id": "k8AefCpTljUi"
   },
   "source": [
    "If you have already uploaded the zip file for the vector store checkpoint, please uncomment the code in the following cell block to extract its contents. After doing so, you will be able to load the dataset from local storage."
   ]
  },
  {
   "cell_type": "code",
   "execution_count": null,
   "metadata": {
    "id": "Ce_WKVqZW1lP"
   },
   "outputs": [],
   "source": [
    "# Load the vector store from the local storage.\n",
    "db = chromadb.PersistentClient(path=\"./mini-llama-articles\")\n",
    "chroma_collection = db.get_or_create_collection(\"mini-llama-articles\")\n",
    "vector_store = ChromaVectorStore(chroma_collection=chroma_collection)"
   ]
  },
  {
   "cell_type": "code",
   "execution_count": null,
   "metadata": {
    "id": "SoXtySKVXLCn"
   },
   "outputs": [],
   "source": [
    "from llama_index.core import VectorStoreIndex\n",
    "\n",
    "# Create the index based on the vector store.\n",
    "index = VectorStoreIndex.from_vector_store(vector_store)"
   ]
  },
  {
   "cell_type": "markdown",
   "metadata": {
    "id": "hK45PRsilnfX"
   },
   "source": [
    "**Query Dataset**"
   ]
  },
  {
   "cell_type": "code",
   "execution_count": null,
   "metadata": {
    "id": "VLQNrqPcXQsP"
   },
   "outputs": [],
   "source": [
    "# Define a query engine that is responsible for retrieving related pieces of text,\n",
    "# and using a LLM to formulate the final answer.\n",
    "query_engine = index.as_query_engine(similarity_top_k=5)\n",
    "\n",
    "res = query_engine.query(\"How many parameters LLaMA2 model has?\")"
   ]
  },
  {
   "cell_type": "code",
   "execution_count": null,
   "metadata": {
    "colab": {
     "base_uri": "https://localhost:8080/",
     "height": 36
    },
    "id": "WtpFsVECXUhT",
    "outputId": "07716826-ba79-45e6-8910-3e96331185b7"
   },
   "outputs": [
    {
     "data": {
      "application/vnd.google.colaboratory.intrinsic+json": {
       "type": "string"
      },
      "text/plain": [
       "'Llama 2 models are available at 7 billion, 13 billion, 34 billion, and 70 billion parameters.'"
      ]
     },
     "execution_count": 21,
     "metadata": {},
     "output_type": "execute_result"
    }
   ],
   "source": [
    "res.response"
   ]
  },
  {
   "cell_type": "code",
   "execution_count": null,
   "metadata": {
    "colab": {
     "base_uri": "https://localhost:8080/"
    },
    "id": "cfboDe8CXVnP",
    "outputId": "3ccf9121-6d2c-4fcc-ffaf-72efe5c00da1"
   },
   "outputs": [
    {
     "name": "stdout",
     "output_type": "stream",
     "text": [
      "Node ID\t 3763406e-cf76-4522-8be3-01d1b8985a1a\n",
      "Title\t Meta's Llama 2: Revolutionizing Open Source Language Models for Commercial Use\n",
      "Text\t I. Llama 2: Revolutionizing Commercial Use Unlike its predecessor Llama 1, which was limited to research use, Llama 2 represents a major advancement as an open-source commercial model. Businesses can now integrate Llama 2 into products to create AI-powered applications. Availability on Azure and AWS facilitates fine-tuning and adoption. However, restrictions apply to prevent exploitation. Companies with over 700 million active daily users cannot use Llama 2. Additionally, its output cannot be used to improve other language models.  II. Llama 2 Model Flavors Llama 2 is available in four different model sizes: 7 billion, 13 billion, 34 billion, and 70 billion parameters. While 7B, 13B, and 70B have already been released, the 34B model is still awaited. The pretrained variant, trained on a whopping 2 trillion tokens, boasts a context window of 4096 tokens, twice the size of its predecessor Llama 1. Meta also released a Llama 2 fine-tuned model for chat applications that was trained on over 1 million human annotations. Such extensive training comes at a cost, with the 70B model taking a staggering 1720320 GPU hours to train. The context window's length determines the amount of content the model can process at once, making Llama 2 a powerful language model in terms of scale and efficiency.  III. Safety Considerations: A Top Priority for Meta Meta's commitment to safety and alignment shines through in Llama 2's design. The model demonstrates exceptionally low AI safety violation percentages, surpassing even ChatGPT in safety benchmarks. Finding the right balance between helpfulness and safety when optimizing a model poses significant challenges. While a highly helpful model may be capable of answering any question, including sensitive ones like \"How do I build a bomb?\", it also raises concerns about potential misuse. Thus, striking the perfect equilibrium between providing useful information and ensuring safety is paramount. However, prioritizing safety to an extreme extent can lead to a model that struggles to effectively address a diverse range of questions. This limitation could hinder the model's practical applicability and user experience. Thus, achieving\n",
      "Score\t 0.8003535961017001\n",
      "-_-_-_-_-_-_-_-_-_-_-_-_-_-_-_-_-_-_-_-_\n",
      "Node ID\t b5a20730-a1ac-4bb9-9c9d-8206e0788812\n",
      "Title\t Fine-Tuning a Llama-2 7B Model for Python Code Generation\n",
      "Text\t New Llama-2 model In mid-July, Meta released its new family of pre-trained and finetuned models called Llama-2, with an open source and commercial character to facilitate its use and expansion. The base model was released with a chat version and sizes 7B, 13B, and 70B. Together with the models, the corresponding papers were published describing their characteristics and relevant points of the learning process, which provide very interesting information on the subject. For pre-training, 40% more tokens were used, reaching 2T, the context length was doubled and the grouped-query attention (GQA) technique was applied to speed up inference on the heavier 70B model. On the standard transformer architecture, RMSNorm normalization, SwiGLU activation, and rotatory positional embedding are used, the context length reaches 4096 tokens, and an Adam optimizer is applied with a cosine learning rate schedule, a weight decay of 0.1 and gradient clipping.  The dataset for tuning For our tuning process, we will take a dataset containing about 18,000 examples where the model is asked to build a Python code that solves a given task. This is an extraction of the original dataset [2], where only the Python language examples are selected. Each row contains the description of the task to be solved, an example of data input to the task if applicable, and the generated code fragment that solves the task is provided [3].  Creating the prompt To carry out an instruction fine-tuning, we must transform each one of our data examples as if it were an instruction, outlining its main sections as follows: Output:  Fine-tuning the model To carry out this stage, we have used the Google Colab environment, where we have developed a notebook that allows us to run the training in an interactive way and also a Python script to run the training in unattended mode. For the first test runs, a T4 instance with a high RAM capacity is enough, but when it comes to running the whole dataset and epochs, we have opted to use an A100 instance in order to speed up the training and ensure that its execution time is reasonable. In order to be able to\n",
      "Score\t 0.796100604919183\n",
      "-_-_-_-_-_-_-_-_-_-_-_-_-_-_-_-_-_-_-_-_\n",
      "Node ID\t 41311aad-856f-4c2f-aacb-5879736f8f45\n",
      "Title\t Inside Code Llama: Meta AI's Entrance in the Code LLM Space\n",
      "Text\t This strategic methodology enhances the model's capacity to grasp human expectations in prompts. For endeavors involving code generation, it is advised to opt for Code Llama - Instruct versions, as they have been calibrated to yield useful and secure natural language responses. Deep diving into the Code Llama training and fine-tuning, there are a few aspects that are worth highlighting 1) DatasetLlama's training rests on a meticulously curated dataset enriched with publicly available code, offering a near-duplicate-free landscape. The dataset consists of 500B tokens during the initial phase, starting from the 7B, 13B, and 34B versions. A supplementary 8% of sample data is garnered from natural language datasets linked to code domains. 2) InfillingWithin the realm of Code Infilling, a pivotal task revolves around predicting missing segments within a program while being guided by contextual surroundings. Pragmatic applications encompass code completion within Integrated Development Environments (IDEs), type inference, and even the generation of in-code documentation such as docstrings. Operating in alignment with the concept of causal masking, a framework expounded by Aghajanyan et al. (2022) and Fried et al. (2023), Meta AI molds infilling models. The training process entails shifting parts of training sequences to the conclusion, paving the path for autoregressive predictions. In this endeavor, both the versatile 7B and 13B models undergo infilling-oriented training, echoing the strategies advised by Bavarian et al. (2022). 3) Long Context Fine-Tuning:Unraveling the intricacies of handling extensive sequences is a formidable pursuit in the realm of transformer-based language models. The pivotal challenges orbit around extrapolation - delving into sequence lengths beyond those encountered during training - and the quadratic complexity of attention passes that tilts the balance towards short-to-medium inputs for effective training. Meta AI steps forward with a unique solution, introducing the dedicated domain of long context fine-tuning (LCFT). Embracing sequences encompassing 16,384 tokens, a substantial leap from the 4,096 tokens featured in Llama 2's initial code training stages, LCFT\n",
      "Score\t 0.7908023339671616\n",
      "-_-_-_-_-_-_-_-_-_-_-_-_-_-_-_-_-_-_-_-_\n",
      "Node ID\t ec80868f-824b-4d6a-adcf-063ea542a016\n",
      "Title\t Meta's Llama 2: Revolutionizing Open Source Language Models for Commercial Use\n",
      "Text\t The model demonstrates exceptionally low AI safety violation percentages, surpassing even ChatGPT in safety benchmarks. Finding the right balance between helpfulness and safety when optimizing a model poses significant challenges. While a highly helpful model may be capable of answering any question, including sensitive ones like \"How do I build a bomb?\", it also raises concerns about potential misuse. Thus, striking the perfect equilibrium between providing useful information and ensuring safety is paramount. However, prioritizing safety to an extreme extent can lead to a model that struggles to effectively address a diverse range of questions. This limitation could hinder the model's practical applicability and user experience. Thus, achieving an optimum balance that allows the model to be both helpful and safe is of utmost importance. To strike the right balance between helpfulness and safety, Meta employed two reward models - one for helpfulness and another for safety - to optimize the model's responses. The 34B parameter model has reported higher safety violations than other variants, possibly contributing to the delay in its release.  IV. Helpfulness Comparison: Llama 2 Outperforms Competitors Llama 2 emerges as a strong contender in the open-source language model arena, outperforming its competitors in most categories. The 70B parameter model outperforms all other open-source models, while the 7B and 34B models outshine Falcon in all categories and MPT in all categories except coding. Despite being smaller, Llam a2's performance rivals that of Chat GPT 3.5, a significantly larger closed-source model. While GPT 4 and PalM-2-L, with their larger size, outperform Llama 2, this is expected due to their capacity for handling complex language tasks. Llama 2's impressive ability to compete with larger models highlights its efficiency and potential in the market. However, Llama 2 does face challenges in coding and math problems, where models like Chat GPT 4 excel, given their significantly larger size. Chat GPT 4 performed significantly better than Llama 2 for coding (HumanEval benchmark)and math problem tasks (GSM8k benchmark). Open-source AI technologies, like Llama 2, continue to advance, offering\n",
      "Score\t 0.7899036176800489\n",
      "-_-_-_-_-_-_-_-_-_-_-_-_-_-_-_-_-_-_-_-_\n",
      "Node ID\t dc68e6eb-2b01-4da5-bc99-6a2a4dc402a9\n",
      "Title\t Beyond GPT-4: What's New?\n",
      "Text\t LLM Variants and Meta's Open Source Before shedding light on four major trends, I'd share the latest Meta's Llama 2 and Code Llama. Meta's Llama 2 represents a sophisticated evolution in LLMs. This suite spans models pretrained and fine-tuned across a parameter spectrum of 7 billion to 70 billion. A specialized derivative, Llama 2-Chat, has been engineered explicitly for dialogue-centric applications. Benchmarking revealed Llama 2's superior performance over most extant open-source chat models. Human-centric evaluations, focusing on safety and utility metrics, positioned Llama 2-Chat as a potential contender against proprietary, closed-source counterparts. The development trajectory of Llama 2 emphasized rigorous fine-tuning methodologies. Meta's transparent delineation of these processes aims to catalyze community-driven advancements in LLMs, underscoring a commitment to collaborative and responsible AI development. Code Llama is built on top of Llama 2 and is available in three models: Code Llama, the foundational code model;Codel Llama - Python specialized for Python;and Code Llama - Instruct, which is fine-tuned for understanding natural language instructions. Based on its benchmark testing, Code Llama outperformed state-of-the-art publicly available LLMs (except GPT-4) on code tasks. Llama 2, Llama 2-Chat, and Code Llama are key steps in LLM development but still have a way to go compared to GPT-4. Meta's open access and commitment to improving these models promise transparent and faster LLM progress in the future. Please refer to the LLM and Llama variants below:  From LLMs to Multimodal LLMs, like OpenAI's ChatGPT (GPT-3.5), primarily focus on understanding and generating human language. They've been instrumental in tasks like text generation, translation, and even creative writing. However, their scope is limited to text. Enter multimodal models like GPT-4. These are a new breed of AI models that can understand and generate not just text, but also images, sounds, and potentially other types of data. The term \"multimodal\" refers to their ability to process multiple modes or\n",
      "Score\t 0.7888881606232032\n",
      "-_-_-_-_-_-_-_-_-_-_-_-_-_-_-_-_-_-_-_-_\n"
     ]
    }
   ],
   "source": [
    "# Show the retrieved nodes\n",
    "for src in res.source_nodes:\n",
    "    print(\"Node ID\\t\", src.node_id)\n",
    "    print(\"Title\\t\", src.metadata[\"title\"])\n",
    "    print(\"Text\\t\", src.text)\n",
    "    print(\"Score\\t\", src.score)\n",
    "    print(\"-_\" * 20)"
   ]
  },
  {
   "cell_type": "markdown",
   "metadata": {
    "id": "s1qsVRmZlq9q"
   },
   "source": [
    "**Evaluate**"
   ]
  },
  {
   "cell_type": "code",
   "execution_count": null,
   "metadata": {
    "colab": {
     "base_uri": "https://localhost:8080/"
    },
    "id": "xDt9uvJNXxDH",
    "outputId": "affd29ea-7bb1-45bd-82b0-fbfec804b542"
   },
   "outputs": [
    {
     "name": "stderr",
     "output_type": "stream",
     "text": [
      "100%|██████████| 108/108 [05:13<00:00,  2.90s/it]\n"
     ]
    }
   ],
   "source": [
    "from llama_index.core.evaluation import generate_question_context_pairs\n",
    "\n",
    "llm_gpt = OpenAI(model=\"gpt-5\",additional_kwargs={\"reasoning_effort\": \"minimal\"})\n",
    "\n",
    "rag_eval_dataset = generate_question_context_pairs(\n",
    "    nodes, llm=llm_gpt, num_questions_per_chunk=1\n",
    ")\n",
    "\n",
    "# We can save the evaluation dataset as a json file for later use.\n",
    "rag_eval_dataset.save_json(\"./rag_eval_dataset_os.json\")"
   ]
  },
  {
   "cell_type": "code",
   "execution_count": null,
   "metadata": {
    "id": "BtEMnxeOZ6EX"
   },
   "outputs": [],
   "source": [
    "import pandas as pd\n",
    "\n",
    "#  A simple function to show the evaluation result.\n",
    "def display_results_retriever(name, eval_results):\n",
    "    \"\"\"Display results from evaluate.\"\"\"\n",
    "\n",
    "    metric_dicts = []\n",
    "    for eval_result in eval_results:\n",
    "        metric_dict = eval_result.metric_vals_dict\n",
    "        metric_dicts.append(metric_dict)\n",
    "\n",
    "    full_df = pd.DataFrame(metric_dicts)\n",
    "\n",
    "    hit_rate = full_df[\"hit_rate\"].mean()\n",
    "    mrr = full_df[\"mrr\"].mean()\n",
    "\n",
    "    metric_df = pd.DataFrame(\n",
    "        {\"Retriever Name\": [name], \"Hit Rate\": [hit_rate], \"MRR\": [mrr]}\n",
    "    )\n",
    "\n",
    "    return metric_df"
   ]
  },
  {
   "cell_type": "code",
   "execution_count": null,
   "metadata": {
    "colab": {
     "base_uri": "https://localhost:8080/"
    },
    "id": "Vl-sma4-aGZf",
    "outputId": "75ad89f7-c25e-4b3b-96fc-5c953d008cfe"
   },
   "outputs": [
    {
     "name": "stdout",
     "output_type": "stream",
     "text": [
      "    Retriever Name  Hit Rate       MRR\n",
      "0  Retriever top_2  0.740741  0.578704\n",
      "    Retriever Name  Hit Rate       MRR\n",
      "0  Retriever top_4  0.888889  0.625772\n",
      "    Retriever Name  Hit Rate       MRR\n",
      "0  Retriever top_6  0.907407  0.629167\n",
      "    Retriever Name  Hit Rate       MRR\n",
      "0  Retriever top_8  0.925926  0.631647\n",
      "     Retriever Name  Hit Rate       MRR\n",
      "0  Retriever top_10  0.935185  0.632676\n"
     ]
    }
   ],
   "source": [
    "from llama_index.core.evaluation import RetrieverEvaluator\n",
    "\n",
    "# We can evaluate the retievers with different top_k values.\n",
    "for i in [2, 4, 6, 8, 10]:\n",
    "    retriever = index.as_retriever(similarity_top_k=i)\n",
    "    retriever_evaluator = RetrieverEvaluator.from_metric_names(\n",
    "        [\"mrr\", \"hit_rate\"], retriever=retriever\n",
    "    )\n",
    "    eval_results = await retriever_evaluator.aevaluate_dataset(rag_eval_dataset)\n",
    "    print(display_results_retriever(f\"Retriever top_{i}\", eval_results))"
   ]
  },
  {
   "cell_type": "code",
   "execution_count": null,
   "metadata": {
    "colab": {
     "base_uri": "https://localhost:8080/"
    },
    "id": "B0mA7KzaaHyT",
    "outputId": "d668316b-d607-43b6-ebd1-b5e7dbf1cad7"
   },
   "outputs": [
    {
     "name": "stdout",
     "output_type": "stream",
     "text": [
      "top_2 faithfulness_score: 0.9\n",
      "top_2 relevancy_score: 0.9\n",
      "-_-_-_-_-_-_-_-_-_-_\n",
      "top_4 faithfulness_score: 0.85\n",
      "top_4 relevancy_score: 0.85\n",
      "-_-_-_-_-_-_-_-_-_-_\n",
      "top_6 faithfulness_score: 0.95\n",
      "top_6 relevancy_score: 0.95\n",
      "-_-_-_-_-_-_-_-_-_-_\n",
      "top_8 faithfulness_score: 0.95\n",
      "top_8 relevancy_score: 0.95\n",
      "-_-_-_-_-_-_-_-_-_-_\n",
      "top_10 faithfulness_score: 0.85\n",
      "top_10 relevancy_score: 0.85\n",
      "-_-_-_-_-_-_-_-_-_-_\n"
     ]
    }
   ],
   "source": [
    "from llama_index.core.evaluation import (\n",
    "    RelevancyEvaluator,\n",
    "    FaithfulnessEvaluator,\n",
    "    BatchEvalRunner,\n",
    ")\n",
    "\n",
    "for i in [2, 4, 6, 8, 10]:\n",
    "    # Set Faithfulness and Relevancy evaluators\n",
    "    query_engine = index.as_query_engine(similarity_top_k=i)\n",
    "\n",
    "    faithfulness_evaluator = FaithfulnessEvaluator()\n",
    "    relevancy_evaluator = RelevancyEvaluator()\n",
    "\n",
    "    # Run evaluation\n",
    "    queries = list(rag_eval_dataset.queries.values())\n",
    "    batch_eval_queries = queries[:20]\n",
    "\n",
    "    runner = BatchEvalRunner(\n",
    "        {\"faithfulness\": faithfulness_evaluator, \"relevancy\": relevancy_evaluator},\n",
    "        workers=8,\n",
    "    )\n",
    "    eval_results = await runner.aevaluate_queries(\n",
    "        query_engine, queries=batch_eval_queries\n",
    "    )\n",
    "    faithfulness_score = sum(\n",
    "        result.passing for result in eval_results[\"faithfulness\"]\n",
    "    ) / len(eval_results[\"faithfulness\"])\n",
    "    print(f\"top_{i} faithfulness_score: {faithfulness_score}\")\n",
    "\n",
    "    relevancy_score = sum(\n",
    "        result.passing for result in eval_results[\"faithfulness\"]\n",
    "    ) / len(eval_results[\"relevancy\"])\n",
    "    print(f\"top_{i} relevancy_score: {relevancy_score}\")\n",
    "    print(\"-_\" * 10)"
   ]
  },
  {
   "cell_type": "code",
   "execution_count": null,
   "metadata": {
    "id": "NJ4S0k5_I5pu"
   },
   "outputs": [],
   "source": []
  }
 ],
 "metadata": {
  "colab": {
   "provenance": []
  },
  "kernelspec": {
   "display_name": "Python 3",
   "name": "python3"
  },
  "language_info": {
   "name": "python"
  }
 },
 "nbformat": 4,
 "nbformat_minor": 0
}
