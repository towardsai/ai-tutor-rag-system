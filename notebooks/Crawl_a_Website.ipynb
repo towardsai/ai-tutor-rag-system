{
 "cells": [
  {
   "cell_type": "markdown",
   "metadata": {
    "id": "u5TdQCZ6Jt-1"
   },
   "source": [
    "<a href=\"https://colab.research.google.com/github/towardsai/ai-tutor-rag-system/blob/main/notebooks/Crawl_a_Website.ipynb\" target=\"_parent\"><img src=\"https://colab.research.google.com/assets/colab-badge.svg\" alt=\"Open In Colab\"/></a>"
   ]
  },
  {
   "cell_type": "code",
   "execution_count": 1,
   "metadata": {
    "colab": {
     "base_uri": "https://localhost:8080/"
    },
    "collapsed": true,
    "id": "4CW8ux1RSdem",
    "outputId": "685a1782-bcc0-4b94-de49-9089e4350292"
   },
   "outputs": [
    {
     "name": "stdout",
     "output_type": "stream",
     "text": [
      "\u001b[?25l     \u001b[90m━━━━━━━━━━━━━━━━━━━━━━━━━━━━━━━━━━━━━━━━\u001b[0m \u001b[32m0.0/41.3 kB\u001b[0m \u001b[31m?\u001b[0m eta \u001b[36m-:--:--\u001b[0m\r",
      "\u001b[2K     \u001b[90m━━━━━━━━━━━━━━━━━━━━━━━━━━━━━━━━━━━━━━━━\u001b[0m \u001b[32m41.3/41.3 kB\u001b[0m \u001b[31m2.8 MB/s\u001b[0m eta \u001b[36m0:00:00\u001b[0m\n",
      "\u001b[?25h  Preparing metadata (setup.py) ... \u001b[?25l\u001b[?25hdone\n",
      "\u001b[2K   \u001b[90m━━━━━━━━━━━━━━━━━━━━━━━━━━━━━━━━━━━━━━━━\u001b[0m \u001b[32m812.0/812.0 kB\u001b[0m \u001b[31m14.8 MB/s\u001b[0m eta \u001b[36m0:00:00\u001b[0m\n",
      "\u001b[2K   \u001b[90m━━━━━━━━━━━━━━━━━━━━━━━━━━━━━━━━━━━━━━━━\u001b[0m \u001b[32m296.6/296.6 kB\u001b[0m \u001b[31m18.1 MB/s\u001b[0m eta \u001b[36m0:00:00\u001b[0m\n",
      "\u001b[2K   \u001b[90m━━━━━━━━━━━━━━━━━━━━━━━━━━━━━━━━━━━━━━━━\u001b[0m \u001b[32m426.2/426.2 kB\u001b[0m \u001b[31m26.7 MB/s\u001b[0m eta \u001b[36m0:00:00\u001b[0m\n",
      "\u001b[2K   \u001b[90m━━━━━━━━━━━━━━━━━━━━━━━━━━━━━━━━━━━━━━━━\u001b[0m \u001b[32m1.6/1.6 MB\u001b[0m \u001b[31m59.2 MB/s\u001b[0m eta \u001b[36m0:00:00\u001b[0m\n",
      "\u001b[2K   \u001b[90m━━━━━━━━━━━━━━━━━━━━━━━━━━━━━━━━━━━━━━━━\u001b[0m \u001b[32m161.7/161.7 kB\u001b[0m \u001b[31m12.1 MB/s\u001b[0m eta \u001b[36m0:00:00\u001b[0m\n",
      "\u001b[2K   \u001b[90m━━━━━━━━━━━━━━━━━━━━━━━━━━━━━━━━━━━━━━━━\u001b[0m \u001b[32m81.3/81.3 kB\u001b[0m \u001b[31m6.1 MB/s\u001b[0m eta \u001b[36m0:00:00\u001b[0m\n",
      "\u001b[2K   \u001b[90m━━━━━━━━━━━━━━━━━━━━━━━━━━━━━━━━━━━━━━━━\u001b[0m \u001b[32m9.0/9.0 MB\u001b[0m \u001b[31m101.3 MB/s\u001b[0m eta \u001b[36m0:00:00\u001b[0m\n",
      "\u001b[2K   \u001b[90m━━━━━━━━━━━━━━━━━━━━━━━━━━━━━━━━━━━━━━━━\u001b[0m \u001b[32m7.6/7.6 MB\u001b[0m \u001b[31m107.0 MB/s\u001b[0m eta \u001b[36m0:00:00\u001b[0m\n",
      "\u001b[2K   \u001b[90m━━━━━━━━━━━━━━━━━━━━━━━━━━━━━━━━━━━━━━━━\u001b[0m \u001b[32m303.3/303.3 kB\u001b[0m \u001b[31m20.3 MB/s\u001b[0m eta \u001b[36m0:00:00\u001b[0m\n",
      "\u001b[2K   \u001b[90m━━━━━━━━━━━━━━━━━━━━━━━━━━━━━━━━━━━━━━━━\u001b[0m \u001b[32m51.8/51.8 kB\u001b[0m \u001b[31m3.6 MB/s\u001b[0m eta \u001b[36m0:00:00\u001b[0m\n",
      "\u001b[2K   \u001b[90m━━━━━━━━━━━━━━━━━━━━━━━━━━━━━━━━━━━━━━━━\u001b[0m \u001b[32m45.9/45.9 MB\u001b[0m \u001b[31m17.9 MB/s\u001b[0m eta \u001b[36m0:00:00\u001b[0m\n",
      "\u001b[2K   \u001b[90m━━━━━━━━━━━━━━━━━━━━━━━━━━━━━━━━━━━━━━━━\u001b[0m \u001b[32m45.9/45.9 MB\u001b[0m \u001b[31m18.6 MB/s\u001b[0m eta \u001b[36m0:00:00\u001b[0m\n",
      "\u001b[2K   \u001b[90m━━━━━━━━━━━━━━━━━━━━━━━━━━━━━━━━━━━━━━━━\u001b[0m \u001b[32m278.0/278.0 kB\u001b[0m \u001b[31m18.5 MB/s\u001b[0m eta \u001b[36m0:00:00\u001b[0m\n",
      "\u001b[2K   \u001b[90m━━━━━━━━━━━━━━━━━━━━━━━━━━━━━━━━━━━━━━━━\u001b[0m \u001b[32m56.8/56.8 kB\u001b[0m \u001b[31m3.9 MB/s\u001b[0m eta \u001b[36m0:00:00\u001b[0m\n",
      "\u001b[2K   \u001b[90m━━━━━━━━━━━━━━━━━━━━━━━━━━━━━━━━━━━━━━━━\u001b[0m \u001b[32m93.0/93.0 kB\u001b[0m \u001b[31m6.6 MB/s\u001b[0m eta \u001b[36m0:00:00\u001b[0m\n",
      "\u001b[2K   \u001b[90m━━━━━━━━━━━━━━━━━━━━━━━━━━━━━━━━━━━━━━━━\u001b[0m \u001b[32m107.4/107.4 kB\u001b[0m \u001b[31m8.0 MB/s\u001b[0m eta \u001b[36m0:00:00\u001b[0m\n",
      "\u001b[2K   \u001b[90m━━━━━━━━━━━━━━━━━━━━━━━━━━━━━━━━━━━━━━━━\u001b[0m \u001b[32m278.4/278.4 kB\u001b[0m \u001b[31m17.2 MB/s\u001b[0m eta \u001b[36m0:00:00\u001b[0m\n",
      "\u001b[2K   \u001b[90m━━━━━━━━━━━━━━━━━━━━━━━━━━━━━━━━━━━━━━━━\u001b[0m \u001b[32m42.5/42.5 kB\u001b[0m \u001b[31m2.6 MB/s\u001b[0m eta \u001b[36m0:00:00\u001b[0m\n",
      "\u001b[2K   \u001b[90m━━━━━━━━━━━━━━━━━━━━━━━━━━━━━━━━━━━━━━━━\u001b[0m \u001b[32m63.9/63.9 kB\u001b[0m \u001b[31m4.4 MB/s\u001b[0m eta \u001b[36m0:00:00\u001b[0m\n",
      "\u001b[2K   \u001b[90m━━━━━━━━━━━━━━━━━━━━━━━━━━━━━━━━━━━━━━━━\u001b[0m \u001b[32m310.5/310.5 kB\u001b[0m \u001b[31m20.3 MB/s\u001b[0m eta \u001b[36m0:00:00\u001b[0m\n",
      "\u001b[2K   \u001b[90m━━━━━━━━━━━━━━━━━━━━━━━━━━━━━━━━━━━━━━━━\u001b[0m \u001b[32m507.6/507.6 kB\u001b[0m \u001b[31m28.3 MB/s\u001b[0m eta \u001b[36m0:00:00\u001b[0m\n",
      "\u001b[2K   \u001b[90m━━━━━━━━━━━━━━━━━━━━━━━━━━━━━━━━━━━━━━━━\u001b[0m \u001b[32m1.2/1.2 MB\u001b[0m \u001b[31m55.7 MB/s\u001b[0m eta \u001b[36m0:00:00\u001b[0m\n",
      "\u001b[2K   \u001b[90m━━━━━━━━━━━━━━━━━━━━━━━━━━━━━━━━━━━━━━━━\u001b[0m \u001b[32m728.5/728.5 kB\u001b[0m \u001b[31m19.2 MB/s\u001b[0m eta \u001b[36m0:00:00\u001b[0m\n",
      "\u001b[2K   \u001b[90m━━━━━━━━━━━━━━━━━━━━━━━━━━━━━━━━━━━━━━━━\u001b[0m \u001b[32m50.9/50.9 kB\u001b[0m \u001b[31m3.5 MB/s\u001b[0m eta \u001b[36m0:00:00\u001b[0m\n",
      "\u001b[2K   \u001b[90m━━━━━━━━━━━━━━━━━━━━━━━━━━━━━━━━━━━━━━━━\u001b[0m \u001b[32m144.4/144.4 kB\u001b[0m \u001b[31m8.9 MB/s\u001b[0m eta \u001b[36m0:00:00\u001b[0m\n",
      "\u001b[?25h  Building wheel for sgmllib3k (setup.py) ... \u001b[?25l\u001b[?25hdone\n",
      "\u001b[31mERROR: pip's dependency resolver does not currently take into account all the packages that are installed. This behaviour is the source of the following dependency conflicts.\n",
      "pydrive2 1.21.3 requires pyOpenSSL<=24.2.1,>=19.1.0, but you have pyopenssl 25.1.0 which is incompatible.\u001b[0m\u001b[31m\n",
      "\u001b[0mDownloading Chromium 140.0.7339.16 (playwright build v1187)\u001b[2m from https://cdn.playwright.dev/dbazure/download/playwright/builds/chromium/1187/chromium-linux.zip\u001b[22m\n",
      "\u001b[1G173.7 MiB [] 0% 11.5s\u001b[0K\u001b[1G173.7 MiB [] 0% 48.0s\u001b[0K\u001b[1G173.7 MiB [] 0% 27.6s\u001b[0K\u001b[1G173.7 MiB [] 0% 16.6s\u001b[0K\u001b[1G173.7 MiB [] 0% 9.0s\u001b[0K\u001b[1G173.7 MiB [] 1% 5.6s\u001b[0K\u001b[1G173.7 MiB [] 2% 4.6s\u001b[0K\u001b[1G173.7 MiB [] 3% 3.6s\u001b[0K\u001b[1G173.7 MiB [] 4% 3.1s\u001b[0K\u001b[1G173.7 MiB [] 4% 2.9s\u001b[0K\u001b[1G173.7 MiB [] 5% 3.1s\u001b[0K\u001b[1G173.7 MiB [] 6% 2.8s\u001b[0K\u001b[1G173.7 MiB [] 6% 2.7s\u001b[0K\u001b[1G173.7 MiB [] 7% 2.6s\u001b[0K\u001b[1G173.7 MiB [] 8% 2.6s\u001b[0K\u001b[1G173.7 MiB [] 9% 2.4s\u001b[0K\u001b[1G173.7 MiB [] 10% 2.3s\u001b[0K\u001b[1G173.7 MiB [] 11% 2.2s\u001b[0K\u001b[1G173.7 MiB [] 13% 2.0s\u001b[0K\u001b[1G173.7 MiB [] 14% 2.0s\u001b[0K\u001b[1G173.7 MiB [] 15% 1.8s\u001b[0K\u001b[1G173.7 MiB [] 16% 1.8s\u001b[0K\u001b[1G173.7 MiB [] 17% 1.8s\u001b[0K\u001b[1G173.7 MiB [] 18% 1.8s\u001b[0K\u001b[1G173.7 MiB [] 19% 1.7s\u001b[0K\u001b[1G173.7 MiB [] 20% 1.7s\u001b[0K\u001b[1G173.7 MiB [] 21% 1.7s\u001b[0K\u001b[1G173.7 MiB [] 22% 1.7s\u001b[0K\u001b[1G173.7 MiB [] 24% 1.6s\u001b[0K\u001b[1G173.7 MiB [] 25% 1.6s\u001b[0K\u001b[1G173.7 MiB [] 26% 1.5s\u001b[0K\u001b[1G173.7 MiB [] 28% 1.4s\u001b[0K\u001b[1G173.7 MiB [] 29% 1.4s\u001b[0K\u001b[1G173.7 MiB [] 30% 1.4s\u001b[0K\u001b[1G173.7 MiB [] 31% 1.3s\u001b[0K\u001b[1G173.7 MiB [] 33% 1.3s\u001b[0K\u001b[1G173.7 MiB [] 34% 1.2s\u001b[0K\u001b[1G173.7 MiB [] 35% 1.2s\u001b[0K\u001b[1G173.7 MiB [] 36% 1.2s\u001b[0K\u001b[1G173.7 MiB [] 38% 1.1s\u001b[0K\u001b[1G173.7 MiB [] 39% 1.1s\u001b[0K\u001b[1G173.7 MiB [] 41% 1.0s\u001b[0K\u001b[1G173.7 MiB [] 42% 1.0s\u001b[0K\u001b[1G173.7 MiB [] 44% 1.0s\u001b[0K\u001b[1G173.7 MiB [] 45% 0.9s\u001b[0K\u001b[1G173.7 MiB [] 47% 0.9s\u001b[0K\u001b[1G173.7 MiB [] 48% 0.8s\u001b[0K\u001b[1G173.7 MiB [] 49% 0.8s\u001b[0K\u001b[1G173.7 MiB [] 51% 0.8s\u001b[0K\u001b[1G173.7 MiB [] 52% 0.8s\u001b[0K\u001b[1G173.7 MiB [] 53% 0.7s\u001b[0K\u001b[1G173.7 MiB [] 55% 0.7s\u001b[0K\u001b[1G173.7 MiB [] 56% 0.7s\u001b[0K\u001b[1G173.7 MiB [] 57% 0.7s\u001b[0K\u001b[1G173.7 MiB [] 58% 0.7s\u001b[0K\u001b[1G173.7 MiB [] 59% 0.7s\u001b[0K\u001b[1G173.7 MiB [] 60% 0.6s\u001b[0K\u001b[1G173.7 MiB [] 61% 0.6s\u001b[0K\u001b[1G173.7 MiB [] 62% 0.6s\u001b[0K\u001b[1G173.7 MiB [] 63% 0.6s\u001b[0K\u001b[1G173.7 MiB [] 64% 0.6s\u001b[0K\u001b[1G173.7 MiB [] 66% 0.6s\u001b[0K\u001b[1G173.7 MiB [] 66% 0.5s\u001b[0K\u001b[1G173.7 MiB [] 67% 0.5s\u001b[0K\u001b[1G173.7 MiB [] 68% 0.5s\u001b[0K\u001b[1G173.7 MiB [] 69% 0.5s\u001b[0K\u001b[1G173.7 MiB [] 71% 0.5s\u001b[0K\u001b[1G173.7 MiB [] 72% 0.4s\u001b[0K\u001b[1G173.7 MiB [] 73% 0.4s\u001b[0K\u001b[1G173.7 MiB [] 74% 0.4s\u001b[0K\u001b[1G173.7 MiB [] 76% 0.4s\u001b[0K\u001b[1G173.7 MiB [] 77% 0.4s\u001b[0K\u001b[1G173.7 MiB [] 78% 0.3s\u001b[0K\u001b[1G173.7 MiB [] 79% 0.3s\u001b[0K\u001b[1G173.7 MiB [] 81% 0.3s\u001b[0K\u001b[1G173.7 MiB [] 82% 0.3s\u001b[0K\u001b[1G173.7 MiB [] 83% 0.3s\u001b[0K\u001b[1G173.7 MiB [] 85% 0.2s\u001b[0K\u001b[1G173.7 MiB [] 86% 0.2s\u001b[0K\u001b[1G173.7 MiB [] 87% 0.2s\u001b[0K\u001b[1G173.7 MiB [] 89% 0.2s\u001b[0K\u001b[1G173.7 MiB [] 90% 0.2s\u001b[0K\u001b[1G173.7 MiB [] 91% 0.1s\u001b[0K\u001b[1G173.7 MiB [] 92% 0.1s\u001b[0K\u001b[1G173.7 MiB [] 93% 0.1s\u001b[0K\u001b[1G173.7 MiB [] 95% 0.1s\u001b[0K\u001b[1G173.7 MiB [] 96% 0.1s\u001b[0K\u001b[1G173.7 MiB [] 97% 0.0s\u001b[0K\u001b[1G173.7 MiB [] 99% 0.0s\u001b[0K\u001b[1G173.7 MiB [] 100% 0.0s\u001b[0K\n",
      "Chromium 140.0.7339.16 (playwright build v1187) downloaded to /root/.cache/ms-playwright/chromium-1187\n",
      "Downloading Chromium Headless Shell 140.0.7339.16 (playwright build v1187)\u001b[2m from https://cdn.playwright.dev/dbazure/download/playwright/builds/chromium/1187/chromium-headless-shell-linux.zip\u001b[22m\n",
      "\u001b[1G104.3 MiB [] 0% 0.0s\u001b[0K\u001b[1G104.3 MiB [] 0% 28.8s\u001b[0K\u001b[1G104.3 MiB [] 0% 17.3s\u001b[0K\u001b[1G104.3 MiB [] 0% 10.4s\u001b[0K\u001b[1G104.3 MiB [] 1% 5.4s\u001b[0K\u001b[1G104.3 MiB [] 1% 4.1s\u001b[0K\u001b[1G104.3 MiB [] 2% 3.3s\u001b[0K\u001b[1G104.3 MiB [] 4% 2.5s\u001b[0K\u001b[1G104.3 MiB [] 5% 2.2s\u001b[0K\u001b[1G104.3 MiB [] 7% 1.9s\u001b[0K\u001b[1G104.3 MiB [] 8% 1.9s\u001b[0K\u001b[1G104.3 MiB [] 9% 1.9s\u001b[0K\u001b[1G104.3 MiB [] 11% 1.7s\u001b[0K\u001b[1G104.3 MiB [] 12% 1.6s\u001b[0K\u001b[1G104.3 MiB [] 13% 1.5s\u001b[0K\u001b[1G104.3 MiB [] 15% 1.5s\u001b[0K\u001b[1G104.3 MiB [] 16% 1.4s\u001b[0K\u001b[1G104.3 MiB [] 18% 1.4s\u001b[0K\u001b[1G104.3 MiB [] 19% 1.3s\u001b[0K\u001b[1G104.3 MiB [] 21% 1.2s\u001b[0K\u001b[1G104.3 MiB [] 23% 1.1s\u001b[0K\u001b[1G104.3 MiB [] 25% 1.1s\u001b[0K\u001b[1G104.3 MiB [] 27% 1.0s\u001b[0K\u001b[1G104.3 MiB [] 29% 1.0s\u001b[0K\u001b[1G104.3 MiB [] 30% 0.9s\u001b[0K\u001b[1G104.3 MiB [] 32% 0.9s\u001b[0K\u001b[1G104.3 MiB [] 34% 0.9s\u001b[0K\u001b[1G104.3 MiB [] 36% 0.8s\u001b[0K\u001b[1G104.3 MiB [] 37% 0.8s\u001b[0K\u001b[1G104.3 MiB [] 38% 0.8s\u001b[0K\u001b[1G104.3 MiB [] 40% 0.8s\u001b[0K\u001b[1G104.3 MiB [] 43% 0.7s\u001b[0K\u001b[1G104.3 MiB [] 45% 0.7s\u001b[0K\u001b[1G104.3 MiB [] 48% 0.6s\u001b[0K\u001b[1G104.3 MiB [] 50% 0.6s\u001b[0K\u001b[1G104.3 MiB [] 52% 0.6s\u001b[0K\u001b[1G104.3 MiB [] 54% 0.5s\u001b[0K\u001b[1G104.3 MiB [] 56% 0.5s\u001b[0K\u001b[1G104.3 MiB [] 58% 0.5s\u001b[0K\u001b[1G104.3 MiB [] 60% 0.4s\u001b[0K\u001b[1G104.3 MiB [] 63% 0.4s\u001b[0K\u001b[1G104.3 MiB [] 65% 0.4s\u001b[0K\u001b[1G104.3 MiB [] 66% 0.4s\u001b[0K\u001b[1G104.3 MiB [] 69% 0.3s\u001b[0K\u001b[1G104.3 MiB [] 71% 0.3s\u001b[0K\u001b[1G104.3 MiB [] 73% 0.3s\u001b[0K\u001b[1G104.3 MiB [] 75% 0.3s\u001b[0K\u001b[1G104.3 MiB [] 77% 0.2s\u001b[0K\u001b[1G104.3 MiB [] 78% 0.2s\u001b[0K\u001b[1G104.3 MiB [] 79% 0.2s\u001b[0K\u001b[1G104.3 MiB [] 81% 0.2s\u001b[0K\u001b[1G104.3 MiB [] 84% 0.2s\u001b[0K\u001b[1G104.3 MiB [] 86% 0.1s\u001b[0K\u001b[1G104.3 MiB [] 88% 0.1s\u001b[0K\u001b[1G104.3 MiB [] 89% 0.1s\u001b[0K\u001b[1G104.3 MiB [] 91% 0.1s\u001b[0K\u001b[1G104.3 MiB [] 92% 0.1s\u001b[0K\u001b[1G104.3 MiB [] 93% 0.1s\u001b[0K\u001b[1G104.3 MiB [] 94% 0.1s\u001b[0K\u001b[1G104.3 MiB [] 96% 0.0s\u001b[0K\u001b[1G104.3 MiB [] 98% 0.0s\u001b[0K\u001b[1G104.3 MiB [] 100% 0.0s\u001b[0K\n",
      "Chromium Headless Shell 140.0.7339.16 (playwright build v1187) downloaded to /root/.cache/ms-playwright/chromium_headless_shell-1187\n",
      "Downloading Firefox 141.0 (playwright build v1490)\u001b[2m from https://cdn.playwright.dev/dbazure/download/playwright/builds/firefox/1490/firefox-ubuntu-22.04.zip\u001b[22m\n",
      "\u001b[1G96 MiB [] 0% 0.0s\u001b[0K\u001b[1G96 MiB [] 0% 25.1s\u001b[0K\u001b[1G96 MiB [] 0% 14.3s\u001b[0K\u001b[1G96 MiB [] 0% 8.0s\u001b[0K\u001b[1G96 MiB [] 1% 5.0s\u001b[0K\u001b[1G96 MiB [] 2% 3.5s\u001b[0K\u001b[1G96 MiB [] 3% 3.1s\u001b[0K\u001b[1G96 MiB [] 3% 2.8s\u001b[0K\u001b[1G96 MiB [] 5% 2.4s\u001b[0K\u001b[1G96 MiB [] 6% 2.1s\u001b[0K\u001b[1G96 MiB [] 7% 1.9s\u001b[0K\u001b[1G96 MiB [] 9% 1.8s\u001b[0K\u001b[1G96 MiB [] 10% 1.9s\u001b[0K\u001b[1G96 MiB [] 11% 1.9s\u001b[0K\u001b[1G96 MiB [] 13% 1.8s\u001b[0K\u001b[1G96 MiB [] 14% 1.8s\u001b[0K\u001b[1G96 MiB [] 16% 1.7s\u001b[0K\u001b[1G96 MiB [] 17% 1.7s\u001b[0K\u001b[1G96 MiB [] 18% 1.7s\u001b[0K\u001b[1G96 MiB [] 19% 1.6s\u001b[0K\u001b[1G96 MiB [] 21% 1.5s\u001b[0K\u001b[1G96 MiB [] 22% 1.5s\u001b[0K\u001b[1G96 MiB [] 24% 1.4s\u001b[0K\u001b[1G96 MiB [] 25% 1.4s\u001b[0K\u001b[1G96 MiB [] 26% 1.3s\u001b[0K\u001b[1G96 MiB [] 28% 1.3s\u001b[0K\u001b[1G96 MiB [] 29% 1.2s\u001b[0K\u001b[1G96 MiB [] 31% 1.2s\u001b[0K\u001b[1G96 MiB [] 32% 1.2s\u001b[0K\u001b[1G96 MiB [] 33% 1.2s\u001b[0K\u001b[1G96 MiB [] 35% 1.1s\u001b[0K\u001b[1G96 MiB [] 36% 1.1s\u001b[0K\u001b[1G96 MiB [] 37% 1.0s\u001b[0K\u001b[1G96 MiB [] 39% 1.0s\u001b[0K\u001b[1G96 MiB [] 40% 1.0s\u001b[0K\u001b[1G96 MiB [] 42% 1.0s\u001b[0K\u001b[1G96 MiB [] 44% 0.9s\u001b[0K\u001b[1G96 MiB [] 46% 0.9s\u001b[0K\u001b[1G96 MiB [] 47% 0.9s\u001b[0K\u001b[1G96 MiB [] 49% 0.8s\u001b[0K\u001b[1G96 MiB [] 51% 0.8s\u001b[0K\u001b[1G96 MiB [] 52% 0.7s\u001b[0K\u001b[1G96 MiB [] 54% 0.7s\u001b[0K\u001b[1G96 MiB [] 55% 0.7s\u001b[0K\u001b[1G96 MiB [] 56% 0.7s\u001b[0K\u001b[1G96 MiB [] 58% 0.6s\u001b[0K\u001b[1G96 MiB [] 60% 0.6s\u001b[0K\u001b[1G96 MiB [] 62% 0.6s\u001b[0K\u001b[1G96 MiB [] 63% 0.5s\u001b[0K\u001b[1G96 MiB [] 64% 0.5s\u001b[0K\u001b[1G96 MiB [] 65% 0.5s\u001b[0K\u001b[1G96 MiB [] 67% 0.5s\u001b[0K\u001b[1G96 MiB [] 69% 0.5s\u001b[0K\u001b[1G96 MiB [] 70% 0.4s\u001b[0K\u001b[1G96 MiB [] 72% 0.4s\u001b[0K\u001b[1G96 MiB [] 74% 0.4s\u001b[0K\u001b[1G96 MiB [] 76% 0.3s\u001b[0K\u001b[1G96 MiB [] 77% 0.3s\u001b[0K\u001b[1G96 MiB [] 79% 0.3s\u001b[0K\u001b[1G96 MiB [] 81% 0.3s\u001b[0K\u001b[1G96 MiB [] 83% 0.2s\u001b[0K\u001b[1G96 MiB [] 85% 0.2s\u001b[0K\u001b[1G96 MiB [] 86% 0.2s\u001b[0K\u001b[1G96 MiB [] 88% 0.2s\u001b[0K\u001b[1G96 MiB [] 89% 0.1s\u001b[0K\u001b[1G96 MiB [] 91% 0.1s\u001b[0K\u001b[1G96 MiB [] 93% 0.1s\u001b[0K\u001b[1G96 MiB [] 94% 0.1s\u001b[0K\u001b[1G96 MiB [] 96% 0.1s\u001b[0K\u001b[1G96 MiB [] 97% 0.0s\u001b[0K\u001b[1G96 MiB [] 99% 0.0s\u001b[0K\u001b[1G96 MiB [] 100% 0.0s\u001b[0K\n",
      "Firefox 141.0 (playwright build v1490) downloaded to /root/.cache/ms-playwright/firefox-1490\n",
      "Downloading Webkit 26.0 (playwright build v2203)\u001b[2m from https://cdn.playwright.dev/dbazure/download/playwright/builds/webkit/2203/webkit-ubuntu-22.04.zip\u001b[22m\n",
      "\u001b[1G94.6 MiB [] 0% 0.0s\u001b[0K\u001b[1G94.6 MiB [] 0% 27.6s\u001b[0K\u001b[1G94.6 MiB [] 0% 14.5s\u001b[0K\u001b[1G94.6 MiB [] 0% 8.6s\u001b[0K\u001b[1G94.6 MiB [] 1% 4.7s\u001b[0K\u001b[1G94.6 MiB [] 2% 2.8s\u001b[0K\u001b[1G94.6 MiB [] 4% 2.3s\u001b[0K\u001b[1G94.6 MiB [] 6% 1.7s\u001b[0K\u001b[1G94.6 MiB [] 7% 1.5s\u001b[0K\u001b[1G94.6 MiB [] 9% 1.5s\u001b[0K\u001b[1G94.6 MiB [] 11% 1.4s\u001b[0K\u001b[1G94.6 MiB [] 12% 1.3s\u001b[0K\u001b[1G94.6 MiB [] 14% 1.3s\u001b[0K\u001b[1G94.6 MiB [] 16% 1.1s\u001b[0K\u001b[1G94.6 MiB [] 17% 1.1s\u001b[0K\u001b[1G94.6 MiB [] 19% 1.0s\u001b[0K\u001b[1G94.6 MiB [] 20% 1.1s\u001b[0K\u001b[1G94.6 MiB [] 22% 1.0s\u001b[0K\u001b[1G94.6 MiB [] 23% 1.0s\u001b[0K\u001b[1G94.6 MiB [] 24% 1.0s\u001b[0K\u001b[1G94.6 MiB [] 26% 0.9s\u001b[0K\u001b[1G94.6 MiB [] 28% 0.9s\u001b[0K\u001b[1G94.6 MiB [] 31% 0.8s\u001b[0K\u001b[1G94.6 MiB [] 33% 0.8s\u001b[0K\u001b[1G94.6 MiB [] 35% 0.7s\u001b[0K\u001b[1G94.6 MiB [] 37% 0.7s\u001b[0K\u001b[1G94.6 MiB [] 40% 0.7s\u001b[0K\u001b[1G94.6 MiB [] 43% 0.6s\u001b[0K\u001b[1G94.6 MiB [] 45% 0.6s\u001b[0K\u001b[1G94.6 MiB [] 48% 0.5s\u001b[0K\u001b[1G94.6 MiB [] 51% 0.5s\u001b[0K\u001b[1G94.6 MiB [] 53% 0.5s\u001b[0K\u001b[1G94.6 MiB [] 55% 0.4s\u001b[0K\u001b[1G94.6 MiB [] 57% 0.4s\u001b[0K\u001b[1G94.6 MiB [] 60% 0.4s\u001b[0K\u001b[1G94.6 MiB [] 63% 0.3s\u001b[0K\u001b[1G94.6 MiB [] 65% 0.3s\u001b[0K\u001b[1G94.6 MiB [] 66% 0.3s\u001b[0K\u001b[1G94.6 MiB [] 68% 0.3s\u001b[0K\u001b[1G94.6 MiB [] 69% 0.3s\u001b[0K\u001b[1G94.6 MiB [] 71% 0.3s\u001b[0K\u001b[1G94.6 MiB [] 73% 0.2s\u001b[0K\u001b[1G94.6 MiB [] 74% 0.2s\u001b[0K\u001b[1G94.6 MiB [] 76% 0.2s\u001b[0K\u001b[1G94.6 MiB [] 78% 0.2s\u001b[0K\u001b[1G94.6 MiB [] 79% 0.2s\u001b[0K\u001b[1G94.6 MiB [] 81% 0.2s\u001b[0K\u001b[1G94.6 MiB [] 82% 0.2s\u001b[0K\u001b[1G94.6 MiB [] 85% 0.1s\u001b[0K\u001b[1G94.6 MiB [] 87% 0.1s\u001b[0K\u001b[1G94.6 MiB [] 90% 0.1s\u001b[0K\u001b[1G94.6 MiB [] 93% 0.1s\u001b[0K\u001b[1G94.6 MiB [] 96% 0.0s\u001b[0K\u001b[1G94.6 MiB [] 98% 0.0s\u001b[0K\u001b[1G94.6 MiB [] 100% 0.0s\u001b[0K\n",
      "Webkit 26.0 (playwright build v2203) downloaded to /root/.cache/ms-playwright/webkit-2203\n",
      "Downloading FFMPEG playwright build v1011\u001b[2m from https://cdn.playwright.dev/dbazure/download/playwright/builds/ffmpeg/1011/ffmpeg-linux.zip\u001b[22m\n",
      "\u001b[1G2.3 MiB [] 0% 0.0s\u001b[0K\u001b[1G2.3 MiB [] 2% 0.6s\u001b[0K\u001b[1G2.3 MiB [] 8% 0.3s\u001b[0K\u001b[1G2.3 MiB [] 22% 0.2s\u001b[0K\u001b[1G2.3 MiB [] 57% 0.0s\u001b[0K\u001b[1G2.3 MiB [] 100% 0.0s\u001b[0K\n",
      "FFMPEG playwright build v1011 downloaded to /root/.cache/ms-playwright/ffmpeg-1011\n",
      "Playwright Host validation warning: \n",
      "╔══════════════════════════════════════════════════════╗\n",
      "║ Host system is missing dependencies to run browsers. ║\n",
      "║ Missing libraries:                                   ║\n",
      "║     libwoff2dec.so.1.0.2                             ║\n",
      "║     libgstgl-1.0.so.0                                ║\n",
      "║     libgstcodecparsers-1.0.so.0                      ║\n",
      "║     libavif.so.13                                    ║\n",
      "║     libharfbuzz-icu.so.0                             ║\n",
      "║     libenchant-2.so.2                                ║\n",
      "║     libsecret-1.so.0                                 ║\n",
      "║     libhyphen.so.0                                   ║\n",
      "║     libmanette-0.2.so.0                              ║\n",
      "╚══════════════════════════════════════════════════════╝\n",
      "    at validateDependenciesLinux (/usr/local/lib/python3.12/dist-packages/playwright/driver/package/lib/server/registry/dependencies.js:269:9)\n",
      "    at async Registry._validateHostRequirements (/usr/local/lib/python3.12/dist-packages/playwright/driver/package/lib/server/registry/index.js:934:14)\n",
      "    at async Registry._validateHostRequirementsForExecutableIfNeeded (/usr/local/lib/python3.12/dist-packages/playwright/driver/package/lib/server/registry/index.js:1056:7)\n",
      "    at async Registry.validateHostRequirementsForExecutablesIfNeeded (/usr/local/lib/python3.12/dist-packages/playwright/driver/package/lib/server/registry/index.js:1045:7)\n",
      "    at async i.<anonymous> (/usr/local/lib/python3.12/dist-packages/playwright/driver/package/lib/cli/program.js:217:7)\n"
     ]
    }
   ],
   "source": [
    "!pip install -q llama-index==0.13.3 llama-index-llms-openai==0.5.4 openai==1.102.0 newspaper4k==0.9.3.1 \\\n",
    "                lxml_html_clean==0.4.2 crawl4ai==0.7.4 jedi==0.19.2\n",
    "\n",
    "!playwright install"
   ]
  },
  {
   "cell_type": "code",
   "execution_count": 2,
   "metadata": {
    "id": "uiytKagIm6zt"
   },
   "outputs": [],
   "source": [
    "import os\n",
    "import asyncio\n",
    "import json\n",
    "import nest_asyncio\n",
    "from google.colab import userdata\n",
    "\n",
    "# Set API Keys\n",
    "os.environ[\"OPENAI_API_KEY\"] = userdata.get('OPENAI_API_KEY')"
   ]
  },
  {
   "cell_type": "code",
   "execution_count": 3,
   "metadata": {
    "colab": {
     "base_uri": "https://localhost:8080/"
    },
    "id": "V-BN0aitm92F",
    "outputId": "693c3942-ff8e-42aa-8394-e1558df03282"
   },
   "outputs": [
    {
     "name": "stdout",
     "output_type": "stream",
     "text": [
      "{'url': 'https://docs.llamaindex.ai/en/stable/understanding', 'title': 'Building an LLM application #', 'text': \"Using LLMs: hit the ground running by getting started working with LLMs. We'll show you how to use any of our dozens of supported LLMs, whether via remote API calls or running locally on your machine.\\n\\nBuilding agents: agents are LLM-powered knowledge workers that can interact with the world via a set of tools. Those tools can retrieve information (such as RAG, see below) or take action. This tutorial includes:\\n\\nBuilding a single agent: We show you how to build a simple agent that can interact with the world via a set of tools.\\n\\nUsing existing tools: LlamaIndex provides a registry of pre-built agent tools at LlamaHub that you can incorporate into your agents.\\n\\nMaintaining state: agents can maintain state, which is important for building more complex applications.\\n\\nStreaming output and events: providing visibility and feedback to the user is important, and streaming allows you to do that.\\n\\nHuman in the loop: getting human feedback to your agent can be critical.\\n\\nMulti-agent systems with AgentWorkflow: combining multiple agents to collaborate is a powerful technique for building more complex systems; this section shows you how to do so.\\n\\nWorkflows: Workflows are a lower-level, event-driven abstraction for building agentic applications. They're the base layer you should be using to build any advanced agentic application. You can use the pre-built abstractions you learned above, or build agents completely from scratch. This tutorial covers:\\n\\nBuilding a simple workflow: a simple workflow that shows you how to use the Workflow class to build a basic agentic application.\\n\\nLooping and branching: these core control flow patterns are the building blocks of more complex workflows.\\n\\nConcurrent execution: you can run steps in parallel to split up work efficiently.\\n\\nStreaming events: your agents can emit user-facing events just like the agents you built above.\\n\\nStateful workflows: workflows can maintain state, which is important for building more complex applications.\\n\\nObservability: workflows can be traced and debugged using various integrations like Arize Pheonix, OpenTelemetry, and more.\\n\\nAdding RAG to your agents: Retrieval-Augmented Generation (RAG) is a key technique for getting your data to an LLM, and a component of more sophisticated agentic systems. We'll show you how to enhance your agents with a full-featured RAG pipeline that can answer questions about your data. This includes:\\n\\nLoading & Ingestion: Getting your data from wherever it lives, whether that's unstructured text, PDFs, databases, or APIs to other applications. LlamaIndex has hundreds of connectors to every data source over at LlamaHub.\\n\\nIndexing and Embedding: Once you've got your data there are an infinite number of ways to structure access to that data to ensure your applications is always working with the most relevant data. LlamaIndex has a huge number of these strategies built-in and can help you select the best ones.\\n\\nStoring: You will probably find it more efficient to store your data in indexed form, or pre-processed summaries provided by an LLM, often in a specialized database known as a Vector Store (see below). You can also store your indexes, metadata and more.\\n\\nQuerying: Every indexing strategy has a corresponding querying strategy and there are lots of ways to improve the relevance, speed and accuracy of what you retrieve and what the LLM does with it before returning it to you, including turning it into structured responses such as an API.\\n\\nPutting it all together: whether you are building question & answering, chatbots, an API, or an autonomous agent, we show you how to get your application into production.\\n\\nTracing and debugging: also called observability, it's especially important with LLM applications to be able to look into the inner workings of what's going on to help you debug problems and spot places to improve.\\n\\nEvaluating: every strategy has pros and cons and a key part of building, shipping and evolving your application is evaluating whether your change has improved your application in terms of accuracy, performance, clarity, cost and more. Reliably evaluating your changes is a crucial part of LLM application development.\"}\n",
      "4\n"
     ]
    }
   ],
   "source": [
    "import newspaper\n",
    "\n",
    "urls = [\n",
    "    \"https://docs.llamaindex.ai/en/stable/understanding\",\n",
    "    \"https://docs.llamaindex.ai/en/stable/understanding/using_llms/using_llms/\",\n",
    "    \"https://docs.llamaindex.ai/en/stable/understanding/indexing/indexing/\",\n",
    "    \"https://docs.llamaindex.ai/en/stable/understanding/querying/querying/\",\n",
    "]\n",
    "\n",
    "pages_content = []\n",
    "\n",
    "# Retrieve the Content\n",
    "for url in urls:\n",
    "    try:\n",
    "        article = newspaper.Article(url)\n",
    "        article.download()\n",
    "        article.parse()\n",
    "        if len(article.text) > 0:\n",
    "            pages_content.append(\n",
    "                {\"url\": url, \"title\": article.title, \"text\": article.text}\n",
    "            )\n",
    "    except:\n",
    "        continue\n",
    "\n",
    "print(pages_content[0])\n",
    "print(len(pages_content))"
   ]
  },
  {
   "cell_type": "code",
   "execution_count": 4,
   "metadata": {
    "id": "RKgOLlq9nCpx"
   },
   "outputs": [],
   "source": [
    "# Convert to Document\n",
    "from llama_index.core.schema import Document\n",
    "\n",
    "documents = [\n",
    "    Document(text=row[\"text\"], metadata={\"title\": row[\"title\"], \"url\": row[\"url\"]})\n",
    "    for row in pages_content\n",
    "]\n"
   ]
  },
  {
   "cell_type": "markdown",
   "metadata": {
    "id": "kYyZwjc1PqfZ"
   },
   "source": [
    "## Crawl a Website"
   ]
  },
  {
   "cell_type": "code",
   "execution_count": 5,
   "metadata": {
    "colab": {
     "base_uri": "https://localhost:8080/",
     "height": 344
    },
    "id": "C2Dn4834nIpy",
    "outputId": "4b2cc439-007c-4c54-d789-d228843874b5"
   },
   "outputs": [
    {
     "data": {
      "text/html": [
       "<pre style=\"white-space:pre;overflow-x:auto;line-height:normal;font-family:Menlo,'DejaVu Sans Mono',consolas,'Courier New',monospace\"><span style=\"color: #008080; text-decoration-color: #008080; font-weight: bold\">[</span><span style=\"color: #008080; text-decoration-color: #008080\">INIT</span><span style=\"color: #008080; text-decoration-color: #008080; font-weight: bold\">]</span><span style=\"color: #008080; text-decoration-color: #008080\">.... → Crawl4AI </span><span style=\"color: #008080; text-decoration-color: #008080; font-weight: bold\">0.7</span><span style=\"color: #008080; text-decoration-color: #008080\">.</span><span style=\"color: #008080; text-decoration-color: #008080; font-weight: bold\">4</span><span style=\"color: #008080; text-decoration-color: #008080\"> </span>\n",
       "</pre>\n"
      ],
      "text/plain": [
       "\u001b[1;36m[\u001b[0m\u001b[36mINIT\u001b[0m\u001b[1;36m]\u001b[0m\u001b[36m...\u001b[0m\u001b[36m. → Crawl4AI \u001b[0m\u001b[1;36m0.7\u001b[0m\u001b[36m.\u001b[0m\u001b[1;36m4\u001b[0m\u001b[36m \u001b[0m\n"
      ]
     },
     "metadata": {},
     "output_type": "display_data"
    },
    {
     "data": {
      "text/html": [
       "<pre style=\"white-space:pre;overflow-x:auto;line-height:normal;font-family:Menlo,'DejaVu Sans Mono',consolas,'Courier New',monospace\"><span style=\"color: #008000; text-decoration-color: #008000; font-weight: bold\">[</span><span style=\"color: #008000; text-decoration-color: #008000\">FETCH</span><span style=\"color: #008000; text-decoration-color: #008000; font-weight: bold\">]</span><span style=\"color: #008000; text-decoration-color: #008000\">... ↓ </span><span style=\"color: #008000; text-decoration-color: #008000; text-decoration: underline\">https://docs.llamaindex.ai/en/stable/understanding/</span><span style=\"color: #008000; text-decoration-color: #008000\">                                                  |</span>\n",
       "<span style=\"color: #008000; text-decoration-color: #008000\">✓ | ⏱: </span><span style=\"color: #008000; text-decoration-color: #008000; font-weight: bold\">1.</span><span style=\"color: #008000; text-decoration-color: #008000\">65s </span>\n",
       "</pre>\n"
      ],
      "text/plain": [
       "\u001b[1;32m[\u001b[0m\u001b[32mFETCH\u001b[0m\u001b[1;32m]\u001b[0m\u001b[32m...\u001b[0m\u001b[32m ↓ \u001b[0m\u001b[4;32mhttps://docs.llamaindex.ai/en/stable/understanding/\u001b[0m\u001b[32m                                                  |\u001b[0m\n",
       "\u001b[32m✓\u001b[0m\u001b[32m | ⏱: \u001b[0m\u001b[1;32m1.\u001b[0m\u001b[32m65s \u001b[0m\n"
      ]
     },
     "metadata": {},
     "output_type": "display_data"
    },
    {
     "data": {
      "text/html": [
       "<pre style=\"white-space:pre;overflow-x:auto;line-height:normal;font-family:Menlo,'DejaVu Sans Mono',consolas,'Courier New',monospace\"><span style=\"color: #008000; text-decoration-color: #008000; font-weight: bold\">[</span><span style=\"color: #008000; text-decoration-color: #008000\">SCRAPE</span><span style=\"color: #008000; text-decoration-color: #008000; font-weight: bold\">]</span><span style=\"color: #008000; text-decoration-color: #008000\">.. ◆ </span><span style=\"color: #008000; text-decoration-color: #008000; text-decoration: underline\">https://docs.llamaindex.ai/en/stable/understanding/</span><span style=\"color: #008000; text-decoration-color: #008000\">                                                  |</span>\n",
       "<span style=\"color: #008000; text-decoration-color: #008000\">✓ | ⏱: </span><span style=\"color: #008000; text-decoration-color: #008000; font-weight: bold\">0.</span><span style=\"color: #008000; text-decoration-color: #008000\">03s </span>\n",
       "</pre>\n"
      ],
      "text/plain": [
       "\u001b[1;32m[\u001b[0m\u001b[32mSCRAPE\u001b[0m\u001b[1;32m]\u001b[0m\u001b[32m.. ◆ \u001b[0m\u001b[4;32mhttps://docs.llamaindex.ai/en/stable/understanding/\u001b[0m\u001b[32m                                                  |\u001b[0m\n",
       "\u001b[32m✓\u001b[0m\u001b[32m | ⏱: \u001b[0m\u001b[1;32m0.\u001b[0m\u001b[32m03s \u001b[0m\n"
      ]
     },
     "metadata": {},
     "output_type": "display_data"
    },
    {
     "data": {
      "text/html": [
       "<pre style=\"white-space:pre;overflow-x:auto;line-height:normal;font-family:Menlo,'DejaVu Sans Mono',consolas,'Courier New',monospace\"><span style=\"color: #008000; text-decoration-color: #008000; font-weight: bold\">[</span><span style=\"color: #008000; text-decoration-color: #008000\">COMPLETE</span><span style=\"color: #008000; text-decoration-color: #008000; font-weight: bold\">]</span><span style=\"color: #008000; text-decoration-color: #008000\"> ● </span><span style=\"color: #008000; text-decoration-color: #008000; text-decoration: underline\">https://docs.llamaindex.ai/en/stable/understanding/</span><span style=\"color: #008000; text-decoration-color: #008000\">                                                  |</span>\n",
       "<span style=\"color: #008000; text-decoration-color: #008000\">✓ | ⏱: </span><span style=\"color: #008000; text-decoration-color: #008000; font-weight: bold\">1.</span><span style=\"color: #008000; text-decoration-color: #008000\">68s </span>\n",
       "</pre>\n"
      ],
      "text/plain": [
       "\u001b[1;32m[\u001b[0m\u001b[32mCOMPLETE\u001b[0m\u001b[1;32m]\u001b[0m\u001b[32m ● \u001b[0m\u001b[4;32mhttps://docs.llamaindex.ai/en/stable/understanding/\u001b[0m\u001b[32m                                                  |\u001b[0m\n",
       "\u001b[32m✓\u001b[0m\u001b[32m | ⏱: \u001b[0m\u001b[1;32m1.\u001b[0m\u001b[32m68s \u001b[0m\n"
      ]
     },
     "metadata": {},
     "output_type": "display_data"
    },
    {
     "name": "stdout",
     "output_type": "stream",
     "text": [
      "URL: https://docs.llamaindex.ai/en/stable/understanding/\n",
      "Title: Building an LLM Application - LlamaIndex\n",
      "Content: [ Skip to content ](https://docs.llamaindex.ai/en/stable/understanding/#building-an-llm-application)\n",
      "[ ![logo](https://docs.llamaindex.ai/en/stable/_static/assets/LlamaSquareBlack.svg) ](https://docs.llamaindex.ai/en/stable/ \"LlamaIndex\")\n",
      "LlamaIndex \n",
      "Building an LLM Application \n",
      "Search`K`\n",
      "  * [ Home ](https://docs.llamaindex.ai/en/stable/)\n",
      "  * [ Learn ](https://docs.llamaindex.ai/en/stable/understanding/)\n",
      "  * [ Use Cases ](https://docs.llamaindex.ai/en/stable/use_cases/)\n",
      "  * [ Examples ](https:/ ...\n"
     ]
    }
   ],
   "source": [
    "from crawl4ai import AsyncWebCrawler, CrawlerRunConfig, CacheMode\n",
    "\n",
    "urls_to_crawl = [\n",
    "    \"https://docs.llamaindex.ai/en/stable/understanding/\",\n",
    "]\n",
    "\n",
    "# Synchronous wrapper\n",
    "def crawl_sync():\n",
    "    async def crawl_with_crawl4ai():\n",
    "        config = CrawlerRunConfig(\n",
    "            cache_mode=CacheMode.BYPASS,\n",
    "            page_timeout=80000,\n",
    "            word_count_threshold=50\n",
    "        )\n",
    "\n",
    "        data_res = {\"data\": []}\n",
    "\n",
    "        async with AsyncWebCrawler() as crawler:\n",
    "            results = await crawler.arun_many(\n",
    "                urls_to_crawl,\n",
    "                config=config\n",
    "            )\n",
    "\n",
    "            for result in results:\n",
    "                if result.success:\n",
    "                    title = result.metadata.get(\"title\", \"\")\n",
    "                    if not title and result.markdown:\n",
    "                        lines = result.markdown.raw_markdown.split('\\n')\n",
    "                        for line in lines:\n",
    "                            if line.startswith('#'):\n",
    "                                title = line.strip('#').strip()\n",
    "                                break\n",
    "\n",
    "                    data_res[\"data\"].append({\n",
    "                        \"text\": result.markdown.raw_markdown if result.markdown else \"\",\n",
    "                        \"meta\": {\n",
    "                            \"url\": result.url,\n",
    "                            \"meta\": {\n",
    "                                \"title\": title\n",
    "                            }\n",
    "                        }\n",
    "                    })\n",
    "\n",
    "        return data_res\n",
    "\n",
    "    # Handle async execution\n",
    "    nest_asyncio.apply()\n",
    "\n",
    "    loop = asyncio.new_event_loop()\n",
    "    result = loop.run_until_complete(crawl_with_crawl4ai())\n",
    "    loop.close()\n",
    "    return result\n",
    "\n",
    "# Run the crawler\n",
    "data_res = crawl_sync()\n",
    "\n",
    "# Print results (same format as before)\n",
    "print(\"URL:\", data_res[\"data\"][0][\"meta\"][\"url\"])\n",
    "print(\"Title:\", data_res[\"data\"][0][\"meta\"][\"meta\"][\"title\"])\n",
    "print(\"Content:\", data_res[\"data\"][0][\"text\"][0:500], \"...\")"
   ]
  },
  {
   "cell_type": "code",
   "execution_count": 6,
   "metadata": {
    "id": "M3ZaDPVVnImg"
   },
   "outputs": [],
   "source": [
    "from llama_index.core.schema import Document\n",
    "\n",
    "documents = [\n",
    "    Document(\n",
    "        text=row[\"text\"],\n",
    "        metadata={\"title\": row[\"meta\"][\"meta\"][\"title\"], \"url\": row[\"meta\"][\"url\"]},\n",
    "    )\n",
    "    for row in data_res[\"data\"]\n",
    "]"
   ]
  },
  {
   "cell_type": "code",
   "execution_count": 7,
   "metadata": {
    "id": "TDapqZ-anzGY"
   },
   "outputs": [],
   "source": [
    "from llama_index.llms.openai import OpenAI\n",
    "from llama_index.embeddings.openai import OpenAIEmbedding\n",
    "from llama_index.core.node_parser import SentenceSplitter\n",
    "from llama_index.core import Settings\n",
    "from llama_index.core import VectorStoreIndex\n",
    "\n",
    "Settings.llm = OpenAI(model=\"gpt-5-mini\")\n",
    "Settings.embed_model = OpenAIEmbedding(model=\"text-embedding-3-small\")\n",
    "Settings.text_splitter = SentenceSplitter(chunk_size=512, chunk_overlap=30)"
   ]
  },
  {
   "cell_type": "code",
   "execution_count": 8,
   "metadata": {
    "id": "Dp35GDgHn2EY"
   },
   "outputs": [],
   "source": [
    "index = VectorStoreIndex.from_documents(documents)\n",
    "query_engine = index.as_query_engine()"
   ]
  },
  {
   "cell_type": "code",
   "execution_count": 9,
   "metadata": {
    "colab": {
     "base_uri": "https://localhost:8080/"
    },
    "id": "aBMRmES-n7v5",
    "outputId": "fb9b418d-5994-409f-dfe5-9688aafc0b81"
   },
   "outputs": [
    {
     "name": "stdout",
     "output_type": "stream",
     "text": [
      "A query engine is the component that runs retrieval and processing over your indexed data to answer user questions. It implements the querying strategy paired with an index to:\n",
      "\n",
      "- find and return the most relevant pieces of data (improving relevance, speed, and accuracy),\n",
      "- optionally re-rank, filter, or transform results before passing them to an LLM,\n",
      "- and format the LLM’s output into structured responses (for example, an API response).\n",
      "\n",
      "In short, it’s the part of a RAG pipeline that turns a user query into the right data and response.\n"
     ]
    }
   ],
   "source": [
    "res = query_engine.query(\"What is a query engine?\")\n",
    "print(res.response)"
   ]
  },
  {
   "cell_type": "code",
   "execution_count": 10,
   "metadata": {
    "colab": {
     "base_uri": "https://localhost:8080/"
    },
    "id": "IQkQb66gn2BA",
    "outputId": "e5c0330f-f3cd-4330-9395-da3516704fac"
   },
   "outputs": [
    {
     "name": "stdout",
     "output_type": "stream",
     "text": [
      "Node ID\t 6713aba0-4b60-4f71-b9fd-0964ef9e80f2\n",
      "Title\t Building an LLM Application - LlamaIndex\n",
      "URL\t https://docs.llamaindex.ai/en/stable/understanding/\n",
      "Score\t 0.30650711906653494\n",
      "-_-_-_-_-_-_-_-_-_-_-_-_-_-_-_-_-_-_-_-_\n",
      "Node ID\t be435d8c-1fbd-4429-83cc-def67de565b5\n",
      "Title\t Building an LLM Application - LlamaIndex\n",
      "URL\t https://docs.llamaindex.ai/en/stable/understanding/\n",
      "Score\t 0.2536047997303896\n",
      "-_-_-_-_-_-_-_-_-_-_-_-_-_-_-_-_-_-_-_-_\n"
     ]
    }
   ],
   "source": [
    "# Show the retrieved nodes\n",
    "for src in res.source_nodes:\n",
    "    print(\"Node ID\\t\", src.node_id)\n",
    "    print(\"Title\\t\", src.metadata[\"title\"])\n",
    "    print(\"URL\\t\", src.metadata[\"url\"])\n",
    "    print(\"Score\\t\", src.score)\n",
    "    print(\"-_\" * 20)"
   ]
  },
  {
   "cell_type": "code",
   "execution_count": 10,
   "metadata": {
    "id": "XYnK1RJqnClY"
   },
   "outputs": [],
   "source": []
  }
 ],
 "metadata": {
  "colab": {
   "provenance": []
  },
  "kernelspec": {
   "display_name": "Python 3",
   "name": "python3"
  },
  "language_info": {
   "name": "python",
   "version": "3.12.4"
  }
 },
 "nbformat": 4,
 "nbformat_minor": 0
}
