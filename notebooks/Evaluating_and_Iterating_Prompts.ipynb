{
  "cells": [
    {
      "cell_type": "markdown",
      "metadata": {
        "id": "-6xcBw_1aAwq"
      },
      "source": [
        "[![Open in Colab](https://colab.research.google.com/assets/colab-badge.svg)](https://colab.research.google.com/github/towardsai/ai-tutor-rag-system/blob/main/notebooks/Evaluating_and_Iterating_Prompts.ipynb)"
      ]
    },
    {
      "cell_type": "markdown",
      "metadata": {
        "id": "_0uFIE3nYnqs"
      },
      "source": [
        "### Installing Necessary packages"
      ]
    },
    {
      "cell_type": "code",
      "execution_count": 1,
      "metadata": {
        "colab": {
          "base_uri": "https://localhost:8080/"
        },
        "collapsed": true,
        "id": "RpCDuBbpa41t",
        "outputId": "3bffb88a-dc20-47c8-99d0-1fa7d48e1024"
      },
      "outputs": [
        {
          "output_type": "stream",
          "name": "stdout",
          "text": [
            "\u001b[?25l   \u001b[90m━━━━━━━━━━━━━━━━━━━━━━━━━━━━━━━━━━━━━━━━\u001b[0m \u001b[32m0.0/951.0 kB\u001b[0m \u001b[31m?\u001b[0m eta \u001b[36m-:--:--\u001b[0m\r\u001b[2K   \u001b[91m━━━━━━━━━━━━\u001b[0m\u001b[91m╸\u001b[0m\u001b[90m━━━━━━━━━━━━━━━━━━━━━━━━━━━\u001b[0m \u001b[32m307.2/951.0 kB\u001b[0m \u001b[31m9.0 MB/s\u001b[0m eta \u001b[36m0:00:01\u001b[0m\r\u001b[2K   \u001b[91m━━━━━━━━━━━━━━━━━━━━━━━━━━━━━━━━━━━━━━━\u001b[0m\u001b[91m╸\u001b[0m \u001b[32m942.1/951.0 kB\u001b[0m \u001b[31m17.5 MB/s\u001b[0m eta \u001b[36m0:00:01\u001b[0m\r\u001b[2K   \u001b[90m━━━━━━━━━━━━━━━━━━━━━━━━━━━━━━━━━━━━━━━━\u001b[0m \u001b[32m951.0/951.0 kB\u001b[0m \u001b[31m13.1 MB/s\u001b[0m eta \u001b[36m0:00:00\u001b[0m\n",
            "\u001b[?25h"
          ]
        }
      ],
      "source": [
        "!pip install -q openai==1.107.0"
      ]
    },
    {
      "cell_type": "code",
      "execution_count": 2,
      "metadata": {
        "id": "KRqtrsMQYsuD"
      },
      "outputs": [],
      "source": [
        "import os\n",
        "\n",
        "# Set the following API Keys in the Python environment. Will be used later.\n",
        "# os.environ[\"OPENAI_API_KEY\"] = \"<YOUR_OPENAI_KEY>\"\n",
        "\n",
        "\n",
        "from google.colab import userdata\n",
        "os.environ[\"OPENAI_API_KEY\"] = userdata.get('OPENAI_API_KEY')"
      ]
    },
    {
      "cell_type": "code",
      "execution_count": 3,
      "metadata": {
        "id": "sgGQUCbXZLaf"
      },
      "outputs": [],
      "source": [
        "# Allows running asyncio in environments with an existing event loop in the notebook\n",
        "\n",
        "import nest_asyncio\n",
        "\n",
        "nest_asyncio.apply()"
      ]
    },
    {
      "cell_type": "markdown",
      "metadata": {
        "id": "Z2eMMueuZMRa"
      },
      "source": [
        "### Response Generation Using GPT-5"
      ]
    },
    {
      "cell_type": "code",
      "execution_count": 4,
      "metadata": {
        "id": "RHS9vut2ZOEj"
      },
      "outputs": [],
      "source": [
        "from openai import OpenAI\n",
        "client = OpenAI()"
      ]
    },
    {
      "cell_type": "code",
      "execution_count": 5,
      "metadata": {
        "colab": {
          "base_uri": "https://localhost:8080/"
        },
        "id": "uKF4ugsCcRf-",
        "outputId": "598613ef-7b2c-4e54-a961-e2a70c6c3ea6"
      },
      "outputs": [
        {
          "output_type": "stream",
          "name": "stdout",
          "text": [
            "---\n",
            "Company | Foundation Year\n",
            "Pfizer | 1849\n",
            "Johnson & Johnson | 1886\n",
            "Roche | 1896\n",
            "Novartis | 1996\n",
            "Merck & Co. | 1891\n",
            "---\n"
          ]
        }
      ],
      "source": [
        "prompt_generation = \"\"\"\n",
        "Generate a table with the 5 most popular pharmaceutical companies and their foundation years.\n",
        "The response should include only the table, with no additional text.\n",
        "Use the following example format:\n",
        "---\n",
        "Company | Foundation Year\n",
        "Microsoft | 1975\n",
        "Apple | 1976\n",
        "Google | 1998\n",
        "Amazon | 1994\n",
        "Meta | 2004\n",
        "---\"\"\"\n",
        "\n",
        "\n",
        "# Making the API call\n",
        "response = client.responses.create(\n",
        "  model=\"gpt-5\",\n",
        "  instructions=\"You are a helpful assistant.\",\n",
        "  input=prompt_generation,\n",
        "  reasoning={'effort':'minimal'},\n",
        ")\n",
        "\n",
        "generated_response = response.output[1].content[0].text\n",
        "print(generated_response)"
      ]
    },
    {
      "cell_type": "markdown",
      "metadata": {
        "id": "hFjpETnkHrV8"
      },
      "source": [
        "### Format Checking with GPT-5 Model (GPT-5 will act as a Judge)"
      ]
    },
    {
      "cell_type": "code",
      "execution_count": 6,
      "metadata": {
        "colab": {
          "base_uri": "https://localhost:8080/"
        },
        "id": "SiW3vwKshVH8",
        "outputId": "eaca3d1b-4859-468c-a370-ca0d567224e1"
      },
      "outputs": [
        {
          "output_type": "stream",
          "name": "stdout",
          "text": [
            "Yes\n"
          ]
        }
      ],
      "source": [
        "prompt_check_table_new = \"\"\"Your task is to verify if a given table matches the exact format and structure of a provided example table.\n",
        "\n",
        "Here's an example of the format that the table should have:\n",
        "---\n",
        "Company | Foundation Year\n",
        "Microsoft | 1975\n",
        "Apple | 1976\n",
        "Google | 1998\n",
        "Amazon | 1994\n",
        "Meta | 2004\n",
        "---\n",
        "\n",
        "Table to Check:\n",
        "{table_to_check}\n",
        "\n",
        "Instructions:\n",
        "- The table to check should match the structure, headers, and format of the Example Table exactly.\n",
        "- The column names must be \"Company\" and \"Foundation Year\".\n",
        "- The values in each row should have the company names and their corresponding foundation years.\n",
        "- If the given table matches the example table in all these aspects, write \"Yes\".\n",
        "- Write \"No\" if there are any differences in structure, headers, or if any company/year is missing or incorrect.\n",
        "\n",
        "Only respond with \"Yes\" or \"No\".\n",
        "\n",
        "\"\"\"\n",
        "\n",
        "formatted_input = prompt_check_table_new.format(table_to_check=generated_response)\n",
        "\n",
        "\n",
        "# using LLM as a Judge to check the format\n",
        "response = client.responses.create(\n",
        "  model=\"gpt-5\",\n",
        "  instructions=\"You are a strict judge. Evaluate inputs based on the given criteria and provide only the required response\",\n",
        "  input=formatted_input,\n",
        "  reasoning={'effort':'minimal'},\n",
        ")\n",
        "print(response.output[1].content[0].text)"
      ]
    },
    {
      "cell_type": "code",
      "execution_count": 7,
      "metadata": {
        "colab": {
          "base_uri": "https://localhost:8080/"
        },
        "id": "BTn7Ge6V4Om3",
        "outputId": "cdfa45bc-4f14-43fd-8d52-48cb677147bc"
      },
      "outputs": [
        {
          "output_type": "stream",
          "name": "stdout",
          "text": [
            "Your task is to verify if a given table matches the exact format and structure of a provided example table.\n",
            "\n",
            "Here's an example of the format that the table should have:\n",
            "---\n",
            "Company | Foundation Year\n",
            "Microsoft | 1975\n",
            "Apple | 1976\n",
            "Google | 1998\n",
            "Amazon | 1994\n",
            "Meta | 2004\n",
            "---\n",
            "\n",
            "Table to Check:\n",
            "---\n",
            "Company | Foundation Year\n",
            "Pfizer | 1849\n",
            "Johnson & Johnson | 1886\n",
            "Roche | 1896\n",
            "Novartis | 1996\n",
            "Merck & Co. | 1891\n",
            "---\n",
            "\n",
            "Instructions:\n",
            "- The table to check should match the structure, headers, and format of the Example Table exactly.\n",
            "- The column names must be \"Company\" and \"Foundation Year\".\n",
            "- The values in each row should have the company names and their corresponding foundation years.\n",
            "- If the given table matches the example table in all these aspects, write \"Yes\".\n",
            "- Write \"No\" if there are any differences in structure, headers, or if any company/year is missing or incorrect.\n",
            "\n",
            "Only respond with \"Yes\" or \"No\".\n",
            "\n",
            "\n"
          ]
        }
      ],
      "source": [
        "print(formatted_input)"
      ]
    },
    {
      "cell_type": "code",
      "execution_count": 8,
      "metadata": {
        "id": "oLbGB9HSFvTT"
      },
      "outputs": [],
      "source": [
        "# Example Badly Formatted Table\n",
        "\n",
        "badly_formatted_table = \"\"\"\n",
        "Company | Foundation Year\n",
        "\n",
        "Microsoft | 1975\n",
        "\n",
        "Apple | 1976\n",
        "Google | 1998\n",
        "Amazon | 1994\n",
        "\n",
        "Meta | 2004\n",
        "\"\"\""
      ]
    },
    {
      "cell_type": "code",
      "execution_count": 9,
      "metadata": {
        "colab": {
          "base_uri": "https://localhost:8080/"
        },
        "id": "yVebrs01FltN",
        "outputId": "726b2547-f286-44f2-bf63-485f55965472"
      },
      "outputs": [
        {
          "output_type": "stream",
          "name": "stdout",
          "text": [
            "No\n"
          ]
        }
      ],
      "source": [
        "formatted_input = prompt_check_table_new.format(table_to_check=badly_formatted_table)\n",
        "\n",
        "\n",
        "# using LLM as a Judge to check the format\n",
        "response = client.responses.create(\n",
        "  model=\"gpt-5\",\n",
        "  instructions=\"You are a strict judge. Evaluate inputs based on the given criteria and provide only the required response\",\n",
        "  input=formatted_input,\n",
        "  reasoning={'effort':'minimal'},\n",
        ")\n",
        "print(response.output[1].content[0].text)"
      ]
    },
    {
      "cell_type": "markdown",
      "metadata": {
        "id": "Nv0-5bWgHmif"
      },
      "source": [
        "### GPT-5 Acting as a Judge to check the company types (Pharmacitical or not)"
      ]
    },
    {
      "cell_type": "code",
      "execution_count": 10,
      "metadata": {
        "colab": {
          "base_uri": "https://localhost:8080/"
        },
        "id": "DqU-oZZ8edsj",
        "outputId": "700d7e9e-e14b-449e-8bc8-717021b46e1d"
      },
      "outputs": [
        {
          "output_type": "stream",
          "name": "stdout",
          "text": [
            "Yes\n"
          ]
        }
      ],
      "source": [
        "prompt_check_company_type = \"\"\"\n",
        "Your task is to verify if a given table contains only companies from the pharmaceutical industry.\n",
        "\n",
        "Here's an example of the format that the table should have:\n",
        "---\n",
        "Company | Foundation Year\n",
        "Microsoft | 1975\n",
        "Apple | 1976\n",
        "Google | 1998\n",
        "Amazon | 1994\n",
        "Meta | 2004\n",
        "---\n",
        "\n",
        "Here's the table to check:\n",
        "{table_to_check}\n",
        "\n",
        "Instructions:\n",
        "- The table to check should include only companies from the pharmaceutical industry.\n",
        "- The column names will be \"Company\" and \"Foundation Year\".\n",
        "- Evaluate whether each company in the table is part of the pharmaceutical sector.\n",
        "- If all companies in the table are from the pharmaceutical industry, write \"Yes\".\n",
        "- Write \"No\" if any company in the table is not from the pharmaceutical industry.\n",
        "\n",
        "Only respond with \"Yes\" or \"No\".\n",
        "\n",
        "\"\"\"\n",
        "\n",
        "formatted_input_company_type = prompt_check_table_new.format(table_to_check=generated_response)\n",
        "\n",
        "# API Call\n",
        "response = client.responses.create(\n",
        "  model=\"gpt-5\",\n",
        "  instructions=\"You are a strict judge. Evaluate inputs based on the given criteria and provide only the required response\",\n",
        "  input=formatted_input_company_type,\n",
        "  reasoning={'effort':'minimal'},\n",
        ")\n",
        "print(response.output[1].content[0].text)"
      ]
    },
    {
      "cell_type": "code",
      "execution_count": 10,
      "metadata": {
        "id": "437zfxeJnqcJ"
      },
      "outputs": [],
      "source": []
    }
  ],
  "metadata": {
    "colab": {
      "provenance": []
    },
    "kernelspec": {
      "display_name": "Python 3",
      "name": "python3"
    },
    "language_info": {
      "name": "python"
    }
  },
  "nbformat": 4,
  "nbformat_minor": 0
}