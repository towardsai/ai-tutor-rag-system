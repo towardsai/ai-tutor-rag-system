{
  "nbformat": 4,
  "nbformat_minor": 0,
  "metadata": {
    "colab": {
      "provenance": []
    },
    "kernelspec": {
      "name": "python3",
      "display_name": "Python 3"
    },
    "language_info": {
      "name": "python"
    }
  },
  "cells": [
    {
      "cell_type": "markdown",
      "metadata": {
        "id": "view-in-github"
      },
      "source": [
        "<a href=\"https://colab.research.google.com/github/towardsai/ai-tutor-rag-system/blob/main/notebooks/LlamaIndex_101.ipynb\" target=\"_parent\"><img src=\"https://colab.research.google.com/assets/colab-badge.svg\" alt=\"Open In Colab\"/></a>"
      ]
    },
    {
      "cell_type": "code",
      "source": [
        "!pip install -q llama-index==0.14.0 openai==1.107.0 chromadb==1.0.21 wikipedia==1.4.0 jedi==0.19.2 \\\n",
        "                llama-index-vector-stores-chroma==0.5.3 llama-index-llms-openai==0.5.4 llama-index-readers-wikipedia==0.4.0 \\\n",
        "                llama-index-embeddings-openai==0.5.0 llama-index-question-gen-guidance==0.4.1 guidance"
      ],
      "metadata": {
        "colab": {
          "base_uri": "https://localhost:8080/"
        },
        "id": "y_GAV7-zos0Y",
        "outputId": "fa14be1f-0a3f-4319-9ef3-8cb308ebd7d1",
        "collapsed": true
      },
      "execution_count": 1,
      "outputs": [
        {
          "output_type": "stream",
          "name": "stdout",
          "text": [
            "  Preparing metadata (setup.py) ... \u001b[?25l\u001b[?25hdone\n",
            "\u001b[2K     \u001b[90m━━━━━━━━━━━━━━━━━━━━━━━━━━━━━━━━━━━━━━━━\u001b[0m \u001b[32m67.3/67.3 kB\u001b[0m \u001b[31m3.2 MB/s\u001b[0m eta \u001b[36m0:00:00\u001b[0m\n",
            "\u001b[?25h  Installing build dependencies ... \u001b[?25l\u001b[?25hdone\n",
            "  Getting requirements to build wheel ... \u001b[?25l\u001b[?25hdone\n",
            "  Preparing metadata (pyproject.toml) ... \u001b[?25l\u001b[?25hdone\n",
            "\u001b[2K   \u001b[90m━━━━━━━━━━━━━━━━━━━━━━━━━━━━━━━━━━━━━━━━\u001b[0m \u001b[32m951.0/951.0 kB\u001b[0m \u001b[31m17.7 MB/s\u001b[0m eta \u001b[36m0:00:00\u001b[0m\n",
            "\u001b[2K   \u001b[90m━━━━━━━━━━━━━━━━━━━━━━━━━━━━━━━━━━━━━━━━\u001b[0m \u001b[32m19.8/19.8 MB\u001b[0m \u001b[31m64.4 MB/s\u001b[0m eta \u001b[36m0:00:00\u001b[0m\n",
            "\u001b[2K   \u001b[90m━━━━━━━━━━━━━━━━━━━━━━━━━━━━━━━━━━━━━━━━\u001b[0m \u001b[32m1.6/1.6 MB\u001b[0m \u001b[31m59.6 MB/s\u001b[0m eta \u001b[36m0:00:00\u001b[0m\n",
            "\u001b[2K   \u001b[90m━━━━━━━━━━━━━━━━━━━━━━━━━━━━━━━━━━━━━━━━\u001b[0m \u001b[32m257.2/257.2 kB\u001b[0m \u001b[31m18.6 MB/s\u001b[0m eta \u001b[36m0:00:00\u001b[0m\n",
            "\u001b[2K   \u001b[90m━━━━━━━━━━━━━━━━━━━━━━━━━━━━━━━━━━━━━━━━\u001b[0m \u001b[32m284.2/284.2 kB\u001b[0m \u001b[31m19.6 MB/s\u001b[0m eta \u001b[36m0:00:00\u001b[0m\n",
            "\u001b[2K   \u001b[90m━━━━━━━━━━━━━━━━━━━━━━━━━━━━━━━━━━━━━━━━\u001b[0m \u001b[32m1.9/1.9 MB\u001b[0m \u001b[31m53.1 MB/s\u001b[0m eta \u001b[36m0:00:00\u001b[0m\n",
            "\u001b[2K   \u001b[90m━━━━━━━━━━━━━━━━━━━━━━━━━━━━━━━━━━━━━━━━\u001b[0m \u001b[32m7.6/7.6 MB\u001b[0m \u001b[31m78.6 MB/s\u001b[0m eta \u001b[36m0:00:00\u001b[0m\n",
            "\u001b[2K   \u001b[90m━━━━━━━━━━━━━━━━━━━━━━━━━━━━━━━━━━━━━━━━\u001b[0m \u001b[32m303.3/303.3 kB\u001b[0m \u001b[31m22.0 MB/s\u001b[0m eta \u001b[36m0:00:00\u001b[0m\n",
            "\u001b[2K   \u001b[90m━━━━━━━━━━━━━━━━━━━━━━━━━━━━━━━━━━━━━━━━\u001b[0m \u001b[32m51.8/51.8 kB\u001b[0m \u001b[31m3.2 MB/s\u001b[0m eta \u001b[36m0:00:00\u001b[0m\n",
            "\u001b[2K   \u001b[90m━━━━━━━━━━━━━━━━━━━━━━━━━━━━━━━━━━━━━━━━\u001b[0m \u001b[32m103.3/103.3 kB\u001b[0m \u001b[31m7.7 MB/s\u001b[0m eta \u001b[36m0:00:00\u001b[0m\n",
            "\u001b[2K   \u001b[90m━━━━━━━━━━━━━━━━━━━━━━━━━━━━━━━━━━━━━━━━\u001b[0m \u001b[32m16.5/16.5 MB\u001b[0m \u001b[31m100.1 MB/s\u001b[0m eta \u001b[36m0:00:00\u001b[0m\n",
            "\u001b[2K   \u001b[90m━━━━━━━━━━━━━━━━━━━━━━━━━━━━━━━━━━━━━━━━\u001b[0m \u001b[32m72.5/72.5 kB\u001b[0m \u001b[31m6.0 MB/s\u001b[0m eta \u001b[36m0:00:00\u001b[0m\n",
            "\u001b[2K   \u001b[90m━━━━━━━━━━━━━━━━━━━━━━━━━━━━━━━━━━━━━━━━\u001b[0m \u001b[32m105.4/105.4 kB\u001b[0m \u001b[31m9.4 MB/s\u001b[0m eta \u001b[36m0:00:00\u001b[0m\n",
            "\u001b[2K   \u001b[90m━━━━━━━━━━━━━━━━━━━━━━━━━━━━━━━━━━━━━━━━\u001b[0m \u001b[32m71.6/71.6 kB\u001b[0m \u001b[31m6.1 MB/s\u001b[0m eta \u001b[36m0:00:00\u001b[0m\n",
            "\u001b[2K   \u001b[90m━━━━━━━━━━━━━━━━━━━━━━━━━━━━━━━━━━━━━━━━\u001b[0m \u001b[32m45.5/45.5 kB\u001b[0m \u001b[31m3.5 MB/s\u001b[0m eta \u001b[36m0:00:00\u001b[0m\n",
            "\u001b[2K   \u001b[90m━━━━━━━━━━━━━━━━━━━━━━━━━━━━━━━━━━━━━━━━\u001b[0m \u001b[32m510.8/510.8 kB\u001b[0m \u001b[31m36.2 MB/s\u001b[0m eta \u001b[36m0:00:00\u001b[0m\n",
            "\u001b[2K   \u001b[90m━━━━━━━━━━━━━━━━━━━━━━━━━━━━━━━━━━━━━━━━\u001b[0m \u001b[32m42.5/42.5 kB\u001b[0m \u001b[31m3.3 MB/s\u001b[0m eta \u001b[36m0:00:00\u001b[0m\n",
            "\u001b[2K   \u001b[90m━━━━━━━━━━━━━━━━━━━━━━━━━━━━━━━━━━━━━━━━\u001b[0m \u001b[32m63.9/63.9 kB\u001b[0m \u001b[31m5.4 MB/s\u001b[0m eta \u001b[36m0:00:00\u001b[0m\n",
            "\u001b[2K   \u001b[90m━━━━━━━━━━━━━━━━━━━━━━━━━━━━━━━━━━━━━━━━\u001b[0m \u001b[32m322.5/322.5 kB\u001b[0m \u001b[31m25.4 MB/s\u001b[0m eta \u001b[36m0:00:00\u001b[0m\n",
            "\u001b[2K   \u001b[90m━━━━━━━━━━━━━━━━━━━━━━━━━━━━━━━━━━━━━━━━\u001b[0m \u001b[32m4.7/4.7 MB\u001b[0m \u001b[31m109.4 MB/s\u001b[0m eta \u001b[36m0:00:00\u001b[0m\n",
            "\u001b[2K   \u001b[90m━━━━━━━━━━━━━━━━━━━━━━━━━━━━━━━━━━━━━━━━\u001b[0m \u001b[32m452.2/452.2 kB\u001b[0m \u001b[31m28.7 MB/s\u001b[0m eta \u001b[36m0:00:00\u001b[0m\n",
            "\u001b[2K   \u001b[90m━━━━━━━━━━━━━━━━━━━━━━━━━━━━━━━━━━━━━━━━\u001b[0m \u001b[32m46.0/46.0 kB\u001b[0m \u001b[31m3.8 MB/s\u001b[0m eta \u001b[36m0:00:00\u001b[0m\n",
            "\u001b[2K   \u001b[90m━━━━━━━━━━━━━━━━━━━━━━━━━━━━━━━━━━━━━━━━\u001b[0m \u001b[32m86.8/86.8 kB\u001b[0m \u001b[31m7.4 MB/s\u001b[0m eta \u001b[36m0:00:00\u001b[0m\n",
            "\u001b[2K   \u001b[90m━━━━━━━━━━━━━━━━━━━━━━━━━━━━━━━━━━━━━━━━\u001b[0m \u001b[32m50.9/50.9 kB\u001b[0m \u001b[31m3.3 MB/s\u001b[0m eta \u001b[36m0:00:00\u001b[0m\n",
            "\u001b[2K   \u001b[90m━━━━━━━━━━━━━━━━━━━━━━━━━━━━━━━━━━━━━━━━\u001b[0m \u001b[32m144.4/144.4 kB\u001b[0m \u001b[31m12.4 MB/s\u001b[0m eta \u001b[36m0:00:00\u001b[0m\n",
            "\u001b[?25h  Building wheel for wikipedia (setup.py) ... \u001b[?25l\u001b[?25hdone\n",
            "  Building wheel for pypika (pyproject.toml) ... \u001b[?25l\u001b[?25hdone\n"
          ]
        }
      ]
    },
    {
      "cell_type": "code",
      "source": [
        "# Allows running asyncio in environments with an existing event loop, like Jupyter notebooks.\n",
        "\n",
        "import nest_asyncio\n",
        "nest_asyncio.apply()"
      ],
      "metadata": {
        "id": "Ua0KNwgvyCaj"
      },
      "execution_count": 2,
      "outputs": []
    },
    {
      "cell_type": "code",
      "source": [
        "import os\n",
        "# os.environ['OPENAI_API_KEY'] = '[OPENAI_API_KEY]'\n",
        "\n",
        "from google.colab import userdata\n",
        "os.environ['OPENAI_API_KEY'] = userdata.get('OPENAI_API_KEY')"
      ],
      "metadata": {
        "id": "--Q2zk06wElp"
      },
      "execution_count": 3,
      "outputs": []
    },
    {
      "cell_type": "code",
      "source": [
        "import logging\n",
        "import sys\n",
        "\n",
        "#You can set the logging level to DEBUG for more verbose output,\n",
        "# or use level=logging.INFO for less detailed information.\n",
        "logging.basicConfig(stream=sys.stdout, level=logging.DEBUG)\n",
        "logging.getLogger().addHandler(logging.StreamHandler(stream=sys.stdout))"
      ],
      "metadata": {
        "id": "tjwZjA8-wITr"
      },
      "execution_count": 4,
      "outputs": []
    },
    {
      "cell_type": "code",
      "source": [
        "from llama_index.embeddings.openai import OpenAIEmbedding\n",
        "from llama_index.llms.openai import OpenAI\n",
        "from llama_index.core import Settings\n",
        "\n",
        "Settings.llm = OpenAI(model=\"gpt-5-mini\", additional_kwargs={'reasoning_effort':'minimal'})\n",
        "Settings.embed_model = OpenAIEmbedding(model=\"text-embedding-3-small\")"
      ],
      "metadata": {
        "id": "AT5aXnAkXSsc"
      },
      "execution_count": 5,
      "outputs": []
    },
    {
      "cell_type": "markdown",
      "source": [
        "# Wikipedia Example"
      ],
      "metadata": {
        "id": "HjI_gRaRutfj"
      }
    },
    {
      "cell_type": "markdown",
      "source": [
        "## LlamaHub Wikipedia Integration"
      ],
      "metadata": {
        "id": "PLUDcXpI41Q_"
      }
    },
    {
      "cell_type": "code",
      "source": [
        "from llama_index.readers.wikipedia import WikipediaReader\n",
        "\n",
        "# Initialize WikipediaReader\n",
        "reader = WikipediaReader()"
      ],
      "metadata": {
        "id": "2gko9Q3hrlMh"
      },
      "execution_count": 6,
      "outputs": []
    },
    {
      "cell_type": "code",
      "source": [
        "# Load data from Wikipedia\n",
        "documents = reader.load_data(pages=['Artificial intelligence', 'Natural language generation'])"
      ],
      "metadata": {
        "id": "Z35ot7P1wIO0",
        "collapsed": true
      },
      "execution_count": 7,
      "outputs": []
    },
    {
      "cell_type": "code",
      "source": [
        "len( documents )"
      ],
      "metadata": {
        "colab": {
          "base_uri": "https://localhost:8080/"
        },
        "id": "0i9Zp6BJwILk",
        "outputId": "57003224-88d0-42a6-f140-1ccac98a265d"
      },
      "execution_count": 8,
      "outputs": [
        {
          "output_type": "execute_result",
          "data": {
            "text/plain": [
              "2"
            ]
          },
          "metadata": {},
          "execution_count": 8
        }
      ]
    },
    {
      "cell_type": "markdown",
      "source": [
        "## Save on DeepLake"
      ],
      "metadata": {
        "id": "03lff4VUTaN9"
      }
    },
    {
      "cell_type": "code",
      "source": [
        "import chromadb\n",
        "from llama_index.vector_stores.chroma import ChromaVectorStore\n",
        "\n",
        "# Load the vector store from the local storage.\n",
        "db = chromadb.PersistentClient(path=\"./wikipedia-articles\")\n",
        "chroma_collection = db.get_or_create_collection(\"wikipedia-articles\")\n",
        "vector_store = ChromaVectorStore(chroma_collection=chroma_collection)"
      ],
      "metadata": {
        "id": "eo8CTHSFTcaR"
      },
      "execution_count": 9,
      "outputs": []
    },
    {
      "cell_type": "markdown",
      "source": [
        "## Create Nodes"
      ],
      "metadata": {
        "id": "qkKPAnIl44ss"
      }
    },
    {
      "cell_type": "code",
      "source": [
        "from llama_index.core.node_parser import SimpleNodeParser\n",
        "\n",
        "# Initialize the parser\n",
        "parser = SimpleNodeParser.from_defaults(chunk_size=512, chunk_overlap=20)\n",
        "\n",
        "# Parse documents into nodes\n",
        "nodes = parser.get_nodes_from_documents(documents)\n",
        "print( len( nodes ) )"
      ],
      "metadata": {
        "colab": {
          "base_uri": "https://localhost:8080/"
        },
        "id": "eB6Rc0U0wII_",
        "outputId": "8645fd45-75cc-4aa9-d50e-9c8edbae7ace"
      },
      "execution_count": 10,
      "outputs": [
        {
          "output_type": "stream",
          "name": "stdout",
          "text": [
            "51\n"
          ]
        }
      ]
    },
    {
      "cell_type": "markdown",
      "source": [
        "## Storage Context"
      ],
      "metadata": {
        "id": "E8tHMS5ZucFE"
      }
    },
    {
      "cell_type": "code",
      "source": [
        "from llama_index.core import StorageContext\n",
        "\n",
        "storage_context = StorageContext.from_defaults(vector_store=vector_store)"
      ],
      "metadata": {
        "id": "eWFtVpM_TcTQ"
      },
      "execution_count": 11,
      "outputs": []
    },
    {
      "cell_type": "markdown",
      "source": [
        "## Create index from Documents"
      ],
      "metadata": {
        "id": "kCgdd197CTDt"
      }
    },
    {
      "cell_type": "code",
      "source": [
        "from llama_index.core import VectorStoreIndex\n",
        "\n",
        "index = VectorStoreIndex(\n",
        "    nodes=nodes, storage_context=storage_context\n",
        ")"
      ],
      "metadata": {
        "id": "g3GCf8LrULIW"
      },
      "execution_count": 12,
      "outputs": []
    },
    {
      "cell_type": "code",
      "source": [
        "query_engine = index.as_query_engine()\n",
        "response = query_engine.query(\"What does NLP stands for?\")\n",
        "response.response"
      ],
      "metadata": {
        "colab": {
          "base_uri": "https://localhost:8080/",
          "height": 36
        },
        "id": "G7BdNn-Q5AlG",
        "outputId": "8c6f0108-416a-4d0f-862d-b6eba1a053f5"
      },
      "execution_count": 13,
      "outputs": [
        {
          "output_type": "execute_result",
          "data": {
            "text/plain": [
              "'NLP stands for \"Natural Language Processing.\"'"
            ],
            "application/vnd.google.colaboratory.intrinsic+json": {
              "type": "string"
            }
          },
          "metadata": {},
          "execution_count": 13
        }
      ]
    },
    {
      "cell_type": "markdown",
      "source": [
        "## Store/Load Vector Store"
      ],
      "metadata": {
        "id": "r6cGiUtxu5ga"
      }
    },
    {
      "cell_type": "code",
      "source": [
        "# Index Storage Checks\n",
        "import os.path\n",
        "from llama_index.core import StorageContext, load_index_from_storage\n",
        "\n",
        "# Let's see if our index already exists in storage.\n",
        "if not os.path.exists(\"./storage\"):\n",
        "    index.storage_context.persist()\n",
        "\n",
        "else:\n",
        "    # If the index already exists, we'll just load it:\n",
        "    storage_context = StorageContext.from_defaults(persist_dir=\"./storage\")\n",
        "    index = load_index_from_storage(storage_context)"
      ],
      "metadata": {
        "id": "GHtB0C0mu7f6"
      },
      "execution_count": 14,
      "outputs": []
    },
    {
      "cell_type": "markdown",
      "source": [
        "# Paul Graham Essay"
      ],
      "metadata": {
        "id": "iF8hwfMKuzst"
      }
    },
    {
      "cell_type": "code",
      "source": [
        "!mkdir -p './paul_graham/'\n",
        "!wget 'https://raw.githubusercontent.com/run-llama/llama_index/main/docs/docs/examples/data/paul_graham/paul_graham_essay.txt' -O './paul_graham/paul_graham_essay.txt'"
      ],
      "metadata": {
        "colab": {
          "base_uri": "https://localhost:8080/"
        },
        "id": "DrzbBAglwUo0",
        "outputId": "034f7d04-e025-470e-be62-78eee147eac9"
      },
      "execution_count": 15,
      "outputs": [
        {
          "output_type": "stream",
          "name": "stdout",
          "text": [
            "--2025-09-24 06:53:02--  https://raw.githubusercontent.com/run-llama/llama_index/main/docs/docs/examples/data/paul_graham/paul_graham_essay.txt\n",
            "Resolving raw.githubusercontent.com (raw.githubusercontent.com)... 185.199.108.133, 185.199.109.133, 185.199.110.133, ...\n",
            "Connecting to raw.githubusercontent.com (raw.githubusercontent.com)|185.199.108.133|:443... connected.\n",
            "HTTP request sent, awaiting response... 200 OK\n",
            "Length: 75042 (73K) [text/plain]\n",
            "Saving to: ‘./paul_graham/paul_graham_essay.txt’\n",
            "\n",
            "\r          ./paul_gr   0%[                    ]       0  --.-KB/s               \r./paul_graham/paul_ 100%[===================>]  73.28K  --.-KB/s    in 0.01s   \n",
            "\n",
            "2025-09-24 06:53:02 (5.90 MB/s) - ‘./paul_graham/paul_graham_essay.txt’ saved [75042/75042]\n",
            "\n"
          ]
        }
      ]
    },
    {
      "cell_type": "code",
      "source": [
        "from llama_index.core import SimpleDirectoryReader\n",
        "\n",
        "# load documents\n",
        "documents = SimpleDirectoryReader(\"./paul_graham\").load_data()"
      ],
      "metadata": {
        "id": "S8-QmnkCwIiU"
      },
      "execution_count": 16,
      "outputs": []
    },
    {
      "cell_type": "code",
      "source": [
        "import chromadb\n",
        "from llama_index.vector_stores.chroma import ChromaVectorStore\n",
        "\n",
        "# Load the vector store from the local storage.\n",
        "db = chromadb.PersistentClient(path=\"./paul-graham\")\n",
        "chroma_collection = db.get_or_create_collection(\"paul-graham\")\n",
        "vector_store = ChromaVectorStore(chroma_collection=chroma_collection)"
      ],
      "metadata": {
        "id": "DfWglp75xc5f"
      },
      "execution_count": 17,
      "outputs": []
    },
    {
      "cell_type": "code",
      "source": [
        "from llama_index.core import VectorStoreIndex\n",
        "\n",
        "index = VectorStoreIndex.from_documents(documents)\n",
        "query_engine = index.as_query_engine(similarity_top_k=10)"
      ],
      "metadata": {
        "id": "8lMa4h9Cwn8b"
      },
      "execution_count": 18,
      "outputs": []
    },
    {
      "cell_type": "code",
      "source": [
        "from llama_index.core.tools import QueryEngineTool, ToolMetadata\n",
        "from llama_index.core.query_engine import SubQuestionQueryEngine\n",
        "from llama_index.core.question_gen import LLMQuestionGenerator\n",
        "\n",
        "question_gen = LLMQuestionGenerator.from_defaults()\n",
        "\n",
        "query_engine_tools = [\n",
        "    QueryEngineTool(\n",
        "        query_engine=query_engine,\n",
        "        metadata=ToolMetadata(\n",
        "            name=\"pg_essay\",\n",
        "            description=\"Paul Graham essay on What I Worked On\",\n",
        "        ),\n",
        "    ),\n",
        "]\n",
        "\n",
        "query_engine = SubQuestionQueryEngine.from_defaults(\n",
        "    question_gen=question_gen,\n",
        "    query_engine_tools=query_engine_tools,\n",
        "    use_async=True,\n",
        ")\n",
        "\n",
        "\n",
        "response = query_engine.query(\"How was Paul Grahams life different before, during, and after YC?\")\n",
        "\n",
        "print( \">>> The final response:\\n\", response )"
      ],
      "metadata": {
        "colab": {
          "base_uri": "https://localhost:8080/"
        },
        "id": "Y7t0iN99xTrZ",
        "outputId": "cf37223f-667c-4a6f-a6cf-abc0a759f960"
      },
      "execution_count": 19,
      "outputs": [
        {
          "output_type": "stream",
          "name": "stdout",
          "text": [
            "Generated 6 sub questions.\n",
            "\u001b[1;3;38;2;237;90;200m[pg_essay] Q: Summarize Paul Graham's life and activities before founding Y Combinator\n",
            "\u001b[0m\u001b[1;3;38;2;90;149;237m[pg_essay] Q: Describe Paul Graham's experiences and activities while running Y Combinator\n",
            "\u001b[0m\u001b[1;3;38;2;11;159;203m[pg_essay] Q: Outline Paul Graham's life and activities after stepping back from running Y Combinator\n",
            "\u001b[0m\u001b[1;3;38;2;155;135;227m[pg_essay] Q: Identify key differences in Graham's daily routines, priorities, and public role across the before/during/after periods\n",
            "\u001b[0m\u001b[1;3;38;2;237;90;200m[pg_essay] Q: Highlight major achievements and projects associated with each period (before, during, after YC)\n",
            "\u001b[0m\u001b[1;3;38;2;90;149;237m[pg_essay] Q: Note any shifts in Graham's writing, public influence, or mentorship style across the three periods\n",
            "\u001b[0m\u001b[1;3;38;2;11;159;203m[pg_essay] A: After stepping back from running Y Combinator, his life and activities unfolded roughly as follows:\n",
            "\n",
            "- Transition out of YC leadership\n",
            "  - He handed over day-to-day control to Sam Altman (Sam agreed in Oct 2013 and took over starting with the winter 2014 batch).\n",
            "  - For the rest of 2013 he increasingly let Sam run YC so Sam could learn the job; Paul was focused on his mother, whose cancer had returned.\n",
            "  - He continued working through March 2014 to get that batch to Demo Day, then largely checked out of running YC (retired from active operations; still maintained a small amount of contact with alumni and startups).\n",
            "\n",
            "- Immediate aftermath and personal events\n",
            "  - His mother died January 15, 2014.\n",
            "  - The hardest part of leaving YC was the loss of working closely with Jessica (they had intertwined personal and YC life for years).\n",
            "\n",
            "- Short-term plans and change of focus\n",
            "  - He wanted to do something completely different and decided to paint.\n",
            "  - The day after he stopped working on YC he began painting full time.\n",
            "\n",
            "- 2014: intensive painting period\n",
            "  - Spent most of 2014 painting; worked uninterruptedly and improved his skill (got better though “not good enough”).\n",
            "  - In November 2014 he ran out of steam during a painting, lost motivation to finish it, cleaned his brushes, and stopped painting (at least for the time being).\n",
            "\n",
            "- Return to writing and programming\n",
            "  - He resumed writing essays, producing a number of new ones (including topics beyond startups).\n",
            "  - In March 2015 he resumed work on Lisp (returned to programming and the language he’d long worked on).\n",
            "\n",
            "- Ongoing limited involvement with YC/startups\n",
            "  - Although no longer running YC full-time, he still talks to alumni and to new startups working on things that interest him; this amounts to a few hours a week.\n",
            "\n",
            "- Broader pattern/context (informing his choices)\n",
            "  - His decision to step back followed earlier advice to make sure YC wouldn’t be the last cool thing he did and his recognition that YC had already consumed other projects (Arc, essays).\n",
            "  - After leaving, he reallocated attention among painting, essays, and Lisp, reflecting the idea that attention is zero-sum and one should choose projects that best fit one’s interests at a given stage.\n",
            "\u001b[0m\u001b[1;3;38;2;90;149;237m[pg_essay] A: Across the three periods described, there are clear shifts in Graham’s writing, public influence, and mentorship style:\n",
            "\n",
            "1) Early period (student / early programmer / art phase)\n",
            "- Writing: Mostly private and formative — short stories and technical learning; later starts writing technical material (On Lisp) as a way to learn. Writing is instrumental: a learning tool rather than aimed at a broad public.\n",
            "- Public influence: Minimal; working in labs, art classes, and early jobs means little public reach.\n",
            "- Mentorship style: None formal — he’s learning from others (professors, peers) and experimenting independently rather than advising others.\n",
            "\n",
            "2) Middle period (Viaweb, Interleaf, Arc, publishing essays begins)\n",
            "- Writing: Becomes public and deliberate. Publishes essays online, treats web publishing as a primary medium, and writes technical books/essays (On Lisp, Arc-related pieces). He consciously uses writing to reach an audience and to explore ideas outside traditional gatekeepers.\n",
            "- Public influence: Rapidly rising. A Slashdot hit shows the web’s amplification; essays create a new readership. His ideas about startups, Lisp, and publishing begin to shape wider conversations.\n",
            "- Mentorship style: Moves from solitary work to collaborative and influential roles — building Viaweb, contributing to Arc, and later cofounding YC. He starts to attract and influence others by example and by sharing ideas publicly.\n",
            "\n",
            "3) Later period (Y Combinator, running HN, handing YC off, writing after YC)\n",
            "- Writing: Continues but oscillates with other commitments. Essays remain important, but at times he bans himself from writing to focus on deep projects (Bel). After stepping back from day-to-day YC he returns to essays more regularly.\n",
            "- Public influence: Peaks and institutionalizes. YC and Hacker News make him an organizer of a large founder community; his writing plus YC shape startup culture. He consciously restructures YC for longevity and expands influence by creating durable institutions rather than only publishing ideas.\n",
            "- Mentorship style: Becomes institutional and direct. Instead of only influencing via essays, he runs YC (solving founders’ problems every batch), writes internal software in Arc, and shapes onboarding/leadership (recruiting Sam Altman, reorganizing control). He also balances interaction with public forums (HN) and the costly visibility that entails, showing an active, hands-on mentorship approach that scales via YC but requires delegation and eventual succession.\n",
            "\n",
            "Overall trajectory: writing evolves from private learning to public essays that build audience and authority; public influence grows from near-zero to wide amplification via the web and finally to institutional power through YC and HN; mentorship shifts from informal and individual to direct, hands-on founder support and finally to building sustainable structures and passing leadership on.\n",
            "\u001b[0m\u001b[1;3;38;2;237;90;200m[pg_essay] A: Before YC (early career up through founding Viaweb and its sale)\n",
            "- Built Viaweb, an inexpensive, easy-to-use hosted e-commerce platform; learned retail UX (e.g., image closeups), did hands-on user growth tactics like building stores for early customers.\n",
            "- Grew Viaweb rapidly (from ~70 stores in 1996 to ~500 in 1997) and navigated startup hiring/growth challenges.\n",
            "- Sold Viaweb to Yahoo (options became valuable), then briefly tried to paint and experimented with new still-life techniques.\n",
            "- Worked on Lisp and programming projects, explored spam filters, and hosted weekly dinners that taught large-group cooking.\n",
            "- Began publishing essays online (putting a talk online led to a big Slashdot-driven audience), which became a new enduring part of his work and led to an eventual essay collection (Hackers & Painters).\n",
            "\n",
            "During YC (founding, early years, growth, and involvement)\n",
            "- Co‑founded Y Combinator (originally Cambridge Seed) and developed its distinctive batch model: twice-yearly cohorts and an intensive three‑month program.\n",
            "- Launched the Summer Founders Program to seed startups and practice investing; selected the first batch (8 of 225 applicants) that included notable founders and projects.\n",
            "- Structured early YC deals (investing roughly $6k per founder for ~6% equity in typical two‑founder startups) and initially self‑funded YC rather than organizing a fund.\n",
            "- Wrote internal YC software and Hacker News in Arc (a dialect of Lisp); Hacker News grew into a major public forum and was a significant source of stress and attention management.\n",
            "- Helped turn YC into a community and network where alumni aided each other and batchmates became early customers — creating what was jokingly called “YC GDP.”\n",
            "- Continued writing essays publicly throughout YC’s growth.\n",
            "\n",
            "After YC (stepping back, new focuses)\n",
            "- Handed over YC leadership and organizational control, enabling a reorganization so YC wouldn’t be founder-controlled; retired from day-to-day running and reduced involvement to a few hours a week.\n",
            "- Spent most of 2014 painting intensively to see how much skill could be developed with focused attention; later paused when motivation waned.\n",
            "- Returned to writing essays (including non-startup topics) and resumed work on Lisp in 2015, pursuing language design and implementation ideas.\n",
            "- Continued occasional advising and contact with alumni and startups in areas of personal interest, while freeing attention for other creative projects.\n",
            "\u001b[0m\u001b[1;3;38;2;155;135;227m[pg_essay] A: Before (early career / student and early jobs)\n",
            "- Daily routine: Unstructured, often working late nights on personal projects (painting, programming) and studio practice; spent long stretches practicing skills (painting still lifes at night, writing code late into the night). Work was self-directed and solitary; tended to follow his own rhythms rather than conventional office hours.\n",
            "- Priorities: Learning craft (painting and programming), exploring ideas, finishing education, and getting by financially. Curious experimentation (art school, painting, Lisp). Saving money and surviving by freelancing or low-cost living was important.\n",
            "- Public role: Largely private or local — a student, occasional consultant, and relatively unknown programmer/artist. Not a public essayist or organizer; exposure was limited.\n",
            "\n",
            "During (Viaweb, Interleaf, early startups, Arc, YC growth)\n",
            "- Daily routine: Much more structured and work-intensive. Long hours on building products and companies; hands-on coding and management. Shifted between hacking (language work), running startups, and later running YC; sometimes juggling multiple projects (Arc, Hacker News, YC internal software). Routine included dealing with founders, operations, and community issues.\n",
            "- Priorities: Building products and companies, shipping software, growing organizations (Viaweb then Y Combinator), and creating infrastructure (Arc, Hacker News). Scaling efforts and solving a wide variety of incoming problems became central. Maintaining high work intensity to set an example for others.\n",
            "- Public role: Becoming increasingly public and influential. Published essays online that reached large audiences, created Hacker News, and co-founded and led Y Combinator — roles that put him at the center of startup communities and public debate. His writing began to shape others’ thinking.\n",
            "\n",
            "After (stepping back from day-to-day YC, painting and later projects like Bel)\n",
            "- Daily routine: More selective, with periods of concentrated, solitary work (long uninterrupted painting stints; later intense focused work on a technical project). He deliberately reduced routine managerial burden, checked out of YC operationally, and spent large blocks of time on single projects (painting, then Lisp/Bel). Work became deeper and more self-chosen.\n",
            "- Priorities: Personal projects, craft, and exploration (painting; designing a new Lisp with strict goals). Choosing projects based on curiosity and personal fit rather than prestige. Preserving attention for fewer higher-value pursuits and avoiding opportunity-cost waste.\n",
            "- Public role: Less day-to-day operator; retained a public voice through essays and occasional involvement with startups but stepped back from running YC. Continued to publish and influence, but with more control over what he took on and a reduced operational footprint.\n",
            "\n",
            "Summary of key contrasts\n",
            "- Routine: From loosely self-directed and nocturnal practice → intense, managerial, problem-driven daily work → selective, deep-focus bursts on chosen projects.\n",
            "- Priorities: From learning/survival and craft → building and scaling organizations and community infrastructure → personal craft and ambitious technical projects chosen for fit, not prestige.\n",
            "- Public role: From relative obscurity → central public figure, organizer, and essayist influencing a large audience → intentionally reduced operational visibility while maintaining influence via writing and selective involvement.\n",
            "\u001b[0m\u001b[1;3;38;2;237;90;200m[pg_essay] A: Before founding Y Combinator, Paul Graham’s life and activities as described:\n",
            "\n",
            "- Education and early art:\n",
            "  - Studied painting (RISD), taught himself much of his painting craft, briefly pursued a career as an artist in New York, and experimented with still lifes and large canvases.\n",
            "  - Worked as a studio assistant to painter Idelle Weber.\n",
            "\n",
            "- Early programming and Lisp work:\n",
            "  - Deep involvement with Lisp: wrote ANSI Common Lisp, published a book on it, and later conceived a new dialect called Arc.\n",
            "  - Did freelance Lisp hacking and other programming work; worried about the decline of demand for Lisp work, which motivated writing another book to provide income.\n",
            "\n",
            "- Viaweb (first major startup experience):\n",
            "  - Co‑founded Viaweb with Robert Morris to build web applications for online stores (initial idea: putting art galleries online).\n",
            "  - Implemented the idea of running software on a server controlled through a browser (web apps) — built the store builder in Lisp.\n",
            "  - Took $10k seed from Julian Weber for 10% equity and learned a lot about pricing, growth, and hands‑on user acquisition (including “doing things that don’t scale”: building stores for users, rescanning images, etc.).\n",
            "  - Grew Viaweb to several hundred stores, experienced hiring and investor pressures during the Internet Bubble, and ultimately sold to Yahoo in summer 1998.\n",
            "\n",
            "- Writing and publishing essays:\n",
            "  - Discovered the large audience possible by posting talks/writings online (a Lisp talk got 30,000 pageviews after Slashdot).\n",
            "  - Began publishing essays on his website regularly, realizing online publishing opened a new channel and committing to essay writing as a continuing activity.\n",
            "  - Collected essays were later reprinted as the book Hackers & Painters.\n",
            "\n",
            "- Work on Arc and related projects:\n",
            "  - After Viaweb, worked on ideas for web‑based application infrastructure (Aspra idea) but shifted focus to open‑source work and designing a new Lisp dialect, Arc, with collaborators.\n",
            "  - Wrote Hacker News (initially Startup News) to test Arc and reach future founders/readers.\n",
            "\n",
            "- Personal life and relationships relevant to YC:\n",
            "  - Met Jessica Livingston at a party in 2003; she was working in marketing at a Boston investment bank and later became a partner in the plan that led to YC.\n",
            "  - Collaborated and schemed with Robert Morris and Trevor Blackwell on new projects.\n",
            "\n",
            "- Transition toward angel investing:\n",
            "  - Gave a talk at Harvard on how to start a startup, realized founders benefited from funding by experienced founders, and felt compelled to begin angel investing.\n",
            "  - In 2005, together with Jessica, Robert, and Trevor, decided to start their own investment/seed program, leading directly to the formation of what became Y Combinator.\n",
            "\n",
            "Overall, before YC Graham combined art, deep technical work in Lisp, startup founding and exit (Viaweb → Yahoo), public essaying, experimentation with web‑app infrastructure, and early angel investing impulses — experiences that converged into the creation of Y Combinator.\n",
            "\u001b[0m\u001b[1;3;38;2;90;149;237m[pg_essay] A: While running Y Combinator (YC), Paul Graham’s experience involved selecting and helping early-stage startups, building supporting infrastructure, writing, and dealing with the stresses of running a popular startup program. Key points:\n",
            "\n",
            "- Origin and early structure\n",
            "  - YC began as an angel-style operation funded personally rather than as a formal VC fund. The founders deliberately made many small seed investments and aimed to provide founders with hands-on help (e.g., incorporation, legal basics) they themselves had once needed.\n",
            "  - They invented the “batch” model: fund a cohort of startups twice a year and spend three months intensely helping them. This scaled better for both YC and the startups, reduced founder isolation, and created a strong alumni community.\n",
            "\n",
            "- Recruiting and the Summer Founders Program\n",
            "  - The initial recruiting method used written applications; the first Summer Founders Program drew hundreds of applications, interviews, and a small selected cohort. Early batches included several notable founders and projects.\n",
            "  - Investment terms in the first program were modest (e.g., funding per founder and a small equity percentage) and included practical perks (e.g., providing air conditioners that summer).\n",
            "\n",
            "- Hands-on founder support and culture\n",
            "  - YC emphasized doing practical things founders needed (incorporation, setting up companies, intense mentoring). Founders in a batch helped each other; many early customers for startups came from within batches, and a strong alumni culture formed.\n",
            "  - The program intentionally targeted younger, technical founders and smaller seed investments, bucking customary VC practices.\n",
            "\n",
            "- Operational work and software\n",
            "  - Graham wrote YC’s internal software (and much of its tooling) in Arc and created Hacker News as a side project that became both useful and stressful. Hacker News started as a news aggregator and grew into a major forum that frequently absorbed Graham’s time and attention.\n",
            "  - Running a forum while also writing essays created recurring tensions: forum misinterpretations of his writing demanded responses, adding to the workload.\n",
            "\n",
            "- Personal workload and management style\n",
            "  - Problems came to him via the batches every six months rather than him choosing projects; this made the job highly engaging but also exposed him to unpleasant tasks (cofounder disputes, vetting truthfulness, dealing with people hostile to startups).\n",
            "  - He worked very hard, influenced by a belief that the boss sets the upper bound on effort.\n",
            "\n",
            "- Growth, scaling benefits, and changes\n",
            "  - As YC grew, scale advantages multiplied: alumni support, founders becoming customers of each other, and the ability to provide standardized help to many startups at once.\n",
            "  - For a period YC became a fund when it outgrew his ability to self-fund, but later returned to being self-funded when resources allowed.\n",
            "\n",
            "- Leadership transition and leaving\n",
            "  - After personal family circumstances and reflection, Graham prepared to hand over leadership. He recruited a new president (Sam Altman), agreed to a reorganization so YC wouldn’t be controlled by its founders, and gradually ceded operational control while helping the incoming leader learn the role.\n",
            "  - He stayed through a transition period (helped through a Demo Day) then largely checked out, reducing his involvement to a few hours a week advising alumni and startups of interest.\n",
            "\n",
            "- Aftermath and shifting focus\n",
            "  - Leaving full-time YC was difficult personally (it had been intertwined with his personal life), but he used the transition to pursue painting and later returned to writing essays and some Lisp work.\n",
            "  - Even after stepping back, he continued occasional contact with alumni and startups in areas that interested him.\n",
            "\n",
            "Overall, his YC years combined building a novel organizational model (the batch accelerator), intense hands-on support for founders, creating internal tools and a popular forum, long hours and high responsibility, stress from moderating public discussion, and ultimately a planned handoff to sustain YC beyond its founders.\n",
            "\u001b[0m>>> The final response:\n",
            " Before YC\n",
            "- Routine and focus: Largely self-directed, long hours spent learning crafts — painting and programming — often working alone and on his own schedule.\n",
            "- Priorities: Developing skills (art and Lisp), experimenting with ideas, surviving financially through freelancing and small projects, and exploring entrepreneurial possibilities.\n",
            "- Public role and influence: Relatively obscure; limited audience until he began publishing technical material and essays. Mentorship was informal or nonexistent.\n",
            "- Key activities/achievements: Art school and studio work; deep involvement in Lisp (writing and programming); cofounding Viaweb and selling it to Yahoo; starting to publish essays online.\n",
            "\n",
            "During YC\n",
            "- Routine and focus: Highly structured, intense, and hands-on. Split time between building YC’s programs, mentoring founders, writing internal software, and running public services like a news forum.\n",
            "- Priorities: Scaling organizations and processes, helping cohorts of founders, creating infrastructure (both procedural and software), and sustaining a rapidly growing public role.\n",
            "- Public role and influence: Centralized and large — leader of a prominent startup accelerator and a widely read essayist; public moderation and visibility increased stress and responsibility.\n",
            "- Mentorship style: Direct, frequent, and institutionalized — mentoring whole cohorts, fostering alumni networks, and providing practical, hands-on help.\n",
            "- Key activities/achievements: Inventing the batch accelerator model, founding and running YC, creating Hacker News and YC tooling, and turning public writing into a wide influence.\n",
            "\n",
            "After YC\n",
            "- Routine and focus: More selective and project-focused. Periods of deep, solitary work (painting initially, then returning to programming and language work) and reduced managerial duties.\n",
            "- Priorities: Personal projects chosen for fit (painting, language design, essays), preserving attention for fewer pursuits, and avoiding the constant operational demands of running an organization.\n",
            "- Public role and influence: Reduced day-to-day operational visibility but retained influence through essays and occasional advising; stepped back from running YC while maintaining limited contact with startups.\n",
            "- Mentorship style: Less hands-on and less frequent; selective advising based on personal interest, rather than running a full accelerator.\n",
            "- Key activities/achievements: Handing off leadership, an intensive period of painting, resuming essay writing and Lisp work, and occasional advising of alumni/startups.\n",
            "\n",
            "Summary contrast\n",
            "- Routine moved from solitary, exploratory work → intense, managerial, cohort-driven labor → selective deep-focus projects.\n",
            "- Priorities shifted from skill building and survival → building and scaling organizations and helping many founders → pursuing personal craft and targeted technical work.\n",
            "- Public role evolved from relative obscurity → high-visibility institutional leadership and broad influence → reduced operational prominence but continued cultural influence through writing and selective advising.\n"
          ]
        }
      ]
    },
    {
      "cell_type": "markdown",
      "source": [
        "## Other methods"
      ],
      "metadata": {
        "id": "FctDdZ0B-v_m"
      }
    },
    {
      "cell_type": "code",
      "source": [
        "# # Replace the SubQuestionQueryEngine section with this:\n",
        "# from llama_index.core.query_engine import RouterQueryEngine\n",
        "# from llama_index.core.selectors import PydanticSingleSelector\n",
        "# from llama_index.core.tools import QueryEngineTool, ToolMetadata\n",
        "\n",
        "# # Create query engine tools\n",
        "# query_engine_tools = [\n",
        "#     QueryEngineTool(\n",
        "#         query_engine=query_engine,\n",
        "#         metadata=ToolMetadata(\n",
        "#             name=\"pg_essay\",\n",
        "#             description=\"Paul Graham essay on What I Worked On\",\n",
        "#         ),\n",
        "#     ),\n",
        "# ]\n",
        "\n",
        "# # Use RouterQueryEngine instead of SubQuestionQueryEngine\n",
        "# router_query_engine = RouterQueryEngine(\n",
        "#     selector=PydanticSingleSelector.from_defaults(),\n",
        "#     query_engine_tools=query_engine_tools,\n",
        "# )\n",
        "\n",
        "# # Test the query engine\n",
        "# response = router_query_engine.query(\"What did Paul Graham work on?\")\n",
        "# print(response.response)\n"
      ],
      "metadata": {
        "id": "E3Qf4UbrsnlN"
      },
      "execution_count": 20,
      "outputs": []
    },
    {
      "cell_type": "code",
      "source": [
        "# from llama_index.core.query_engine import MultiStepQueryEngine\n",
        "# from llama_index.core.indices.query.query_transform.base import StepDecomposeQueryTransform\n",
        "\n",
        "# # Create multi-step query engine\n",
        "# step_decompose_transform = StepDecomposeQueryTransform(llm=Settings.llm)\n",
        "\n",
        "# multi_step_query_engine = MultiStepQueryEngine(\n",
        "#     query_engine=query_engine,\n",
        "#     query_transform=step_decompose_transform,\n",
        "#     num_steps=2,\n",
        "#     index_summary=\"Paul Graham essay about his work and experiences\"\n",
        "# )\n",
        "\n",
        "# # Test multi-step query engine\n",
        "# response = multi_step_query_engine.query(\"What did Paul Graham work on and what were his main achievements?\")\n",
        "# print(response.response)\n"
      ],
      "metadata": {
        "id": "vqsFdJRxs1QS"
      },
      "execution_count": 21,
      "outputs": []
    },
    {
      "cell_type": "code",
      "source": [],
      "metadata": {
        "id": "JWc_n5Lhx2bq"
      },
      "execution_count": 21,
      "outputs": []
    }
  ]
}