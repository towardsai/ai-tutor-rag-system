{
 "cells": [
  {
   "cell_type": "markdown",
   "metadata": {
    "id": "6aUMzU_QDZ30"
   },
   "source": [
    "[![Open in Colab](https://colab.research.google.com/assets/colab-badge.svg)](https://colab.research.google.com/github/towardsai/ai-tutor-rag-system/blob/main/notebooks/Intro_to_Large_Language_Models_(LLMs).ipynb)"
   ]
  },
  {
   "cell_type": "code",
   "execution_count": 1,
   "metadata": {
    "id": "8RRmESqBDsvK"
   },
   "outputs": [],
   "source": [
    "import requests\n",
    "\n",
    "# Your OpenAI API key\n",
    "# api_key = \"<OpenAI_API_KEY>\"\n",
    "\n",
    "from google.colab import userdata\n",
    "api_key = userdata.get('OPENAI_API_KEY')\n",
    "\n",
    "# The URL for the OpenAI API (GPT-5 endpoint)\n",
    "url = \"https://api.openai.com/v1/responses\""
   ]
  },
  {
   "cell_type": "code",
   "execution_count": 2,
   "metadata": {
    "id": "x2s6BfWiD2sp"
   },
   "outputs": [],
   "source": [
    "# Setting up the headers with your API key for authentication\n",
    "headers = {\n",
    "    \"Authorization\": f\"Bearer {api_key}\",\n",
    "    \"Content-Type\": \"application/json\",\n",
    "}\n",
    "\n",
    "# The data payload with your prompt and other parameters\n",
    "data = {\n",
    "    \"model\": \"gpt-5-mini\",\n",
    "    \"reasoning\":{'effort':'minimal'},\n",
    "    \"instructions\": \"Translate the following text from English to French\",\n",
    "    \"input\": \"Hello, how are you?\",\n",
    "}"
   ]
  },
  {
   "cell_type": "code",
   "execution_count": 3,
   "metadata": {
    "colab": {
     "base_uri": "https://localhost:8080/"
    },
    "id": "p8QSMU2OD7e4",
    "outputId": "a7ba82be-fc3e-4a7c-cd26-f6b595cbacd3"
   },
   "outputs": [
    {
     "name": "stdout",
     "output_type": "stream",
     "text": [
      "{'id': 'resp_68d39328914481a094fb3096e3569baf09bf4839c6116c9e', 'object': 'response', 'created_at': 1758696232, 'status': 'completed', 'background': False, 'billing': {'payer': 'developer'}, 'error': None, 'incomplete_details': None, 'instructions': 'Translate the following text from English to French', 'max_output_tokens': None, 'max_tool_calls': None, 'model': 'gpt-5-mini-2025-08-07', 'output': [{'id': 'rs_68d39329384481a0acf4a747acd8240b09bf4839c6116c9e', 'type': 'reasoning', 'summary': []}, {'id': 'msg_68d39329745c81a08b1512659328d3b309bf4839c6116c9e', 'type': 'message', 'status': 'completed', 'content': [{'type': 'output_text', 'annotations': [], 'logprobs': [], 'text': 'Bonjour, comment ça va ?'}], 'role': 'assistant'}], 'parallel_tool_calls': True, 'previous_response_id': None, 'prompt_cache_key': None, 'reasoning': {'effort': 'minimal', 'summary': None}, 'safety_identifier': None, 'service_tier': 'default', 'store': True, 'temperature': 1.0, 'text': {'format': {'type': 'text'}, 'verbosity': 'medium'}, 'tool_choice': 'auto', 'tools': [], 'top_logprobs': 0, 'top_p': 1.0, 'truncation': 'disabled', 'usage': {'input_tokens': 24, 'input_tokens_details': {'cached_tokens': 0}, 'output_tokens': 12, 'output_tokens_details': {'reasoning_tokens': 0}, 'total_tokens': 36}, 'user': None, 'metadata': {}}\n"
     ]
    }
   ],
   "source": [
    "import requests\n",
    "\n",
    "# Sending the POST request to the API\n",
    "response = requests.post(url, json=data, headers=headers)\n",
    "\n",
    "# Checking if the request was successful\n",
    "if response.status_code == 200:\n",
    "    # Print the text part of the response\n",
    "    print(response.json())\n",
    "else:\n",
    "    print(f\"Failed to fetch data: {response.status_code}, {response.text}\")"
   ]
  },
  {
   "cell_type": "code",
   "execution_count": 4,
   "metadata": {
    "colab": {
     "base_uri": "https://localhost:8080/"
    },
    "id": "iJNLzDbaD8Bj",
    "outputId": "4650bc2d-b250-4e0c-e546-8b0e0664055c"
   },
   "outputs": [
    {
     "name": "stdout",
     "output_type": "stream",
     "text": [
      "> Response:  Bonjour, comment ça va ?\n"
     ]
    }
   ],
   "source": [
    "print(\"> Response: \", response.json()['output'][1]['content'][0]['text'])"
   ]
  },
  {
   "cell_type": "code",
   "execution_count": 4,
   "metadata": {
    "id": "PeXQcWMyw710"
   },
   "outputs": [],
   "source": []
  }
 ],
 "metadata": {
  "colab": {
   "provenance": []
  },
  "kernelspec": {
   "display_name": "Python 3",
   "name": "python3"
  },
  "language_info": {
   "name": "python"
  }
 },
 "nbformat": 4,
 "nbformat_minor": 0
}
