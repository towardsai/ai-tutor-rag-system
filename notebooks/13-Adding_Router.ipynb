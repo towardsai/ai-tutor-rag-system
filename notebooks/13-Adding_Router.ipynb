{
 "cells": [
  {
   "cell_type": "markdown",
   "metadata": {
    "id": "-zE1h0uQV7uT"
   },
   "source": [
    "# Install Packages and Setup Variables\n"
   ]
  },
  {
   "cell_type": "code",
   "execution_count": 1,
   "metadata": {
    "colab": {
     "base_uri": "https://localhost:8080/"
    },
    "collapsed": true,
    "id": "QPJzr-I9XQ7l",
    "outputId": "86395681-b2eb-4222-d4f8-c05fc959d2af"
   },
   "outputs": [
    {
     "name": "stdout",
     "output_type": "stream",
     "text": [
      "\u001b[?25l     \u001b[90m━━━━━━━━━━━━━━━━━━━━━━━━━━━━━━━━━━━━━━━━\u001b[0m \u001b[32m0.0/56.5 kB\u001b[0m \u001b[31m?\u001b[0m eta \u001b[36m-:--:--\u001b[0m\r",
      "\u001b[2K     \u001b[90m━━━━━━━━━━━━━━━━━━━━━━━━━━━━━━━━━━━━━━━━\u001b[0m \u001b[32m56.5/56.5 kB\u001b[0m \u001b[31m2.2 MB/s\u001b[0m eta \u001b[36m0:00:00\u001b[0m\n",
      "\u001b[?25h  Preparing metadata (setup.py) ... \u001b[?25l\u001b[?25hdone\n",
      "\u001b[2K     \u001b[90m━━━━━━━━━━━━━━━━━━━━━━━━━━━━━━━━━━━━━━━━\u001b[0m \u001b[32m67.3/67.3 kB\u001b[0m \u001b[31m3.5 MB/s\u001b[0m eta \u001b[36m0:00:00\u001b[0m\n",
      "\u001b[?25h  Installing build dependencies ... \u001b[?25l\u001b[?25hdone\n",
      "  Getting requirements to build wheel ... \u001b[?25l\u001b[?25hdone\n",
      "  Preparing metadata (pyproject.toml) ... \u001b[?25l\u001b[?25hdone\n",
      "\u001b[2K   \u001b[90m━━━━━━━━━━━━━━━━━━━━━━━━━━━━━━━━━━━━━━━━\u001b[0m \u001b[32m455.6/455.6 kB\u001b[0m \u001b[31m25.7 MB/s\u001b[0m eta \u001b[36m0:00:00\u001b[0m\n",
      "\u001b[2K   \u001b[90m━━━━━━━━━━━━━━━━━━━━━━━━━━━━━━━━━━━━━━━━\u001b[0m \u001b[32m177.4/177.4 kB\u001b[0m \u001b[31m12.2 MB/s\u001b[0m eta \u001b[36m0:00:00\u001b[0m\n",
      "\u001b[2K   \u001b[90m━━━━━━━━━━━━━━━━━━━━━━━━━━━━━━━━━━━━━━━━\u001b[0m \u001b[32m1.1/1.1 MB\u001b[0m \u001b[31m48.7 MB/s\u001b[0m eta \u001b[36m0:00:00\u001b[0m\n",
      "\u001b[2K   \u001b[90m━━━━━━━━━━━━━━━━━━━━━━━━━━━━━━━━━━━━━━━━\u001b[0m \u001b[32m602.1/602.1 kB\u001b[0m \u001b[31m32.2 MB/s\u001b[0m eta \u001b[36m0:00:00\u001b[0m\n",
      "\u001b[2K   \u001b[90m━━━━━━━━━━━━━━━━━━━━━━━━━━━━━━━━━━━━━━━━\u001b[0m \u001b[32m268.8/268.8 kB\u001b[0m \u001b[31m17.6 MB/s\u001b[0m eta \u001b[36m0:00:00\u001b[0m\n",
      "\u001b[2K   \u001b[90m━━━━━━━━━━━━━━━━━━━━━━━━━━━━━━━━━━━━━━━━\u001b[0m \u001b[32m431.4/431.4 kB\u001b[0m \u001b[31m26.1 MB/s\u001b[0m eta \u001b[36m0:00:00\u001b[0m\n",
      "\u001b[2K   \u001b[90m━━━━━━━━━━━━━━━━━━━━━━━━━━━━━━━━━━━━━━━━\u001b[0m \u001b[32m79.9/79.9 MB\u001b[0m \u001b[31m9.2 MB/s\u001b[0m eta \u001b[36m0:00:00\u001b[0m\n",
      "\u001b[2K   \u001b[90m━━━━━━━━━━━━━━━━━━━━━━━━━━━━━━━━━━━━━━━━\u001b[0m \u001b[32m2.4/2.4 MB\u001b[0m \u001b[31m66.5 MB/s\u001b[0m eta \u001b[36m0:00:00\u001b[0m\n",
      "\u001b[2K   \u001b[90m━━━━━━━━━━━━━━━━━━━━━━━━━━━━━━━━━━━━━━━━\u001b[0m \u001b[32m284.2/284.2 kB\u001b[0m \u001b[31m18.0 MB/s\u001b[0m eta \u001b[36m0:00:00\u001b[0m\n",
      "\u001b[2K   \u001b[90m━━━━━━━━━━━━━━━━━━━━━━━━━━━━━━━━━━━━━━━━\u001b[0m \u001b[32m139.6/139.6 kB\u001b[0m \u001b[31m9.8 MB/s\u001b[0m eta \u001b[36m0:00:00\u001b[0m\n",
      "\u001b[2K   \u001b[90m━━━━━━━━━━━━━━━━━━━━━━━━━━━━━━━━━━━━━━━━\u001b[0m \u001b[32m95.2/95.2 kB\u001b[0m \u001b[31m6.3 MB/s\u001b[0m eta \u001b[36m0:00:00\u001b[0m\n",
      "\u001b[2K   \u001b[90m━━━━━━━━━━━━━━━━━━━━━━━━━━━━━━━━━━━━━━━━\u001b[0m \u001b[32m3.3/3.3 MB\u001b[0m \u001b[31m81.2 MB/s\u001b[0m eta \u001b[36m0:00:00\u001b[0m\n",
      "\u001b[2K   \u001b[90m━━━━━━━━━━━━━━━━━━━━━━━━━━━━━━━━━━━━━━━━\u001b[0m \u001b[32m2.0/2.0 MB\u001b[0m \u001b[31m66.3 MB/s\u001b[0m eta \u001b[36m0:00:00\u001b[0m\n",
      "\u001b[2K   \u001b[90m━━━━━━━━━━━━━━━━━━━━━━━━━━━━━━━━━━━━━━━━\u001b[0m \u001b[32m1.6/1.6 MB\u001b[0m \u001b[31m59.9 MB/s\u001b[0m eta \u001b[36m0:00:00\u001b[0m\n",
      "\u001b[2K   \u001b[90m━━━━━━━━━━━━━━━━━━━━━━━━━━━━━━━━━━━━━━━━\u001b[0m \u001b[32m40.4/40.4 kB\u001b[0m \u001b[31m2.4 MB/s\u001b[0m eta \u001b[36m0:00:00\u001b[0m\n",
      "\u001b[2K   \u001b[90m━━━━━━━━━━━━━━━━━━━━━━━━━━━━━━━━━━━━━━━━\u001b[0m \u001b[32m101.6/101.6 kB\u001b[0m \u001b[31m7.4 MB/s\u001b[0m eta \u001b[36m0:00:00\u001b[0m\n",
      "\u001b[2K   \u001b[90m━━━━━━━━━━━━━━━━━━━━━━━━━━━━━━━━━━━━━━━━\u001b[0m \u001b[32m16.0/16.0 MB\u001b[0m \u001b[31m76.3 MB/s\u001b[0m eta \u001b[36m0:00:00\u001b[0m\n",
      "\u001b[2K   \u001b[90m━━━━━━━━━━━━━━━━━━━━━━━━━━━━━━━━━━━━━━━━\u001b[0m \u001b[32m55.9/55.9 kB\u001b[0m \u001b[31m3.5 MB/s\u001b[0m eta \u001b[36m0:00:00\u001b[0m\n",
      "\u001b[2K   \u001b[90m━━━━━━━━━━━━━━━━━━━━━━━━━━━━━━━━━━━━━━━━\u001b[0m \u001b[32m183.4/183.4 kB\u001b[0m \u001b[31m13.2 MB/s\u001b[0m eta \u001b[36m0:00:00\u001b[0m\n",
      "\u001b[2K   \u001b[90m━━━━━━━━━━━━━━━━━━━━━━━━━━━━━━━━━━━━━━━━\u001b[0m \u001b[32m65.2/65.2 kB\u001b[0m \u001b[31m4.6 MB/s\u001b[0m eta \u001b[36m0:00:00\u001b[0m\n",
      "\u001b[2K   \u001b[90m━━━━━━━━━━━━━━━━━━━━━━━━━━━━━━━━━━━━━━━━\u001b[0m \u001b[32m118.9/118.9 kB\u001b[0m \u001b[31m9.2 MB/s\u001b[0m eta \u001b[36m0:00:00\u001b[0m\n",
      "\u001b[2K   \u001b[90m━━━━━━━━━━━━━━━━━━━━━━━━━━━━━━━━━━━━━━━━\u001b[0m \u001b[32m4.5/4.5 MB\u001b[0m \u001b[31m80.7 MB/s\u001b[0m eta \u001b[36m0:00:00\u001b[0m\n",
      "\u001b[2K   \u001b[90m━━━━━━━━━━━━━━━━━━━━━━━━━━━━━━━━━━━━━━━━\u001b[0m \u001b[32m79.6/79.6 kB\u001b[0m \u001b[31m5.6 MB/s\u001b[0m eta \u001b[36m0:00:00\u001b[0m\n",
      "\u001b[2K   \u001b[90m━━━━━━━━━━━━━━━━━━━━━━━━━━━━━━━━━━━━━━━━\u001b[0m \u001b[32m363.4/363.4 MB\u001b[0m \u001b[31m3.9 MB/s\u001b[0m eta \u001b[36m0:00:00\u001b[0m\n",
      "\u001b[2K   \u001b[90m━━━━━━━━━━━━━━━━━━━━━━━━━━━━━━━━━━━━━━━━\u001b[0m \u001b[32m13.8/13.8 MB\u001b[0m \u001b[31m75.4 MB/s\u001b[0m eta \u001b[36m0:00:00\u001b[0m\n",
      "\u001b[2K   \u001b[90m━━━━━━━━━━━━━━━━━━━━━━━━━━━━━━━━━━━━━━━━\u001b[0m \u001b[32m24.6/24.6 MB\u001b[0m \u001b[31m24.0 MB/s\u001b[0m eta \u001b[36m0:00:00\u001b[0m\n",
      "\u001b[2K   \u001b[90m━━━━━━━━━━━━━━━━━━━━━━━━━━━━━━━━━━━━━━━━\u001b[0m \u001b[32m883.7/883.7 kB\u001b[0m \u001b[31m22.5 MB/s\u001b[0m eta \u001b[36m0:00:00\u001b[0m\n",
      "\u001b[2K   \u001b[90m━━━━━━━━━━━━━━━━━━━━━━━━━━━━━━━━━━━━━━━━\u001b[0m \u001b[32m664.8/664.8 MB\u001b[0m \u001b[31m2.6 MB/s\u001b[0m eta \u001b[36m0:00:00\u001b[0m\n",
      "\u001b[2K   \u001b[90m━━━━━━━━━━━━━━━━━━━━━━━━━━━━━━━━━━━━━━━━\u001b[0m \u001b[32m211.5/211.5 MB\u001b[0m \u001b[31m5.5 MB/s\u001b[0m eta \u001b[36m0:00:00\u001b[0m\n",
      "\u001b[2K   \u001b[90m━━━━━━━━━━━━━━━━━━━━━━━━━━━━━━━━━━━━━━━━\u001b[0m \u001b[32m56.3/56.3 MB\u001b[0m \u001b[31m9.8 MB/s\u001b[0m eta \u001b[36m0:00:00\u001b[0m\n",
      "\u001b[2K   \u001b[90m━━━━━━━━━━━━━━━━━━━━━━━━━━━━━━━━━━━━━━━━\u001b[0m \u001b[32m127.9/127.9 MB\u001b[0m \u001b[31m7.0 MB/s\u001b[0m eta \u001b[36m0:00:00\u001b[0m\n",
      "\u001b[2K   \u001b[90m━━━━━━━━━━━━━━━━━━━━━━━━━━━━━━━━━━━━━━━━\u001b[0m \u001b[32m207.5/207.5 MB\u001b[0m \u001b[31m6.0 MB/s\u001b[0m eta \u001b[36m0:00:00\u001b[0m\n",
      "\u001b[2K   \u001b[90m━━━━━━━━━━━━━━━━━━━━━━━━━━━━━━━━━━━━━━━━\u001b[0m \u001b[32m21.1/21.1 MB\u001b[0m \u001b[31m48.3 MB/s\u001b[0m eta \u001b[36m0:00:00\u001b[0m\n",
      "\u001b[2K   \u001b[90m━━━━━━━━━━━━━━━━━━━━━━━━━━━━━━━━━━━━━━━━\u001b[0m \u001b[32m62.3/62.3 kB\u001b[0m \u001b[31m4.1 MB/s\u001b[0m eta \u001b[36m0:00:00\u001b[0m\n",
      "\u001b[2K   \u001b[90m━━━━━━━━━━━━━━━━━━━━━━━━━━━━━━━━━━━━━━━━\u001b[0m \u001b[32m13.4/13.4 MB\u001b[0m \u001b[31m53.6 MB/s\u001b[0m eta \u001b[36m0:00:00\u001b[0m\n",
      "\u001b[2K   \u001b[90m━━━━━━━━━━━━━━━━━━━━━━━━━━━━━━━━━━━━━━━━\u001b[0m \u001b[32m459.8/459.8 kB\u001b[0m \u001b[31m23.8 MB/s\u001b[0m eta \u001b[36m0:00:00\u001b[0m\n",
      "\u001b[2K   \u001b[90m━━━━━━━━━━━━━━━━━━━━━━━━━━━━━━━━━━━━━━━━\u001b[0m \u001b[32m251.3/251.3 kB\u001b[0m \u001b[31m14.4 MB/s\u001b[0m eta \u001b[36m0:00:00\u001b[0m\n",
      "\u001b[2K   \u001b[90m━━━━━━━━━━━━━━━━━━━━━━━━━━━━━━━━━━━━━━━━\u001b[0m \u001b[32m302.3/302.3 kB\u001b[0m \u001b[31m16.1 MB/s\u001b[0m eta \u001b[36m0:00:00\u001b[0m\n",
      "\u001b[2K   \u001b[90m━━━━━━━━━━━━━━━━━━━━━━━━━━━━━━━━━━━━━━━━\u001b[0m \u001b[32m84.4/84.4 kB\u001b[0m \u001b[31m5.6 MB/s\u001b[0m eta \u001b[36m0:00:00\u001b[0m\n",
      "\u001b[2K   \u001b[90m━━━━━━━━━━━━━━━━━━━━━━━━━━━━━━━━━━━━━━━━\u001b[0m \u001b[32m72.0/72.0 kB\u001b[0m \u001b[31m5.1 MB/s\u001b[0m eta \u001b[36m0:00:00\u001b[0m\n",
      "\u001b[2K   \u001b[90m━━━━━━━━━━━━━━━━━━━━━━━━━━━━━━━━━━━━━━━━\u001b[0m \u001b[32m4.0/4.0 MB\u001b[0m \u001b[31m57.5 MB/s\u001b[0m eta \u001b[36m0:00:00\u001b[0m\n",
      "\u001b[2K   \u001b[90m━━━━━━━━━━━━━━━━━━━━━━━━━━━━━━━━━━━━━━━━\u001b[0m \u001b[32m452.6/452.6 kB\u001b[0m \u001b[31m19.8 MB/s\u001b[0m eta \u001b[36m0:00:00\u001b[0m\n",
      "\u001b[2K   \u001b[90m━━━━━━━━━━━━━━━━━━━━━━━━━━━━━━━━━━━━━━━━\u001b[0m \u001b[32m46.0/46.0 kB\u001b[0m \u001b[31m3.5 MB/s\u001b[0m eta \u001b[36m0:00:00\u001b[0m\n",
      "\u001b[2K   \u001b[90m━━━━━━━━━━━━━━━━━━━━━━━━━━━━━━━━━━━━━━━━\u001b[0m \u001b[32m86.8/86.8 kB\u001b[0m \u001b[31m4.1 MB/s\u001b[0m eta \u001b[36m0:00:00\u001b[0m\n",
      "\u001b[2K   \u001b[90m━━━━━━━━━━━━━━━━━━━━━━━━━━━━━━━━━━━━━━━━\u001b[0m \u001b[32m50.9/50.9 kB\u001b[0m \u001b[31m2.8 MB/s\u001b[0m eta \u001b[36m0:00:00\u001b[0m\n",
      "\u001b[?25h  Building wheel for html2text (setup.py) ... \u001b[?25l\u001b[?25hdone\n",
      "  Building wheel for pypika (pyproject.toml) ... \u001b[?25l\u001b[?25hdone\n"
     ]
    }
   ],
   "source": [
    "!pip install -q llama-index==0.12.21 openai==1.59.8 cohere==5.6.2 tiktoken==0.7.0 chromadb==0.6.0 html2text==2024.2.26 sentence-transformers==3.3.1 pydantic==2.10.5 llama-index-vector-stores-chroma==0.4.1 kaleido==0.2.1 llama-index-llms-gemini==0.4.1"
   ]
  },
  {
   "cell_type": "code",
   "execution_count": 2,
   "metadata": {
    "id": "riuXwpSPcvWC"
   },
   "outputs": [],
   "source": [
    "import os\n",
    "\n",
    "# Set the following API Keys in the Python environment. Will be used later.\n",
    "# os.environ[\"OPENAI_API_KEY\"] = \"<YOUR_OPENAI_API_KEY>\"\n",
    "# os.environ[\"GOOGLE_API_KEY\"] = \"<YOUR_GOOGLE_API_KEY>\"\n",
    "\n",
    "from google.colab import userdata\n",
    "os.environ[\"OPENAI_API_KEY\"] = userdata.get('openai_api_key')\n",
    "os.environ[\"GOOGLE_API_KEY\"] = userdata.get('Google_api_key')"
   ]
  },
  {
   "cell_type": "code",
   "execution_count": 3,
   "metadata": {
    "id": "jIEeZzqLbz0J"
   },
   "outputs": [],
   "source": [
    "# Allows running asyncio in environments with an existing event loop, like Jupyter notebooks.\n",
    "import nest_asyncio\n",
    "\n",
    "nest_asyncio.apply()"
   ]
  },
  {
   "cell_type": "markdown",
   "metadata": {
    "id": "Bkgi2OrYzF7q"
   },
   "source": [
    "# Load a Model\n"
   ]
  },
  {
   "cell_type": "code",
   "execution_count": 4,
   "metadata": {
    "id": "9oGT6crooSSj"
   },
   "outputs": [],
   "source": [
    "from llama_index.embeddings.openai import OpenAIEmbedding\n",
    "from llama_index.llms.openai import OpenAI\n",
    "from llama_index.core import Settings\n",
    "\n",
    "Settings.llm = OpenAI(temperature=1, model=\"gpt-4o-mini\")\n",
    "Settings.embed_model = OpenAIEmbedding(model=\"text-embedding-3-small\")"
   ]
  },
  {
   "cell_type": "markdown",
   "metadata": {
    "id": "OWaT6rL7ksp8"
   },
   "source": [
    "# Load Indexes\n"
   ]
  },
  {
   "cell_type": "code",
   "execution_count": 5,
   "metadata": {
    "colab": {
     "base_uri": "https://localhost:8080/",
     "height": 49,
     "referenced_widgets": [
      "27083d9a498f4c599788793c52ef093c",
      "6e3c6b3312bc4d63992a97a525083308",
      "6292b08dc06445fe99c9a2efe230113f",
      "8d64b6b3c1614847b751834e42646982",
      "d56150806e184a7f8d3f6e8d15313479",
      "d911575b1e8f4b5cba5d761c9ea611d7",
      "331b28ed41da458dabc08e2a6ddeea7a",
      "f471944b24f34365aa183e5f9d0898ac",
      "ad2766910c684c88899a634cf462edcd",
      "0cba1736844044388106b4bcbb818742",
      "8d803306ed50489197bc3cb829511b67"
     ]
    },
    "id": "qyuq48p_4KWu",
    "outputId": "d2ef086f-a990-4aa9-de79-169fc06631b8"
   },
   "outputs": [
    {
     "data": {
      "application/vnd.jupyter.widget-view+json": {
       "model_id": "27083d9a498f4c599788793c52ef093c",
       "version_major": 2,
       "version_minor": 0
      },
      "text/plain": [
       "vectorstore.zip:   0%|          | 0.00/97.2M [00:00<?, ?B/s]"
      ]
     },
     "metadata": {},
     "output_type": "display_data"
    }
   ],
   "source": [
    "# Downloading Vector store from Hugging face hub\n",
    "from huggingface_hub import hf_hub_download\n",
    "\n",
    "vectorstore = hf_hub_download(repo_id=\"jaiganesan/ai_tutor_knowledge\", filename=\"vectorstore.zip\", repo_type=\"dataset\", local_dir=\".\")"
   ]
  },
  {
   "cell_type": "code",
   "execution_count": 6,
   "metadata": {
    "colab": {
     "base_uri": "https://localhost:8080/"
    },
    "id": "SodY2Xpf_kxg",
    "outputId": "ad83bc19-ec8e-4842-e565-7ce99008d478"
   },
   "outputs": [
    {
     "name": "stdout",
     "output_type": "stream",
     "text": [
      "Archive:  vectorstore.zip\n",
      "   creating: ai_tutor_knowledge/\n",
      "   creating: ai_tutor_knowledge/684af133-f877-4230-bde4-575cf53b6688/\n",
      "  inflating: ai_tutor_knowledge/684af133-f877-4230-bde4-575cf53b6688/length.bin  \n",
      "  inflating: ai_tutor_knowledge/684af133-f877-4230-bde4-575cf53b6688/index_metadata.pickle  \n",
      "  inflating: ai_tutor_knowledge/684af133-f877-4230-bde4-575cf53b6688/link_lists.bin  \n",
      "  inflating: ai_tutor_knowledge/684af133-f877-4230-bde4-575cf53b6688/header.bin  \n",
      "  inflating: ai_tutor_knowledge/684af133-f877-4230-bde4-575cf53b6688/data_level0.bin  \n",
      "  inflating: ai_tutor_knowledge/chroma.sqlite3  \n"
     ]
    }
   ],
   "source": [
    "!unzip vectorstore.zip"
   ]
  },
  {
   "cell_type": "code",
   "execution_count": 7,
   "metadata": {
    "colab": {
     "base_uri": "https://localhost:8080/"
    },
    "id": "mXi56KTXk2sp",
    "outputId": "0400a80e-9e63-4de3-fd21-940d64ac385c"
   },
   "outputs": [
    {
     "name": "stderr",
     "output_type": "stream",
     "text": [
      "WARNING:chromadb.db.impl.sqlite:⚠️ It looks like you upgraded from a version below 0.6 and could benefit from vacuuming your database. Run chromadb utils vacuum --help for more information.\n"
     ]
    }
   ],
   "source": [
    "import chromadb\n",
    "from llama_index.vector_stores.chroma import ChromaVectorStore\n",
    "from llama_index.core import VectorStoreIndex\n",
    "\n",
    "# Create your index\n",
    "db = chromadb.PersistentClient(path=\"./ai_tutor_knowledge\")\n",
    "chroma_collection = db.get_or_create_collection(\"ai_tutor_knowledge\")\n",
    "vector_store = ChromaVectorStore(chroma_collection=chroma_collection)\n",
    "vector_index = VectorStoreIndex.from_vector_store(vector_store)"
   ]
  },
  {
   "cell_type": "code",
   "execution_count": 8,
   "metadata": {
    "colab": {
     "base_uri": "https://localhost:8080/"
    },
    "id": "lgpzgnHFV_MH",
    "outputId": "699b6121-3e2c-4d00-d393-f91a403b7140"
   },
   "outputs": [
    {
     "name": "stdout",
     "output_type": "stream",
     "text": [
      "Retrieval Augmented Generation (RAG) operates through a structured workflow that integrates two main components: retrieval and generation. \n",
      "\n",
      "1. **Retrieval Component**:\n",
      "   - The process begins with **query classification**, where it is determined whether retrieval is necessary for a given input query. \n",
      "   - Then, the system engages in **retrieval**, which efficiently obtains relevant documents. This involves indexing documents so they can be fetched based on user queries, utilizing techniques such as inverted indexes for sparse retrieval or dense vector encodings for dense retrieval. \n",
      "   - Following the retrieval, there is **reranking** to refine the order of the fetched documents based on their relevance to the query. \n",
      "   - The selected documents are then **repacked** into a structured format to enhance the quality of information.\n",
      "   - Finally, a **summarization** step extracts key information from the repacked documents, ensuring that redundancies are eliminated for effective generation of responses.\n",
      "\n",
      "2. **Generation Component**:\n",
      "   - This component utilizes the retrieved information along with the user query to generate coherent and contextually relevant responses.\n",
      "   - The generation process can employ various prompting techniques, such as Chain of Thought and Tree of Thought, to improve the quality of the output.\n",
      "   - The model interprets the prompted input to produce accurate responses aligned with the query's intent, integrating the extracted information efficiently without needing further fine-tuning.\n",
      "\n",
      "Overall, RAG enhances the performance of generative models by addressing challenges like outdated information and fabricating facts, enabling rapid deployment of tailored applications without the need to update model parameters as long as relevant documents are available.\n"
     ]
    }
   ],
   "source": [
    "# Query Engine\n",
    "ai_tutor_knowledge_query_engine = vector_index.as_query_engine(similarity_top_k=3)\n",
    "\n",
    "res = ai_tutor_knowledge_query_engine.query(\"How does Retrieval Augmented Generation (RAG) work?\")\n",
    "print(res.response)"
   ]
  },
  {
   "cell_type": "code",
   "execution_count": 9,
   "metadata": {
    "colab": {
     "base_uri": "https://localhost:8080/"
    },
    "id": "cKN0brIPV_MJ",
    "outputId": "9a212b0a-901c-4805-97de-4828b140cebf"
   },
   "outputs": [
    {
     "name": "stdout",
     "output_type": "stream",
     "text": [
      "Node ID\t 2aa05360-f43a-4819-bce7-0acf7b897eab\n",
      "Title\t Searching for Best Practices in Retrieval-Augmented Generation:1 Introduction\n",
      "Text\t Generative large language models are prone to producing outdated information or fabricating facts, although they were aligned with human preferences by reinforcement learning [1] or lightweight alternatives [2–5]. Retrieval-augmented generation (RAG) techniques address these issues by combining the strengths of pretraining and retrieval-based models, thereby providing a robust framework for enhancing model performance [6]. Furthermore, RAG enables rapid deployment of applications for specific organizations and domains without necessitating updates to the model parameters, as long as query-related documents are provided. Many RAG approaches have been proposed to enhance large language models (LLMs) through query-dependent retrievals [6–8]. A typical RAG workflow usually contains multiple intervening processing steps: query classification (determining whether retrieval is necessary for a given input query), retrieval (efficiently obtaining relevant documents for the query), reranking (refining the order of retrieved documents based on their relevance to the query), repacking (organizing the retrieved documents into a structured one for better generation), summarization (extracting key information for response generation from the repacked document and eliminating redundancies) and models. Implementing RAG also requires decisions on the ways to properly split documents into chunks, the types of embeddings to use for semantically representing these chunks, the choice of\n",
      "Score\t 0.5990286768588448\n",
      "Metadata\t {'url': 'http://arxiv.org/pdf/2407.01219v1', 'title': 'Searching for Best Practices in Retrieval-Augmented Generation:1 Introduction', 'tokens': 263, 'source': 'Arxiv: 2407.01219', 'questions_this_excerpt_can_answer': 'Based on the provided context, here are two specific questions that can be answered:\\n\\n1. **What are the key processing steps involved in a typical retrieval-augmented generation (RAG) workflow?**\\n   - This question focuses on the specific steps mentioned in the context, such as query classification, retrieval, reranking, repacking, and summarization, which are integral to the RAG process.\\n\\n2. **How does retrieval-augmented generation (RAG) enhance the performance of large language models (LLMs)?**\\n   - This question seeks to understand the advantages of RAG techniques in improving the reliability and accuracy of information generated by LLMs, particularly in addressing issues of outdated information and fact fabrication.\\n\\nThese questions are tailored to extract detailed insights from the context that may not be readily available in other sources.', 'prev_section_summary': 'The section discusses retrieval-augmented generation (RAG) techniques, highlighting their effectiveness in integrating current information, reducing hallucinations, and improving response quality, especially in specialized fields. It notes the challenges of complex implementation and slow response times associated with many RAG approaches. The excerpt emphasizes the investigation of existing RAG methods and their combinations to identify optimal practices for balancing performance and efficiency. Additionally, it mentions the role of multimodal retrieval techniques in enhancing question-answering capabilities related to visual inputs and expediting the generation of multimodal content through a \"retrieval as generation\" strategy. Resources for further exploration are provided via a GitHub link.', 'section_summary': 'The section discusses the concept of retrieval-augmented generation (RAG) as a method to enhance the performance of generative large language models (LLMs). It highlights the challenges faced by LLMs, such as producing outdated information and fabricating facts, and explains how RAG techniques address these issues by integrating pretraining and retrieval-based models. The text outlines a typical RAG workflow, which includes several key processing steps: query classification, retrieval, reranking, repacking, and summarization. Additionally, it notes that RAG allows for the rapid deployment of applications tailored to specific organizations and domains without needing to update model parameters, provided that relevant documents are available. The section also mentions considerations for document chunking and embedding types for effective semantic representation. \\n\\nKey topics include:\\n- Retrieval-augmented generation (RAG)\\n- Large language models (LLMs)\\n- Challenges of LLMs (outdated information, fact fabrication)\\n- RAG workflow steps (query classification, retrieval, reranking, repacking, summarization)\\n- Deployment of RAG applications\\n- Document chunking and embedding types\\n\\nEntities mentioned include:\\n- Generative large language models\\n- RAG techniques\\n- Pretraining and retrieval-based models', 'excerpt_keywords': 'Keywords: retrieval-augmented generation, large language models, outdated information, fact fabrication, query classification, document retrieval, reranking, repacking, summarization, semantic representation'}\n",
      "-_-_-_-_-_-_-_-_-_-_-_-_-_-_-_-_-_-_-_-_\n",
      "Node ID\t 1c324686-fad7-4a41-bfd3-d44f9612ca91\n",
      "Title\t Evaluation of Retrieval-Augmented Generation: A Survey:Research Paper Information\n",
      "Text\t Authors: Hao Yu, Aoran Gan, Kai Zhang, Shiwei Tong, Qi Liu, and Zhaofeng Liu.Numerous studies of Retrieval-Augmented Generation (RAG) systems have emerged from various perspectives since the advent of Large Language Models (LLMs). The RAG system comprises two primary components: Retrieval and Generation. The retrieval component aims to extract relevant information from various external knowledge sources. It involves two main phases, indexing and searching. Indexing organizes documents to facilitate efficient retrieval, using either inverted indexes for sparse retrieval or dense vector encoding for dense retrieval. The searching component utilizes these indexes to fetch relevant documents based on the user's query, often incorporating the optional rerankers to refine the ranking of the retrieved documents. The generation component utilizes the retrieved content and question query to formulate coherent and contextually relevant responses with the prompting and inferencing phases. As the \"Emerging\" ability of LLMs and the breakthrough in aligning human commands, LLMs are the best performance choices model for the generation stage. Prompting methods like Chain of Thought, Tree of Thought, Rephrase and Respond guide better generation results. In the inferencing step, LLMs interpret the prompted input to generate accurate and in-depth responses that align with the query's intent and integrate the extracted information without further finetuning, such as fully finetuning or LoRA. Appendix A details the complete RAG structure. Figure 1 illustrates the structure of the RAG systems as mentioned.\n",
      "Score\t 0.5813780488195638\n",
      "Metadata\t {'url': 'http://arxiv.org/pdf/2405.07437v2', 'title': 'Evaluation of Retrieval-Augmented Generation: A Survey:Research Paper Information', 'tokens': 305, 'source': 'Arxiv: 2405.07437', 'questions_this_excerpt_can_answer': '1. What are the two primary components of Retrieval-Augmented Generation (RAG) systems, and what roles do they play in the overall process?\\n\\n2. How do prompting methods like Chain of Thought and Tree of Thought contribute to the generation stage in Retrieval-Augmented Generation systems?', 'prev_section_summary': 'The excerpt discusses a survey conducted by Hao Yu and colleagues on Retrieval-Augmented Generation (RAG) systems, which have become increasingly important in natural language processing. The authors highlight the unique challenges associated with evaluating RAG systems due to their hybrid nature and dependence on dynamic knowledge sources. They aim to provide a comprehensive overview of the evaluation processes and benchmarks for RAG systems, focusing on quantifiable metrics such as relevance, accuracy, and faithfulness. The survey also critiques current benchmarks, identifying their limitations, and proposes potential directions for advancing RAG evaluation methodologies. The authors are affiliated with Tencent Company, McGill University, and the University of Science and Technology of China. The paper emphasizes the importance of RAG in enhancing generative models by reducing factual inaccuracies and improving the reliability of generated content.', 'section_summary': \"The section discusses Retrieval-Augmented Generation (RAG) systems, highlighting their two primary components: Retrieval and Generation. \\n\\n1. **Retrieval Component**: \\n   - **Purpose**: Extracts relevant information from external knowledge sources.\\n   - **Phases**: \\n     - **Indexing**: Organizes documents for efficient retrieval using inverted indexes (sparse retrieval) or dense vector encoding (dense retrieval).\\n     - **Searching**: Utilizes the indexes to fetch relevant documents based on user queries, often enhanced by rerankers to improve document ranking.\\n\\n2. **Generation Component**: \\n   - **Function**: Uses the retrieved content and user queries to generate coherent and contextually relevant responses.\\n   - **Methods**: Employs prompting techniques such as Chain of Thought and Tree of Thought to enhance generation quality. \\n   - **Inferencing**: Involves interpreting prompted input to produce accurate responses that align with the query's intent, integrating extracted information without additional fine-tuning.\\n\\nThe authors of the paper are Hao Yu, Aoran Gan, Kai Zhang, Shiwei Tong, Qi Liu, and Zhaofeng Liu, and the document is sourced from Arxiv with the identifier 2405.07437. The section emphasizes the significance of Large Language Models (LLMs) in the generation stage of RAG systems.\", 'excerpt_keywords': 'Keywords: Retrieval-Augmented Generation, RAG systems, Large Language Models, information retrieval, document indexing, prompting methods, Chain of Thought, Tree of Thought, generation component, evaluation methodologies'}\n",
      "-_-_-_-_-_-_-_-_-_-_-_-_-_-_-_-_-_-_-_-_\n",
      "Node ID\t e67de210-5d8c-4bbc-87e9-b72c66cac0dc\n",
      "Title\t Adaptive Retrieval-Augmented Generation for Conversational Systems:Abstract\n",
      "Text\t Despite the success of integrating large language models into the development of conversational systems, many studies have shown the effectiveness of retrieving and augmenting external knowledge for informative responses. Hence, many existing studies commonly assume the always need for Retrieval Augmented Generation (RAG) in a conversational system without explicit control. This raises a research question about such a necessity. In this study, we propose to investigate the need for each turn of system response to be augmented with external knowledge. In particular, by leveraging human judgements on the binary choice of adaptive augmentation, we develop RAGate, a gating model, which models conversation context and relevant inputs to predict if a conversational system requires RAG for improved responses. We conduct extensive experiments on devising and applying RAGate to conversational models and well-rounded analyses of different conversational scenarios. Our experimental results and analysis indicate the effective application of RAGate in RAG-based conversational systems in identifying system responses for appropriate RAG with high-quality responses and a high generation confidence. This study also identifies the correlation between the generation’s confidence level and the relevance of the augmented knowledge.\n",
      "Score\t 0.573426220481849\n",
      "Metadata\t {'url': 'http://arxiv.org/pdf/2407.21712v1', 'title': 'Adaptive Retrieval-Augmented Generation for Conversational Systems:Abstract', 'tokens': 226, 'source': 'Arxiv: 2407.21712', 'questions_this_excerpt_can_answer': '1. What is the primary research question addressed by the study regarding the necessity of Retrieval Augmented Generation (RAG) in conversational systems?\\n\\n2. How does the RAGate model determine whether a conversational system requires external knowledge augmentation for improved responses?', 'prev_section_summary': 'The section discusses the inference stage in the Retrieval-Augmented Generation (RaR) pipeline, highlighting its role in processing the final input string prepared during the prompting step. The inference stage involves the Large Language Model (LLM) generating output based on the input derived from previous stages, ultimately providing an answer to the initial query for downstream tasks. Additionally, it mentions the possibility of implementing post-processing steps after inference to format the output or extract specific information, such as through named entity recognition or parsing, particularly in tasks like classification or information extraction. Key topics include the inference stage, LLM output generation, and post-processing techniques.', 'section_summary': \"The section discusses the integration of Retrieval Augmented Generation (RAG) in conversational systems, highlighting the research question regarding the necessity of RAG for each response. It introduces the RAGate model, which determines whether external knowledge augmentation is needed based on conversation context and relevant inputs. The study emphasizes the importance of human judgments in this adaptive augmentation process and presents experimental results demonstrating RAGate's effectiveness in improving response quality and generation confidence in RAG-based conversational systems. Additionally, it notes a correlation between the confidence level of generated responses and the relevance of the augmented knowledge. Key topics include RAG, conversational systems, adaptive augmentation, and the RAGate model.\", 'excerpt_keywords': 'Keywords: Retrieval Augmented Generation, conversational systems, RAGate model, adaptive augmentation, external knowledge, human judgments, response quality, generation confidence, large language models, experimental analysis'}\n",
      "-_-_-_-_-_-_-_-_-_-_-_-_-_-_-_-_-_-_-_-_\n"
     ]
    }
   ],
   "source": [
    "for src in res.source_nodes:\n",
    "    print(\"Node ID\\t\", src.node_id)\n",
    "    print(\"Title\\t\", src.metadata[\"title\"])\n",
    "    print(\"Text\\t\", src.text)\n",
    "    print(\"Score\\t\", src.score)\n",
    "    print(\"Metadata\\t\", src.metadata)\n",
    "    print(\"-_\" * 20)"
   ]
  },
  {
   "cell_type": "markdown",
   "metadata": {
    "id": "fXqjul4MV_MJ"
   },
   "source": [
    "# Router\n",
    "\n",
    "Routers are modules that take in a user query and a set of “choices” (defined by metadata), and returns one or more selected choices.\n",
    "\n",
    "They can be used for the following use cases and more:\n",
    "\n",
    "- Selecting the right data source among a diverse range of data sources\n",
    "\n",
    "- Deciding whether to do summarization (e.g. using summary index query engine) or semantic search (e.g. using vector index query engine)\n",
    "\n",
    "- Deciding whether to “try” out a bunch of choices at once and combine the results (using multi-routing capabilities).\n"
   ]
  },
  {
   "cell_type": "markdown",
   "metadata": {
    "id": "uunnC6XjV_Mb"
   },
   "source": [
    "## Lets create a different query engine with Mistral AI information\n"
   ]
  },
  {
   "cell_type": "code",
   "execution_count": 10,
   "metadata": {
    "id": "AXnP6NfcBCjA"
   },
   "outputs": [],
   "source": [
    "from pathlib import Path\n",
    "import requests\n",
    "\n",
    "wiki_titles = [\n",
    "    \"Mistral AI\",\n",
    "    \"Llama (language model)\",\n",
    "    \"Claude AI\",\n",
    "    \"OpenAI\",\n",
    "    \"Gemini AI\",\n",
    "]\n",
    "\n",
    "data_path = Path(\"llm_data_wiki\")\n",
    "\n",
    "if not data_path.exists():\n",
    "    data_path.mkdir()\n",
    "\n",
    "for title in wiki_titles:\n",
    "    response = requests.get(\n",
    "        \"https://en.wikipedia.org/w/api.php\",\n",
    "        params={\n",
    "            \"action\": \"query\",\n",
    "            \"format\": \"json\",\n",
    "            \"titles\": title,\n",
    "            \"prop\": \"extracts\",\n",
    "            \"explaintext\": True,\n",
    "        },\n",
    "    ).json()\n",
    "\n",
    "    page = next(iter(response[\"query\"][\"pages\"].values()))\n",
    "\n",
    "    if \"extract\" in page:\n",
    "        wiki_text = page[\"extract\"]\n",
    "\n",
    "        with open(data_path / \"llm_data_wiki.txt\", \"a\") as fp:\n",
    "            fp.write(f\"Title: {title}\\n{wiki_text}\\n\\n\")\n",
    "    else:\n",
    "        print(f\"No extract found for '{title}'\")\n"
   ]
  },
  {
   "cell_type": "code",
   "execution_count": 11,
   "metadata": {
    "colab": {
     "base_uri": "https://localhost:8080/"
    },
    "id": "OsSsh4_bV_Mb",
    "outputId": "316e1a87-7bf6-4ecc-c8e0-616245fe821d"
   },
   "outputs": [
    {
     "name": "stderr",
     "output_type": "stream",
     "text": [
      "100%|██████████| 50/50 [00:28<00:00,  1.74it/s]\n",
      "100%|██████████| 50/50 [01:09<00:00,  1.39s/it]\n",
      "100%|██████████| 50/50 [00:13<00:00,  3.79it/s]\n"
     ]
    }
   ],
   "source": [
    "from llama_index.core import VectorStoreIndex, SimpleDirectoryReader\n",
    "from llama_index.core.text_splitter import TokenTextSplitter\n",
    "from llama_index.core.extractors import (\n",
    "    SummaryExtractor,\n",
    "    QuestionsAnsweredExtractor,\n",
    "    KeywordExtractor,\n",
    ")\n",
    "\n",
    "# Assuming you have prepared a directory for llm data\n",
    "documents = SimpleDirectoryReader(\"llm_data_wiki\").load_data()\n",
    "\n",
    "text_splitter = TokenTextSplitter(separator=\" \", chunk_size=512, chunk_overlap=128)\n",
    "\n",
    "transformations = [\n",
    "    text_splitter,\n",
    "    QuestionsAnsweredExtractor(questions=2),\n",
    "    SummaryExtractor(summaries=[\"prev\", \"self\"]),\n",
    "    KeywordExtractor(keywords=10),\n",
    "    OpenAIEmbedding(model=\"text-embedding-3-small\"),\n",
    "]\n",
    "\n",
    "llm_index = VectorStoreIndex.from_documents(documents=documents, transformations=transformations)\n",
    "\n",
    "llm_query_engine = llm_index.as_query_engine(similarity_top_k=2)"
   ]
  },
  {
   "cell_type": "code",
   "execution_count": 12,
   "metadata": {
    "id": "p3hDxvMuV_Mc"
   },
   "outputs": [],
   "source": [
    "from llama_index.core.query_engine import RouterQueryEngine\n",
    "from llama_index.core.selectors import PydanticSingleSelector\n",
    "from llama_index.core.tools import QueryEngineTool\n",
    "\n",
    "# initialize tools\n",
    "ai_tutor_knowledge_tool = QueryEngineTool.from_defaults(\n",
    "    query_engine=ai_tutor_knowledge_query_engine,\n",
    "    description=\"Useful for questions about general generative AI concepts\",\n",
    ")\n",
    "llm_tool = QueryEngineTool.from_defaults(\n",
    "    query_engine=llm_query_engine,\n",
    "    description=\"Useful for questions about particular LLMs like Mistral, Claude, OpenAI, Gemini\",\n",
    ")\n",
    "\n",
    "# initialize router query engine (single selection, pydantic)\n",
    "query_engine = RouterQueryEngine(\n",
    "    selector=PydanticSingleSelector.from_defaults(),\n",
    "    query_engine_tools=[\n",
    "        ai_tutor_knowledge_tool,\n",
    "        llm_tool,\n",
    "    ],\n",
    ")"
   ]
  },
  {
   "cell_type": "code",
   "execution_count": 13,
   "metadata": {
    "colab": {
     "base_uri": "https://localhost:8080/"
    },
    "id": "9nnZaOPuV_Mc",
    "outputId": "d07c4e2d-16ae-4781-e027-a73fdaca8d13"
   },
   "outputs": [
    {
     "name": "stdout",
     "output_type": "stream",
     "text": [
      "The LLaMA model is a foundational AI model developed by Meta Platforms. It has various applications across different domains, such as healthcare, business, and military. The model has undergone improvements and fine-tuning to enhance its performance and address safety and ethical considerations. Key variations of the model include LLaMA 1 and LLaMA 2, with advancements in training methodologies, data usage, and multi-turn dialogue consistency. There have also been initiatives to create derivative models, such as Alpaca, which aim to achieve comparable capabilities to popular models like OpenAI's GPT-3. The LLaMA model serves as a base for several applications, including AI companions for business, and efforts have been made to re-implement it in various programming languages to facilitate broader usage.\n"
     ]
    }
   ],
   "source": [
    "res = query_engine.query(\n",
    "    \"What is the LLama model?\",\n",
    ")\n",
    "print(res.response)"
   ]
  },
  {
   "cell_type": "code",
   "execution_count": 14,
   "metadata": {
    "colab": {
     "base_uri": "https://localhost:8080/"
    },
    "id": "zLVDAW7hV_Md",
    "outputId": "4be35362-f304-4e92-9775-02686ab31868"
   },
   "outputs": [
    {
     "name": "stdout",
     "output_type": "stream",
     "text": [
      "Node ID\t 117a217d-d132-41ef-ba05-574d58e5512f\n",
      "Text\t out the loss function for tokens in the prompt (earlier parts of the dialog).\n",
      "\n",
      "\n",
      "== Applications ==\n",
      "The Stanford University Institute for Human-Centered Artificial Intelligence (HAI) Center for Research on Foundation Models (CRFM) released Alpaca, a training recipe based on the LLaMA 7B model that uses the \"Self-Instruct\" method of instruction tuning to acquire capabilities comparable to the OpenAI GPT-3 series text-davinci-003 model at a modest cost. The model files were officially removed on March 21, 2023, over hosting costs and safety concerns, though the code and paper remain online for reference.\n",
      "Meditron is a family of Llama-based finetuned on a corpus of clinical guidelines, PubMed papers, and articles. It was created by researchers at École Polytechnique Fédérale de Lausanne School of Computer and Communication Sciences, and the Yale School of Medicine. It shows increased performance on medical-related benchmarks such as MedQA and MedMCQA.\n",
      "Zoom used Meta Llama 2 to create an AI Companion that can summarize meetings, provide helpful presentation tips, and assist with message responses. This AI Companion is powered by multiple models, including Meta Llama 2.\n",
      "Reuters reported in 2024 that many Chinese foundation models relied on Llama models for their training.\n",
      "\n",
      "\n",
      "=== llama.cpp ===\n",
      "\n",
      "Software developer Georgi Gerganov released llama.cpp as open-source on March 10, 2023. It's a re-implementation of LLaMA in C++, allowing systems without a powerful GPU to run the model locally. The llama.cpp project introduced the GGUF file format, a binary format that stores both tensors and metadata. The format focuses on supporting different quantization types, which can reduce memory usage, and increase speed at the expense of lower model precision.\n",
      "llamafile created by Justine Tunney is an open-source tool that bundles llama.cpp with the model into a single executable file. Tunney et al. introduced new optimized matrix multiplication kernels for x86 and ARM CPUs, improving prompt evaluation performance for FP16 and 8-bit quantized data types.\n",
      "\n",
      "\n",
      "=== Military ===\n",
      "In 2024, researchers from the People's Liberation Army Academy of Military Sciences (top military academy of China) were reported to have developed a military tool using Llama, which Meta Platforms stated was unauthorized due to Llama's license prohibiting the use of the model for military\n",
      "Score\t 0.5905217700169235\n",
      "-_-_-_-_-_-_-_-_-_-_-_-_-_-_-_-_-_-_-_-_\n",
      "Node ID\t 1dbd230e-ede9-4255-b16b-4ae273a20fea\n",
      "Text\t at the expense of lower model precision.\n",
      "llamafile created by Justine Tunney is an open-source tool that bundles llama.cpp with the model into a single executable file. Tunney et al. introduced new optimized matrix multiplication kernels for x86 and ARM CPUs, improving prompt evaluation performance for FP16 and 8-bit quantized data types.\n",
      "\n",
      "\n",
      "=== Military ===\n",
      "In 2024, researchers from the People's Liberation Army Academy of Military Sciences (top military academy of China) were reported to have developed a military tool using Llama, which Meta Platforms stated was unauthorized due to Llama's license prohibiting the use of the model for military purposes. Meta granted the US government and US military contractors permission to use Llama in November 2024, but continued to prohibit military use by non-US entities.\n",
      "\n",
      "\n",
      "== Reception ==\n",
      "Wired describes the 8B parameter version of Llama 3 as being \"surprisingly capable\" given its size.\n",
      "The response to Meta's integration of Llama into Facebook was mixed, with some users confused after Meta AI told a parental group that it had a child.\n",
      "According to the Q4 2023 Earnings transcript, Meta adopted the strategy of open weights to improve on model safety, iteration speed, increase adoption among developers and researchers, and to become the industry standard. Llama 5, 6, and 7 are planned for the future.\n",
      "The release of Llama models has sparked significant debates on the benefits and misuse risks of open weight models. Such models can be fine-tuned to remove safeguards, notably by cyber criminals, until they comply with harmful requests. Some experts contend that future models may facilitate causing damage more than defending against it, for example by making it relatively easy to engineer advanced bioweapons without specialized knowledge. Conversely, open-weight models can be useful for a wide variety of purposes, including for safety research.\n",
      "Open Source Initiative head Stefano Maffulli criticized Meta for describing Llama as open source, saying that it was causing confusion among users and \"polluting\" the term.\n",
      "\n",
      "\n",
      "== See also ==\n",
      "GPT-4o\n",
      "IBM Granite, an open-source LLM made by IBM\n",
      "Mistral AI, a French open-source AI company\n",
      "\n",
      "\n",
      "== References ==\n",
      "\n",
      "\n",
      "== Further reading ==\n",
      "\n",
      "\n",
      "== External links ==\n",
      "Official website \n",
      "Official Hugging Face organization for Llama, Llama Guard, and Prompt Guard models\n",
      "\n",
      "Title: Claude AI\n",
      "\n",
      "\n",
      "Title:\n",
      "Score\t 0.5846184704975806\n",
      "-_-_-_-_-_-_-_-_-_-_-_-_-_-_-_-_-_-_-_-_\n"
     ]
    }
   ],
   "source": [
    "for src in res.source_nodes:\n",
    "    print(\"Node ID\\t\", src.node_id)\n",
    "    print(\"Text\\t\", src.text)\n",
    "    print(\"Score\\t\", src.score)\n",
    "    print(\"-_\" * 20)"
   ]
  },
  {
   "cell_type": "code",
   "execution_count": 15,
   "metadata": {
    "colab": {
     "base_uri": "https://localhost:8080/"
    },
    "id": "nvqkYeF9V_Md",
    "outputId": "015b5fa9-2e09-42d3-c3db-c510039e0fe3"
   },
   "outputs": [
    {
     "name": "stdout",
     "output_type": "stream",
     "text": [
      "Parameter-efficient fine-tuning methods aim to optimize the training of large language models while significantly reducing computational costs and resource requirements. These methods allow for adjustments to model weights without needing to change every parameter, which is particularly useful for working with extensive pre-trained models. \n",
      "\n",
      "There are three main approaches to parameter-efficient fine-tuning:\n",
      "\n",
      "1. **Selective Fine-Tuning**: This approach involves choosing a subset of the model's parameters to fine-tune, allowing for targeted adjustments while keeping the majority of the model's weights unchanged.\n",
      "\n",
      "2. **Reparameterization**: Techniques like Low Rank Adaptation (LoRA) fall into this category. LoRA approximates the original weight matrices using smaller matrices, reducing the total number of trainable parameters. For instance, a weight matrix can be decomposed into two smaller matrices, significantly lowering the parameter count while still maintaining model performance.\n",
      "\n",
      "3. **Additive Approaches**: These methods entail adding new, small, trainable layers or modules to the existing model. Examples include:\n",
      "   - **Adapter Modules**: Small neural network modules are added to particular layers, enabling the model to learn new tasks without altering its foundational knowledge too much.\n",
      "   - **Prompt Tuning**: This method does not modify the model architecture; instead, it focuses on constructing specific prompts to guide the model’s behavior for different tasks.\n",
      "\n",
      "These approaches collectively enhance the flexibility and efficiency of fine-tuning large language models while minimizing the computational burden typically associated with full model fine-tuning.\n"
     ]
    }
   ],
   "source": [
    "res = query_engine.query(\"Explain parameter-efficient finetuning methods\")\n",
    "print(res.response)"
   ]
  },
  {
   "cell_type": "code",
   "execution_count": 16,
   "metadata": {
    "colab": {
     "base_uri": "https://localhost:8080/"
    },
    "id": "yNKJdJhzV_Md",
    "outputId": "e45b50d4-6eee-4ed8-ba28-ec337b41f8ce"
   },
   "outputs": [
    {
     "name": "stdout",
     "output_type": "stream",
     "text": [
      "Node ID\t 6be88fa3-2f8b-43e7-aba0-d874b39809fc\n",
      "Text\t # FourierFT: Discrete Fourier Transformation Fine-Tuning[FourierFT](https://huggingface.co/papers/2405.03003) is a parameter-efficient fine-tuning technique that leverages Discrete Fourier Transform to compress the model's tunable weights. This method outperforms LoRA in the GLUE benchmark and common ViT classification tasks using much less parameters.FourierFT currently has the following constraints:- Only `nn.Linear` layers are supported.- Quantized layers are not supported.If these constraints don't work for your use case, consider other methods instead.The abstract from the paper is:> Low-rank adaptation (LoRA) has recently gained much interest in fine-tuning foundation models. It effectively reduces the number of trainable parameters by incorporating low-rank matrices A and B to represent the weight change, i.e., Delta W=BA. Despite LoRA's progress, it faces storage challenges when handling extensive customization adaptations or larger base models. In this work, we aim to further compress trainable parameters by enjoying the powerful expressiveness of the Fourier transform. Specifically, we introduce FourierFT, which treats Delta W as a matrix in the spatial domain and learns only a small fraction of its spectral coefficients. With the trained spectral coefficients, we implement the inverse discrete Fourier transform to recover Delta W. Empirically, our FourierFT method shows comparable or better performance with fewer parameters than LoRA on various tasks, including natural language understanding, natural language generation, instruction tuning, and image classification. For example, when performing instruction tuning on the LLaMA2-7B model, FourierFT surpasses LoRA with only 0.064M trainable parameters, compared to LoRA's 33.5M.## FourierFTConfig[[autodoc]] tuners.fourierft.config.FourierFTConfig## FourierFTModel[[autodoc]] tuners.fourierft.model.FourierFTModel\n",
      "Score\t 0.40907517142699296\n",
      "-_-_-_-_-_-_-_-_-_-_-_-_-_-_-_-_-_-_-_-_\n",
      "Node ID\t 2b4590b8-4c9d-4d51-a81f-9a13979593a8\n",
      "Text\t SAMSUM is one of the datasets that FLAN T5 uses. There are several pre-trained FLAN T5 models that have been fine-tuned on SAMSUM  including Phil Schmid/flan-t5-base-samsum and jasonmcaffee/flan-t5-large-samsum on Hugging Face. If we want to fine-tune the FLAN T5 model specifically for formal dialogue conversations  we can do so using the DIALOGUESUM dataset.   Models fine-tuned on DialogSum can be applied to areas like customer support  meeting minutes generation  chatbot summarization  and more.   2. PEFT (Parameter efficient fine tuning)Training LLMs is computationally intensive. Full finetuning is computationally expensive as it might change each weight in the model. First  we start with a pretrained LLM like GPT-3. This model already has a vast amount of knowledge and understanding of language. Then we provide task-specific datasets  which could be data for question answering or sentiment analysis or any other customer dataset. During training  full finetuning process makes slight adjustments to every weight in the pretrained model. While the model weights are substantial  we have other important aspects during training like Optimizer  which adds up to the cost. For example  Optimizer States  gradients  forward activation  and temporary memory. These additional components add up to the training cost.   Three main approaches are used in PEFT: Selective / reparameterization/additive.   1. SelectiveHere  we select a subset of initial LLM parameters to fine-tune.   2. ReparameterizationWe reparameterize model weights using a low-rank representation. We will discuss LoRA in detail below.   LORA: Low Rank Representation:   Each layer in a transformer architecture has multiple weight matrices for different operations  like self-attention or feed-forward networks. These matrices can have different sizes depending on the specific layer and configuration. Let us take an example by picking a matrix of size 512 x 64 = 32 768 parameters. Let us now see LoRA with rank = 8.   Original Weight Matrix: Dimensions: 512 x 64  Parameters: 32 768 (512 x 64)Matrix A (Rank Decomposition):\n",
      "Score\t 0.3888911005805352\n",
      "-_-_-_-_-_-_-_-_-_-_-_-_-_-_-_-_-_-_-_-_\n",
      "Node ID\t b5152174-64c5-4a94-af55-d87c2b0e6cc3\n",
      "Text\t representation. We will discuss LoRA in detail below.   LORA: Low Rank Representation:   Each layer in a transformer architecture has multiple weight matrices for different operations  like self-attention or feed-forward networks. These matrices can have different sizes depending on the specific layer and configuration. Let us take an example by picking a matrix of size 512 x 64 = 32 768 parameters. Let us now see LoRA with rank = 8.   Original Weight Matrix: Dimensions: 512 x 64  Parameters: 32 768 (512 x 64)Matrix A (Rank Decomposition): Dimensions: 8 x 64 (rank x original dimension)  Parameters: 512 (8 x 64)Matrix B (Rank Decomposition): Dimensions: 8 x 512 (rank x original dimension)  Parameters: 4 096 (8 x 512)Total LORA Parameters: 512 (A) + 4 096 (B) = 4 608Approximation:   The original weight matrix (W) is approximated by the product of A and B:   Z  W  A * B   Reasoning Behind the Dimensions:   The dimensions of A and B are chosen to capture the essence of the original weight matrix (W) with fewer parameters.The rank (here  8) controls the trade-off between efficiency and accuracy. A lower rank leads to fewer parameters but might result in a slightly less accurate approximation.We can also create task-specific decomposition matrices.In the example we discussed  LORA achieves a reduction of approximately 86% in the number of trainable parameters needed for fine-tuning. Heres the summary.   Original Weight Matrix: 32 768 parameters (512 x 64)Total LORA Parameters: 4 608 parameters (512 + 4 096)3. AdditiveWe add trainable layers or parameters to the model in the form of adapter modules.   The two main additive approaches are:   Adapter Modules: These are small  trainable neural network modules strategically inserted into specific layers of the pre-trained LLM. They help the LLM learn task-specific information without drastically changing its underlying knowledge.Prompt Tuning: This approach doesnt involve adding any new modules to the model itself. Instead  it focuses on crafting specific prompts (essentially\n",
      "Score\t 0.3807912588437124\n",
      "-_-_-_-_-_-_-_-_-_-_-_-_-_-_-_-_-_-_-_-_\n"
     ]
    }
   ],
   "source": [
    "for src in res.source_nodes:\n",
    "    print(\"Node ID\\t\", src.node_id)\n",
    "    print(\"Text\\t\", src.text)\n",
    "    print(\"Score\\t\", src.score)\n",
    "    print(\"-_\" * 20)"
   ]
  },
  {
   "cell_type": "markdown",
   "metadata": {
    "id": "EcDZ5Dn8V_Md"
   },
   "source": [
    "# OpenAI Agent"
   ]
  },
  {
   "cell_type": "code",
   "execution_count": 17,
   "metadata": {
    "id": "8G8dyrsFV_Me"
   },
   "outputs": [],
   "source": [
    "from llama_index.agent.openai import OpenAIAgent"
   ]
  },
  {
   "cell_type": "code",
   "execution_count": 18,
   "metadata": {
    "id": "z5d0WpDeV_Me"
   },
   "outputs": [],
   "source": [
    "system_message_openai_agent = \"\"\"You are an AI teacher, answering questions from students of an applied AI course on Large Language Models (LLMs or llm) and Retrieval Augmented Generation (RAG) for LLMs. Topics covered include training models, fine-tuning models, giving memory to LLMs, prompting tips, hallucinations and bias, vector databases, transformer architectures, embeddings, RAG frameworks, Langchain, LlamaIndex, making LLMs interact with tools, AI agents, reinforcement learning with human feedback. Questions should be understood in this context.\n",
    "\n",
    "Your answers are aimed to teach students, so they should be complete, clear, and easy to understand.\n",
    "\n",
    "Use the available tools to gather insights pertinent to the field of AI. Always use two tools at the same time. These tools accept a string (a user query rewritten as a statement) and return informative content regarding the domain of AI.\n",
    "e.g:\n",
    "User question: 'How can I fine-tune an LLM?'\n",
    "Input to the tool: 'Fine-tuning an LLM'\n",
    "\n",
    "User question: How can quantize an LLM?\n",
    "Input to the tool: 'Quantization for LLMs'\n",
    "\n",
    "User question: 'Teach me how to build an AI agent\"'\n",
    "Input to the tool: 'Building an AI Agent'\n",
    "\n",
    "Only some information returned by the tools might be relevant to the question, so ignore the irrelevant part and answer the question with what you have.\n",
    "\n",
    "Your responses are exclusively based on the output provided by the tools. Refrain from incorporating information not directly obtained from the tool's responses.\n",
    "\n",
    "When the conversation deepens or shifts focus within a topic, adapt your input to the tools to reflect these nuances. This means if a user requests further elaboration on a specific aspect of a previously discussed topic, you should reformulate your input to the tool to capture this new angle or more profound layer of inquiry.\n",
    "\n",
    "Provide comprehensive answers, ideally structured in multiple paragraphs, drawing from the tool's variety of relevant details. The depth and breadth of your responses should align with the scope and specificity of the information retrieved.\n",
    "\n",
    "Should the tools repository lack information on the queried topic, politely inform the user that the question transcends the bounds of your current knowledge base, citing the absence of relevant content in the tool's documentation.\n",
    "\n",
    "At the end of your answers, always invite the students to ask deeper questions about the topic if they have any. Make sure to reformulate the question to the tool to capture this new angle or more profound layer of inquiry.\n",
    "\n",
    "Do not refer to the documentation directly, but use the information provided within it to answer questions.\n",
    "\n",
    "If code is provided in the information, share it with the students. It's important to provide complete code blocks so they can execute the code when they copy and paste them.\n",
    "\n",
    "Make sure to format your answers in Markdown format, including code blocks and snippets.\n",
    "\n",
    "Politely reject questions not related to AI, while being cautious not to reject unfamiliar terms or acronyms too quickly.\"\"\""
   ]
  },
  {
   "cell_type": "code",
   "execution_count": 19,
   "metadata": {
    "id": "C54LMqwdV_Me"
   },
   "outputs": [],
   "source": [
    "from llama_index.llms.openai import OpenAI\n",
    "\n",
    "llm = OpenAI(model=\"gpt-4o\")\n",
    "\n",
    "agent = OpenAIAgent.from_tools(\n",
    "    llm=llm,\n",
    "    tools=[ai_tutor_knowledge_tool, llm_tool],\n",
    "    system_prompt=system_message_openai_agent,\n",
    ")"
   ]
  },
  {
   "cell_type": "code",
   "execution_count": 20,
   "metadata": {
    "colab": {
     "base_uri": "https://localhost:8080/"
    },
    "id": "aKqbYIlNV_Me",
    "outputId": "fdad8ec3-0ecc-489d-8308-34610e5f7673"
   },
   "outputs": [
    {
     "name": "stdout",
     "output_type": "stream",
     "text": [
      "The LLaMA model, developed by Meta, is a large language model designed to excel in natural language processing tasks. Initially announced on February 24, 2023, LLaMA was created to outperform larger models like GPT-3, despite having fewer parameters. The model's architecture was designed to be efficient across various hardware setups, making it accessible for a wide range of applications.\n",
      "\n",
      "LLaMA's initial version featured 13 billion parameters and was trained on a diverse dataset of 1.4 trillion tokens sourced from public information, including CommonCrawl, GitHub, and Wikipedia. This training approach allowed LLaMA to achieve significant performance on NLP benchmarks. However, access to its model weights was initially restricted, granted only to select researchers and organizations. A notable event in its history was the leak of its weights on March 3, 2023, which led Meta to file DMCA takedown requests against unauthorized distributions.\n",
      "\n",
      "Following the initial release, Meta introduced LLaMA 2 on July 18, 2023, in collaboration with Microsoft. This version included several improvements, such as training on a larger dataset of 2 trillion tokens and offering models in three sizes: 7, 13, and 70 billion parameters. LLaMA 2 was made available for commercial use, marking a significant advancement from its predecessor. It also incorporated fine-tuning based on human feedback and introduced a \"Ghost attention\" technique to enhance multi-turn dialogue consistency, ensuring that user instructions are respected throughout conversations.\n",
      "\n",
      "If you have more questions about LLaMA or its applications, feel free to ask!\n"
     ]
    }
   ],
   "source": [
    "response = agent.chat(\"What is the LLama model?\")\n",
    "print(response.response)"
   ]
  },
  {
   "cell_type": "code",
   "execution_count": 21,
   "metadata": {
    "colab": {
     "base_uri": "https://localhost:8080/"
    },
    "id": "WqGWXuPDV_Me",
    "outputId": "1f5aba50-b37e-4933-a6c9-d195475c869a"
   },
   "outputs": [
    {
     "name": "stdout",
     "output_type": "stream",
     "text": [
      "Parameter-efficient fine-tuning methods for large language models (LLMs) are designed to adapt models to specific tasks without the need to retrain the entire model, thereby saving computational resources and time. Here are some techniques used in this context:\n",
      "\n",
      "1. **Supervised Fine-Tuning with Autoregressive Loss**: This method involves fine-tuning the model using a loss function that predicts the next token in a sequence, given the previous tokens. This approach helps tailor the model's behavior to specific user inputs while maintaining the context length within specified limits. It is particularly useful for tasks where the sequence prediction is crucial.\n",
      "\n",
      "2. **Rejection Sampling**: This technique is used during the fine-tuning process to improve the quality of the generated outputs. By sampling multiple outputs and selecting the best one according to a predefined criterion, the model can be fine-tuned more effectively without altering a large number of parameters.\n",
      "\n",
      "3. **Reinforcement Learning from Human Feedback (RLHF)**: Although not exclusively a parameter-efficient method, RLHF is often used in conjunction with other techniques to refine model outputs based on human feedback. This approach helps align the model's behavior with human expectations and can be integrated into the fine-tuning process to enhance performance without extensive parameter updates.\n",
      "\n",
      "These methods collectively aim to optimize the fine-tuning process by focusing on specific parts of the model or using innovative sampling techniques, thereby reducing the need for extensive parameter adjustments. If you have more questions about these techniques or their applications, feel free to ask!\n"
     ]
    }
   ],
   "source": [
    "response = agent.chat(\"Explain parameter-efficient finetuning methods\")\n",
    "print(response.response)"
   ]
  },
  {
   "cell_type": "code",
   "execution_count": 22,
   "metadata": {
    "colab": {
     "base_uri": "https://localhost:8080/"
    },
    "id": "TSPTAruzV_Me",
    "outputId": "8c128c97-272f-470e-c34a-1cb22890ec35"
   },
   "outputs": [
    {
     "name": "stdout",
     "output_type": "stream",
     "text": [
      "I'm here to assist with questions related to AI and large language models. If you have any questions about those topics, feel free to ask!\n"
     ]
    }
   ],
   "source": [
    "response = agent.chat(\"Write the recipe for a chocolate cake.\")\n",
    "print(response.response)"
   ]
  },
  {
   "cell_type": "markdown",
   "metadata": {
    "id": "fWb1I1WvV_Mf"
   },
   "source": [
    "# Code related questions to GPT-4o, the remaining questions to Gemini"
   ]
  },
  {
   "cell_type": "code",
   "execution_count": 29,
   "metadata": {
    "id": "tY82urjtV_Mf"
   },
   "outputs": [],
   "source": [
    "from llama_index.agent.openai import OpenAIAgent\n",
    "from llama_index.llms.openai import OpenAI\n",
    "from llama_index.llms.gemini import Gemini\n",
    "from llama_index.core.query_engine import RouterQueryEngine\n",
    "from llama_index.core.selectors import PydanticSingleSelector\n",
    "from llama_index.core.tools import QueryEngineTool\n",
    "\n",
    "# initialize LLMs\n",
    "gpt_4o_llm = OpenAI(model=\"gpt-4o\")\n",
    "gemini_llm = Gemini(model=\"models/gemini-1.5-flash\", temperature=1, max_tokens=512)\n",
    "\n",
    "# define query engines\n",
    "llm_query_engine_code = vector_index.as_query_engine(\n",
    "    llm=gpt_4o_llm,\n",
    "    similarity_top_k=3,\n",
    "    embed_model=OpenAIEmbedding(model=\"text-embedding-3-small\", mode=\"text_search\"),\n",
    ")\n",
    "\n",
    "llm_query_engine_rest = vector_index.as_query_engine(\n",
    "    llm=gemini_llm,\n",
    "    similarity_top_k=3,\n",
    "    embed_model=OpenAIEmbedding(model=\"text-embedding-3-small\", mode=\"text_search\"),\n",
    ")\n",
    "\n",
    "# define tools for LLM\n",
    "llm_tool_code = QueryEngineTool.from_defaults(\n",
    "    query_engine=llm_query_engine_code,\n",
    "    description=\"Ideal for handling code-related queries, technical implementations, and troubleshooting involving Large Language Models.\",\n",
    "    name=\"LLMCodeTool\",\n",
    ")\n",
    "\n",
    "llm_tool_rest = QueryEngineTool.from_defaults(\n",
    "    query_engine=llm_query_engine_rest,\n",
    "    description=\"Best suited for answering conceptual, theoretical, and general questions about Large Language Models.\",\n",
    "    name=\"LLMGeneralTool\",\n",
    "\n",
    ")\n",
    "\n",
    "\n",
    "system_message_openai_agent_tools = \"\"\"\n",
    "You are a highly knowledgeable assistant specialized in Large Language Models. Your primary role is to assist users by providing accurate, detailed, and context-specific responses. You have access to two specialized tools:\n",
    "\n",
    "1. **LLMCodeTool** – Use this tool when the query involves code-related tasks, technical implementations, debugging, or troubleshooting issues in code.\n",
    "2. **LLMGeneralTool** – Use this tool for answering conceptual, theoretical, or general questions about Large Language Models that do not involve code specifics.\n",
    "\n",
    "When a query is received:\n",
    "- First, decide which tool best fits the user's request.\n",
    "- If the question is technical or code-oriented, route the query to LLMCodeTool.\n",
    "- If the question is more general or conceptual, route the query to LLMGeneralTool.\n",
    "- If the query does not clearly fall into either category, provide a direct answer using your own capabilities.\n",
    "\n",
    "Always ensure your responses are clear, concise, and directly address the user’s needs. Maintain a professional tone and provide detailed explanations where necessary.\n",
    "\"\"\"\n",
    "\n",
    "# Initialize OpenAIAgent with the system message and the router query engine\n",
    "agent = OpenAIAgent.from_tools(\n",
    "    llm=gpt_4o_llm,  # The base LLM, used only if no other tools apply\n",
    "    tools=[llm_tool_code, llm_tool_rest],\n",
    "    system_prompt=system_message_openai_agent_tools,\n",
    "    # verbose = True, # Enable detailed output for debugging and better traceability\n",
    ")"
   ]
  },
  {
   "cell_type": "code",
   "execution_count": 30,
   "metadata": {
    "colab": {
     "base_uri": "https://localhost:8080/"
    },
    "id": "h3NMpGxYV_Mf",
    "outputId": "931a9929-d9ab-45b3-866f-97f7c8f160f5"
   },
   "outputs": [
    {
     "name": "stdout",
     "output_type": "stream",
     "text": [
      "LLMCodeTool\n"
     ]
    }
   ],
   "source": [
    "# Test the agent with a code-related question\n",
    "response = agent.chat(\"How do I fine-tune the LLama model? Write the code for it.\")\n",
    "for source in response.sources:\n",
    "    print(source.tool_name)"
   ]
  },
  {
   "cell_type": "code",
   "execution_count": 31,
   "metadata": {
    "colab": {
     "base_uri": "https://localhost:8080/",
     "height": 34
    },
    "id": "ysB0X7D5V_Mf",
    "outputId": "9128df4e-6130-4ed8-cb4a-39386e60701e"
   },
   "outputs": [
    {
     "name": "stdout",
     "output_type": "stream",
     "text": [
      "LLMGeneralTool\n"
     ]
    }
   ],
   "source": [
    "# Test the agent with a Non code-related question\n",
    "response1 = agent.chat(\"What is the relationship between Llama models and Meta\")\n",
    "for source in response1.sources:\n",
    "    print(source.tool_name)"
   ]
  },
  {
   "cell_type": "code",
   "execution_count": 25,
   "metadata": {
    "id": "pdYfpsHg60MJ"
   },
   "outputs": [],
   "source": []
  },
  {
   "cell_type": "code",
   "execution_count": 25,
   "metadata": {
    "id": "auAUou4DQ5nT"
   },
   "outputs": [],
   "source": []
  }
 ],
 "metadata": {
  "colab": {
   "provenance": []
  },
  "kernelspec": {
   "display_name": "llamaindexkernel",
   "language": "python",
   "name": "llamaindexkernel"
  },
  "language_info": {
   "codemirror_mode": {
    "name": "ipython",
    "version": 3
   },
   "file_extension": ".py",
   "mimetype": "text/x-python",
   "name": "python",
   "nbconvert_exporter": "python",
   "pygments_lexer": "ipython3",
   "version": "3.11.4"
  }
 },
 "nbformat": 4,
 "nbformat_minor": 0
}
