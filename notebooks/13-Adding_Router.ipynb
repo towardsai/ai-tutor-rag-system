{
 "cells": [
  {
   "cell_type": "markdown",
   "metadata": {
    "id": "E9bwHds5HcCK"
   },
   "source": [
    "<a href=\"https://colab.research.google.com/github/towardsai/ai-tutor-rag-system/blob/main/notebooks/13-Adding_Router.ipynb\" target=\"_parent\"><img src=\"https://colab.research.google.com/assets/colab-badge.svg\" alt=\"Open In Colab\"/></a>"
   ]
  },
  {
   "cell_type": "markdown",
   "metadata": {
    "id": "-zE1h0uQV7uT"
   },
   "source": [
    "## Install Packages and Setup Variables\n"
   ]
  },
  {
   "cell_type": "code",
   "execution_count": null,
   "metadata": {
    "colab": {
     "base_uri": "https://localhost:8080/"
    },
    "id": "7l11WXC-CSNw",
    "outputId": "b7ded023-afdc-4ece-daea-f7c86b437b70"
   },
   "outputs": [
    {
     "name": "stdout",
     "output_type": "stream",
     "text": [
      "\u001b[?25l     \u001b[90m━━━━━━━━━━━━━━━━━━━━━━━━━━━━━━━━━━━━━━━━\u001b[0m \u001b[32m0.0/67.3 kB\u001b[0m \u001b[31m?\u001b[0m eta \u001b[36m-:--:--\u001b[0m\r",
      "\u001b[2K     \u001b[90m━━━━━━━━━━━━━━━━━━━━━━━━━━━━━━━━━━━━━━━━\u001b[0m \u001b[32m67.3/67.3 kB\u001b[0m \u001b[31m1.9 MB/s\u001b[0m eta \u001b[36m0:00:00\u001b[0m\n",
      "\u001b[?25h  Installing build dependencies ... \u001b[?25l\u001b[?25hdone\n",
      "  Getting requirements to build wheel ... \u001b[?25l\u001b[?25hdone\n",
      "  Preparing metadata (pyproject.toml) ... \u001b[?25l\u001b[?25hdone\n",
      "\u001b[2K   \u001b[90m━━━━━━━━━━━━━━━━━━━━━━━━━━━━━━━━━━━━━━━━\u001b[0m \u001b[32m295.4/295.4 kB\u001b[0m \u001b[31m6.7 MB/s\u001b[0m eta \u001b[36m0:00:00\u001b[0m\n",
      "\u001b[2K   \u001b[90m━━━━━━━━━━━━━━━━━━━━━━━━━━━━━━━━━━━━━━━━\u001b[0m \u001b[32m1.6/1.6 MB\u001b[0m \u001b[31m25.6 MB/s\u001b[0m eta \u001b[36m0:00:00\u001b[0m\n",
      "\u001b[2K   \u001b[90m━━━━━━━━━━━━━━━━━━━━━━━━━━━━━━━━━━━━━━━━\u001b[0m \u001b[32m19.8/19.8 MB\u001b[0m \u001b[31m74.5 MB/s\u001b[0m eta \u001b[36m0:00:00\u001b[0m\n",
      "\u001b[2K   \u001b[90m━━━━━━━━━━━━━━━━━━━━━━━━━━━━━━━━━━━━━━━━\u001b[0m \u001b[32m284.2/284.2 kB\u001b[0m \u001b[31m17.1 MB/s\u001b[0m eta \u001b[36m0:00:00\u001b[0m\n",
      "\u001b[2K   \u001b[90m━━━━━━━━━━━━━━━━━━━━━━━━━━━━━━━━━━━━━━━━\u001b[0m \u001b[32m3.5/3.5 MB\u001b[0m \u001b[31m84.1 MB/s\u001b[0m eta \u001b[36m0:00:00\u001b[0m\n",
      "\u001b[2K   \u001b[90m━━━━━━━━━━━━━━━━━━━━━━━━━━━━━━━━━━━━━━━━\u001b[0m \u001b[32m1.9/1.9 MB\u001b[0m \u001b[31m52.8 MB/s\u001b[0m eta \u001b[36m0:00:00\u001b[0m\n",
      "\u001b[2K   \u001b[90m━━━━━━━━━━━━━━━━━━━━━━━━━━━━━━━━━━━━━━━━\u001b[0m \u001b[32m11.9/11.9 MB\u001b[0m \u001b[31m84.1 MB/s\u001b[0m eta \u001b[36m0:00:00\u001b[0m\n",
      "\u001b[2K   \u001b[90m━━━━━━━━━━━━━━━━━━━━━━━━━━━━━━━━━━━━━━━━\u001b[0m \u001b[32m303.3/303.3 kB\u001b[0m \u001b[31m19.5 MB/s\u001b[0m eta \u001b[36m0:00:00\u001b[0m\n",
      "\u001b[2K   \u001b[90m━━━━━━━━━━━━━━━━━━━━━━━━━━━━━━━━━━━━━━━━\u001b[0m \u001b[32m51.8/51.8 kB\u001b[0m \u001b[31m3.3 MB/s\u001b[0m eta \u001b[36m0:00:00\u001b[0m\n",
      "\u001b[2K   \u001b[90m━━━━━━━━━━━━━━━━━━━━━━━━━━━━━━━━━━━━━━━━\u001b[0m \u001b[32m103.3/103.3 kB\u001b[0m \u001b[31m6.3 MB/s\u001b[0m eta \u001b[36m0:00:00\u001b[0m\n",
      "\u001b[2K   \u001b[90m━━━━━━━━━━━━━━━━━━━━━━━━━━━━━━━━━━━━━━━━\u001b[0m \u001b[32m16.5/16.5 MB\u001b[0m \u001b[31m76.7 MB/s\u001b[0m eta \u001b[36m0:00:00\u001b[0m\n",
      "\u001b[2K   \u001b[90m━━━━━━━━━━━━━━━━━━━━━━━━━━━━━━━━━━━━━━━━\u001b[0m \u001b[32m72.5/72.5 kB\u001b[0m \u001b[31m4.5 MB/s\u001b[0m eta \u001b[36m0:00:00\u001b[0m\n",
      "\u001b[2K   \u001b[90m━━━━━━━━━━━━━━━━━━━━━━━━━━━━━━━━━━━━━━━━\u001b[0m \u001b[32m131.9/131.9 kB\u001b[0m \u001b[31m9.0 MB/s\u001b[0m eta \u001b[36m0:00:00\u001b[0m\n",
      "\u001b[2K   \u001b[90m━━━━━━━━━━━━━━━━━━━━━━━━━━━━━━━━━━━━━━━━\u001b[0m \u001b[32m65.7/65.7 kB\u001b[0m \u001b[31m3.7 MB/s\u001b[0m eta \u001b[36m0:00:00\u001b[0m\n",
      "\u001b[2K   \u001b[90m━━━━━━━━━━━━━━━━━━━━━━━━━━━━━━━━━━━━━━━━\u001b[0m \u001b[32m208.0/208.0 kB\u001b[0m \u001b[31m15.5 MB/s\u001b[0m eta \u001b[36m0:00:00\u001b[0m\n",
      "\u001b[2K   \u001b[90m━━━━━━━━━━━━━━━━━━━━━━━━━━━━━━━━━━━━━━━━\u001b[0m \u001b[32m105.4/105.4 kB\u001b[0m \u001b[31m8.0 MB/s\u001b[0m eta \u001b[36m0:00:00\u001b[0m\n",
      "\u001b[2K   \u001b[90m━━━━━━━━━━━━━━━━━━━━━━━━━━━━━━━━━━━━━━━━\u001b[0m \u001b[32m71.6/71.6 kB\u001b[0m \u001b[31m4.7 MB/s\u001b[0m eta \u001b[36m0:00:00\u001b[0m\n",
      "\u001b[2K   \u001b[90m━━━━━━━━━━━━━━━━━━━━━━━━━━━━━━━━━━━━━━━━\u001b[0m \u001b[32m510.8/510.8 kB\u001b[0m \u001b[31m29.6 MB/s\u001b[0m eta \u001b[36m0:00:00\u001b[0m\n",
      "\u001b[2K   \u001b[90m━━━━━━━━━━━━━━━━━━━━━━━━━━━━━━━━━━━━━━━━\u001b[0m \u001b[32m56.1/56.1 kB\u001b[0m \u001b[31m3.8 MB/s\u001b[0m eta \u001b[36m0:00:00\u001b[0m\n",
      "\u001b[2K   \u001b[90m━━━━━━━━━━━━━━━━━━━━━━━━━━━━━━━━━━━━━━━━\u001b[0m \u001b[32m63.9/63.9 kB\u001b[0m \u001b[31m4.8 MB/s\u001b[0m eta \u001b[36m0:00:00\u001b[0m\n",
      "\u001b[2K   \u001b[90m━━━━━━━━━━━━━━━━━━━━━━━━━━━━━━━━━━━━━━━━\u001b[0m \u001b[32m310.5/310.5 kB\u001b[0m \u001b[31m21.9 MB/s\u001b[0m eta \u001b[36m0:00:00\u001b[0m\n",
      "\u001b[2K   \u001b[90m━━━━━━━━━━━━━━━━━━━━━━━━━━━━━━━━━━━━━━━━\u001b[0m \u001b[32m4.7/4.7 MB\u001b[0m \u001b[31m80.2 MB/s\u001b[0m eta \u001b[36m0:00:00\u001b[0m\n",
      "\u001b[2K   \u001b[90m━━━━━━━━━━━━━━━━━━━━━━━━━━━━━━━━━━━━━━━━\u001b[0m \u001b[32m452.2/452.2 kB\u001b[0m \u001b[31m25.1 MB/s\u001b[0m eta \u001b[36m0:00:00\u001b[0m\n",
      "\u001b[2K   \u001b[90m━━━━━━━━━━━━━━━━━━━━━━━━━━━━━━━━━━━━━━━━\u001b[0m \u001b[32m46.0/46.0 kB\u001b[0m \u001b[31m2.9 MB/s\u001b[0m eta \u001b[36m0:00:00\u001b[0m\n",
      "\u001b[2K   \u001b[90m━━━━━━━━━━━━━━━━━━━━━━━━━━━━━━━━━━━━━━━━\u001b[0m \u001b[32m86.8/86.8 kB\u001b[0m \u001b[31m5.7 MB/s\u001b[0m eta \u001b[36m0:00:00\u001b[0m\n",
      "\u001b[2K   \u001b[90m━━━━━━━━━━━━━━━━━━━━━━━━━━━━━━━━━━━━━━━━\u001b[0m \u001b[32m50.9/50.9 kB\u001b[0m \u001b[31m3.3 MB/s\u001b[0m eta \u001b[36m0:00:00\u001b[0m\n",
      "\u001b[2K   \u001b[90m━━━━━━━━━━━━━━━━━━━━━━━━━━━━━━━━━━━━━━━━\u001b[0m \u001b[32m144.4/144.4 kB\u001b[0m \u001b[31m9.6 MB/s\u001b[0m eta \u001b[36m0:00:00\u001b[0m\n",
      "\u001b[?25h  Building wheel for pypika (pyproject.toml) ... \u001b[?25l\u001b[?25hdone\n"
     ]
    }
   ],
   "source": [
    "!pip install -qU llama-index==0.14.0 llama-index-llms-openai==0.5.6 openai==1.107.0 cohere==5.18.0 jedi==0.19.2 \\\n",
    "                 llama-index-llms-google-genai==0.5.0 chromadb==1.0.21 llama-index-vector-stores-chroma==0.5.3"
   ]
  },
  {
   "cell_type": "code",
   "execution_count": null,
   "metadata": {
    "id": "riuXwpSPcvWC"
   },
   "outputs": [],
   "source": [
    "import os\n",
    "\n",
    "# Set the following API Keys in the Python environment. Will be used later.\n",
    "# os.environ[\"OPENAI_API_KEY\"] = \"<YOUR_OPENAI_API_KEY>\"\n",
    "# os.environ[\"GOOGLE_API_KEY\"] = \"<YOUR_GOOGLE_API_KEY>\"\n",
    "\n",
    "from google.colab import userdata\n",
    "os.environ[\"OPENAI_API_KEY\"] = userdata.get('OPENAI_API_KEY')\n",
    "os.environ[\"GOOGLE_API_KEY\"] = userdata.get('Google_api_key')"
   ]
  },
  {
   "cell_type": "code",
   "execution_count": null,
   "metadata": {
    "id": "jIEeZzqLbz0J"
   },
   "outputs": [],
   "source": [
    "# Allows running asyncio in environments with an existing event loop, like Jupyter notebooks.\n",
    "import nest_asyncio\n",
    "\n",
    "nest_asyncio.apply()"
   ]
  },
  {
   "cell_type": "markdown",
   "metadata": {
    "id": "Bkgi2OrYzF7q"
   },
   "source": [
    "# Load a Model\n"
   ]
  },
  {
   "cell_type": "code",
   "execution_count": null,
   "metadata": {
    "id": "9oGT6crooSSj"
   },
   "outputs": [],
   "source": [
    "from llama_index.embeddings.openai import OpenAIEmbedding\n",
    "from llama_index.llms.openai import OpenAI\n",
    "from llama_index.core import Settings\n",
    "\n",
    "Settings.llm = OpenAI(model=\"gpt-5-mini\", additional_kwargs={'reasoning_effort':'minimal'})\n",
    "Settings.embed_model = OpenAIEmbedding(model=\"text-embedding-3-small\")"
   ]
  },
  {
   "cell_type": "markdown",
   "metadata": {
    "id": "OWaT6rL7ksp8"
   },
   "source": [
    "# Load Indexes\n"
   ]
  },
  {
   "cell_type": "code",
   "execution_count": null,
   "metadata": {
    "colab": {
     "base_uri": "https://localhost:8080/",
     "height": 49,
     "referenced_widgets": [
      "74f9242d4c694c538cf0728c4dd54ed5",
      "b891e999222a4bb9885366f4ab32b3e6",
      "ba2e68abc38d49f783f303af148f5add",
      "e72581880f0d45178dd1b61d3a923bb0",
      "a2716b474d564b0885d4e1e14de6d572",
      "88d35c94c5064341bdf9bd7ba711d567",
      "358cb5911ded4fa38c1bd420eb26913b",
      "3e514d59a7404aedb917b6099d113000",
      "1e757102772640a98126822ce55e6e90",
      "8bf231c37b224145b014610d019b0163",
      "e73851074a464069a4ac4d17ec374a45"
     ]
    },
    "id": "qyuq48p_4KWu",
    "outputId": "2102ec54-40e0-4f23-8d1f-6832b5ef2007"
   },
   "outputs": [
    {
     "data": {
      "application/vnd.jupyter.widget-view+json": {
       "model_id": "74f9242d4c694c538cf0728c4dd54ed5",
       "version_major": 2,
       "version_minor": 0
      },
      "text/plain": [
       "vectorstore.zip:   0%|          | 0.00/97.2M [00:00<?, ?B/s]"
      ]
     },
     "metadata": {},
     "output_type": "display_data"
    }
   ],
   "source": [
    "# Downloading Vector store from Hugging face hub\n",
    "from huggingface_hub import hf_hub_download\n",
    "\n",
    "vectorstore = hf_hub_download(repo_id=\"jaiganesan/ai_tutor_knowledge\", filename=\"vectorstore.zip\", repo_type=\"dataset\", local_dir=\".\")"
   ]
  },
  {
   "cell_type": "code",
   "execution_count": null,
   "metadata": {
    "colab": {
     "base_uri": "https://localhost:8080/"
    },
    "id": "SodY2Xpf_kxg",
    "outputId": "14344b85-650e-4f52-da2c-5dac6c73e3a5"
   },
   "outputs": [
    {
     "name": "stdout",
     "output_type": "stream",
     "text": [
      "Archive:  vectorstore.zip\n",
      "   creating: ai_tutor_knowledge/\n",
      "   creating: ai_tutor_knowledge/684af133-f877-4230-bde4-575cf53b6688/\n",
      "  inflating: ai_tutor_knowledge/684af133-f877-4230-bde4-575cf53b6688/length.bin  \n",
      "  inflating: ai_tutor_knowledge/684af133-f877-4230-bde4-575cf53b6688/index_metadata.pickle  \n",
      "  inflating: ai_tutor_knowledge/684af133-f877-4230-bde4-575cf53b6688/link_lists.bin  \n",
      "  inflating: ai_tutor_knowledge/684af133-f877-4230-bde4-575cf53b6688/header.bin  \n",
      "  inflating: ai_tutor_knowledge/684af133-f877-4230-bde4-575cf53b6688/data_level0.bin  \n",
      "  inflating: ai_tutor_knowledge/chroma.sqlite3  \n"
     ]
    }
   ],
   "source": [
    "!unzip vectorstore.zip"
   ]
  },
  {
   "cell_type": "code",
   "execution_count": null,
   "metadata": {
    "id": "mXi56KTXk2sp"
   },
   "outputs": [],
   "source": [
    "import chromadb\n",
    "from llama_index.vector_stores.chroma import ChromaVectorStore\n",
    "from llama_index.core import VectorStoreIndex\n",
    "\n",
    "# Create your index\n",
    "db = chromadb.PersistentClient(path=\"./ai_tutor_knowledge\")\n",
    "chroma_collection = db.get_or_create_collection(\"ai_tutor_knowledge\")\n",
    "vector_store = ChromaVectorStore(chroma_collection=chroma_collection)\n",
    "vector_index = VectorStoreIndex.from_vector_store(vector_store)"
   ]
  },
  {
   "cell_type": "code",
   "execution_count": null,
   "metadata": {
    "colab": {
     "base_uri": "https://localhost:8080/"
    },
    "id": "lgpzgnHFV_MH",
    "outputId": "37a57f8e-9dcb-4838-f2e3-46eaec460737"
   },
   "outputs": [
    {
     "name": "stdout",
     "output_type": "stream",
     "text": [
      "Retrieval-Augmented Generation (RAG) is a hybrid approach that augments a generative large language model with retrieved external knowledge to improve factuality, currency, and domain-specific accuracy. The process has two main interacting components—Retrieval and Generation—and typically follows several ordered processing steps:\n",
      "\n",
      "1. Query classification\n",
      "   - Decide whether the input/query requires retrieval (e.g., is external knowledge needed) or can be handled directly by the LLM.\n",
      "\n",
      "2. Retrieval (Indexing and Searching)\n",
      "   - Index external documents for efficient access (sparse inverted indexes or dense vector encodings).\n",
      "   - Search the index to fetch documents or document chunks relevant to the query.\n",
      "\n",
      "3. Reranking\n",
      "   - Optionally re-order the retrieved results using a reranker to prioritize the most relevant evidence.\n",
      "\n",
      "4. Repacking (Organization)\n",
      "   - Organize and assemble the selected retrieved materials into a structured context (e.g., concatenating, chunking or otherwise packaging documents) suitable for the generator.\n",
      "\n",
      "5. Summarization (Condensing)\n",
      "   - Extract or compress key information from the repacked content to reduce redundancy and present salient facts to the generator.\n",
      "\n",
      "6. Generation (Prompting and Inference)\n",
      "   - Provide the LLM with the query plus the prepared retrieved context and use prompting strategies (e.g., Chain of Thought, Tree of Thought, rephrase-and-respond) to guide reasoning and produce the final response.\n",
      "   - The LLM integrates the retrieved evidence during inference without needing further finetuning of model weights.\n",
      "\n",
      "7. Post-processing (optional)\n",
      "   - Format outputs or extract structured items (e.g., entities, classifications) for downstream tasks.\n",
      "\n",
      "Key implementation choices that affect RAG performance include how documents are split into chunks, what type of embeddings are used for semantic representation, and whether retrieval is performed adaptively per turn (gating) to avoid unnecessary retrievals. RAG enables rapid domain-specific deployment by updating or supplying relevant documents rather than retraining the LLM.\n"
     ]
    }
   ],
   "source": [
    "# Query Engine\n",
    "ai_tutor_knowledge_query_engine = vector_index.as_query_engine(similarity_top_k=3)\n",
    "\n",
    "res = ai_tutor_knowledge_query_engine.query(\"How does Retrieval Augmented Generation (RAG) work?\")\n",
    "print(res.response)"
   ]
  },
  {
   "cell_type": "code",
   "execution_count": null,
   "metadata": {
    "colab": {
     "base_uri": "https://localhost:8080/"
    },
    "id": "cKN0brIPV_MJ",
    "outputId": "7f1a08d3-d2ea-4c53-ce9b-cf62a4b419e7"
   },
   "outputs": [
    {
     "name": "stdout",
     "output_type": "stream",
     "text": [
      "Node ID\t 2aa05360-f43a-4819-bce7-0acf7b897eab\n",
      "Title\t Searching for Best Practices in Retrieval-Augmented Generation:1 Introduction\n",
      "Text\t Generative large language models are prone to producing outdated information or fabricating facts, although they were aligned with human preferences by reinforcement learning [1] or lightweight alternatives [2–5]. Retrieval-augmented generation (RAG) techniques address these issues by combining the strengths of pretraining and retrieval-based models, thereby providing a robust framework for enhancing model performance [6]. Furthermore, RAG enables rapid deployment of applications for specific organizations and domains without necessitating updates to the model parameters, as long as query-related documents are provided. Many RAG approaches have been proposed to enhance large language models (LLMs) through query-dependent retrievals [6–8]. A typical RAG workflow usually contains multiple intervening processing steps: query classification (determining whether retrieval is necessary for a given input query), retrieval (efficiently obtaining relevant documents for the query), reranking (refining the order of retrieved documents based on their relevance to the query), repacking (organizing the retrieved documents into a structured one for better generation), summarization (extracting key information for response generation from the repacked document and eliminating redundancies) and models. Implementing RAG also requires decisions on the ways to properly split documents into chunks, the types of embeddings to use for semantically representing these chunks, the choice of\n",
      "Score\t 0.5989538440808492\n",
      "Metadata\t {'url': 'http://arxiv.org/pdf/2407.01219v1', 'title': 'Searching for Best Practices in Retrieval-Augmented Generation:1 Introduction', 'tokens': 263, 'source': 'Arxiv: 2407.01219', 'questions_this_excerpt_can_answer': 'Based on the provided context, here are two specific questions that can be answered:\\n\\n1. **What are the key processing steps involved in a typical retrieval-augmented generation (RAG) workflow?**\\n   - This question focuses on the specific steps mentioned in the context, such as query classification, retrieval, reranking, repacking, and summarization, which are integral to the RAG process.\\n\\n2. **How does retrieval-augmented generation (RAG) enhance the performance of large language models (LLMs)?**\\n   - This question seeks to understand the advantages of RAG techniques in improving the reliability and accuracy of information generated by LLMs, particularly in addressing issues of outdated information and fact fabrication.\\n\\nThese questions are tailored to extract detailed insights from the context that may not be readily available in other sources.', 'prev_section_summary': 'The section discusses retrieval-augmented generation (RAG) techniques, highlighting their effectiveness in integrating current information, reducing hallucinations, and improving response quality, especially in specialized fields. It notes the challenges of complex implementation and slow response times associated with many RAG approaches. The excerpt emphasizes the investigation of existing RAG methods and their combinations to identify optimal practices for balancing performance and efficiency. Additionally, it mentions the role of multimodal retrieval techniques in enhancing question-answering capabilities related to visual inputs and expediting the generation of multimodal content through a \"retrieval as generation\" strategy. Resources for further exploration are provided via a GitHub link.', 'section_summary': 'The section discusses the concept of retrieval-augmented generation (RAG) as a method to enhance the performance of generative large language models (LLMs). It highlights the challenges faced by LLMs, such as producing outdated information and fabricating facts, and explains how RAG techniques address these issues by integrating pretraining and retrieval-based models. The text outlines a typical RAG workflow, which includes several key processing steps: query classification, retrieval, reranking, repacking, and summarization. Additionally, it notes that RAG allows for the rapid deployment of applications tailored to specific organizations and domains without needing to update model parameters, provided that relevant documents are available. The section also mentions considerations for document chunking and embedding types for effective semantic representation. \\n\\nKey topics include:\\n- Retrieval-augmented generation (RAG)\\n- Large language models (LLMs)\\n- Challenges of LLMs (outdated information, fact fabrication)\\n- RAG workflow steps (query classification, retrieval, reranking, repacking, summarization)\\n- Deployment of RAG applications\\n- Document chunking and embedding types\\n\\nEntities mentioned include:\\n- Generative large language models\\n- RAG techniques\\n- Pretraining and retrieval-based models', 'excerpt_keywords': 'Keywords: retrieval-augmented generation, large language models, outdated information, fact fabrication, query classification, document retrieval, reranking, repacking, summarization, semantic representation'}\n",
      "-_-_-_-_-_-_-_-_-_-_-_-_-_-_-_-_-_-_-_-_\n",
      "Node ID\t 1c324686-fad7-4a41-bfd3-d44f9612ca91\n",
      "Title\t Evaluation of Retrieval-Augmented Generation: A Survey:Research Paper Information\n",
      "Text\t Authors: Hao Yu, Aoran Gan, Kai Zhang, Shiwei Tong, Qi Liu, and Zhaofeng Liu.Numerous studies of Retrieval-Augmented Generation (RAG) systems have emerged from various perspectives since the advent of Large Language Models (LLMs). The RAG system comprises two primary components: Retrieval and Generation. The retrieval component aims to extract relevant information from various external knowledge sources. It involves two main phases, indexing and searching. Indexing organizes documents to facilitate efficient retrieval, using either inverted indexes for sparse retrieval or dense vector encoding for dense retrieval. The searching component utilizes these indexes to fetch relevant documents based on the user's query, often incorporating the optional rerankers to refine the ranking of the retrieved documents. The generation component utilizes the retrieved content and question query to formulate coherent and contextually relevant responses with the prompting and inferencing phases. As the \"Emerging\" ability of LLMs and the breakthrough in aligning human commands, LLMs are the best performance choices model for the generation stage. Prompting methods like Chain of Thought, Tree of Thought, Rephrase and Respond guide better generation results. In the inferencing step, LLMs interpret the prompted input to generate accurate and in-depth responses that align with the query's intent and integrate the extracted information without further finetuning, such as fully finetuning or LoRA. Appendix A details the complete RAG structure. Figure 1 illustrates the structure of the RAG systems as mentioned.\n",
      "Score\t 0.581314498999064\n",
      "Metadata\t {'url': 'http://arxiv.org/pdf/2405.07437v2', 'title': 'Evaluation of Retrieval-Augmented Generation: A Survey:Research Paper Information', 'tokens': 305, 'source': 'Arxiv: 2405.07437', 'questions_this_excerpt_can_answer': '1. What are the two primary components of Retrieval-Augmented Generation (RAG) systems, and what roles do they play in the overall process?\\n\\n2. How do prompting methods like Chain of Thought and Tree of Thought contribute to the generation stage in Retrieval-Augmented Generation systems?', 'prev_section_summary': 'The excerpt discusses a survey conducted by Hao Yu and colleagues on Retrieval-Augmented Generation (RAG) systems, which have become increasingly important in natural language processing. The authors highlight the unique challenges associated with evaluating RAG systems due to their hybrid nature and dependence on dynamic knowledge sources. They aim to provide a comprehensive overview of the evaluation processes and benchmarks for RAG systems, focusing on quantifiable metrics such as relevance, accuracy, and faithfulness. The survey also critiques current benchmarks, identifying their limitations, and proposes potential directions for advancing RAG evaluation methodologies. The authors are affiliated with Tencent Company, McGill University, and the University of Science and Technology of China. The paper emphasizes the importance of RAG in enhancing generative models by reducing factual inaccuracies and improving the reliability of generated content.', 'section_summary': \"The section discusses Retrieval-Augmented Generation (RAG) systems, highlighting their two primary components: Retrieval and Generation. \\n\\n1. **Retrieval Component**: \\n   - **Purpose**: Extracts relevant information from external knowledge sources.\\n   - **Phases**: \\n     - **Indexing**: Organizes documents for efficient retrieval using inverted indexes (sparse retrieval) or dense vector encoding (dense retrieval).\\n     - **Searching**: Utilizes the indexes to fetch relevant documents based on user queries, often enhanced by rerankers to improve document ranking.\\n\\n2. **Generation Component**: \\n   - **Function**: Uses the retrieved content and user queries to generate coherent and contextually relevant responses.\\n   - **Methods**: Employs prompting techniques such as Chain of Thought and Tree of Thought to enhance generation quality. \\n   - **Inferencing**: Involves interpreting prompted input to produce accurate responses that align with the query's intent, integrating extracted information without additional fine-tuning.\\n\\nThe authors of the paper are Hao Yu, Aoran Gan, Kai Zhang, Shiwei Tong, Qi Liu, and Zhaofeng Liu, and the document is sourced from Arxiv with the identifier 2405.07437. The section emphasizes the significance of Large Language Models (LLMs) in the generation stage of RAG systems.\", 'excerpt_keywords': 'Keywords: Retrieval-Augmented Generation, RAG systems, Large Language Models, information retrieval, document indexing, prompting methods, Chain of Thought, Tree of Thought, generation component, evaluation methodologies'}\n",
      "-_-_-_-_-_-_-_-_-_-_-_-_-_-_-_-_-_-_-_-_\n",
      "Node ID\t e67de210-5d8c-4bbc-87e9-b72c66cac0dc\n",
      "Title\t Adaptive Retrieval-Augmented Generation for Conversational Systems:Abstract\n",
      "Text\t Despite the success of integrating large language models into the development of conversational systems, many studies have shown the effectiveness of retrieving and augmenting external knowledge for informative responses. Hence, many existing studies commonly assume the always need for Retrieval Augmented Generation (RAG) in a conversational system without explicit control. This raises a research question about such a necessity. In this study, we propose to investigate the need for each turn of system response to be augmented with external knowledge. In particular, by leveraging human judgements on the binary choice of adaptive augmentation, we develop RAGate, a gating model, which models conversation context and relevant inputs to predict if a conversational system requires RAG for improved responses. We conduct extensive experiments on devising and applying RAGate to conversational models and well-rounded analyses of different conversational scenarios. Our experimental results and analysis indicate the effective application of RAGate in RAG-based conversational systems in identifying system responses for appropriate RAG with high-quality responses and a high generation confidence. This study also identifies the correlation between the generation’s confidence level and the relevance of the augmented knowledge.\n",
      "Score\t 0.5733370205796384\n",
      "Metadata\t {'url': 'http://arxiv.org/pdf/2407.21712v1', 'title': 'Adaptive Retrieval-Augmented Generation for Conversational Systems:Abstract', 'tokens': 226, 'source': 'Arxiv: 2407.21712', 'questions_this_excerpt_can_answer': '1. What is the primary research question addressed by the study regarding the necessity of Retrieval Augmented Generation (RAG) in conversational systems?\\n\\n2. How does the RAGate model determine whether a conversational system requires external knowledge augmentation for improved responses?', 'prev_section_summary': 'The section discusses the inference stage in the Retrieval-Augmented Generation (RaR) pipeline, highlighting its role in processing the final input string prepared during the prompting step. The inference stage involves the Large Language Model (LLM) generating output based on the input derived from previous stages, ultimately providing an answer to the initial query for downstream tasks. Additionally, it mentions the possibility of implementing post-processing steps after inference to format the output or extract specific information, such as through named entity recognition or parsing, particularly in tasks like classification or information extraction. Key topics include the inference stage, LLM output generation, and post-processing techniques.', 'section_summary': \"The section discusses the integration of Retrieval Augmented Generation (RAG) in conversational systems, highlighting the research question regarding the necessity of RAG for each response. It introduces the RAGate model, which determines whether external knowledge augmentation is needed based on conversation context and relevant inputs. The study emphasizes the importance of human judgments in this adaptive augmentation process and presents experimental results demonstrating RAGate's effectiveness in improving response quality and generation confidence in RAG-based conversational systems. Additionally, it notes a correlation between the confidence level of generated responses and the relevance of the augmented knowledge. Key topics include RAG, conversational systems, adaptive augmentation, and the RAGate model.\", 'excerpt_keywords': 'Keywords: Retrieval Augmented Generation, conversational systems, RAGate model, adaptive augmentation, external knowledge, human judgments, response quality, generation confidence, large language models, experimental analysis'}\n",
      "-_-_-_-_-_-_-_-_-_-_-_-_-_-_-_-_-_-_-_-_\n"
     ]
    }
   ],
   "source": [
    "for src in res.source_nodes:\n",
    "    print(\"Node ID\\t\", src.node_id)\n",
    "    print(\"Title\\t\", src.metadata[\"title\"])\n",
    "    print(\"Text\\t\", src.text)\n",
    "    print(\"Score\\t\", src.score)\n",
    "    print(\"Metadata\\t\", src.metadata)\n",
    "    print(\"-_\" * 20)"
   ]
  },
  {
   "cell_type": "markdown",
   "metadata": {
    "id": "fXqjul4MV_MJ"
   },
   "source": [
    "# Router\n",
    "\n",
    "Routers are modules that take in a user query and a set of “choices” (defined by metadata), and returns one or more selected choices.\n",
    "\n",
    "They can be used for the following use cases and more:\n",
    "\n",
    "- Selecting the right data source among a diverse range of data sources\n",
    "\n",
    "- Deciding whether to do summarization (e.g. using summary index query engine) or semantic search (e.g. using vector index query engine)\n",
    "\n",
    "- Deciding whether to “try” out a bunch of choices at once and combine the results (using multi-routing capabilities).\n"
   ]
  },
  {
   "cell_type": "markdown",
   "metadata": {
    "id": "uunnC6XjV_Mb"
   },
   "source": [
    "## Lets create a different query engine with Mistral AI information\n"
   ]
  },
  {
   "cell_type": "code",
   "execution_count": null,
   "metadata": {
    "colab": {
     "base_uri": "https://localhost:8080/"
    },
    "id": "lJiHwe8iCxMG",
    "outputId": "6d778943-e90a-463a-c1b6-d1fd459858e6"
   },
   "outputs": [
    {
     "name": "stdout",
     "output_type": "stream",
     "text": [
      "Successfully saved: Mistral AI\n",
      "Successfully saved: Llama (language model)\n",
      "Successfully saved: Claude AI\n",
      "Successfully saved: OpenAI\n",
      "Successfully saved: Gemini AI\n"
     ]
    }
   ],
   "source": [
    "from pathlib import Path\n",
    "import requests\n",
    "import time\n",
    "\n",
    "wiki_titles = [\n",
    "    \"Mistral AI\",\n",
    "    \"Llama (language model)\",\n",
    "    \"Claude AI\",\n",
    "    \"OpenAI\",\n",
    "    \"Gemini AI\",\n",
    "]\n",
    "\n",
    "data_path = Path(\"llm_data_wiki\")\n",
    "if not data_path.exists():\n",
    "    data_path.mkdir()\n",
    "\n",
    "# Set up headers with User-Agent (REQUIRED by Wikipedia API)\n",
    "headers = {\n",
    "    'User-Agent': 'YourAppName/1.0 (your-email@example.com)'  # Replace with your info if this dummy gives an error\n",
    "}\n",
    "\n",
    "for title in wiki_titles:\n",
    "    try:\n",
    "        # Make the request with headers\n",
    "        response = requests.get(\n",
    "            \"https://en.wikipedia.org/w/api.php\",\n",
    "            params={\n",
    "                \"action\": \"query\",\n",
    "                \"format\": \"json\",\n",
    "                \"titles\": title,\n",
    "                \"prop\": \"extracts\",\n",
    "                \"explaintext\": True,\n",
    "            },\n",
    "            headers=headers  # Add headers here\n",
    "        )\n",
    "\n",
    "        # Check if request was successful\n",
    "        response.raise_for_status()\n",
    "\n",
    "        if not response.text:\n",
    "            print(f\"Empty response for '{title}'\")\n",
    "            continue\n",
    "\n",
    "        data = response.json()\n",
    "\n",
    "        # Extract the page content\n",
    "        if \"query\" in data and \"pages\" in data[\"query\"]:\n",
    "            page = next(iter(data[\"query\"][\"pages\"].values()))\n",
    "            if \"extract\" in page:\n",
    "                wiki_text = page[\"extract\"]\n",
    "                with open(data_path / \"llm_data_wiki.txt\", \"a\", encoding=\"utf-8\") as fp:\n",
    "                    fp.write(f\"Title: {title}\\n{wiki_text}\\n\\n\")\n",
    "                print(f\"Successfully saved: {title}\")\n",
    "            else:\n",
    "                print(f\"No extract found for '{title}'\")\n",
    "        else:\n",
    "            print(f\"Unexpected response format for '{title}'\")\n",
    "        time.sleep(0.5)\n",
    "\n",
    "    except requests.exceptions.RequestException as e:\n",
    "        print(f\"Request error for '{title}': {e}\")\n",
    "    except ValueError as e:  # JSON decode error\n",
    "        print(f\"JSON decode error for '{title}': {e}\")\n",
    "        print(f\"Response text: {response.text[:200]}...\")"
   ]
  },
  {
   "cell_type": "code",
   "execution_count": null,
   "metadata": {
    "colab": {
     "base_uri": "https://localhost:8080/"
    },
    "id": "OsSsh4_bV_Mb",
    "outputId": "98b24e84-e69d-41a6-932b-2d27720a47a3"
   },
   "outputs": [
    {
     "name": "stderr",
     "output_type": "stream",
     "text": [
      "100%|██████████| 41/41 [00:26<00:00,  1.55it/s]\n",
      "100%|██████████| 41/41 [01:24<00:00,  2.06s/it]\n",
      "100%|██████████| 41/41 [00:19<00:00,  2.07it/s]\n"
     ]
    }
   ],
   "source": [
    "from llama_index.core import VectorStoreIndex, SimpleDirectoryReader\n",
    "from llama_index.core.text_splitter import TokenTextSplitter\n",
    "from llama_index.core.extractors import (\n",
    "    SummaryExtractor,\n",
    "    QuestionsAnsweredExtractor,\n",
    "    KeywordExtractor,\n",
    ")\n",
    "\n",
    "# Assuming you have prepared a directory for llm data\n",
    "documents = SimpleDirectoryReader(\"llm_data_wiki\").load_data()\n",
    "\n",
    "text_splitter = TokenTextSplitter(separator=\" \", chunk_size=512, chunk_overlap=128)\n",
    "\n",
    "transformations = [\n",
    "    text_splitter,\n",
    "    QuestionsAnsweredExtractor(questions=2),\n",
    "    SummaryExtractor(summaries=[\"prev\", \"self\"]),\n",
    "    KeywordExtractor(keywords=10),\n",
    "    OpenAIEmbedding(model=\"text-embedding-3-small\"),\n",
    "]\n",
    "\n",
    "llm_index = VectorStoreIndex.from_documents(documents=documents, transformations=transformations)\n",
    "\n",
    "llm_query_engine = llm_index.as_query_engine(similarity_top_k=2)"
   ]
  },
  {
   "cell_type": "code",
   "execution_count": null,
   "metadata": {
    "id": "p3hDxvMuV_Mc"
   },
   "outputs": [],
   "source": [
    "from llama_index.core.query_engine import RouterQueryEngine\n",
    "from llama_index.core.selectors import PydanticSingleSelector\n",
    "from llama_index.core.selectors import LLMSingleSelector\n",
    "from llama_index.core.tools import QueryEngineTool\n",
    "\n",
    "# initialize tools\n",
    "ai_tutor_knowledge_tool = QueryEngineTool.from_defaults(\n",
    "    query_engine=ai_tutor_knowledge_query_engine,\n",
    "    description=\"Useful for questions about general generative AI concepts\",\n",
    ")\n",
    "llm_tool = QueryEngineTool.from_defaults(\n",
    "    query_engine=llm_query_engine,\n",
    "    description=\"Useful for questions about particular LLMs like Mistral, Claude, OpenAI, Gemini\",\n",
    ")\n",
    "\n",
    "# initialize router query engine (single selection, pydantic)\n",
    "query_engine = RouterQueryEngine(\n",
    "    selector=LLMSingleSelector.from_defaults(),\n",
    "    query_engine_tools=[\n",
    "        ai_tutor_knowledge_tool,\n",
    "        llm_tool,\n",
    "    ],\n",
    ")"
   ]
  },
  {
   "cell_type": "code",
   "execution_count": null,
   "metadata": {
    "colab": {
     "base_uri": "https://localhost:8080/"
    },
    "id": "9nnZaOPuV_Mc",
    "outputId": "cabd5f57-4654-4013-d7c5-1e6d692ca6f8"
   },
   "outputs": [
    {
     "name": "stdout",
     "output_type": "stream",
     "text": [
      "The Llama model is a family of large language models developed by Meta AI. Key points:\n",
      "\n",
      "- It began with a first release announced February 24, 2023, and spans model sizes from roughly 1 billion to about 2 trillion parameters.\n",
      "- It is a foundation language model trained on publicly available data and intended to be accessible across a range of hardware sizes.\n",
      "- Later versions include instruction‑tuned variants and expanded availability and licensing terms; Llama 3 added virtual-assistant features used in services like Facebook and WhatsApp.\n",
      "- The project has been notable for research on scaling behavior (e.g., models trained beyond the “Chinchilla‑optimal” dataset size continuing to improve) and for third‑party tools and reimplementations enabling local inference without GPUs.\n"
     ]
    }
   ],
   "source": [
    "res = query_engine.query(\n",
    "    \"What is the LLama model?\",\n",
    ")\n",
    "print(res.response)"
   ]
  },
  {
   "cell_type": "code",
   "execution_count": null,
   "metadata": {
    "colab": {
     "base_uri": "https://localhost:8080/"
    },
    "id": "zLVDAW7hV_Md",
    "outputId": "2fb45566-3ead-46cf-8f60-bce035b82364"
   },
   "outputs": [
    {
     "name": "stdout",
     "output_type": "stream",
     "text": [
      "Node ID\t c1efb160-a4cf-4a00-8dc3-176e4d511761\n",
      "Text\t at École Polytechnique Fédérale de Lausanne School of Computer and Communication Sciences, and the Yale School of Medicine. It shows increased performance on medical-related benchmarks such as MedQA and MedMCQA.\n",
      "Zoom used Meta Llama 2 to create an AI Companion that can summarize meetings, provide helpful presentation tips, and assist with message responses. This AI Companion is powered by multiple models, including Meta Llama 2.\n",
      "Reuters reported in 2024 that many Chinese foundation models relied on Llama models for their training.\n",
      "\n",
      "\n",
      "=== llama.cpp ===\n",
      "\n",
      "Software developer Georgi Gerganov released llama.cpp as open-source on March 10, 2023. It's a re-implementation of Llama in C++, allowing systems without a powerful GPU to run the model locally. The llama.cpp project introduced the GGUF file format, a binary format that stores both tensors and metadata. The format focuses on supporting different quantization types, which can reduce memory usage, and increase speed at the expense of lower model precision.\n",
      "llamafile created by Justine Tunney is an open-source tool that bundles llama.cpp with the model into a single executable file. Tunney et al. introduced new optimized matrix multiplication kernels for x86 and ARM CPUs, improving prompt evaluation performance for FP16 and 8-bit quantized data types.\n",
      "\n",
      "\n",
      "=== Space ===\n",
      "Booz Allen Hamilton deployed Meta’s Llama 3.2 model aboard the International Space Station (ISS) National Labs as part of a project called Space Llama. The system runs on Hewlett Packard Enterprise’s Spaceborne Computer‑2 and leverages Booz Allen’s A2E2 (AI for Edge Environments) platform, using NVIDIA CUDA‑accelerated computing. Space Llama demonstrates how large language models can operate in disconnected, constrained environments such as space, enabling astronauts to retrieve and summarize documents using natural-language queries, even without internet connectivity.\n",
      "\n",
      "\n",
      "=== Military ===\n",
      "In 2024, researchers from the People's Liberation Army Academy of Military Sciences (top military academy of China) were reported to have developed a military tool using Llama, which Meta Platforms stated was unauthorized due to Llama's license prohibiting the use of the model for military purposes. Meta granted the US government and US military contractors permission to use Llama in November 2024, but continued to prohibit military use by non-US entities.\n",
      "\n",
      "\n",
      "== Licensing ==\n",
      "The first version of Llama was released under\n",
      "Score\t 0.5904922329271648\n",
      "-_-_-_-_-_-_-_-_-_-_-_-_-_-_-_-_-_-_-_-_\n",
      "Node ID\t e81a9b2d-1681-43f8-8e4e-ec22aa2bce76\n",
      "Text\t Unauthorized copies of the first model were shared via BitTorrent. Subsequent versions of Llama were made accessible outside academia and released under licenses that permitted some commercial use.\n",
      "Alongside the release of Llama 3, Meta added virtual assistant features to Facebook and WhatsApp in select regions, and a standalone website. Both services use a Llama 3 model.\n",
      "\n",
      "\n",
      "== Background ==\n",
      "After the release of large language models such as GPT-3, a focus of research was up-scaling models, which in some instances showed major increases in emergent capabilities. The release of ChatGPT and its surprise success caused an increase in attention to large language models.\n",
      "Compared with other responses to ChatGPT, Meta's Chief AI scientist Yann LeCun stated that large language models are best for aiding with writing.\n",
      "An empirical investigation of the Llama series was the scaling laws. It was observed that the Llama 3 models showed that when a model is trained on data that is more than the \"Chinchilla-optimal\" amount, the performance continues to scale log-linearly. For example, the Chinchilla-optimal dataset for Llama 3 8B is 200 billion tokens, but performance continued to scale log-linearly to the 75-times larger dataset of 15 trillion tokens.\n",
      "\n",
      "\n",
      "== Initial release ==\n",
      "The first version of Llama (stylized as LLaMA and sometimes referred to as Llama 1) was announced on February 24, 2023, via a blog post and a paper describing the model's training, architecture, and performance. The inference code used to run the model was publicly released under the open-source GPLv3 license. Access to the model's weights was managed by an application process, with access to be granted \"on a case-by-case basis to academic researchers; those affiliated with organizations in government, civil society, and academia; and industry research laboratories around the world\".\n",
      "Llama was trained on only publicly available information, and was trained at various model sizes, with the intention to make it more accessible to different hardware. The model was exclusively a foundation model, although the paper contained examples of instruction fine-tuned versions of the model.\n",
      "Meta AI reported the 13B parameter model performance on most NLP benchmarks exceeded that of the much larger GPT-3 (with 175B parameters), and the largest 65B model was competitive with state of the art models such as PaLM and\n",
      "Score\t 0.5818138384123143\n",
      "-_-_-_-_-_-_-_-_-_-_-_-_-_-_-_-_-_-_-_-_\n"
     ]
    }
   ],
   "source": [
    "for src in res.source_nodes:\n",
    "    print(\"Node ID\\t\", src.node_id)\n",
    "    print(\"Text\\t\", src.text)\n",
    "    print(\"Score\\t\", src.score)\n",
    "    print(\"-_\" * 20)"
   ]
  },
  {
   "cell_type": "code",
   "execution_count": null,
   "metadata": {
    "colab": {
     "base_uri": "https://localhost:8080/"
    },
    "id": "nvqkYeF9V_Md",
    "outputId": "6f2e29a0-ef9b-434c-db44-cc8a66705a77"
   },
   "outputs": [
    {
     "name": "stdout",
     "output_type": "stream",
     "text": [
      "Parameter-efficient fine-tuning (PEFT) refers to methods that adapt large pretrained models to new tasks while updating only a small fraction of the model’s parameters (or adding a small number of new parameters). This reduces compute, memory, and storage costs versus full fine-tuning. Three main PEFT approaches are described:\n",
      "\n",
      "1. Selective\n",
      "- What it is: Fine-tune only a subset of the model’s existing parameters (e.g., certain layers, biases, or normalization parameters).\n",
      "- Effect: Keeps most weights frozen, so storage and compute remain low while allowing targeted adaptation.\n",
      "\n",
      "2. Reparameterization (example: LoRA)\n",
      "- What it is: Replace or augment dense weight updates with a low-rank decomposition. Instead of learning a full weight update ΔW, learn small matrices A and B such that ΔW ≈ B·A (or similar low-rank factorization).\n",
      "- Effect: Greatly reduces number of trainable parameters. The rank controls the trade-off between parameter savings and approximation fidelity (lower rank → fewer parameters but possibly less precise adaptation).\n",
      "- Example: In a toy example, a 512×64 weight matrix (32,768 params) approximated with rank 8 yields A and B totaling 4,608 parameters (~86% reduction).\n",
      "- Common use cases: transformer weight adaptation (self-attention, feed-forward layers).\n",
      "\n",
      "3. Additive\n",
      "- What it is: Add small trainable components to the model while keeping base weights frozen. Two primary additive strategies:\n",
      "  - Adapter modules: Insert small neural modules into specific layers; only these adapters are trained.\n",
      "  - Prompt tuning: Do not modify model weights; instead learn task-specific prompts (continuous vectors) that steer the model’s behavior.\n",
      "- Effect: Adds only modest extra parameters and preserves the pretrained model’s core knowledge.\n",
      "\n",
      "Additional specialized approach (spectral compression)\n",
      "- FourierFT (Discrete Fourier Transform fine-tuning):\n",
      "  - What it is: Treats the weight change ΔW as a spatial matrix but learns only a small fraction of its spectral (Fourier) coefficients. The inverse DFT reconstructs ΔW from those coefficients.\n",
      "  - Constraints: Only supports nn.Linear layers and does not support quantized layers.\n",
      "  - Benefits: Can outperform LoRA on several benchmarks while using far fewer trainable parameters. Example: for instruction tuning on LLaMA2-7B, FourierFT used 0.064M trainable parameters versus LoRA’s 33.5M.\n",
      "\n",
      "Summary of trade-offs\n",
      "- Selective: simplest, minimal change, depends on choosing the right subset.\n",
      "- Reparameterization (LoRA): good compression with controllable rank; widely used in transformers.\n",
      "- Additive (adapters, prompt tuning): keeps base model intact, modular task-specific params.\n",
      "- Spectral methods (FourierFT): extreme compression for supported layers, but have implementation constraints (layer types and quantization).\n",
      "\n",
      "Choose the approach based on model architecture, which layers you can modify, target storage/compute budget, and whether constraints (e.g., support only nn.Linear, no quantized layers) are acceptable.\n"
     ]
    }
   ],
   "source": [
    "res = query_engine.query(\"Explain parameter-efficient finetuning methods\")\n",
    "print(res.response)"
   ]
  },
  {
   "cell_type": "code",
   "execution_count": null,
   "metadata": {
    "colab": {
     "base_uri": "https://localhost:8080/"
    },
    "id": "yNKJdJhzV_Md",
    "outputId": "2f41a55e-10b5-4223-d305-0cac9d466b9e"
   },
   "outputs": [
    {
     "name": "stdout",
     "output_type": "stream",
     "text": [
      "Node ID\t 6be88fa3-2f8b-43e7-aba0-d874b39809fc\n",
      "Text\t # FourierFT: Discrete Fourier Transformation Fine-Tuning[FourierFT](https://huggingface.co/papers/2405.03003) is a parameter-efficient fine-tuning technique that leverages Discrete Fourier Transform to compress the model's tunable weights. This method outperforms LoRA in the GLUE benchmark and common ViT classification tasks using much less parameters.FourierFT currently has the following constraints:- Only `nn.Linear` layers are supported.- Quantized layers are not supported.If these constraints don't work for your use case, consider other methods instead.The abstract from the paper is:> Low-rank adaptation (LoRA) has recently gained much interest in fine-tuning foundation models. It effectively reduces the number of trainable parameters by incorporating low-rank matrices A and B to represent the weight change, i.e., Delta W=BA. Despite LoRA's progress, it faces storage challenges when handling extensive customization adaptations or larger base models. In this work, we aim to further compress trainable parameters by enjoying the powerful expressiveness of the Fourier transform. Specifically, we introduce FourierFT, which treats Delta W as a matrix in the spatial domain and learns only a small fraction of its spectral coefficients. With the trained spectral coefficients, we implement the inverse discrete Fourier transform to recover Delta W. Empirically, our FourierFT method shows comparable or better performance with fewer parameters than LoRA on various tasks, including natural language understanding, natural language generation, instruction tuning, and image classification. For example, when performing instruction tuning on the LLaMA2-7B model, FourierFT surpasses LoRA with only 0.064M trainable parameters, compared to LoRA's 33.5M.## FourierFTConfig[[autodoc]] tuners.fourierft.config.FourierFTConfig## FourierFTModel[[autodoc]] tuners.fourierft.model.FourierFTModel\n",
      "Score\t 0.4090567628420922\n",
      "-_-_-_-_-_-_-_-_-_-_-_-_-_-_-_-_-_-_-_-_\n",
      "Node ID\t 2b4590b8-4c9d-4d51-a81f-9a13979593a8\n",
      "Text\t SAMSUM is one of the datasets that FLAN T5 uses. There are several pre-trained FLAN T5 models that have been fine-tuned on SAMSUM  including Phil Schmid/flan-t5-base-samsum and jasonmcaffee/flan-t5-large-samsum on Hugging Face. If we want to fine-tune the FLAN T5 model specifically for formal dialogue conversations  we can do so using the DIALOGUESUM dataset.   Models fine-tuned on DialogSum can be applied to areas like customer support  meeting minutes generation  chatbot summarization  and more.   2. PEFT (Parameter efficient fine tuning)Training LLMs is computationally intensive. Full finetuning is computationally expensive as it might change each weight in the model. First  we start with a pretrained LLM like GPT-3. This model already has a vast amount of knowledge and understanding of language. Then we provide task-specific datasets  which could be data for question answering or sentiment analysis or any other customer dataset. During training  full finetuning process makes slight adjustments to every weight in the pretrained model. While the model weights are substantial  we have other important aspects during training like Optimizer  which adds up to the cost. For example  Optimizer States  gradients  forward activation  and temporary memory. These additional components add up to the training cost.   Three main approaches are used in PEFT: Selective / reparameterization/additive.   1. SelectiveHere  we select a subset of initial LLM parameters to fine-tune.   2. ReparameterizationWe reparameterize model weights using a low-rank representation. We will discuss LoRA in detail below.   LORA: Low Rank Representation:   Each layer in a transformer architecture has multiple weight matrices for different operations  like self-attention or feed-forward networks. These matrices can have different sizes depending on the specific layer and configuration. Let us take an example by picking a matrix of size 512 x 64 = 32 768 parameters. Let us now see LoRA with rank = 8.   Original Weight Matrix: Dimensions: 512 x 64  Parameters: 32 768 (512 x 64)Matrix A (Rank Decomposition):\n",
      "Score\t 0.38885790864390724\n",
      "-_-_-_-_-_-_-_-_-_-_-_-_-_-_-_-_-_-_-_-_\n",
      "Node ID\t b5152174-64c5-4a94-af55-d87c2b0e6cc3\n",
      "Text\t representation. We will discuss LoRA in detail below.   LORA: Low Rank Representation:   Each layer in a transformer architecture has multiple weight matrices for different operations  like self-attention or feed-forward networks. These matrices can have different sizes depending on the specific layer and configuration. Let us take an example by picking a matrix of size 512 x 64 = 32 768 parameters. Let us now see LoRA with rank = 8.   Original Weight Matrix: Dimensions: 512 x 64  Parameters: 32 768 (512 x 64)Matrix A (Rank Decomposition): Dimensions: 8 x 64 (rank x original dimension)  Parameters: 512 (8 x 64)Matrix B (Rank Decomposition): Dimensions: 8 x 512 (rank x original dimension)  Parameters: 4 096 (8 x 512)Total LORA Parameters: 512 (A) + 4 096 (B) = 4 608Approximation:   The original weight matrix (W) is approximated by the product of A and B:   Z  W  A * B   Reasoning Behind the Dimensions:   The dimensions of A and B are chosen to capture the essence of the original weight matrix (W) with fewer parameters.The rank (here  8) controls the trade-off between efficiency and accuracy. A lower rank leads to fewer parameters but might result in a slightly less accurate approximation.We can also create task-specific decomposition matrices.In the example we discussed  LORA achieves a reduction of approximately 86% in the number of trainable parameters needed for fine-tuning. Heres the summary.   Original Weight Matrix: 32 768 parameters (512 x 64)Total LORA Parameters: 4 608 parameters (512 + 4 096)3. AdditiveWe add trainable layers or parameters to the model in the form of adapter modules.   The two main additive approaches are:   Adapter Modules: These are small  trainable neural network modules strategically inserted into specific layers of the pre-trained LLM. They help the LLM learn task-specific information without drastically changing its underlying knowledge.Prompt Tuning: This approach doesnt involve adding any new modules to the model itself. Instead  it focuses on crafting specific prompts (essentially\n",
      "Score\t 0.3807345661389367\n",
      "-_-_-_-_-_-_-_-_-_-_-_-_-_-_-_-_-_-_-_-_\n"
     ]
    }
   ],
   "source": [
    "for src in res.source_nodes:\n",
    "    print(\"Node ID\\t\", src.node_id)\n",
    "    print(\"Text\\t\", src.text)\n",
    "    print(\"Score\\t\", src.score)\n",
    "    print(\"-_\" * 20)"
   ]
  },
  {
   "cell_type": "markdown",
   "metadata": {
    "id": "EcDZ5Dn8V_Md"
   },
   "source": [
    "# Function Agent using OpenAI GPT 5 Model\n"
   ]
  },
  {
   "cell_type": "code",
   "execution_count": null,
   "metadata": {
    "id": "z5d0WpDeV_Me"
   },
   "outputs": [],
   "source": [
    "system_message_openai_agent = \"\"\"You are an AI teacher, answering questions from students of an applied AI course on Large Language Models (LLMs or llm) and Retrieval Augmented Generation (RAG) for LLMs. Topics covered include training models, fine-tuning models, giving memory to LLMs, prompting tips, hallucinations and bias, vector databases, transformer architectures, embeddings, RAG frameworks, Langchain, LlamaIndex, making LLMs interact with tools, AI agents, reinforcement learning with human feedback. Questions should be understood in this context.\n",
    "\n",
    "Your answers are aimed to teach students, so they should be complete, clear, and easy to understand.\n",
    "\n",
    "Use the available tools to gather insights pertinent to the field of AI. Always use two tools at the same time. These tools accept a string (a user query rewritten as a statement) and return informative content regarding the domain of AI.\n",
    "e.g:\n",
    "User question: 'How can I fine-tune an LLM?'\n",
    "Input to the tool: 'Fine-tuning an LLM'\n",
    "\n",
    "User question: How can quantize an LLM?\n",
    "Input to the tool: 'Quantization for LLMs'\n",
    "\n",
    "User question: 'Teach me how to build an AI agent\"'\n",
    "Input to the tool: 'Building an AI Agent'\n",
    "\n",
    "Only some information returned by the tools might be relevant to the question, so ignore the irrelevant part and answer the question with what you have.\n",
    "\n",
    "Your responses are exclusively based on the output provided by the tools. Refrain from incorporating information not directly obtained from the tool's responses.\n",
    "\n",
    "When the conversation deepens or shifts focus within a topic, adapt your input to the tools to reflect these nuances. This means if a user requests further elaboration on a specific aspect of a previously discussed topic, you should reformulate your input to the tool to capture this new angle or more profound layer of inquiry.\n",
    "\n",
    "Provide comprehensive answers, ideally structured in multiple paragraphs, drawing from the tool's variety of relevant details. The depth and breadth of your responses should align with the scope and specificity of the information retrieved.\n",
    "\n",
    "Should the tools repository lack information on the queried topic, politely inform the user that the question transcends the bounds of your current knowledge base, citing the absence of relevant content in the tool's documentation.\n",
    "\n",
    "At the end of your answers, always invite the students to ask deeper questions about the topic if they have any. Make sure to reformulate the question to the tool to capture this new angle or more profound layer of inquiry.\n",
    "\n",
    "Do not refer to the documentation directly, but use the information provided within it to answer questions.\n",
    "\n",
    "If code is provided in the information, share it with the students. It's important to provide complete code blocks so they can execute the code when they copy and paste them.\n",
    "\n",
    "Make sure to format your answers in Markdown format, including code blocks and snippets.\n",
    "\n",
    "Politely reject questions not related to AI, while being cautious not to reject unfamiliar terms or acronyms too quickly.\"\"\""
   ]
  },
  {
   "cell_type": "code",
   "execution_count": null,
   "metadata": {
    "collapsed": true,
    "id": "bpM2FUB8R0hp"
   },
   "outputs": [],
   "source": [
    "from llama_index.core.agent.workflow import FunctionAgent\n",
    "from llama_index.llms.openai import OpenAI\n",
    "\n",
    "# Initialize the LLM\n",
    "llm = OpenAI(model=\"gpt-5\", additional_kwargs={\"reasoning_effort\":\"minimal\"})\n",
    "\n",
    "# Create the FunctionAgent\n",
    "agent = FunctionAgent(\n",
    "    tools=[ai_tutor_knowledge_tool, llm_tool],\n",
    "    llm=llm,\n",
    "    system_prompt=system_message_openai_agent,\n",
    "    verbose=False\n",
    ")\n",
    "\n",
    "# Run the agent queries\n",
    "import asyncio\n",
    "\n",
    "async def run_agent(query):\n",
    "    response = await agent.run(query)\n",
    "    return response"
   ]
  },
  {
   "cell_type": "code",
   "execution_count": null,
   "metadata": {
    "colab": {
     "base_uri": "https://localhost:8080/"
    },
    "id": "XLfQ47o1TAnK",
    "outputId": "c04274c8-b145-43e7-efeb-b00327602c4f"
   },
   "outputs": [
    {
     "name": "stdout",
     "output_type": "stream",
     "text": [
      "LLaMA (often stylized as LLaMA or Llama) is a family of transformer-based large language models developed by Meta AI. First announced on February 24, 2023, LLaMA models are foundation models trained on publicly available data and designed to be adapted (e.g., via instruction tuning) for a wide range of NLP tasks. The family spans multiple sizes—from small models suitable for limited hardware budgets to very large ones—and has evolved through several releases (e.g., Llama 1, Llama 2, Llama 3).\n",
      "\n",
      "Key points:\n",
      "- Architecture and purpose: Transformer-based foundation models intended for broad NLP use, with instruction-tuned variants available in later releases.\n",
      "- Sizes: Early releases included variants like 13B and 65B parameters. Llama 2 was released at 7B, 13B, and 70B. Later Llama 3 releases included sizes such as 8B, 13B, and 65B, with the family ultimately extending to much larger scales.\n",
      "- Training data and scaling: Trained on publicly available data. Studies around Llama 3 noted that while “Chinchilla-optimal” token counts (e.g., ~200B tokens for an 8B model) provide a guideline, training on substantially more data (reportedly up to trillions of tokens) continued to improve performance roughly log-linearly.\n",
      "- Licensing and distribution: The initial inference code was released under GPLv3, with early access to weights controlled via applications to Meta. The weights later leaked in March 2023. Subsequent releases broadened availability and introduced licenses permitting some commercial use.\n",
      "- Performance: Meta reported competitive performance—e.g., the 13B model outperforming GPT-3 (175B) on many benchmarks at the time, and the 65B model being competitive with state-of-the-art.\n",
      "- Usage and deployment: Llama models have been used as the base for instruction-tuned assistants and were deployed in product settings (e.g., virtual assistant features in Facebook and WhatsApp) as the series matured.\n",
      "\n",
      "If you’d like, I can go deeper into specific aspects, such as: “How is LLaMA instruction-tuned?”, “What are the practical hardware requirements for different LLaMA sizes?”, or “How does LLaMA’s scaling behavior compare to Chinchilla-optimal guidance?” Which angle should we explore next?\n"
     ]
    }
   ],
   "source": [
    "# Execute the async function\n",
    "response = asyncio.run(run_agent(\"What is the LLama model?\"))\n",
    "\n",
    "print(response)"
   ]
  },
  {
   "cell_type": "code",
   "execution_count": null,
   "metadata": {
    "colab": {
     "base_uri": "https://localhost:8080/"
    },
    "id": "PNDZqHFfTQXr",
    "outputId": "dfd78b82-eb70-4e06-dc7b-170f3660d355"
   },
   "outputs": [
    {
     "name": "stdout",
     "output_type": "stream",
     "text": [
      "Parameter-efficient fine-tuning (PEFT) adapts large language models by training a tiny fraction of parameters while keeping the base weights frozen. This reduces compute, memory, and storage, and makes it easy to maintain many task-specific variants. Here are the main methods, their trade-offs, and practical tips:\n",
      "\n",
      "1) Adapter modules\n",
      "- What: Insert small trainable layers (bottleneck MLPs) between transformer layers; only adapters are trained.\n",
      "- Pros: Low parameter overhead; easy to add/remove; maintain separate adapters per task.\n",
      "- Cons: Adds inference latency/compute (extra forward ops) and minor architecture changes.\n",
      "\n",
      "2) Low-Rank Adaptation (LoRA)\n",
      "- What: Replace full weight updates with low-rank matrices (W_delta = A·B) on selected projection matrices (often attention Q/K/V/O or MLPs); base W is frozen.\n",
      "- Pros: Very parameter-efficient; simple; negligible inference overhead if merged into base weights; widely used.\n",
      "- Cons: Performance sensitive to rank choice and which layers are targeted; merging requires care in deployment.\n",
      "\n",
      "3) Prompt tuning / Prefix tuning\n",
      "- What: Learn continuous “soft prompt” vectors or virtual tokens prepended to inputs; model weights remain frozen.\n",
      "- Pros: Extremely parameter-efficient; fast to train; easy to swap per task.\n",
      "- Cons: Works best on larger models and shallow adaptations; less effective for large behavior changes.\n",
      "\n",
      "4) BitFit\n",
      "- What: Fine-tune only bias terms across the model.\n",
      "- Pros: Minimal cost and implementation complexity; surprisingly strong on some tasks.\n",
      "- Cons: Very limited capacity; struggles with large domain shifts.\n",
      "\n",
      "5) Sparse/structured fine-tuning\n",
      "- What: Update only a subset of weights selected by importance (e.g., gradient-based masks).\n",
      "- Pros: Efficient if selection is effective.\n",
      "- Cons: Needs a robust selection mechanism; can be unstable.\n",
      "\n",
      "6) Delta weights and quantized adapters\n",
      "- What: Store only differences (deltas) and/or quantize adapter parameters to reduce storage and deployment footprint.\n",
      "- Pros: Great for distributing many tuned variants.\n",
      "- Cons: Requires careful quantization/merging engineering.\n",
      "\n",
      "7) Mixture-of-Experts (MoE) / Expert tuning\n",
      "- What: Keep base frozen; train small expert modules with routing to specialize behavior.\n",
      "- Pros: Scales capacity and specialization.\n",
      "- Cons: Adds routing complexity and inference overhead.\n",
      "\n",
      "Practical considerations and tips\n",
      "- What to adapt: Popular choices are attention projections (Q/K/V/O), MLPs, and sometimes final layers. LoRA on attention layers is a strong default.\n",
      "- Capacity knobs: For adapters and LoRA, tune bottleneck size or rank to trade accuracy for parameter budget.\n",
      "- Optimization: Use higher learning rates for PEFT params than full fine-tuning; Adam/AdamW are common; apply gradient clipping and weight decay as needed.\n",
      "- Early evaluation: Monitor for instability, hallucinations, or degeneration; small batches are common due to low param count.\n",
      "- Deployment: Many PEFT methods allow merging trained deltas into base weights to eliminate runtime overhead; otherwise, keep side modules and swap per task.\n",
      "- Multi-task/product setups: Maintain small per-task parameter sets (adapters, LoRA weights, or soft prompts) to quickly switch behaviors without duplicating the base model.\n",
      "\n",
      "When to choose PEFT\n",
      "- Limited compute/memory, or need many customized variants.\n",
      "- Rapid iteration with rollback safety (base remains unchanged).\n",
      "- Per-customer or per-task customization in production with minimal storage.\n",
      "\n",
      "Limitations\n",
      "- May underperform full fine-tuning under large domain shifts or when deep behavioral changes are required.\n",
      "- Some methods (e.g., prompt tuning) rely on sufficiently large base models to be effective.\n",
      "\n",
      "If you’d like, I can go deeper into a specific method (e.g., LoRA ranks for a 7B model, or how to structure adapters over attention vs. MLP) or provide runnable code for a chosen approach. What would you like to focus on next? For example, say: “LoRA implementation for instruction tuning on a 7B LLM,” and I’ll tailor the details.\n"
     ]
    }
   ],
   "source": [
    "# Execute the async function\n",
    "response = asyncio.run(run_agent(\"Explain parameter-efficient finetuning methods\"))\n",
    "\n",
    "print(response)"
   ]
  },
  {
   "cell_type": "code",
   "execution_count": null,
   "metadata": {
    "colab": {
     "base_uri": "https://localhost:8080/"
    },
    "id": "tzF_cQIVTREU",
    "outputId": "71800dd9-f37d-4ab2-e1a5-f338fcfce4b8"
   },
   "outputs": [
    {
     "name": "stdout",
     "output_type": "stream",
     "text": [
      "I’m here to help with questions about AI, LLMs, and RAG. A chocolate cake recipe falls outside that scope, so I can’t provide it.\n",
      "\n",
      "If you’d like, I can share how to build an AI assistant that retrieves recipes using RAG, or how to fine-tune an LLM on a corpus of cooking instructions to generate reliable recipes. For example:\n",
      "- How to build a recipe RAG system (data ingestion, embeddings, vector search, prompt design)\n",
      "- How to evaluate hallucinations in generated recipes\n",
      "- How to make an agent that plans a cooking workflow and shopping list\n",
      "\n",
      "Tell me which direction you prefer, and I’ll dive in. For instance, I can query: “Building a recipe RAG system with vector databases and LLMs” or “Fine-tuning an LLM on cooking instructions and preventing hallucinations.”\n"
     ]
    }
   ],
   "source": [
    "# Execute the async function\n",
    "response = asyncio.run(run_agent(\"Write the recipe for a chocolate cake.\"))\n",
    "\n",
    "print(response)"
   ]
  },
  {
   "cell_type": "markdown",
   "metadata": {
    "id": "fWb1I1WvV_Mf"
   },
   "source": [
    "# Code related questions to GPT-5, the remaining questions to Gemini"
   ]
  },
  {
   "cell_type": "code",
   "execution_count": null,
   "metadata": {
    "id": "tY82urjtV_Mf"
   },
   "outputs": [],
   "source": [
    "from llama_index.llms.openai import OpenAI\n",
    "from llama_index.llms.google_genai import GoogleGenAI\n",
    "from llama_index.core.query_engine import RouterQueryEngine\n",
    "from llama_index.core.selectors import PydanticSingleSelector\n",
    "from llama_index.core.tools import QueryEngineTool\n",
    "\n",
    "# initialize LLMs\n",
    "gpt_5_llm = OpenAI(model=\"gpt-5\", additional_kwargs={\"reasoning_effort\":\"minimal\"})\n",
    "\n",
    "gemini_llm = GoogleGenAI(model=\"gemini-2.5-flash\", temperature=1, max_tokens=512)\n",
    "\n",
    "# define query engines\n",
    "llm_query_engine_code = vector_index.as_query_engine(\n",
    "    llm=gpt_5_llm,\n",
    "    similarity_top_k=3,\n",
    "    embed_model=OpenAIEmbedding(model=\"text-embedding-3-small\", mode=\"text_search\"),\n",
    ")\n",
    "\n",
    "llm_query_engine_rest = vector_index.as_query_engine(\n",
    "    llm=gemini_llm,\n",
    "    similarity_top_k=3,\n",
    "    embed_model=OpenAIEmbedding(model=\"text-embedding-3-small\", mode=\"text_search\"),\n",
    ")\n",
    "\n",
    "# define tools for LLM\n",
    "llm_tool_code = QueryEngineTool.from_defaults(\n",
    "    query_engine=llm_query_engine_code,\n",
    "    description=\"Ideal for handling code-related queries, technical implementations, and troubleshooting involving Large Language Models.\",\n",
    "    name=\"LLMCodeTool\",\n",
    ")\n",
    "\n",
    "llm_tool_rest = QueryEngineTool.from_defaults(\n",
    "    query_engine=llm_query_engine_rest,\n",
    "    description=\"Best suited for answering conceptual, theoretical, and general questions about Large Language Models.\",\n",
    "    name=\"LLMGeneralTool\",\n",
    "\n",
    ")\n",
    "\n",
    "\n",
    "system_message_openai_agent_tools = \"\"\"\n",
    "You are a highly knowledgeable assistant specialized in Large Language Models. Your primary role is to assist users by providing accurate, detailed, and context-specific responses. You have access to two specialized tools:\n",
    "\n",
    "1. **LLMCodeTool** – Use this tool when the query involves code-related tasks, technical implementations, debugging, or troubleshooting issues in code.\n",
    "2. **LLMGeneralTool** – Use this tool for answering conceptual, theoretical, or general questions about Large Language Models that do not involve code specifics.\n",
    "\n",
    "When a query is received:\n",
    "- First, decide which tool best fits the user's request.\n",
    "- If the question is technical or code-oriented, route the query to LLMCodeTool.\n",
    "- If the question is more general or conceptual, route the query to LLMGeneralTool.\n",
    "- If the query does not clearly fall into either category, provide a direct answer using your own capabilities.\n",
    "\n",
    "Always ensure your responses are clear, concise, and directly address the user’s needs. Maintain a professional tone and provide detailed explanations where necessary.\n",
    "\"\"\"\n",
    "# Create the FunctionAgent\n",
    "agent = FunctionAgent(\n",
    "    tools=[llm_tool_code, llm_tool_rest],\n",
    "    llm=gpt_5_llm,\n",
    "    system_prompt=system_message_openai_agent_tools,\n",
    "    verbose=False\n",
    ")\n",
    "\n",
    "# Run the agent queries\n",
    "import asyncio\n",
    "\n",
    "async def run_agent(query):\n",
    "    response = await agent.run(query)\n",
    "\n",
    "    return response.tool_calls[0].tool_name\n"
   ]
  },
  {
   "cell_type": "code",
   "execution_count": null,
   "metadata": {
    "colab": {
     "base_uri": "https://localhost:8080/"
    },
    "id": "ToIlAMX6U6CS",
    "outputId": "3c401282-ab7e-4ce2-8dcb-2eafcdcd8c99"
   },
   "outputs": [
    {
     "name": "stdout",
     "output_type": "stream",
     "text": [
      "LLMCodeTool\n"
     ]
    }
   ],
   "source": [
    "# Execute the async function\n",
    "response_code = asyncio.run(run_agent(\"How do I fine-tune the LLama model? Write the code for it\"))\n",
    "\n",
    "print(response_code)"
   ]
  },
  {
   "cell_type": "code",
   "execution_count": null,
   "metadata": {
    "colab": {
     "base_uri": "https://localhost:8080/"
    },
    "id": "0jpfR4kBU6gH",
    "outputId": "b40f75fb-189d-478f-e8b4-b411f29f3ef8"
   },
   "outputs": [
    {
     "name": "stdout",
     "output_type": "stream",
     "text": [
      "LLMGeneralTool\n"
     ]
    }
   ],
   "source": [
    "response_general = asyncio.run(run_agent(\"What is the relationship between Llama models and Meta\"))\n",
    "\n",
    "print(response_general)"
   ]
  },
  {
   "cell_type": "code",
   "execution_count": null,
   "metadata": {
    "id": "pdYfpsHg60MJ"
   },
   "outputs": [],
   "source": []
  }
 ],
 "metadata": {
  "colab": {
   "provenance": []
  },
  "kernelspec": {
   "display_name": "llamaindexkernel",
   "language": "python",
   "name": "llamaindexkernel"
  },
  "language_info": {
   "codemirror_mode": {
    "name": "ipython",
    "version": 3
   },
   "file_extension": ".py",
   "mimetype": "text/x-python",
   "name": "python",
   "nbconvert_exporter": "python",
   "pygments_lexer": "ipython3",
   "version": "3.11.4"
  }
 },
 "nbformat": 4,
 "nbformat_minor": 0
}
